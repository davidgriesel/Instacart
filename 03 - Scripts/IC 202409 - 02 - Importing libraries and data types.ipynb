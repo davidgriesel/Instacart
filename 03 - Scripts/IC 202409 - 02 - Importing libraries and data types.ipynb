{
 "cells": [
  {
   "cell_type": "markdown",
   "id": "a0030409-c396-4f96-8e97-7e1ac52bd964",
   "metadata": {},
   "source": [
    "# Importing libraries and data types"
   ]
  },
  {
   "cell_type": "markdown",
   "id": "9aa9dcdf-8580-4a63-b2e0-252f5b7ecbd1",
   "metadata": {},
   "source": [
    "# Contents\n",
    "1. Import libraries\n",
    "2. Data types "
   ]
  },
  {
   "cell_type": "markdown",
   "id": "4510aea0-59ad-444e-99c9-cde3a1ce1c7a",
   "metadata": {},
   "source": [
    "# 1. Import libraries\n",
    "Install the pandas and NumPy libraries using your command prompt (Anaconda Prompt for PC, Terminal for Mac)."
   ]
  },
  {
   "cell_type": "code",
   "execution_count": 7,
   "id": "9623841a-1518-4458-b0d9-aa85dcde3ac6",
   "metadata": {},
   "outputs": [],
   "source": [
    "#Import libraries\n",
    "import pandas as pd\n",
    "import numpy as np\n",
    "import os"
   ]
  },
  {
   "cell_type": "markdown",
   "id": "2c32a482-dfd4-4c9a-a84b-5709958348fa",
   "metadata": {},
   "source": [
    "# 2. Data types"
   ]
  },
  {
   "cell_type": "markdown",
   "id": "710e9f5f-8b52-43c8-9e7e-97003308f94c",
   "metadata": {},
   "source": [
    "## 2.1. Numeric variables"
   ]
  },
  {
   "cell_type": "markdown",
   "id": "3f0bb8c9-7f78-4e3b-acc1-397b322b4d0b",
   "metadata": {},
   "source": [
    "### 2.1. Method 1"
   ]
  },
  {
   "cell_type": "code",
   "execution_count": 12,
   "id": "627736fb-ae71-4f58-a132-c8577c2f9d29",
   "metadata": {},
   "outputs": [],
   "source": [
    "#Assign a value of “150” to a variable called x\n",
    "x = 150"
   ]
  },
  {
   "cell_type": "code",
   "execution_count": 14,
   "id": "544f7e72-bbf6-4742-95b5-dc9b7f0da0a3",
   "metadata": {},
   "outputs": [
    {
     "data": {
      "text/plain": [
       "100"
      ]
     },
     "execution_count": 14,
     "metadata": {},
     "output_type": "execute_result"
    }
   ],
   "source": [
    "#Subtract 50 from variable x\n",
    "x - 50"
   ]
  },
  {
   "cell_type": "markdown",
   "id": "398bbb96-f498-4e26-84b0-cf49141009b2",
   "metadata": {},
   "source": [
    "### 2.2. Method 2"
   ]
  },
  {
   "cell_type": "code",
   "execution_count": 17,
   "id": "1c9e7424-18ec-4923-b2bf-9f7abd3e5a03",
   "metadata": {},
   "outputs": [],
   "source": [
    "#Assign a value of “20” to a variable called y\n",
    "y = 20"
   ]
  },
  {
   "cell_type": "code",
   "execution_count": 19,
   "id": "d1b8e209-8231-4f27-a309-1e69b93a7ea8",
   "metadata": {},
   "outputs": [],
   "source": [
    "#Assign a value of “80” to a variable called z\n",
    "z = 80"
   ]
  },
  {
   "cell_type": "code",
   "execution_count": 21,
   "id": "cb818539-ff89-4ab8-b44c-9d2f451f8066",
   "metadata": {},
   "outputs": [
    {
     "data": {
      "text/plain": [
       "100"
      ]
     },
     "execution_count": 21,
     "metadata": {},
     "output_type": "execute_result"
    }
   ],
   "source": [
    "#Add variable y to variable z\n",
    "y + z"
   ]
  },
  {
   "cell_type": "markdown",
   "id": "15aa91dd-4446-478e-b204-957112b5a355",
   "metadata": {},
   "source": [
    "### 2.3. Method 3"
   ]
  },
  {
   "cell_type": "code",
   "execution_count": 24,
   "id": "5fac4cbb-82d5-4879-833e-b50d9328f8ae",
   "metadata": {},
   "outputs": [
    {
     "data": {
      "text/plain": [
       "100"
      ]
     },
     "execution_count": 24,
     "metadata": {},
     "output_type": "execute_result"
    }
   ],
   "source": [
    "#Subtract variables y and z from variable x and add 50\n",
    "x - y - z + 50"
   ]
  },
  {
   "cell_type": "markdown",
   "id": "27e8a06d-1b44-4a54-b010-954346a7a7f9",
   "metadata": {},
   "source": [
    "## 2.2. Floating-point variables"
   ]
  },
  {
   "cell_type": "code",
   "execution_count": 27,
   "id": "933a2a27-73cd-45af-948c-68a769d995bd",
   "metadata": {},
   "outputs": [],
   "source": [
    "#Assign a value of “5.5” to a variable called a\n",
    "a = 5.5"
   ]
  },
  {
   "cell_type": "code",
   "execution_count": 29,
   "id": "acb27149-f5a8-4d56-b0b5-4d94be3f4038",
   "metadata": {},
   "outputs": [],
   "source": [
    "#Assign a value of “1.1” to a variable called b\n",
    "b = 1.1"
   ]
  },
  {
   "cell_type": "code",
   "execution_count": 31,
   "id": "2416bfda-97f2-4ae2-843f-08e4865abbc9",
   "metadata": {},
   "outputs": [
    {
     "data": {
      "text/plain": [
       "5.0"
      ]
     },
     "execution_count": 31,
     "metadata": {},
     "output_type": "execute_result"
    }
   ],
   "source": [
    "#Divide variable a by variable b\n",
    "a / b"
   ]
  },
  {
   "cell_type": "markdown",
   "id": "c0352bc8-d542-443c-b810-26b499394d83",
   "metadata": {},
   "source": [
    "## 2.3. String variables"
   ]
  },
  {
   "cell_type": "markdown",
   "id": "3946f52e-9f54-43c0-9e59-ad35fb7f3b30",
   "metadata": {},
   "source": [
    "### 2.3.1. Words"
   ]
  },
  {
   "cell_type": "code",
   "execution_count": 35,
   "id": "cd9d6190-52dd-4389-8fd9-40670d48b9ff",
   "metadata": {},
   "outputs": [],
   "source": [
    "#Assign the value “Career” to a variable called c\n",
    "c = 'Career'"
   ]
  },
  {
   "cell_type": "code",
   "execution_count": 37,
   "id": "def35663-0261-4b87-9032-93b58348518f",
   "metadata": {},
   "outputs": [],
   "source": [
    "#Assign the value \"Foundry\" to a variable called f\n",
    "f = 'Foundry'"
   ]
  },
  {
   "cell_type": "code",
   "execution_count": 39,
   "id": "00a3740e-0407-415c-8ca8-01555cf195f1",
   "metadata": {},
   "outputs": [
    {
     "data": {
      "text/plain": [
       "'CareerFoundry'"
      ]
     },
     "execution_count": 39,
     "metadata": {},
     "output_type": "execute_result"
    }
   ],
   "source": [
    "#Concatenate variables c and f\n",
    "c + f"
   ]
  },
  {
   "cell_type": "markdown",
   "id": "6328235e-18b1-4b42-8099-348ad05c4d59",
   "metadata": {},
   "source": [
    "### 2.3.2. Sentences"
   ]
  },
  {
   "cell_type": "code",
   "execution_count": 42,
   "id": "2f69f766-e2dc-4124-8dab-11bff13573da",
   "metadata": {},
   "outputs": [],
   "source": [
    "#Assign the value “Jupyter is a file-based library-management system for Python and runs directly in the browser.” to a variable called d\n",
    "d = 'Jupyter is a file-based library-management system for Python and runs directly in the browser.'"
   ]
  },
  {
   "cell_type": "code",
   "execution_count": 44,
   "id": "91549966-8985-425b-ba58-29bf691eb91a",
   "metadata": {},
   "outputs": [],
   "source": [
    "#Assign the value “In it you can create Notebooks to write and execute Python code.” to a variable called e\n",
    "e = 'In it you can create Notebooks to write and execute Python code.'"
   ]
  },
  {
   "cell_type": "code",
   "execution_count": 46,
   "id": "47da2240-7432-4f1b-aa77-ca5cdbb47c4a",
   "metadata": {},
   "outputs": [
    {
     "data": {
      "text/plain": [
       "'Jupyter is a file-based library-management system for Python and runs directly in the browser. In it you can create Notebooks to write and execute Python code.'"
      ]
     },
     "execution_count": 46,
     "metadata": {},
     "output_type": "execute_result"
    }
   ],
   "source": [
    "#Concatenate variables d and e with a space in-between\n",
    "d + ' ' + e"
   ]
  },
  {
   "cell_type": "markdown",
   "id": "70d61164-e822-4332-804f-416ca1f2e312",
   "metadata": {},
   "source": [
    "### 2.3.3. Bonus task"
   ]
  },
  {
   "cell_type": "code",
   "execution_count": 49,
   "id": "9a9a9dbe-68a8-4ff1-94dc-3647579c4b12",
   "metadata": {},
   "outputs": [],
   "source": [
    "#Define variable cf as the sum of variables c and f\n",
    "cf = c + f"
   ]
  },
  {
   "cell_type": "code",
   "execution_count": 51,
   "id": "3118981b-3f68-4a04-8c8f-edc48e43797d",
   "metadata": {},
   "outputs": [
    {
     "data": {
      "text/plain": [
       "'CareerFoundryCareerFoundryCareerFoundryCareerFoundryCareerFoundryCareerFoundryCareerFoundryCareerFoundryCareerFoundryCareerFoundryCareerFoundryCareerFoundryCareerFoundryCareerFoundryCareerFoundryCareerFoundryCareerFoundryCareerFoundryCareerFoundryCareerFoundryCareerFoundryCareerFoundryCareerFoundryCareerFoundryCareerFoundryCareerFoundryCareerFoundryCareerFoundryCareerFoundryCareerFoundryCareerFoundryCareerFoundryCareerFoundryCareerFoundryCareerFoundryCareerFoundryCareerFoundryCareerFoundryCareerFoundryCareerFoundryCareerFoundryCareerFoundryCareerFoundryCareerFoundryCareerFoundryCareerFoundryCareerFoundryCareerFoundryCareerFoundryCareerFoundryCareerFoundryCareerFoundryCareerFoundryCareerFoundryCareerFoundryCareerFoundryCareerFoundryCareerFoundryCareerFoundryCareerFoundryCareerFoundryCareerFoundryCareerFoundryCareerFoundryCareerFoundryCareerFoundryCareerFoundryCareerFoundryCareerFoundryCareerFoundryCareerFoundryCareerFoundryCareerFoundryCareerFoundryCareerFoundryCareerFoundryCareerFoundryCareerFoundryCareerFoundryCareerFoundryCareerFoundryCareerFoundryCareerFoundryCareerFoundryCareerFoundryCareerFoundryCareerFoundryCareerFoundryCareerFoundryCareerFoundryCareerFoundryCareerFoundryCareerFoundryCareerFoundryCareerFoundryCareerFoundryCareerFoundryCareerFoundryCareerFoundryCareerFoundry'"
      ]
     },
     "execution_count": 51,
     "metadata": {},
     "output_type": "execute_result"
    }
   ],
   "source": [
    "#Repeat the string value of the variable cf one hundred times\n",
    "cf * 100"
   ]
  },
  {
   "cell_type": "markdown",
   "id": "a1aa24ca-a36a-461d-b65f-eeb1ed0eee4a",
   "metadata": {},
   "source": [
    "# Task"
   ]
  },
  {
   "cell_type": "markdown",
   "id": "c27e0aac-3291-4034-be43-1a9f12f1b318",
   "metadata": {},
   "source": [
    "## 1. Create project folder\n",
    "Create a folder for your Achievement 4 project following the structure recommended in this Exercise."
   ]
  },
  {
   "cell_type": "markdown",
   "id": "4c7e43ef-ecc1-4551-aec3-e047251ae6e8",
   "metadata": {},
   "source": [
    "##### Folder created"
   ]
  },
  {
   "cell_type": "markdown",
   "id": "6962c14f-f29d-44e7-ba27-fae825d3e693",
   "metadata": {},
   "source": [
    "## 2. Create Jupyter notebook\n",
    "Within your “Scripts” folder, create a Jupyter notebook for this Exercise and name it according to the recommended naming convention."
   ]
  },
  {
   "cell_type": "markdown",
   "id": "8628dd3f-5022-459f-9367-73f492a483e5",
   "metadata": {},
   "source": [
    "##### Notebook created"
   ]
  },
  {
   "cell_type": "markdown",
   "id": "fca05c75-ee32-49c6-a5fb-1f9b4106f319",
   "metadata": {},
   "source": [
    "## 3. Install libraries\n",
    "Install the pandas and NumPy libraries using your command prompt (Anaconda Prompt for PC, Terminal for Mac)."
   ]
  },
  {
   "cell_type": "markdown",
   "id": "f0bce51d-f679-475c-a768-b45a5ed742a3",
   "metadata": {},
   "source": [
    "##### Libraries installed"
   ]
  },
  {
   "cell_type": "markdown",
   "id": "dd4cf010-fada-4de0-96f3-a6966baa2a75",
   "metadata": {},
   "source": [
    "## 4. Add section header\n",
    "Add a section header to your notebook for importing libraries."
   ]
  },
  {
   "cell_type": "markdown",
   "id": "3e133b82-6743-498a-964a-a4b0c75e69c4",
   "metadata": {},
   "source": [
    "##### Refer: 1. Import libraries"
   ]
  },
  {
   "cell_type": "markdown",
   "id": "b1f823d1-087f-4228-934c-8f58e1dd3755",
   "metadata": {},
   "source": [
    "## 5. Import libraries\n",
    "In the cell beneath the section header, import the pandas, NumPy, and os libraries. Ensure you include a comment in your code."
   ]
  },
  {
   "cell_type": "markdown",
   "id": "630c2869-1ac0-4689-ac61-f12cc7ae81bb",
   "metadata": {},
   "source": [
    "##### Refer: 1. Import libraries"
   ]
  },
  {
   "cell_type": "markdown",
   "id": "2d8efda4-22d9-4ed8-b658-8ae8c2b5e34d",
   "metadata": {},
   "source": [
    "## 6. Add section header\n",
    "Add a second section header to your notebook for working with Python data types."
   ]
  },
  {
   "cell_type": "markdown",
   "id": "5c118ecf-c686-4290-b883-d1efd69a09af",
   "metadata": {},
   "source": [
    "##### Refer: 2. Data types"
   ]
  },
  {
   "cell_type": "markdown",
   "id": "ae669139-460f-48bf-bc2a-1f4664ad6c06",
   "metadata": {},
   "source": [
    "## 7. Coding with numeric variables\n",
    "Code 3 different ways of reaching a result of 100 by adding or subtracting numeric variables."
   ]
  },
  {
   "cell_type": "markdown",
   "id": "61f4b633-3219-4603-8882-0ccf6c20f308",
   "metadata": {},
   "source": [
    "##### Refer: 2.1. Numeric variables"
   ]
  },
  {
   "cell_type": "markdown",
   "id": "c5506971-8b96-4da0-84aa-1f4302d4553f",
   "metadata": {},
   "source": [
    "## 8. Coding with floating-point variables\n",
    "Code 2 floating-point variables and divide them by each other."
   ]
  },
  {
   "cell_type": "markdown",
   "id": "35a61c87-4d91-4db7-a8cb-c6d4f26c7adc",
   "metadata": {},
   "source": [
    "##### Refer 2.2. Floating-point variables"
   ]
  },
  {
   "cell_type": "markdown",
   "id": "bd4d3e93-b496-4325-92c6-f0313e77fcd9",
   "metadata": {},
   "source": [
    "## 9. Coding with strings (words)\n",
    "Construct a short word made of separate strings (you’ll need to concatenate some strings!)."
   ]
  },
  {
   "cell_type": "markdown",
   "id": "67734204-ec61-4c26-9e5f-dfcfd7a9c885",
   "metadata": {},
   "source": [
    "##### Refer 2.3.1. Words"
   ]
  },
  {
   "cell_type": "markdown",
   "id": "19c719c8-d109-462f-b746-f94eec2570b7",
   "metadata": {},
   "source": [
    "## 10. Coding with strings (sentences)\n",
    "Construct 2 short sentences made of separate strings."
   ]
  },
  {
   "cell_type": "markdown",
   "id": "569c00dd-f824-4212-8f55-403e715d8346",
   "metadata": {},
   "source": [
    "##### Refer 2.3.2. Sentences"
   ]
  },
  {
   "cell_type": "markdown",
   "id": "29d7fb96-2be5-40a7-878c-faba2ae1c6be",
   "metadata": {},
   "source": [
    "## 11. Save file\n",
    "Save your Jupyter file by clicking on the Save icon highlighted below:"
   ]
  },
  {
   "cell_type": "markdown",
   "id": "2af3b189-dc04-46c3-8494-87a5d6a6348b",
   "metadata": {},
   "source": [
    "##### File saved"
   ]
  },
  {
   "cell_type": "markdown",
   "id": "7cb1d445-8565-4ad1-a4aa-6b6807a12f8a",
   "metadata": {},
   "source": [
    "## 12. Submit file\n",
    "Locate your project folder on your device, compress it as a zip file (right-click the folder and select Add to Archive), then submit the zip file for your tutor to review."
   ]
  },
  {
   "cell_type": "markdown",
   "id": "71e535f7-88ba-4b1c-9c56-77334ac19548",
   "metadata": {},
   "source": [
    "##### File submitted"
   ]
  },
  {
   "cell_type": "markdown",
   "id": "8d5081dd-b30e-453f-b324-3a0c6787ac8a",
   "metadata": {},
   "source": [
    "## 13. Bonus task\n",
    "Bonus Task: At the bottom of your file, include a command that makes a string appear 100 times."
   ]
  },
  {
   "cell_type": "markdown",
   "id": "aadb140c-a90d-4a3d-bfdd-b289b6352ef3",
   "metadata": {},
   "source": [
    "##### Refer: 2.3.3. Bonus task"
   ]
  }
 ],
 "metadata": {
  "kernelspec": {
   "display_name": "Python 3 (ipykernel)",
   "language": "python",
   "name": "python3"
  },
  "language_info": {
   "codemirror_mode": {
    "name": "ipython",
    "version": 3
   },
   "file_extension": ".py",
   "mimetype": "text/x-python",
   "name": "python",
   "nbconvert_exporter": "python",
   "pygments_lexer": "ipython3",
   "version": "3.12.4"
  }
 },
 "nbformat": 4,
 "nbformat_minor": 5
}
