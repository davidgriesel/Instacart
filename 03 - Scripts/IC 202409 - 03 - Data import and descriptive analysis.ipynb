{
 "cells": [
  {
   "cell_type": "markdown",
   "id": "3317a81f-a427-468b-a262-240564a0f6b3",
   "metadata": {},
   "source": [
    "# Intro to Pandas"
   ]
  },
  {
   "cell_type": "markdown",
   "id": "0547cc35-c9a2-434f-9201-6d156eeebbcb",
   "metadata": {},
   "source": [
    "# Contents\n",
    "1. Import libraries\n",
    "2. Import datasets\n",
    "3. Check imported data "
   ]
  },
  {
   "cell_type": "markdown",
   "id": "f76ebd39-09ec-4352-85af-6f3ec385b394",
   "metadata": {},
   "source": [
    "# 1. Import libraries"
   ]
  },
  {
   "cell_type": "code",
   "execution_count": 5,
   "id": "4659d6d4-78a7-46db-b9c5-5176280eb6c4",
   "metadata": {},
   "outputs": [],
   "source": [
    "#Import libraries\n",
    "import pandas as pd\n",
    "import numpy as np\n",
    "import os"
   ]
  },
  {
   "cell_type": "markdown",
   "id": "3f34fb6c-6511-45fc-b1d4-c1e65a30577f",
   "metadata": {},
   "source": [
    "# 2. Import datasets"
   ]
  },
  {
   "cell_type": "code",
   "execution_count": 7,
   "id": "d9adf151-18b8-4f8e-8380-a435397ce595",
   "metadata": {},
   "outputs": [],
   "source": [
    "#Define the project path\n",
    "path = r'/Users/davidgriesel/Documents/0 - CareerFoundry/02 - Data Analytics Immersion/04 - Python Fundamentals for Data Analysts/Instacart Basket Analysis - IC 202409'"
   ]
  },
  {
   "cell_type": "markdown",
   "id": "44107924-fbbf-4208-a723-c61043396bf7",
   "metadata": {},
   "source": [
    "### 2.1. Orders"
   ]
  },
  {
   "cell_type": "code",
   "execution_count": 9,
   "id": "df2badf6-96b1-4e96-b201-67156761a01f",
   "metadata": {},
   "outputs": [],
   "source": [
    "#Define a list with column names, excluding the “eval_set” column\n",
    "vars_list = ['order_id', 'user_id', 'order_number', 'order_dow', 'order_hour_of_day', 'days_since_prior_order']"
   ]
  },
  {
   "cell_type": "code",
   "execution_count": 10,
   "id": "076861cc-69f6-4e9e-8808-8d5ff6e6d640",
   "metadata": {},
   "outputs": [
    {
     "data": {
      "text/plain": [
       "['order_id',\n",
       " 'user_id',\n",
       " 'order_number',\n",
       " 'order_dow',\n",
       " 'order_hour_of_day',\n",
       " 'days_since_prior_order']"
      ]
     },
     "execution_count": 10,
     "metadata": {},
     "output_type": "execute_result"
    }
   ],
   "source": [
    "#Display the list\n",
    "vars_list"
   ]
  },
  {
   "cell_type": "code",
   "execution_count": 11,
   "id": "0a53e134-14bc-40a0-8d12-293e75572cff",
   "metadata": {},
   "outputs": [],
   "source": [
    "#Import dataset with columns limited to those on the list\n",
    "df_orders = pd.read_csv(os.path.join(path, '02 - Data', 'Original Data', 'orders.csv'), usecols = vars_list)"
   ]
  },
  {
   "cell_type": "markdown",
   "id": "be4d3dc8-fd57-4b2e-af5e-4d1bd92a9ff8",
   "metadata": {},
   "source": [
    "### 2.2. Products"
   ]
  },
  {
   "cell_type": "code",
   "execution_count": 13,
   "id": "6d4815c4-c850-47b1-acd3-d9b622e15301",
   "metadata": {},
   "outputs": [],
   "source": [
    "#Import the dataset\n",
    "df_products = pd.read_csv(os.path.join(path, '02 - Data', 'Original Data', 'products.csv'))"
   ]
  },
  {
   "cell_type": "markdown",
   "id": "5c8f16f0-45ed-486a-8b0d-2f52d9270c54",
   "metadata": {},
   "source": [
    "# 3. Check imported data"
   ]
  },
  {
   "cell_type": "markdown",
   "id": "2ac9757f-0b22-41d9-bec1-938201f9ea3f",
   "metadata": {},
   "source": [
    "## 3.1. Orders"
   ]
  },
  {
   "cell_type": "markdown",
   "id": "c3c1d2de-7b0a-403c-9c6d-4f51af18d702",
   "metadata": {},
   "source": [
    "### 3.1.1. head()"
   ]
  },
  {
   "cell_type": "code",
   "execution_count": 17,
   "id": "bdd18d94-8161-4244-9673-2cdadcf0c198",
   "metadata": {},
   "outputs": [
    {
     "data": {
      "text/html": [
       "<div>\n",
       "<style scoped>\n",
       "    .dataframe tbody tr th:only-of-type {\n",
       "        vertical-align: middle;\n",
       "    }\n",
       "\n",
       "    .dataframe tbody tr th {\n",
       "        vertical-align: top;\n",
       "    }\n",
       "\n",
       "    .dataframe thead th {\n",
       "        text-align: right;\n",
       "    }\n",
       "</style>\n",
       "<table border=\"1\" class=\"dataframe\">\n",
       "  <thead>\n",
       "    <tr style=\"text-align: right;\">\n",
       "      <th></th>\n",
       "      <th>order_id</th>\n",
       "      <th>user_id</th>\n",
       "      <th>order_number</th>\n",
       "      <th>order_dow</th>\n",
       "      <th>order_hour_of_day</th>\n",
       "      <th>days_since_prior_order</th>\n",
       "    </tr>\n",
       "  </thead>\n",
       "  <tbody>\n",
       "    <tr>\n",
       "      <th>0</th>\n",
       "      <td>2539329</td>\n",
       "      <td>1</td>\n",
       "      <td>1</td>\n",
       "      <td>2</td>\n",
       "      <td>8</td>\n",
       "      <td>NaN</td>\n",
       "    </tr>\n",
       "    <tr>\n",
       "      <th>1</th>\n",
       "      <td>2398795</td>\n",
       "      <td>1</td>\n",
       "      <td>2</td>\n",
       "      <td>3</td>\n",
       "      <td>7</td>\n",
       "      <td>15.0</td>\n",
       "    </tr>\n",
       "    <tr>\n",
       "      <th>2</th>\n",
       "      <td>473747</td>\n",
       "      <td>1</td>\n",
       "      <td>3</td>\n",
       "      <td>3</td>\n",
       "      <td>12</td>\n",
       "      <td>21.0</td>\n",
       "    </tr>\n",
       "    <tr>\n",
       "      <th>3</th>\n",
       "      <td>2254736</td>\n",
       "      <td>1</td>\n",
       "      <td>4</td>\n",
       "      <td>4</td>\n",
       "      <td>7</td>\n",
       "      <td>29.0</td>\n",
       "    </tr>\n",
       "    <tr>\n",
       "      <th>4</th>\n",
       "      <td>431534</td>\n",
       "      <td>1</td>\n",
       "      <td>5</td>\n",
       "      <td>4</td>\n",
       "      <td>15</td>\n",
       "      <td>28.0</td>\n",
       "    </tr>\n",
       "  </tbody>\n",
       "</table>\n",
       "</div>"
      ],
      "text/plain": [
       "   order_id  user_id  order_number  order_dow  order_hour_of_day  \\\n",
       "0   2539329        1             1          2                  8   \n",
       "1   2398795        1             2          3                  7   \n",
       "2    473747        1             3          3                 12   \n",
       "3   2254736        1             4          4                  7   \n",
       "4    431534        1             5          4                 15   \n",
       "\n",
       "   days_since_prior_order  \n",
       "0                     NaN  \n",
       "1                    15.0  \n",
       "2                    21.0  \n",
       "3                    29.0  \n",
       "4                    28.0  "
      ]
     },
     "execution_count": 17,
     "metadata": {},
     "output_type": "execute_result"
    }
   ],
   "source": [
    "#Display the first 5 rows of the dataframe\n",
    "df_orders.head()"
   ]
  },
  {
   "cell_type": "markdown",
   "id": "60c69e57-9a7c-4cbc-a98c-372ed9a7b2ab",
   "metadata": {},
   "source": [
    "## 3.2. Products"
   ]
  },
  {
   "cell_type": "markdown",
   "id": "f7f8a99b-345b-48e6-95da-8c2862244ea2",
   "metadata": {},
   "source": [
    "### 3.2.1. head (specified)"
   ]
  },
  {
   "cell_type": "code",
   "execution_count": 20,
   "id": "6033e1d5-5c11-46fe-be75-a3a652ea8c28",
   "metadata": {},
   "outputs": [
    {
     "data": {
      "text/html": [
       "<div>\n",
       "<style scoped>\n",
       "    .dataframe tbody tr th:only-of-type {\n",
       "        vertical-align: middle;\n",
       "    }\n",
       "\n",
       "    .dataframe tbody tr th {\n",
       "        vertical-align: top;\n",
       "    }\n",
       "\n",
       "    .dataframe thead th {\n",
       "        text-align: right;\n",
       "    }\n",
       "</style>\n",
       "<table border=\"1\" class=\"dataframe\">\n",
       "  <thead>\n",
       "    <tr style=\"text-align: right;\">\n",
       "      <th></th>\n",
       "      <th>product_id</th>\n",
       "      <th>product_name</th>\n",
       "      <th>aisle_id</th>\n",
       "      <th>department_id</th>\n",
       "      <th>prices</th>\n",
       "    </tr>\n",
       "  </thead>\n",
       "  <tbody>\n",
       "    <tr>\n",
       "      <th>0</th>\n",
       "      <td>1</td>\n",
       "      <td>Chocolate Sandwich Cookies</td>\n",
       "      <td>61</td>\n",
       "      <td>19</td>\n",
       "      <td>5.8</td>\n",
       "    </tr>\n",
       "    <tr>\n",
       "      <th>1</th>\n",
       "      <td>2</td>\n",
       "      <td>All-Seasons Salt</td>\n",
       "      <td>104</td>\n",
       "      <td>13</td>\n",
       "      <td>9.3</td>\n",
       "    </tr>\n",
       "    <tr>\n",
       "      <th>2</th>\n",
       "      <td>3</td>\n",
       "      <td>Robust Golden Unsweetened Oolong Tea</td>\n",
       "      <td>94</td>\n",
       "      <td>7</td>\n",
       "      <td>4.5</td>\n",
       "    </tr>\n",
       "    <tr>\n",
       "      <th>3</th>\n",
       "      <td>4</td>\n",
       "      <td>Smart Ones Classic Favorites Mini Rigatoni Wit...</td>\n",
       "      <td>38</td>\n",
       "      <td>1</td>\n",
       "      <td>10.5</td>\n",
       "    </tr>\n",
       "    <tr>\n",
       "      <th>4</th>\n",
       "      <td>5</td>\n",
       "      <td>Green Chile Anytime Sauce</td>\n",
       "      <td>5</td>\n",
       "      <td>13</td>\n",
       "      <td>4.3</td>\n",
       "    </tr>\n",
       "    <tr>\n",
       "      <th>5</th>\n",
       "      <td>6</td>\n",
       "      <td>Dry Nose Oil</td>\n",
       "      <td>11</td>\n",
       "      <td>11</td>\n",
       "      <td>2.6</td>\n",
       "    </tr>\n",
       "    <tr>\n",
       "      <th>6</th>\n",
       "      <td>7</td>\n",
       "      <td>Pure Coconut Water With Orange</td>\n",
       "      <td>98</td>\n",
       "      <td>7</td>\n",
       "      <td>4.4</td>\n",
       "    </tr>\n",
       "    <tr>\n",
       "      <th>7</th>\n",
       "      <td>8</td>\n",
       "      <td>Cut Russet Potatoes Steam N' Mash</td>\n",
       "      <td>116</td>\n",
       "      <td>1</td>\n",
       "      <td>1.1</td>\n",
       "    </tr>\n",
       "    <tr>\n",
       "      <th>8</th>\n",
       "      <td>9</td>\n",
       "      <td>Light Strawberry Blueberry Yogurt</td>\n",
       "      <td>120</td>\n",
       "      <td>16</td>\n",
       "      <td>7.0</td>\n",
       "    </tr>\n",
       "    <tr>\n",
       "      <th>9</th>\n",
       "      <td>10</td>\n",
       "      <td>Sparkling Orange Juice &amp; Prickly Pear Beverage</td>\n",
       "      <td>115</td>\n",
       "      <td>7</td>\n",
       "      <td>8.4</td>\n",
       "    </tr>\n",
       "    <tr>\n",
       "      <th>10</th>\n",
       "      <td>11</td>\n",
       "      <td>Peach Mango Juice</td>\n",
       "      <td>31</td>\n",
       "      <td>7</td>\n",
       "      <td>2.8</td>\n",
       "    </tr>\n",
       "    <tr>\n",
       "      <th>11</th>\n",
       "      <td>12</td>\n",
       "      <td>Chocolate Fudge Layer Cake</td>\n",
       "      <td>119</td>\n",
       "      <td>1</td>\n",
       "      <td>9.4</td>\n",
       "    </tr>\n",
       "    <tr>\n",
       "      <th>12</th>\n",
       "      <td>13</td>\n",
       "      <td>Saline Nasal Mist</td>\n",
       "      <td>11</td>\n",
       "      <td>11</td>\n",
       "      <td>1.1</td>\n",
       "    </tr>\n",
       "    <tr>\n",
       "      <th>13</th>\n",
       "      <td>14</td>\n",
       "      <td>Fresh Scent Dishwasher Cleaner</td>\n",
       "      <td>74</td>\n",
       "      <td>17</td>\n",
       "      <td>6.5</td>\n",
       "    </tr>\n",
       "    <tr>\n",
       "      <th>14</th>\n",
       "      <td>15</td>\n",
       "      <td>Overnight Diapers Size 6</td>\n",
       "      <td>56</td>\n",
       "      <td>18</td>\n",
       "      <td>11.2</td>\n",
       "    </tr>\n",
       "    <tr>\n",
       "      <th>15</th>\n",
       "      <td>16</td>\n",
       "      <td>Mint Chocolate Flavored Syrup</td>\n",
       "      <td>103</td>\n",
       "      <td>19</td>\n",
       "      <td>5.2</td>\n",
       "    </tr>\n",
       "    <tr>\n",
       "      <th>16</th>\n",
       "      <td>17</td>\n",
       "      <td>Rendered Duck Fat</td>\n",
       "      <td>35</td>\n",
       "      <td>12</td>\n",
       "      <td>17.1</td>\n",
       "    </tr>\n",
       "    <tr>\n",
       "      <th>17</th>\n",
       "      <td>18</td>\n",
       "      <td>Pizza for One Suprema  Frozen Pizza</td>\n",
       "      <td>79</td>\n",
       "      <td>1</td>\n",
       "      <td>10.6</td>\n",
       "    </tr>\n",
       "    <tr>\n",
       "      <th>18</th>\n",
       "      <td>19</td>\n",
       "      <td>Gluten Free Quinoa Three Cheese &amp; Mushroom Blend</td>\n",
       "      <td>63</td>\n",
       "      <td>9</td>\n",
       "      <td>12.0</td>\n",
       "    </tr>\n",
       "    <tr>\n",
       "      <th>19</th>\n",
       "      <td>20</td>\n",
       "      <td>Pomegranate Cranberry &amp; Aloe Vera Enrich Drink</td>\n",
       "      <td>98</td>\n",
       "      <td>7</td>\n",
       "      <td>6.0</td>\n",
       "    </tr>\n",
       "  </tbody>\n",
       "</table>\n",
       "</div>"
      ],
      "text/plain": [
       "    product_id                                       product_name  aisle_id  \\\n",
       "0            1                         Chocolate Sandwich Cookies        61   \n",
       "1            2                                   All-Seasons Salt       104   \n",
       "2            3               Robust Golden Unsweetened Oolong Tea        94   \n",
       "3            4  Smart Ones Classic Favorites Mini Rigatoni Wit...        38   \n",
       "4            5                          Green Chile Anytime Sauce         5   \n",
       "5            6                                       Dry Nose Oil        11   \n",
       "6            7                     Pure Coconut Water With Orange        98   \n",
       "7            8                  Cut Russet Potatoes Steam N' Mash       116   \n",
       "8            9                  Light Strawberry Blueberry Yogurt       120   \n",
       "9           10     Sparkling Orange Juice & Prickly Pear Beverage       115   \n",
       "10          11                                  Peach Mango Juice        31   \n",
       "11          12                         Chocolate Fudge Layer Cake       119   \n",
       "12          13                                  Saline Nasal Mist        11   \n",
       "13          14                     Fresh Scent Dishwasher Cleaner        74   \n",
       "14          15                           Overnight Diapers Size 6        56   \n",
       "15          16                      Mint Chocolate Flavored Syrup       103   \n",
       "16          17                                  Rendered Duck Fat        35   \n",
       "17          18                Pizza for One Suprema  Frozen Pizza        79   \n",
       "18          19   Gluten Free Quinoa Three Cheese & Mushroom Blend        63   \n",
       "19          20     Pomegranate Cranberry & Aloe Vera Enrich Drink        98   \n",
       "\n",
       "    department_id  prices  \n",
       "0              19     5.8  \n",
       "1              13     9.3  \n",
       "2               7     4.5  \n",
       "3               1    10.5  \n",
       "4              13     4.3  \n",
       "5              11     2.6  \n",
       "6               7     4.4  \n",
       "7               1     1.1  \n",
       "8              16     7.0  \n",
       "9               7     8.4  \n",
       "10              7     2.8  \n",
       "11              1     9.4  \n",
       "12             11     1.1  \n",
       "13             17     6.5  \n",
       "14             18    11.2  \n",
       "15             19     5.2  \n",
       "16             12    17.1  \n",
       "17              1    10.6  \n",
       "18              9    12.0  \n",
       "19              7     6.0  "
      ]
     },
     "execution_count": 20,
     "metadata": {},
     "output_type": "execute_result"
    }
   ],
   "source": [
    "#Display the first 20 rows of the dataframe\n",
    "df_products.head(20)"
   ]
  },
  {
   "cell_type": "markdown",
   "id": "bd198113-f97d-4fa0-89a2-e49f20ccbd31",
   "metadata": {},
   "source": [
    "### 3.2.2. tail (specified)"
   ]
  },
  {
   "cell_type": "code",
   "execution_count": 22,
   "id": "5866930c-8081-4e81-b46e-56f1c787c887",
   "metadata": {},
   "outputs": [
    {
     "data": {
      "text/html": [
       "<div>\n",
       "<style scoped>\n",
       "    .dataframe tbody tr th:only-of-type {\n",
       "        vertical-align: middle;\n",
       "    }\n",
       "\n",
       "    .dataframe tbody tr th {\n",
       "        vertical-align: top;\n",
       "    }\n",
       "\n",
       "    .dataframe thead th {\n",
       "        text-align: right;\n",
       "    }\n",
       "</style>\n",
       "<table border=\"1\" class=\"dataframe\">\n",
       "  <thead>\n",
       "    <tr style=\"text-align: right;\">\n",
       "      <th></th>\n",
       "      <th>product_id</th>\n",
       "      <th>product_name</th>\n",
       "      <th>aisle_id</th>\n",
       "      <th>department_id</th>\n",
       "      <th>prices</th>\n",
       "    </tr>\n",
       "  </thead>\n",
       "  <tbody>\n",
       "    <tr>\n",
       "      <th>49658</th>\n",
       "      <td>49654</td>\n",
       "      <td>Teriyaki Sauce, Sesame, Original</td>\n",
       "      <td>5</td>\n",
       "      <td>13</td>\n",
       "      <td>4.0</td>\n",
       "    </tr>\n",
       "    <tr>\n",
       "      <th>49659</th>\n",
       "      <td>49655</td>\n",
       "      <td>Apple Cider</td>\n",
       "      <td>98</td>\n",
       "      <td>7</td>\n",
       "      <td>10.7</td>\n",
       "    </tr>\n",
       "    <tr>\n",
       "      <th>49660</th>\n",
       "      <td>49656</td>\n",
       "      <td>Masada Kosher Pocket Bread</td>\n",
       "      <td>128</td>\n",
       "      <td>3</td>\n",
       "      <td>7.1</td>\n",
       "    </tr>\n",
       "    <tr>\n",
       "      <th>49661</th>\n",
       "      <td>49657</td>\n",
       "      <td>Cabernet Tomatoes</td>\n",
       "      <td>83</td>\n",
       "      <td>4</td>\n",
       "      <td>8.3</td>\n",
       "    </tr>\n",
       "    <tr>\n",
       "      <th>49662</th>\n",
       "      <td>49658</td>\n",
       "      <td>Brie with Herbs Foil Wedge</td>\n",
       "      <td>2</td>\n",
       "      <td>16</td>\n",
       "      <td>3.9</td>\n",
       "    </tr>\n",
       "    <tr>\n",
       "      <th>49663</th>\n",
       "      <td>49659</td>\n",
       "      <td>Organic Creamed Coconut</td>\n",
       "      <td>17</td>\n",
       "      <td>13</td>\n",
       "      <td>3.1</td>\n",
       "    </tr>\n",
       "    <tr>\n",
       "      <th>49664</th>\n",
       "      <td>49660</td>\n",
       "      <td>Professionals Sleek Shampoo</td>\n",
       "      <td>22</td>\n",
       "      <td>11</td>\n",
       "      <td>6.7</td>\n",
       "    </tr>\n",
       "    <tr>\n",
       "      <th>49665</th>\n",
       "      <td>49661</td>\n",
       "      <td>Porto</td>\n",
       "      <td>134</td>\n",
       "      <td>5</td>\n",
       "      <td>8.2</td>\n",
       "    </tr>\n",
       "    <tr>\n",
       "      <th>49666</th>\n",
       "      <td>49662</td>\n",
       "      <td>Bacon Cheddar Pretzel Pieces</td>\n",
       "      <td>107</td>\n",
       "      <td>19</td>\n",
       "      <td>3.6</td>\n",
       "    </tr>\n",
       "    <tr>\n",
       "      <th>49667</th>\n",
       "      <td>49663</td>\n",
       "      <td>Ultra Protein Power Crunch Peanut Butter N' Ho...</td>\n",
       "      <td>57</td>\n",
       "      <td>14</td>\n",
       "      <td>10.2</td>\n",
       "    </tr>\n",
       "    <tr>\n",
       "      <th>49668</th>\n",
       "      <td>49664</td>\n",
       "      <td>Lemon Cayenne Drinking Vinegar</td>\n",
       "      <td>100</td>\n",
       "      <td>21</td>\n",
       "      <td>13.7</td>\n",
       "    </tr>\n",
       "    <tr>\n",
       "      <th>49669</th>\n",
       "      <td>49665</td>\n",
       "      <td>Super Dark Coconut Ash &amp; Banana Chocolate Bar</td>\n",
       "      <td>45</td>\n",
       "      <td>19</td>\n",
       "      <td>6.9</td>\n",
       "    </tr>\n",
       "    <tr>\n",
       "      <th>49670</th>\n",
       "      <td>49666</td>\n",
       "      <td>Ginger Snaps Snacking Cookies</td>\n",
       "      <td>61</td>\n",
       "      <td>19</td>\n",
       "      <td>5.2</td>\n",
       "    </tr>\n",
       "    <tr>\n",
       "      <th>49671</th>\n",
       "      <td>49667</td>\n",
       "      <td>Enchilada with Spanish Rice &amp; Beans Meal</td>\n",
       "      <td>38</td>\n",
       "      <td>1</td>\n",
       "      <td>6.6</td>\n",
       "    </tr>\n",
       "    <tr>\n",
       "      <th>49672</th>\n",
       "      <td>49668</td>\n",
       "      <td>Apple Cinnamon Scented Candles</td>\n",
       "      <td>101</td>\n",
       "      <td>17</td>\n",
       "      <td>5.6</td>\n",
       "    </tr>\n",
       "    <tr>\n",
       "      <th>49673</th>\n",
       "      <td>49669</td>\n",
       "      <td>K Cup Dark Blend</td>\n",
       "      <td>100</td>\n",
       "      <td>21</td>\n",
       "      <td>4.7</td>\n",
       "    </tr>\n",
       "    <tr>\n",
       "      <th>49674</th>\n",
       "      <td>49670</td>\n",
       "      <td>Beef Summer Sausage</td>\n",
       "      <td>106</td>\n",
       "      <td>12</td>\n",
       "      <td>19.2</td>\n",
       "    </tr>\n",
       "    <tr>\n",
       "      <th>49675</th>\n",
       "      <td>49671</td>\n",
       "      <td>Milk Chocolate Drops</td>\n",
       "      <td>45</td>\n",
       "      <td>19</td>\n",
       "      <td>3.0</td>\n",
       "    </tr>\n",
       "    <tr>\n",
       "      <th>49676</th>\n",
       "      <td>49672</td>\n",
       "      <td>Cafe Mocha K-Cup Packs</td>\n",
       "      <td>26</td>\n",
       "      <td>7</td>\n",
       "      <td>6.5</td>\n",
       "    </tr>\n",
       "    <tr>\n",
       "      <th>49677</th>\n",
       "      <td>49673</td>\n",
       "      <td>Stone Baked Multi Grain Artisan Rolls</td>\n",
       "      <td>129</td>\n",
       "      <td>1</td>\n",
       "      <td>5.6</td>\n",
       "    </tr>\n",
       "    <tr>\n",
       "      <th>49678</th>\n",
       "      <td>49674</td>\n",
       "      <td>Frozen Greek Yogurt Bars Chocolate Chip</td>\n",
       "      <td>37</td>\n",
       "      <td>1</td>\n",
       "      <td>11.1</td>\n",
       "    </tr>\n",
       "    <tr>\n",
       "      <th>49679</th>\n",
       "      <td>49675</td>\n",
       "      <td>Cinnamon Dolce Keurig Brewed K Cups</td>\n",
       "      <td>26</td>\n",
       "      <td>7</td>\n",
       "      <td>14.0</td>\n",
       "    </tr>\n",
       "    <tr>\n",
       "      <th>49680</th>\n",
       "      <td>49676</td>\n",
       "      <td>Ultra Red Energy Drink</td>\n",
       "      <td>64</td>\n",
       "      <td>7</td>\n",
       "      <td>14.5</td>\n",
       "    </tr>\n",
       "    <tr>\n",
       "      <th>49681</th>\n",
       "      <td>49677</td>\n",
       "      <td>Thick &amp; Chunky Sloppy Joe Sauce</td>\n",
       "      <td>59</td>\n",
       "      <td>15</td>\n",
       "      <td>8.9</td>\n",
       "    </tr>\n",
       "    <tr>\n",
       "      <th>49682</th>\n",
       "      <td>49678</td>\n",
       "      <td>Large Chicken &amp; Cheese Taquitos</td>\n",
       "      <td>129</td>\n",
       "      <td>1</td>\n",
       "      <td>3.4</td>\n",
       "    </tr>\n",
       "    <tr>\n",
       "      <th>49683</th>\n",
       "      <td>49679</td>\n",
       "      <td>Famous Chocolate Wafers</td>\n",
       "      <td>61</td>\n",
       "      <td>19</td>\n",
       "      <td>6.0</td>\n",
       "    </tr>\n",
       "    <tr>\n",
       "      <th>49684</th>\n",
       "      <td>49680</td>\n",
       "      <td>All Natural Creamy Caesar Dressing</td>\n",
       "      <td>89</td>\n",
       "      <td>13</td>\n",
       "      <td>4.9</td>\n",
       "    </tr>\n",
       "    <tr>\n",
       "      <th>49685</th>\n",
       "      <td>49681</td>\n",
       "      <td>Spaghetti with Meatballs and Sauce Meal</td>\n",
       "      <td>38</td>\n",
       "      <td>1</td>\n",
       "      <td>6.9</td>\n",
       "    </tr>\n",
       "    <tr>\n",
       "      <th>49686</th>\n",
       "      <td>49682</td>\n",
       "      <td>California Limeade</td>\n",
       "      <td>98</td>\n",
       "      <td>7</td>\n",
       "      <td>4.3</td>\n",
       "    </tr>\n",
       "    <tr>\n",
       "      <th>49687</th>\n",
       "      <td>49683</td>\n",
       "      <td>Cucumber Kirby</td>\n",
       "      <td>83</td>\n",
       "      <td>4</td>\n",
       "      <td>13.2</td>\n",
       "    </tr>\n",
       "    <tr>\n",
       "      <th>49688</th>\n",
       "      <td>49684</td>\n",
       "      <td>Vodka, Triple Distilled, Twist of Vanilla</td>\n",
       "      <td>124</td>\n",
       "      <td>5</td>\n",
       "      <td>5.3</td>\n",
       "    </tr>\n",
       "    <tr>\n",
       "      <th>49689</th>\n",
       "      <td>49685</td>\n",
       "      <td>En Croute Roast Hazelnut Cranberry</td>\n",
       "      <td>42</td>\n",
       "      <td>1</td>\n",
       "      <td>3.1</td>\n",
       "    </tr>\n",
       "    <tr>\n",
       "      <th>49690</th>\n",
       "      <td>49686</td>\n",
       "      <td>Artisan Baguette</td>\n",
       "      <td>112</td>\n",
       "      <td>3</td>\n",
       "      <td>7.8</td>\n",
       "    </tr>\n",
       "    <tr>\n",
       "      <th>49691</th>\n",
       "      <td>49687</td>\n",
       "      <td>Smartblend Healthy Metabolism Dry Cat Food</td>\n",
       "      <td>41</td>\n",
       "      <td>8</td>\n",
       "      <td>4.7</td>\n",
       "    </tr>\n",
       "    <tr>\n",
       "      <th>49692</th>\n",
       "      <td>49688</td>\n",
       "      <td>Fresh Foaming Cleanser</td>\n",
       "      <td>73</td>\n",
       "      <td>11</td>\n",
       "      <td>13.5</td>\n",
       "    </tr>\n",
       "  </tbody>\n",
       "</table>\n",
       "</div>"
      ],
      "text/plain": [
       "       product_id                                       product_name  \\\n",
       "49658       49654                   Teriyaki Sauce, Sesame, Original   \n",
       "49659       49655                                        Apple Cider   \n",
       "49660       49656                         Masada Kosher Pocket Bread   \n",
       "49661       49657                                  Cabernet Tomatoes   \n",
       "49662       49658                         Brie with Herbs Foil Wedge   \n",
       "49663       49659                            Organic Creamed Coconut   \n",
       "49664       49660                        Professionals Sleek Shampoo   \n",
       "49665       49661                                              Porto   \n",
       "49666       49662                       Bacon Cheddar Pretzel Pieces   \n",
       "49667       49663  Ultra Protein Power Crunch Peanut Butter N' Ho...   \n",
       "49668       49664                     Lemon Cayenne Drinking Vinegar   \n",
       "49669       49665      Super Dark Coconut Ash & Banana Chocolate Bar   \n",
       "49670       49666                      Ginger Snaps Snacking Cookies   \n",
       "49671       49667           Enchilada with Spanish Rice & Beans Meal   \n",
       "49672       49668                     Apple Cinnamon Scented Candles   \n",
       "49673       49669                                   K Cup Dark Blend   \n",
       "49674       49670                                Beef Summer Sausage   \n",
       "49675       49671                               Milk Chocolate Drops   \n",
       "49676       49672                             Cafe Mocha K-Cup Packs   \n",
       "49677       49673              Stone Baked Multi Grain Artisan Rolls   \n",
       "49678       49674            Frozen Greek Yogurt Bars Chocolate Chip   \n",
       "49679       49675                Cinnamon Dolce Keurig Brewed K Cups   \n",
       "49680       49676                             Ultra Red Energy Drink   \n",
       "49681       49677                    Thick & Chunky Sloppy Joe Sauce   \n",
       "49682       49678                    Large Chicken & Cheese Taquitos   \n",
       "49683       49679                            Famous Chocolate Wafers   \n",
       "49684       49680                 All Natural Creamy Caesar Dressing   \n",
       "49685       49681            Spaghetti with Meatballs and Sauce Meal   \n",
       "49686       49682                                 California Limeade   \n",
       "49687       49683                                     Cucumber Kirby   \n",
       "49688       49684          Vodka, Triple Distilled, Twist of Vanilla   \n",
       "49689       49685                 En Croute Roast Hazelnut Cranberry   \n",
       "49690       49686                                   Artisan Baguette   \n",
       "49691       49687         Smartblend Healthy Metabolism Dry Cat Food   \n",
       "49692       49688                             Fresh Foaming Cleanser   \n",
       "\n",
       "       aisle_id  department_id  prices  \n",
       "49658         5             13     4.0  \n",
       "49659        98              7    10.7  \n",
       "49660       128              3     7.1  \n",
       "49661        83              4     8.3  \n",
       "49662         2             16     3.9  \n",
       "49663        17             13     3.1  \n",
       "49664        22             11     6.7  \n",
       "49665       134              5     8.2  \n",
       "49666       107             19     3.6  \n",
       "49667        57             14    10.2  \n",
       "49668       100             21    13.7  \n",
       "49669        45             19     6.9  \n",
       "49670        61             19     5.2  \n",
       "49671        38              1     6.6  \n",
       "49672       101             17     5.6  \n",
       "49673       100             21     4.7  \n",
       "49674       106             12    19.2  \n",
       "49675        45             19     3.0  \n",
       "49676        26              7     6.5  \n",
       "49677       129              1     5.6  \n",
       "49678        37              1    11.1  \n",
       "49679        26              7    14.0  \n",
       "49680        64              7    14.5  \n",
       "49681        59             15     8.9  \n",
       "49682       129              1     3.4  \n",
       "49683        61             19     6.0  \n",
       "49684        89             13     4.9  \n",
       "49685        38              1     6.9  \n",
       "49686        98              7     4.3  \n",
       "49687        83              4    13.2  \n",
       "49688       124              5     5.3  \n",
       "49689        42              1     3.1  \n",
       "49690       112              3     7.8  \n",
       "49691        41              8     4.7  \n",
       "49692        73             11    13.5  "
      ]
     },
     "execution_count": 22,
     "metadata": {},
     "output_type": "execute_result"
    }
   ],
   "source": [
    "#Display the last 35 rows of the dataframe\n",
    "df_products.tail(35)"
   ]
  },
  {
   "cell_type": "markdown",
   "id": "597c01a9-23bd-4d1d-9ac4-e0eb9b3e684b",
   "metadata": {},
   "source": [
    "### 3.2.3. columns"
   ]
  },
  {
   "cell_type": "code",
   "execution_count": 24,
   "id": "a18129ce-128f-487b-bc2f-63180955f4c7",
   "metadata": {},
   "outputs": [
    {
     "data": {
      "text/plain": [
       "Index(['product_id', 'product_name', 'aisle_id', 'department_id', 'prices'], dtype='object')"
      ]
     },
     "execution_count": 24,
     "metadata": {},
     "output_type": "execute_result"
    }
   ],
   "source": [
    "#Return the column names of the dataframe\n",
    "df_products.columns"
   ]
  },
  {
   "cell_type": "markdown",
   "id": "84d7307f-2631-40f2-a91e-e4cd38e4eb55",
   "metadata": {},
   "source": [
    "### 3.2.4. shape"
   ]
  },
  {
   "cell_type": "code",
   "execution_count": 26,
   "id": "c0dd4cbf-7503-431a-a9cc-fdcfd739bd74",
   "metadata": {},
   "outputs": [
    {
     "data": {
      "text/plain": [
       "(49693, 5)"
      ]
     },
     "execution_count": 26,
     "metadata": {},
     "output_type": "execute_result"
    }
   ],
   "source": [
    "#Get the dimensions of the dataframe\n",
    "df_products.shape"
   ]
  },
  {
   "cell_type": "markdown",
   "id": "4197e151-452a-4459-b39d-7d400e6a86a4",
   "metadata": {},
   "source": [
    "### 3.2.5. describe()"
   ]
  },
  {
   "cell_type": "code",
   "execution_count": 28,
   "id": "1c7f9dd0-d7bf-4b78-8822-f96a7b304d28",
   "metadata": {},
   "outputs": [
    {
     "data": {
      "text/html": [
       "<div>\n",
       "<style scoped>\n",
       "    .dataframe tbody tr th:only-of-type {\n",
       "        vertical-align: middle;\n",
       "    }\n",
       "\n",
       "    .dataframe tbody tr th {\n",
       "        vertical-align: top;\n",
       "    }\n",
       "\n",
       "    .dataframe thead th {\n",
       "        text-align: right;\n",
       "    }\n",
       "</style>\n",
       "<table border=\"1\" class=\"dataframe\">\n",
       "  <thead>\n",
       "    <tr style=\"text-align: right;\">\n",
       "      <th></th>\n",
       "      <th>product_id</th>\n",
       "      <th>aisle_id</th>\n",
       "      <th>department_id</th>\n",
       "      <th>prices</th>\n",
       "    </tr>\n",
       "  </thead>\n",
       "  <tbody>\n",
       "    <tr>\n",
       "      <th>count</th>\n",
       "      <td>49693.000000</td>\n",
       "      <td>49693.000000</td>\n",
       "      <td>49693.000000</td>\n",
       "      <td>49693.000000</td>\n",
       "    </tr>\n",
       "    <tr>\n",
       "      <th>mean</th>\n",
       "      <td>24844.345139</td>\n",
       "      <td>67.770249</td>\n",
       "      <td>11.728433</td>\n",
       "      <td>9.994136</td>\n",
       "    </tr>\n",
       "    <tr>\n",
       "      <th>std</th>\n",
       "      <td>14343.717401</td>\n",
       "      <td>38.316774</td>\n",
       "      <td>5.850282</td>\n",
       "      <td>453.519686</td>\n",
       "    </tr>\n",
       "    <tr>\n",
       "      <th>min</th>\n",
       "      <td>1.000000</td>\n",
       "      <td>1.000000</td>\n",
       "      <td>1.000000</td>\n",
       "      <td>1.000000</td>\n",
       "    </tr>\n",
       "    <tr>\n",
       "      <th>25%</th>\n",
       "      <td>12423.000000</td>\n",
       "      <td>35.000000</td>\n",
       "      <td>7.000000</td>\n",
       "      <td>4.100000</td>\n",
       "    </tr>\n",
       "    <tr>\n",
       "      <th>50%</th>\n",
       "      <td>24845.000000</td>\n",
       "      <td>69.000000</td>\n",
       "      <td>13.000000</td>\n",
       "      <td>7.100000</td>\n",
       "    </tr>\n",
       "    <tr>\n",
       "      <th>75%</th>\n",
       "      <td>37265.000000</td>\n",
       "      <td>100.000000</td>\n",
       "      <td>17.000000</td>\n",
       "      <td>11.200000</td>\n",
       "    </tr>\n",
       "    <tr>\n",
       "      <th>max</th>\n",
       "      <td>49688.000000</td>\n",
       "      <td>134.000000</td>\n",
       "      <td>21.000000</td>\n",
       "      <td>99999.000000</td>\n",
       "    </tr>\n",
       "  </tbody>\n",
       "</table>\n",
       "</div>"
      ],
      "text/plain": [
       "         product_id      aisle_id  department_id        prices\n",
       "count  49693.000000  49693.000000   49693.000000  49693.000000\n",
       "mean   24844.345139     67.770249      11.728433      9.994136\n",
       "std    14343.717401     38.316774       5.850282    453.519686\n",
       "min        1.000000      1.000000       1.000000      1.000000\n",
       "25%    12423.000000     35.000000       7.000000      4.100000\n",
       "50%    24845.000000     69.000000      13.000000      7.100000\n",
       "75%    37265.000000    100.000000      17.000000     11.200000\n",
       "max    49688.000000    134.000000      21.000000  99999.000000"
      ]
     },
     "execution_count": 28,
     "metadata": {},
     "output_type": "execute_result"
    }
   ],
   "source": [
    "#Generate descriptive statistics for numerical columns in the dataframe\n",
    "df_products.describe()"
   ]
  },
  {
   "cell_type": "markdown",
   "id": "db2fead5-786e-4b78-8c6d-5834558392d3",
   "metadata": {},
   "source": [
    "##### The maximum value of the aisle_id column is 134"
   ]
  },
  {
   "cell_type": "markdown",
   "id": "d2bfa737-d58e-4a4a-8a9f-b7083536b9d1",
   "metadata": {},
   "source": [
    "### 3.2.6. dtypes"
   ]
  },
  {
   "cell_type": "code",
   "execution_count": 31,
   "id": "21296c83-dd68-49e6-9035-22f131205e19",
   "metadata": {},
   "outputs": [
    {
     "data": {
      "text/plain": [
       "product_id         int64\n",
       "product_name      object\n",
       "aisle_id           int64\n",
       "department_id      int64\n",
       "prices           float64\n",
       "dtype: object"
      ]
     },
     "execution_count": 31,
     "metadata": {},
     "output_type": "execute_result"
    }
   ],
   "source": [
    "#Return the data types of each column in the dataframe\n",
    "df_products.dtypes"
   ]
  },
  {
   "cell_type": "markdown",
   "id": "cbd8aeca-9d82-4bfc-8f73-740a60b9ffbc",
   "metadata": {},
   "source": [
    "##### The data type of the department_id column is int64"
   ]
  },
  {
   "cell_type": "markdown",
   "id": "628da9c4-f4e9-419b-998c-269d762e7523",
   "metadata": {},
   "source": [
    "# Task"
   ]
  },
  {
   "cell_type": "markdown",
   "id": "32062d6a-2625-4928-8a28-06157fb12ec7",
   "metadata": {},
   "source": [
    "## 1. Download data\n",
    "Download the data file containing your project data sets for this Exercise, extract it, and move the data files into your “Original Data” folder."
   ]
  },
  {
   "cell_type": "markdown",
   "id": "2858e871-ec0d-4c52-8e7f-302dcf63fe66",
   "metadata": {},
   "source": [
    "##### Data downloaded"
   ]
  },
  {
   "cell_type": "markdown",
   "id": "e1e4505a-53bb-4707-a16b-0e16cfcd52eb",
   "metadata": {},
   "source": [
    "## 2. Create a notebook\n",
    "Create a notebook in Jupyter for this Exercise in your “Scripts” folder and give it a descriptive title. Be sure to set up section headings and use comments in your notebook as you proceed with the steps in the rest of the task."
   ]
  },
  {
   "cell_type": "markdown",
   "id": "8fc77ae2-83ee-4d32-92ef-df26c5fd33e5",
   "metadata": {},
   "source": [
    "##### Notebook created"
   ]
  },
  {
   "cell_type": "markdown",
   "id": "86f27d0d-c5bc-4220-a88d-92329fbb8338",
   "metadata": {},
   "source": [
    "## 3. Import libraries\n",
    "Import the pandas, NumPy, and os libraries."
   ]
  },
  {
   "cell_type": "markdown",
   "id": "362d04ef-fdb9-4e8a-947c-fdb5e01de1df",
   "metadata": {},
   "source": [
    "##### Refer: 1. Import libraries"
   ]
  },
  {
   "cell_type": "markdown",
   "id": "bcc98602-7c23-495b-a5aa-75082da11e7b",
   "metadata": {},
   "source": [
    "## 4. Create project path\n",
    "Turn your project folder path into a string as outlined in the Exercise text."
   ]
  },
  {
   "cell_type": "markdown",
   "id": "c0a4c013-b669-406d-884f-702b061aa417",
   "metadata": {},
   "source": [
    "##### Refer: 2. Import datasets"
   ]
  },
  {
   "cell_type": "markdown",
   "id": "ed74f2c7-d8e0-4fee-862d-055b4acf25cd",
   "metadata": {},
   "source": [
    "## 5. Import 'orders' dataset\n",
    "Import the “orders.csv” data set into your notebook using the os library and the vars_list shortcut, omitting the “eval_set” column in your final dataframe."
   ]
  },
  {
   "cell_type": "markdown",
   "id": "500ccd8d-ca3d-4870-9f2f-d65f16442e02",
   "metadata": {},
   "source": [
    "##### Refer: 2.1 Orders"
   ]
  },
  {
   "cell_type": "markdown",
   "id": "a16169e2-c9e2-4a5c-bd17-919c216a5886",
   "metadata": {},
   "source": [
    "## 6. Print head\n",
    "Print the first 5 rows of your dataframe."
   ]
  },
  {
   "cell_type": "markdown",
   "id": "17719612-433b-4411-9b70-8225fc892390",
   "metadata": {},
   "source": [
    "##### Refer: 3.1.1 head()"
   ]
  },
  {
   "cell_type": "markdown",
   "id": "c6706871-3b90-490a-a3ed-228082e72fc1",
   "metadata": {},
   "source": [
    "## 7. Import 'products' dataset\n",
    "Import the “products.csv” file into Jupyter as df_prods (as opposed to df, which is what your “orders.csv” file is named in Jupyter). You can use the path variable you created in step 4 to import “products.csv” with the os library."
   ]
  },
  {
   "cell_type": "markdown",
   "id": "bda37701-c3cf-49cd-a8bd-e816361c5533",
   "metadata": {},
   "source": [
    "##### Refer: 2.2 Products"
   ]
  },
  {
   "cell_type": "markdown",
   "id": "ed1acec7-28be-444f-8419-7676e53e8f47",
   "metadata": {},
   "source": [
    "## 8. Print head and tail\n",
    "Print the first 20 rows and the last 35 rows of the df_prods dataframe."
   ]
  },
  {
   "cell_type": "markdown",
   "id": "1fcfcb7d-6da9-4efd-8113-f15eb8d3ac40",
   "metadata": {},
   "source": [
    "##### Refer: 3.2.1 head (specified)\n",
    "##### Refer: 3.2.2 tail (specified)"
   ]
  },
  {
   "cell_type": "markdown",
   "id": "9462724e-468b-4084-961b-40835823fb5b",
   "metadata": {},
   "source": [
    "## 9. Print column names\n",
    "Print the names of the columns in the df_prods dataframe."
   ]
  },
  {
   "cell_type": "markdown",
   "id": "8440a614-530c-4254-bfb6-eb689bae75ed",
   "metadata": {},
   "source": [
    "##### Refer: 3.2.3 columns"
   ]
  },
  {
   "cell_type": "markdown",
   "id": "3e0f9d29-5c49-48f7-956f-544ffbb28a0d",
   "metadata": {},
   "source": [
    "## 10. Print dimensions\n",
    "Print the number of rows and columns in the df_prods dataframe."
   ]
  },
  {
   "cell_type": "markdown",
   "id": "772ba0ea-c8a3-4f18-8181-1a1cc341c965",
   "metadata": {},
   "source": [
    "##### Refer: 3.2.4. shape"
   ]
  },
  {
   "cell_type": "markdown",
   "id": "460d0292-3953-4231-a6c7-abae2bb3f6ab",
   "metadata": {},
   "source": [
    "## 11. Print descriptive statistics and data types\n",
    "Answer the following questions using the relevant commands. Use markdown mode for your Jupyter cells to provide written answers within your Jupyter notebook after executing the commands:\n",
    "- What’s the maximum value of the “aisle_id” column?\n",
    "- What’s the data type of the “department_id” column?"
   ]
  },
  {
   "cell_type": "markdown",
   "id": "87b9767d-0566-4825-bfad-826ed07a1a54",
   "metadata": {},
   "source": [
    "##### Refer: 3.2.5 describe() \n",
    "##### Refer: 3.2.6 dtypes"
   ]
  },
  {
   "cell_type": "markdown",
   "id": "4ae05d20-fbd5-4527-ba9c-134b65c22b9b",
   "metadata": {},
   "source": [
    "## 12. Save and submit notebook\n",
    "Save your notebook, then locate it in your file explorer, compress it, and upload the compressed ZIP file here for your tutor to review."
   ]
  },
  {
   "cell_type": "markdown",
   "id": "ecc902fd-2014-4eb1-9925-5784d6bd4f53",
   "metadata": {},
   "source": [
    "##### Notebook saved and submitted"
   ]
  }
 ],
 "metadata": {
  "kernelspec": {
   "display_name": "Python 3 (ipykernel)",
   "language": "python",
   "name": "python3"
  },
  "language_info": {
   "codemirror_mode": {
    "name": "ipython",
    "version": 3
   },
   "file_extension": ".py",
   "mimetype": "text/x-python",
   "name": "python",
   "nbconvert_exporter": "python",
   "pygments_lexer": "ipython3",
   "version": "3.12.4"
  }
 },
 "nbformat": 4,
 "nbformat_minor": 5
}
