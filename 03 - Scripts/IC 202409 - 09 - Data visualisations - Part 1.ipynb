{
 "cells": [
  {
   "cell_type": "markdown",
   "id": "2ee5092f-3fb3-48a2-94b8-ae000c0877e1",
   "metadata": {},
   "source": [
    "# Intro to Data Visualization with Python"
   ]
  },
  {
   "cell_type": "markdown",
   "id": "256cd7d4-9917-439f-a5e3-a8578a185ebf",
   "metadata": {},
   "source": [
    "# Contents\n",
    "1. Import libraries\n",
    "2. Import datasets\n",
    "3. Check imported data\n",
    "4. Data wrangling\n",
    "5. Consistency checks\n",
    "6. Merge dataframes\n",
    "7. Export dataframe"
   ]
  },
  {
   "cell_type": "markdown",
   "id": "c81abd28-e070-4001-be9c-757883d0450f",
   "metadata": {},
   "source": [
    "# 1. Import libraries"
   ]
  },
  {
   "cell_type": "code",
   "execution_count": 5,
   "id": "eb898a9d-308f-4b83-a105-02c9a4625141",
   "metadata": {},
   "outputs": [],
   "source": [
    "#Import libraries\n",
    "import pandas as pd\n",
    "import numpy as np\n",
    "import os"
   ]
  },
  {
   "cell_type": "markdown",
   "id": "ceb6fd20-df8e-4a24-8662-df3493f67dee",
   "metadata": {},
   "source": [
    "# 2. Import datasets"
   ]
  },
  {
   "cell_type": "code",
   "execution_count": 7,
   "id": "d89a8bde-3ccc-4f2f-a1a0-c11c83dfea03",
   "metadata": {},
   "outputs": [],
   "source": [
    "#Define the project path as a string and assign to a variable called path\n",
    "path = r'/Users/davidgriesel/Documents/0 - CareerFoundry/02 - Data Analytics Immersion/04 - Python Fundamentals for Data Analysts/Instacart Basket Analysis - IC 202409'"
   ]
  },
  {
   "cell_type": "markdown",
   "id": "706e41fb-e24f-4a8b-bf64-df86b7eca580",
   "metadata": {},
   "source": [
    "## 2.1. Merged data"
   ]
  },
  {
   "cell_type": "code",
   "execution_count": 9,
   "id": "630f6180-53c1-4593-a5f5-fc11d922ce93",
   "metadata": {},
   "outputs": [],
   "source": [
    "#Import orders_products_merged_derived dataset from exercise 4.7\n",
    "df_orders_products_merged = pd.read_pickle(os.path.join(path, '02 - Data', 'Prepared Data', '08_orders_products_grouped.pkl'))"
   ]
  },
  {
   "cell_type": "markdown",
   "id": "63aa86c8-02e5-45fb-9320-1f2e1b3416d0",
   "metadata": {},
   "source": [
    "## 2.2. Customers"
   ]
  },
  {
   "cell_type": "code",
   "execution_count": 11,
   "id": "19316665-1d41-4e74-9b0c-f39313b26b27",
   "metadata": {},
   "outputs": [],
   "source": [
    "#Import the customer dataset\n",
    "df_customers = pd.read_csv(os.path.join(path, '02 - Data', 'Original Data', 'customers.csv'), index_col = False)"
   ]
  },
  {
   "cell_type": "markdown",
   "id": "3b3883e0-f25a-4b0c-bbf7-bc78e30bfcfc",
   "metadata": {},
   "source": [
    "# 3. Check imported data"
   ]
  },
  {
   "cell_type": "markdown",
   "id": "e97fd47d-e527-4857-832a-9b5daf72a844",
   "metadata": {},
   "source": [
    "## 3.1. Merged data"
   ]
  },
  {
   "cell_type": "code",
   "execution_count": 14,
   "id": "cdd07117-e106-459b-ae0e-7a3186fbccd6",
   "metadata": {},
   "outputs": [
    {
     "data": {
      "text/plain": [
       "(32404859, 24)"
      ]
     },
     "execution_count": 14,
     "metadata": {},
     "output_type": "execute_result"
    }
   ],
   "source": [
    "#Get the dimensions of the dataframe\n",
    "df_orders_products_merged.shape"
   ]
  },
  {
   "cell_type": "code",
   "execution_count": 15,
   "id": "88ffdb7e-6b43-4ca0-ad98-5d29ee80bad9",
   "metadata": {},
   "outputs": [
    {
     "data": {
      "text/html": [
       "<div>\n",
       "<style scoped>\n",
       "    .dataframe tbody tr th:only-of-type {\n",
       "        vertical-align: middle;\n",
       "    }\n",
       "\n",
       "    .dataframe tbody tr th {\n",
       "        vertical-align: top;\n",
       "    }\n",
       "\n",
       "    .dataframe thead th {\n",
       "        text-align: right;\n",
       "    }\n",
       "</style>\n",
       "<table border=\"1\" class=\"dataframe\">\n",
       "  <thead>\n",
       "    <tr style=\"text-align: right;\">\n",
       "      <th></th>\n",
       "      <th>order_id</th>\n",
       "      <th>user_id</th>\n",
       "      <th>user_order_number</th>\n",
       "      <th>orders_day_of_week</th>\n",
       "      <th>order_hour_of_day</th>\n",
       "      <th>days_since_prior_order</th>\n",
       "      <th>first_order</th>\n",
       "      <th>product_id</th>\n",
       "      <th>add_to_cart_order</th>\n",
       "      <th>reordered</th>\n",
       "      <th>...</th>\n",
       "      <th>price_label</th>\n",
       "      <th>busiest_day</th>\n",
       "      <th>busiest_days</th>\n",
       "      <th>busiest_hours</th>\n",
       "      <th>max_order</th>\n",
       "      <th>loyalty_flag</th>\n",
       "      <th>avg_price</th>\n",
       "      <th>spending_flag</th>\n",
       "      <th>median_days</th>\n",
       "      <th>frequency_flag</th>\n",
       "    </tr>\n",
       "  </thead>\n",
       "  <tbody>\n",
       "    <tr>\n",
       "      <th>0</th>\n",
       "      <td>2539329</td>\n",
       "      <td>1</td>\n",
       "      <td>1</td>\n",
       "      <td>2</td>\n",
       "      <td>8</td>\n",
       "      <td>NaN</td>\n",
       "      <td>True</td>\n",
       "      <td>196</td>\n",
       "      <td>1</td>\n",
       "      <td>0</td>\n",
       "      <td>...</td>\n",
       "      <td>Mid-range product</td>\n",
       "      <td>Regularly busy</td>\n",
       "      <td>Regularly busy</td>\n",
       "      <td>Average orders</td>\n",
       "      <td>10</td>\n",
       "      <td>New customer</td>\n",
       "      <td>6.367797</td>\n",
       "      <td>Low spender</td>\n",
       "      <td>20.5</td>\n",
       "      <td>Non-frequent customer</td>\n",
       "    </tr>\n",
       "    <tr>\n",
       "      <th>1</th>\n",
       "      <td>2539329</td>\n",
       "      <td>1</td>\n",
       "      <td>1</td>\n",
       "      <td>2</td>\n",
       "      <td>8</td>\n",
       "      <td>NaN</td>\n",
       "      <td>True</td>\n",
       "      <td>14084</td>\n",
       "      <td>2</td>\n",
       "      <td>0</td>\n",
       "      <td>...</td>\n",
       "      <td>Mid-range product</td>\n",
       "      <td>Regularly busy</td>\n",
       "      <td>Regularly busy</td>\n",
       "      <td>Average orders</td>\n",
       "      <td>10</td>\n",
       "      <td>New customer</td>\n",
       "      <td>6.367797</td>\n",
       "      <td>Low spender</td>\n",
       "      <td>20.5</td>\n",
       "      <td>Non-frequent customer</td>\n",
       "    </tr>\n",
       "    <tr>\n",
       "      <th>2</th>\n",
       "      <td>2539329</td>\n",
       "      <td>1</td>\n",
       "      <td>1</td>\n",
       "      <td>2</td>\n",
       "      <td>8</td>\n",
       "      <td>NaN</td>\n",
       "      <td>True</td>\n",
       "      <td>12427</td>\n",
       "      <td>3</td>\n",
       "      <td>0</td>\n",
       "      <td>...</td>\n",
       "      <td>Low-range product</td>\n",
       "      <td>Regularly busy</td>\n",
       "      <td>Regularly busy</td>\n",
       "      <td>Average orders</td>\n",
       "      <td>10</td>\n",
       "      <td>New customer</td>\n",
       "      <td>6.367797</td>\n",
       "      <td>Low spender</td>\n",
       "      <td>20.5</td>\n",
       "      <td>Non-frequent customer</td>\n",
       "    </tr>\n",
       "    <tr>\n",
       "      <th>3</th>\n",
       "      <td>2539329</td>\n",
       "      <td>1</td>\n",
       "      <td>1</td>\n",
       "      <td>2</td>\n",
       "      <td>8</td>\n",
       "      <td>NaN</td>\n",
       "      <td>True</td>\n",
       "      <td>26088</td>\n",
       "      <td>4</td>\n",
       "      <td>0</td>\n",
       "      <td>...</td>\n",
       "      <td>Low-range product</td>\n",
       "      <td>Regularly busy</td>\n",
       "      <td>Regularly busy</td>\n",
       "      <td>Average orders</td>\n",
       "      <td>10</td>\n",
       "      <td>New customer</td>\n",
       "      <td>6.367797</td>\n",
       "      <td>Low spender</td>\n",
       "      <td>20.5</td>\n",
       "      <td>Non-frequent customer</td>\n",
       "    </tr>\n",
       "    <tr>\n",
       "      <th>4</th>\n",
       "      <td>2539329</td>\n",
       "      <td>1</td>\n",
       "      <td>1</td>\n",
       "      <td>2</td>\n",
       "      <td>8</td>\n",
       "      <td>NaN</td>\n",
       "      <td>True</td>\n",
       "      <td>26405</td>\n",
       "      <td>5</td>\n",
       "      <td>0</td>\n",
       "      <td>...</td>\n",
       "      <td>Low-range product</td>\n",
       "      <td>Regularly busy</td>\n",
       "      <td>Regularly busy</td>\n",
       "      <td>Average orders</td>\n",
       "      <td>10</td>\n",
       "      <td>New customer</td>\n",
       "      <td>6.367797</td>\n",
       "      <td>Low spender</td>\n",
       "      <td>20.5</td>\n",
       "      <td>Non-frequent customer</td>\n",
       "    </tr>\n",
       "  </tbody>\n",
       "</table>\n",
       "<p>5 rows × 24 columns</p>\n",
       "</div>"
      ],
      "text/plain": [
       "   order_id  user_id  user_order_number  orders_day_of_week  \\\n",
       "0   2539329        1                  1                   2   \n",
       "1   2539329        1                  1                   2   \n",
       "2   2539329        1                  1                   2   \n",
       "3   2539329        1                  1                   2   \n",
       "4   2539329        1                  1                   2   \n",
       "\n",
       "   order_hour_of_day  days_since_prior_order  first_order  product_id  \\\n",
       "0                  8                     NaN         True         196   \n",
       "1                  8                     NaN         True       14084   \n",
       "2                  8                     NaN         True       12427   \n",
       "3                  8                     NaN         True       26088   \n",
       "4                  8                     NaN         True       26405   \n",
       "\n",
       "   add_to_cart_order  reordered  ...        price_label     busiest_day  \\\n",
       "0                  1          0  ...  Mid-range product  Regularly busy   \n",
       "1                  2          0  ...  Mid-range product  Regularly busy   \n",
       "2                  3          0  ...  Low-range product  Regularly busy   \n",
       "3                  4          0  ...  Low-range product  Regularly busy   \n",
       "4                  5          0  ...  Low-range product  Regularly busy   \n",
       "\n",
       "     busiest_days   busiest_hours max_order  loyalty_flag avg_price  \\\n",
       "0  Regularly busy  Average orders        10  New customer  6.367797   \n",
       "1  Regularly busy  Average orders        10  New customer  6.367797   \n",
       "2  Regularly busy  Average orders        10  New customer  6.367797   \n",
       "3  Regularly busy  Average orders        10  New customer  6.367797   \n",
       "4  Regularly busy  Average orders        10  New customer  6.367797   \n",
       "\n",
       "  spending_flag  median_days         frequency_flag  \n",
       "0   Low spender         20.5  Non-frequent customer  \n",
       "1   Low spender         20.5  Non-frequent customer  \n",
       "2   Low spender         20.5  Non-frequent customer  \n",
       "3   Low spender         20.5  Non-frequent customer  \n",
       "4   Low spender         20.5  Non-frequent customer  \n",
       "\n",
       "[5 rows x 24 columns]"
      ]
     },
     "execution_count": 15,
     "metadata": {},
     "output_type": "execute_result"
    }
   ],
   "source": [
    "#Display the first 5 rows of the dataframe\n",
    "df_orders_products_merged.head()"
   ]
  },
  {
   "cell_type": "markdown",
   "id": "27efcc6b-6595-4371-bf7a-cacda2337d33",
   "metadata": {},
   "source": [
    "## 3.2. Customers"
   ]
  },
  {
   "cell_type": "code",
   "execution_count": 17,
   "id": "07e00298-4b23-41d1-b13f-e78e72beba94",
   "metadata": {},
   "outputs": [
    {
     "data": {
      "text/plain": [
       "(206209, 10)"
      ]
     },
     "execution_count": 17,
     "metadata": {},
     "output_type": "execute_result"
    }
   ],
   "source": [
    "#Dimensions\n",
    "df_customers.shape"
   ]
  },
  {
   "cell_type": "code",
   "execution_count": 18,
   "id": "538a232d-d960-4f8b-9a42-b724d5fb75a1",
   "metadata": {},
   "outputs": [
    {
     "data": {
      "text/html": [
       "<div>\n",
       "<style scoped>\n",
       "    .dataframe tbody tr th:only-of-type {\n",
       "        vertical-align: middle;\n",
       "    }\n",
       "\n",
       "    .dataframe tbody tr th {\n",
       "        vertical-align: top;\n",
       "    }\n",
       "\n",
       "    .dataframe thead th {\n",
       "        text-align: right;\n",
       "    }\n",
       "</style>\n",
       "<table border=\"1\" class=\"dataframe\">\n",
       "  <thead>\n",
       "    <tr style=\"text-align: right;\">\n",
       "      <th></th>\n",
       "      <th>user_id</th>\n",
       "      <th>First Name</th>\n",
       "      <th>Surnam</th>\n",
       "      <th>Gender</th>\n",
       "      <th>STATE</th>\n",
       "      <th>Age</th>\n",
       "      <th>date_joined</th>\n",
       "      <th>n_dependants</th>\n",
       "      <th>fam_status</th>\n",
       "      <th>income</th>\n",
       "    </tr>\n",
       "  </thead>\n",
       "  <tbody>\n",
       "    <tr>\n",
       "      <th>0</th>\n",
       "      <td>26711</td>\n",
       "      <td>Deborah</td>\n",
       "      <td>Esquivel</td>\n",
       "      <td>Female</td>\n",
       "      <td>Missouri</td>\n",
       "      <td>48</td>\n",
       "      <td>1/1/2017</td>\n",
       "      <td>3</td>\n",
       "      <td>married</td>\n",
       "      <td>165665</td>\n",
       "    </tr>\n",
       "    <tr>\n",
       "      <th>1</th>\n",
       "      <td>33890</td>\n",
       "      <td>Patricia</td>\n",
       "      <td>Hart</td>\n",
       "      <td>Female</td>\n",
       "      <td>New Mexico</td>\n",
       "      <td>36</td>\n",
       "      <td>1/1/2017</td>\n",
       "      <td>0</td>\n",
       "      <td>single</td>\n",
       "      <td>59285</td>\n",
       "    </tr>\n",
       "    <tr>\n",
       "      <th>2</th>\n",
       "      <td>65803</td>\n",
       "      <td>Kenneth</td>\n",
       "      <td>Farley</td>\n",
       "      <td>Male</td>\n",
       "      <td>Idaho</td>\n",
       "      <td>35</td>\n",
       "      <td>1/1/2017</td>\n",
       "      <td>2</td>\n",
       "      <td>married</td>\n",
       "      <td>99568</td>\n",
       "    </tr>\n",
       "    <tr>\n",
       "      <th>3</th>\n",
       "      <td>125935</td>\n",
       "      <td>Michelle</td>\n",
       "      <td>Hicks</td>\n",
       "      <td>Female</td>\n",
       "      <td>Iowa</td>\n",
       "      <td>40</td>\n",
       "      <td>1/1/2017</td>\n",
       "      <td>0</td>\n",
       "      <td>single</td>\n",
       "      <td>42049</td>\n",
       "    </tr>\n",
       "    <tr>\n",
       "      <th>4</th>\n",
       "      <td>130797</td>\n",
       "      <td>Ann</td>\n",
       "      <td>Gilmore</td>\n",
       "      <td>Female</td>\n",
       "      <td>Maryland</td>\n",
       "      <td>26</td>\n",
       "      <td>1/1/2017</td>\n",
       "      <td>1</td>\n",
       "      <td>married</td>\n",
       "      <td>40374</td>\n",
       "    </tr>\n",
       "  </tbody>\n",
       "</table>\n",
       "</div>"
      ],
      "text/plain": [
       "   user_id First Name    Surnam  Gender       STATE  Age date_joined  \\\n",
       "0    26711    Deborah  Esquivel  Female    Missouri   48    1/1/2017   \n",
       "1    33890   Patricia      Hart  Female  New Mexico   36    1/1/2017   \n",
       "2    65803    Kenneth    Farley    Male       Idaho   35    1/1/2017   \n",
       "3   125935   Michelle     Hicks  Female        Iowa   40    1/1/2017   \n",
       "4   130797        Ann   Gilmore  Female    Maryland   26    1/1/2017   \n",
       "\n",
       "   n_dependants fam_status  income  \n",
       "0             3    married  165665  \n",
       "1             0     single   59285  \n",
       "2             2    married   99568  \n",
       "3             0     single   42049  \n",
       "4             1    married   40374  "
      ]
     },
     "execution_count": 18,
     "metadata": {},
     "output_type": "execute_result"
    }
   ],
   "source": [
    "#Display the first 5 rows of the dataframe\n",
    "df_customers.head()"
   ]
  },
  {
   "cell_type": "markdown",
   "id": "046ffbd9-0105-4a74-bd85-f93fa4287a74",
   "metadata": {},
   "source": [
    "# 4. Data wrangling"
   ]
  },
  {
   "cell_type": "markdown",
   "id": "59180482-d573-418c-9cdb-43ec5315f6de",
   "metadata": {},
   "source": [
    "## 4.1. Rename columns"
   ]
  },
  {
   "cell_type": "code",
   "execution_count": 21,
   "id": "07a16e65-af0f-45f5-8c54-9debfc6895ee",
   "metadata": {},
   "outputs": [
    {
     "data": {
      "text/html": [
       "<div>\n",
       "<style scoped>\n",
       "    .dataframe tbody tr th:only-of-type {\n",
       "        vertical-align: middle;\n",
       "    }\n",
       "\n",
       "    .dataframe tbody tr th {\n",
       "        vertical-align: top;\n",
       "    }\n",
       "\n",
       "    .dataframe thead th {\n",
       "        text-align: right;\n",
       "    }\n",
       "</style>\n",
       "<table border=\"1\" class=\"dataframe\">\n",
       "  <thead>\n",
       "    <tr style=\"text-align: right;\">\n",
       "      <th></th>\n",
       "      <th>user_id</th>\n",
       "      <th>First Name</th>\n",
       "      <th>Surnam</th>\n",
       "      <th>Gender</th>\n",
       "      <th>STATE</th>\n",
       "      <th>Age</th>\n",
       "      <th>date_joined</th>\n",
       "      <th>n_dependants</th>\n",
       "      <th>fam_status</th>\n",
       "      <th>income</th>\n",
       "    </tr>\n",
       "  </thead>\n",
       "  <tbody>\n",
       "    <tr>\n",
       "      <th>0</th>\n",
       "      <td>26711</td>\n",
       "      <td>Deborah</td>\n",
       "      <td>Esquivel</td>\n",
       "      <td>Female</td>\n",
       "      <td>Missouri</td>\n",
       "      <td>48</td>\n",
       "      <td>1/1/2017</td>\n",
       "      <td>3</td>\n",
       "      <td>married</td>\n",
       "      <td>165665</td>\n",
       "    </tr>\n",
       "    <tr>\n",
       "      <th>1</th>\n",
       "      <td>33890</td>\n",
       "      <td>Patricia</td>\n",
       "      <td>Hart</td>\n",
       "      <td>Female</td>\n",
       "      <td>New Mexico</td>\n",
       "      <td>36</td>\n",
       "      <td>1/1/2017</td>\n",
       "      <td>0</td>\n",
       "      <td>single</td>\n",
       "      <td>59285</td>\n",
       "    </tr>\n",
       "    <tr>\n",
       "      <th>2</th>\n",
       "      <td>65803</td>\n",
       "      <td>Kenneth</td>\n",
       "      <td>Farley</td>\n",
       "      <td>Male</td>\n",
       "      <td>Idaho</td>\n",
       "      <td>35</td>\n",
       "      <td>1/1/2017</td>\n",
       "      <td>2</td>\n",
       "      <td>married</td>\n",
       "      <td>99568</td>\n",
       "    </tr>\n",
       "    <tr>\n",
       "      <th>3</th>\n",
       "      <td>125935</td>\n",
       "      <td>Michelle</td>\n",
       "      <td>Hicks</td>\n",
       "      <td>Female</td>\n",
       "      <td>Iowa</td>\n",
       "      <td>40</td>\n",
       "      <td>1/1/2017</td>\n",
       "      <td>0</td>\n",
       "      <td>single</td>\n",
       "      <td>42049</td>\n",
       "    </tr>\n",
       "    <tr>\n",
       "      <th>4</th>\n",
       "      <td>130797</td>\n",
       "      <td>Ann</td>\n",
       "      <td>Gilmore</td>\n",
       "      <td>Female</td>\n",
       "      <td>Maryland</td>\n",
       "      <td>26</td>\n",
       "      <td>1/1/2017</td>\n",
       "      <td>1</td>\n",
       "      <td>married</td>\n",
       "      <td>40374</td>\n",
       "    </tr>\n",
       "  </tbody>\n",
       "</table>\n",
       "</div>"
      ],
      "text/plain": [
       "   user_id First Name    Surnam  Gender       STATE  Age date_joined  \\\n",
       "0    26711    Deborah  Esquivel  Female    Missouri   48    1/1/2017   \n",
       "1    33890   Patricia      Hart  Female  New Mexico   36    1/1/2017   \n",
       "2    65803    Kenneth    Farley    Male       Idaho   35    1/1/2017   \n",
       "3   125935   Michelle     Hicks  Female        Iowa   40    1/1/2017   \n",
       "4   130797        Ann   Gilmore  Female    Maryland   26    1/1/2017   \n",
       "\n",
       "   n_dependants fam_status  income  \n",
       "0             3    married  165665  \n",
       "1             0     single   59285  \n",
       "2             2    married   99568  \n",
       "3             0     single   42049  \n",
       "4             1    married   40374  "
      ]
     },
     "execution_count": 21,
     "metadata": {},
     "output_type": "execute_result"
    }
   ],
   "source": [
    "#Display the first 5 rows of the dataframe\n",
    "df_customers.head()"
   ]
  },
  {
   "cell_type": "code",
   "execution_count": 22,
   "id": "f4a983b5-09f2-4290-91e7-915b1c0f5321",
   "metadata": {},
   "outputs": [],
   "source": [
    "#Renaming columns that are inconsistent\n",
    "df_customers.rename(columns = {\n",
    "    'First Name': 'first_name', \n",
    "    'Surnam': 'surname',\n",
    "    'Gender': 'gender',\n",
    "    'STATE': 'state',\n",
    "    'Age': 'age',\n",
    "    'n_dependants': 'number_of_dependents',\n",
    "    'fam_status': 'marital_status'\n",
    "}, inplace = True)"
   ]
  },
  {
   "cell_type": "code",
   "execution_count": 23,
   "id": "d1f13711-f4a2-4e78-87a2-7936293167e3",
   "metadata": {},
   "outputs": [
    {
     "data": {
      "text/html": [
       "<div>\n",
       "<style scoped>\n",
       "    .dataframe tbody tr th:only-of-type {\n",
       "        vertical-align: middle;\n",
       "    }\n",
       "\n",
       "    .dataframe tbody tr th {\n",
       "        vertical-align: top;\n",
       "    }\n",
       "\n",
       "    .dataframe thead th {\n",
       "        text-align: right;\n",
       "    }\n",
       "</style>\n",
       "<table border=\"1\" class=\"dataframe\">\n",
       "  <thead>\n",
       "    <tr style=\"text-align: right;\">\n",
       "      <th></th>\n",
       "      <th>user_id</th>\n",
       "      <th>first_name</th>\n",
       "      <th>surname</th>\n",
       "      <th>gender</th>\n",
       "      <th>state</th>\n",
       "      <th>age</th>\n",
       "      <th>date_joined</th>\n",
       "      <th>number_of_dependents</th>\n",
       "      <th>marital_status</th>\n",
       "      <th>income</th>\n",
       "    </tr>\n",
       "  </thead>\n",
       "  <tbody>\n",
       "    <tr>\n",
       "      <th>0</th>\n",
       "      <td>26711</td>\n",
       "      <td>Deborah</td>\n",
       "      <td>Esquivel</td>\n",
       "      <td>Female</td>\n",
       "      <td>Missouri</td>\n",
       "      <td>48</td>\n",
       "      <td>1/1/2017</td>\n",
       "      <td>3</td>\n",
       "      <td>married</td>\n",
       "      <td>165665</td>\n",
       "    </tr>\n",
       "    <tr>\n",
       "      <th>1</th>\n",
       "      <td>33890</td>\n",
       "      <td>Patricia</td>\n",
       "      <td>Hart</td>\n",
       "      <td>Female</td>\n",
       "      <td>New Mexico</td>\n",
       "      <td>36</td>\n",
       "      <td>1/1/2017</td>\n",
       "      <td>0</td>\n",
       "      <td>single</td>\n",
       "      <td>59285</td>\n",
       "    </tr>\n",
       "    <tr>\n",
       "      <th>2</th>\n",
       "      <td>65803</td>\n",
       "      <td>Kenneth</td>\n",
       "      <td>Farley</td>\n",
       "      <td>Male</td>\n",
       "      <td>Idaho</td>\n",
       "      <td>35</td>\n",
       "      <td>1/1/2017</td>\n",
       "      <td>2</td>\n",
       "      <td>married</td>\n",
       "      <td>99568</td>\n",
       "    </tr>\n",
       "    <tr>\n",
       "      <th>3</th>\n",
       "      <td>125935</td>\n",
       "      <td>Michelle</td>\n",
       "      <td>Hicks</td>\n",
       "      <td>Female</td>\n",
       "      <td>Iowa</td>\n",
       "      <td>40</td>\n",
       "      <td>1/1/2017</td>\n",
       "      <td>0</td>\n",
       "      <td>single</td>\n",
       "      <td>42049</td>\n",
       "    </tr>\n",
       "    <tr>\n",
       "      <th>4</th>\n",
       "      <td>130797</td>\n",
       "      <td>Ann</td>\n",
       "      <td>Gilmore</td>\n",
       "      <td>Female</td>\n",
       "      <td>Maryland</td>\n",
       "      <td>26</td>\n",
       "      <td>1/1/2017</td>\n",
       "      <td>1</td>\n",
       "      <td>married</td>\n",
       "      <td>40374</td>\n",
       "    </tr>\n",
       "  </tbody>\n",
       "</table>\n",
       "</div>"
      ],
      "text/plain": [
       "   user_id first_name   surname  gender       state  age date_joined  \\\n",
       "0    26711    Deborah  Esquivel  Female    Missouri   48    1/1/2017   \n",
       "1    33890   Patricia      Hart  Female  New Mexico   36    1/1/2017   \n",
       "2    65803    Kenneth    Farley    Male       Idaho   35    1/1/2017   \n",
       "3   125935   Michelle     Hicks  Female        Iowa   40    1/1/2017   \n",
       "4   130797        Ann   Gilmore  Female    Maryland   26    1/1/2017   \n",
       "\n",
       "   number_of_dependents marital_status  income  \n",
       "0                     3        married  165665  \n",
       "1                     0         single   59285  \n",
       "2                     2        married   99568  \n",
       "3                     0         single   42049  \n",
       "4                     1        married   40374  "
      ]
     },
     "execution_count": 23,
     "metadata": {},
     "output_type": "execute_result"
    }
   ],
   "source": [
    "#View results\n",
    "df_customers.head()"
   ]
  },
  {
   "cell_type": "markdown",
   "id": "f477d1c0-05be-4832-b530-a59a1d43550b",
   "metadata": {},
   "source": [
    "## 4.2. Drop columns"
   ]
  },
  {
   "cell_type": "code",
   "execution_count": 25,
   "id": "d3d6d0b3-4585-4abe-bf73-de2f84aa4460",
   "metadata": {},
   "outputs": [
    {
     "data": {
      "text/plain": [
       "user_id                     0\n",
       "first_name              11259\n",
       "surname                     0\n",
       "gender                      0\n",
       "state                       0\n",
       "age                         0\n",
       "date_joined                 0\n",
       "number_of_dependents        0\n",
       "marital_status              0\n",
       "income                      0\n",
       "dtype: int64"
      ]
     },
     "execution_count": 25,
     "metadata": {},
     "output_type": "execute_result"
    }
   ],
   "source": [
    "#View results\n",
    "df_customers.isnull().sum()"
   ]
  },
  {
   "cell_type": "markdown",
   "id": "24fef740-865f-4a73-a7f3-3ebee7670800",
   "metadata": {},
   "source": [
    "##### The first_name column contains 11259 null values. Non vital information and not enough records to validate deletion. No other columnsidentified for deletion at this stage."
   ]
  },
  {
   "cell_type": "markdown",
   "id": "3447be61-d59f-443e-b08c-52c075a08e47",
   "metadata": {},
   "source": [
    "## 4.3. Change data types"
   ]
  },
  {
   "cell_type": "code",
   "execution_count": 28,
   "id": "8c9340b2-021e-4f6e-a7e6-773a3b72913b",
   "metadata": {},
   "outputs": [
    {
     "data": {
      "text/html": [
       "<div>\n",
       "<style scoped>\n",
       "    .dataframe tbody tr th:only-of-type {\n",
       "        vertical-align: middle;\n",
       "    }\n",
       "\n",
       "    .dataframe tbody tr th {\n",
       "        vertical-align: top;\n",
       "    }\n",
       "\n",
       "    .dataframe thead th {\n",
       "        text-align: right;\n",
       "    }\n",
       "</style>\n",
       "<table border=\"1\" class=\"dataframe\">\n",
       "  <thead>\n",
       "    <tr style=\"text-align: right;\">\n",
       "      <th></th>\n",
       "      <th>user_id</th>\n",
       "      <th>first_name</th>\n",
       "      <th>surname</th>\n",
       "      <th>gender</th>\n",
       "      <th>state</th>\n",
       "      <th>age</th>\n",
       "      <th>date_joined</th>\n",
       "      <th>number_of_dependents</th>\n",
       "      <th>marital_status</th>\n",
       "      <th>income</th>\n",
       "    </tr>\n",
       "  </thead>\n",
       "  <tbody>\n",
       "    <tr>\n",
       "      <th>0</th>\n",
       "      <td>26711</td>\n",
       "      <td>Deborah</td>\n",
       "      <td>Esquivel</td>\n",
       "      <td>Female</td>\n",
       "      <td>Missouri</td>\n",
       "      <td>48</td>\n",
       "      <td>1/1/2017</td>\n",
       "      <td>3</td>\n",
       "      <td>married</td>\n",
       "      <td>165665</td>\n",
       "    </tr>\n",
       "    <tr>\n",
       "      <th>1</th>\n",
       "      <td>33890</td>\n",
       "      <td>Patricia</td>\n",
       "      <td>Hart</td>\n",
       "      <td>Female</td>\n",
       "      <td>New Mexico</td>\n",
       "      <td>36</td>\n",
       "      <td>1/1/2017</td>\n",
       "      <td>0</td>\n",
       "      <td>single</td>\n",
       "      <td>59285</td>\n",
       "    </tr>\n",
       "    <tr>\n",
       "      <th>2</th>\n",
       "      <td>65803</td>\n",
       "      <td>Kenneth</td>\n",
       "      <td>Farley</td>\n",
       "      <td>Male</td>\n",
       "      <td>Idaho</td>\n",
       "      <td>35</td>\n",
       "      <td>1/1/2017</td>\n",
       "      <td>2</td>\n",
       "      <td>married</td>\n",
       "      <td>99568</td>\n",
       "    </tr>\n",
       "    <tr>\n",
       "      <th>3</th>\n",
       "      <td>125935</td>\n",
       "      <td>Michelle</td>\n",
       "      <td>Hicks</td>\n",
       "      <td>Female</td>\n",
       "      <td>Iowa</td>\n",
       "      <td>40</td>\n",
       "      <td>1/1/2017</td>\n",
       "      <td>0</td>\n",
       "      <td>single</td>\n",
       "      <td>42049</td>\n",
       "    </tr>\n",
       "    <tr>\n",
       "      <th>4</th>\n",
       "      <td>130797</td>\n",
       "      <td>Ann</td>\n",
       "      <td>Gilmore</td>\n",
       "      <td>Female</td>\n",
       "      <td>Maryland</td>\n",
       "      <td>26</td>\n",
       "      <td>1/1/2017</td>\n",
       "      <td>1</td>\n",
       "      <td>married</td>\n",
       "      <td>40374</td>\n",
       "    </tr>\n",
       "  </tbody>\n",
       "</table>\n",
       "</div>"
      ],
      "text/plain": [
       "   user_id first_name   surname  gender       state  age date_joined  \\\n",
       "0    26711    Deborah  Esquivel  Female    Missouri   48    1/1/2017   \n",
       "1    33890   Patricia      Hart  Female  New Mexico   36    1/1/2017   \n",
       "2    65803    Kenneth    Farley    Male       Idaho   35    1/1/2017   \n",
       "3   125935   Michelle     Hicks  Female        Iowa   40    1/1/2017   \n",
       "4   130797        Ann   Gilmore  Female    Maryland   26    1/1/2017   \n",
       "\n",
       "   number_of_dependents marital_status  income  \n",
       "0                     3        married  165665  \n",
       "1                     0         single   59285  \n",
       "2                     2        married   99568  \n",
       "3                     0         single   42049  \n",
       "4                     1        married   40374  "
      ]
     },
     "execution_count": 28,
     "metadata": {},
     "output_type": "execute_result"
    }
   ],
   "source": [
    "#View descriptive stats\n",
    "df_customers.head()"
   ]
  },
  {
   "cell_type": "code",
   "execution_count": 29,
   "id": "6e31af3e-9035-46e8-bc67-e49335ee8d87",
   "metadata": {},
   "outputs": [
    {
     "data": {
      "text/plain": [
       "user_id                  int64\n",
       "first_name              object\n",
       "surname                 object\n",
       "gender                  object\n",
       "state                   object\n",
       "age                      int64\n",
       "date_joined             object\n",
       "number_of_dependents     int64\n",
       "marital_status          object\n",
       "income                   int64\n",
       "dtype: object"
      ]
     },
     "execution_count": 29,
     "metadata": {},
     "output_type": "execute_result"
    }
   ],
   "source": [
    "#View data types\n",
    "df_customers.dtypes"
   ]
  },
  {
   "cell_type": "markdown",
   "id": "4c4e9c51-1460-44b0-9edb-a94171d7cbef",
   "metadata": {},
   "source": [
    "##### No columns require changing data types"
   ]
  },
  {
   "cell_type": "markdown",
   "id": "d69f1cfd-00a9-42a2-a1e3-0bd593bc0bb1",
   "metadata": {},
   "source": [
    "# 5. Consistency checks"
   ]
  },
  {
   "cell_type": "markdown",
   "id": "3f09584a-1cfe-43fc-a0f4-93995a9b0852",
   "metadata": {},
   "source": [
    "## 5.1. Accuracy"
   ]
  },
  {
   "cell_type": "markdown",
   "id": "7ac1ab40-56b2-485c-aa7d-27b93600f700",
   "metadata": {},
   "source": [
    "### 5.1.1. View descriptive statistics"
   ]
  },
  {
   "cell_type": "code",
   "execution_count": 34,
   "id": "9324ab8d-304c-4e7c-90aa-db448361a295",
   "metadata": {},
   "outputs": [
    {
     "data": {
      "text/html": [
       "<div>\n",
       "<style scoped>\n",
       "    .dataframe tbody tr th:only-of-type {\n",
       "        vertical-align: middle;\n",
       "    }\n",
       "\n",
       "    .dataframe tbody tr th {\n",
       "        vertical-align: top;\n",
       "    }\n",
       "\n",
       "    .dataframe thead th {\n",
       "        text-align: right;\n",
       "    }\n",
       "</style>\n",
       "<table border=\"1\" class=\"dataframe\">\n",
       "  <thead>\n",
       "    <tr style=\"text-align: right;\">\n",
       "      <th></th>\n",
       "      <th>user_id</th>\n",
       "      <th>age</th>\n",
       "      <th>number_of_dependents</th>\n",
       "      <th>income</th>\n",
       "    </tr>\n",
       "  </thead>\n",
       "  <tbody>\n",
       "    <tr>\n",
       "      <th>count</th>\n",
       "      <td>206209.000000</td>\n",
       "      <td>206209.000000</td>\n",
       "      <td>206209.000000</td>\n",
       "      <td>206209.000000</td>\n",
       "    </tr>\n",
       "    <tr>\n",
       "      <th>mean</th>\n",
       "      <td>103105.000000</td>\n",
       "      <td>49.501646</td>\n",
       "      <td>1.499823</td>\n",
       "      <td>94632.852548</td>\n",
       "    </tr>\n",
       "    <tr>\n",
       "      <th>std</th>\n",
       "      <td>59527.555167</td>\n",
       "      <td>18.480962</td>\n",
       "      <td>1.118433</td>\n",
       "      <td>42473.786988</td>\n",
       "    </tr>\n",
       "    <tr>\n",
       "      <th>min</th>\n",
       "      <td>1.000000</td>\n",
       "      <td>18.000000</td>\n",
       "      <td>0.000000</td>\n",
       "      <td>25903.000000</td>\n",
       "    </tr>\n",
       "    <tr>\n",
       "      <th>25%</th>\n",
       "      <td>51553.000000</td>\n",
       "      <td>33.000000</td>\n",
       "      <td>0.000000</td>\n",
       "      <td>59874.000000</td>\n",
       "    </tr>\n",
       "    <tr>\n",
       "      <th>50%</th>\n",
       "      <td>103105.000000</td>\n",
       "      <td>49.000000</td>\n",
       "      <td>1.000000</td>\n",
       "      <td>93547.000000</td>\n",
       "    </tr>\n",
       "    <tr>\n",
       "      <th>75%</th>\n",
       "      <td>154657.000000</td>\n",
       "      <td>66.000000</td>\n",
       "      <td>3.000000</td>\n",
       "      <td>124244.000000</td>\n",
       "    </tr>\n",
       "    <tr>\n",
       "      <th>max</th>\n",
       "      <td>206209.000000</td>\n",
       "      <td>81.000000</td>\n",
       "      <td>3.000000</td>\n",
       "      <td>593901.000000</td>\n",
       "    </tr>\n",
       "  </tbody>\n",
       "</table>\n",
       "</div>"
      ],
      "text/plain": [
       "             user_id            age  number_of_dependents         income\n",
       "count  206209.000000  206209.000000         206209.000000  206209.000000\n",
       "mean   103105.000000      49.501646              1.499823   94632.852548\n",
       "std     59527.555167      18.480962              1.118433   42473.786988\n",
       "min         1.000000      18.000000              0.000000   25903.000000\n",
       "25%     51553.000000      33.000000              0.000000   59874.000000\n",
       "50%    103105.000000      49.000000              1.000000   93547.000000\n",
       "75%    154657.000000      66.000000              3.000000  124244.000000\n",
       "max    206209.000000      81.000000              3.000000  593901.000000"
      ]
     },
     "execution_count": 34,
     "metadata": {},
     "output_type": "execute_result"
    }
   ],
   "source": [
    "df_customers.describe()"
   ]
  },
  {
   "cell_type": "markdown",
   "id": "c42d54fb-c14f-4b5a-93cc-862fd93b23bf",
   "metadata": {},
   "source": [
    "##### age: Customers range between 18 and 81 years. With mean and median of 49. \n",
    "##### number_of_dependants: Range between 0 and 3 with most customers having 1 dependant. \n",
    "##### income: Customer income varies between 25903 and 593901 with average customer earning in the low 90's. Wide range in terms of income. \n",
    "##### Data set has 206209 total records which agree with number of first orders per order dataset. "
   ]
  },
  {
   "cell_type": "markdown",
   "id": "dbe71ade-071b-4e48-b781-a46749d21eb5",
   "metadata": {},
   "source": [
    "## 5.2. Missing values"
   ]
  },
  {
   "cell_type": "markdown",
   "id": "3800b0e9-aafb-4a17-820f-f712447b643b",
   "metadata": {},
   "source": [
    "### 5.2.1. Find missing values"
   ]
  },
  {
   "cell_type": "code",
   "execution_count": 38,
   "id": "75193a2b-a2c7-42e3-a70b-a1703957becf",
   "metadata": {
    "scrolled": true
   },
   "outputs": [
    {
     "data": {
      "text/plain": [
       "user_id                     0\n",
       "first_name              11259\n",
       "surname                     0\n",
       "gender                      0\n",
       "state                       0\n",
       "age                         0\n",
       "date_joined                 0\n",
       "number_of_dependents        0\n",
       "marital_status              0\n",
       "income                      0\n",
       "dtype: int64"
      ]
     },
     "execution_count": 38,
     "metadata": {},
     "output_type": "execute_result"
    }
   ],
   "source": [
    "#Find missing values\n",
    "df_customers.isnull().sum()"
   ]
  },
  {
   "cell_type": "code",
   "execution_count": 39,
   "id": "7e3707e1-28fa-4eca-b877-435eca9d91dc",
   "metadata": {},
   "outputs": [],
   "source": [
    "df_customers_nan = df_customers[df_customers['first_name']. isnull() == True]"
   ]
  },
  {
   "cell_type": "code",
   "execution_count": 40,
   "id": "22514bd7-a4b1-49a3-a0c2-ec00f9290754",
   "metadata": {},
   "outputs": [
    {
     "data": {
      "text/html": [
       "<div>\n",
       "<style scoped>\n",
       "    .dataframe tbody tr th:only-of-type {\n",
       "        vertical-align: middle;\n",
       "    }\n",
       "\n",
       "    .dataframe tbody tr th {\n",
       "        vertical-align: top;\n",
       "    }\n",
       "\n",
       "    .dataframe thead th {\n",
       "        text-align: right;\n",
       "    }\n",
       "</style>\n",
       "<table border=\"1\" class=\"dataframe\">\n",
       "  <thead>\n",
       "    <tr style=\"text-align: right;\">\n",
       "      <th></th>\n",
       "      <th>user_id</th>\n",
       "      <th>first_name</th>\n",
       "      <th>surname</th>\n",
       "      <th>gender</th>\n",
       "      <th>state</th>\n",
       "      <th>age</th>\n",
       "      <th>date_joined</th>\n",
       "      <th>number_of_dependents</th>\n",
       "      <th>marital_status</th>\n",
       "      <th>income</th>\n",
       "    </tr>\n",
       "  </thead>\n",
       "  <tbody>\n",
       "    <tr>\n",
       "      <th>53</th>\n",
       "      <td>76659</td>\n",
       "      <td>NaN</td>\n",
       "      <td>Gilbert</td>\n",
       "      <td>Male</td>\n",
       "      <td>Colorado</td>\n",
       "      <td>26</td>\n",
       "      <td>1/1/2017</td>\n",
       "      <td>2</td>\n",
       "      <td>married</td>\n",
       "      <td>41709</td>\n",
       "    </tr>\n",
       "    <tr>\n",
       "      <th>73</th>\n",
       "      <td>13738</td>\n",
       "      <td>NaN</td>\n",
       "      <td>Frost</td>\n",
       "      <td>Female</td>\n",
       "      <td>Louisiana</td>\n",
       "      <td>39</td>\n",
       "      <td>1/1/2017</td>\n",
       "      <td>0</td>\n",
       "      <td>single</td>\n",
       "      <td>82518</td>\n",
       "    </tr>\n",
       "    <tr>\n",
       "      <th>82</th>\n",
       "      <td>89996</td>\n",
       "      <td>NaN</td>\n",
       "      <td>Dawson</td>\n",
       "      <td>Female</td>\n",
       "      <td>Oregon</td>\n",
       "      <td>52</td>\n",
       "      <td>1/1/2017</td>\n",
       "      <td>3</td>\n",
       "      <td>married</td>\n",
       "      <td>117099</td>\n",
       "    </tr>\n",
       "    <tr>\n",
       "      <th>99</th>\n",
       "      <td>96166</td>\n",
       "      <td>NaN</td>\n",
       "      <td>Oconnor</td>\n",
       "      <td>Male</td>\n",
       "      <td>Oklahoma</td>\n",
       "      <td>51</td>\n",
       "      <td>1/1/2017</td>\n",
       "      <td>1</td>\n",
       "      <td>married</td>\n",
       "      <td>155673</td>\n",
       "    </tr>\n",
       "    <tr>\n",
       "      <th>105</th>\n",
       "      <td>29778</td>\n",
       "      <td>NaN</td>\n",
       "      <td>Dawson</td>\n",
       "      <td>Female</td>\n",
       "      <td>Utah</td>\n",
       "      <td>63</td>\n",
       "      <td>1/1/2017</td>\n",
       "      <td>3</td>\n",
       "      <td>married</td>\n",
       "      <td>151819</td>\n",
       "    </tr>\n",
       "    <tr>\n",
       "      <th>...</th>\n",
       "      <td>...</td>\n",
       "      <td>...</td>\n",
       "      <td>...</td>\n",
       "      <td>...</td>\n",
       "      <td>...</td>\n",
       "      <td>...</td>\n",
       "      <td>...</td>\n",
       "      <td>...</td>\n",
       "      <td>...</td>\n",
       "      <td>...</td>\n",
       "    </tr>\n",
       "    <tr>\n",
       "      <th>206038</th>\n",
       "      <td>121317</td>\n",
       "      <td>NaN</td>\n",
       "      <td>Melton</td>\n",
       "      <td>Male</td>\n",
       "      <td>Pennsylvania</td>\n",
       "      <td>28</td>\n",
       "      <td>3/31/2020</td>\n",
       "      <td>3</td>\n",
       "      <td>married</td>\n",
       "      <td>87783</td>\n",
       "    </tr>\n",
       "    <tr>\n",
       "      <th>206044</th>\n",
       "      <td>200799</td>\n",
       "      <td>NaN</td>\n",
       "      <td>Copeland</td>\n",
       "      <td>Female</td>\n",
       "      <td>Hawaii</td>\n",
       "      <td>52</td>\n",
       "      <td>4/1/2020</td>\n",
       "      <td>2</td>\n",
       "      <td>married</td>\n",
       "      <td>108488</td>\n",
       "    </tr>\n",
       "    <tr>\n",
       "      <th>206090</th>\n",
       "      <td>167394</td>\n",
       "      <td>NaN</td>\n",
       "      <td>Frost</td>\n",
       "      <td>Female</td>\n",
       "      <td>Hawaii</td>\n",
       "      <td>61</td>\n",
       "      <td>4/1/2020</td>\n",
       "      <td>1</td>\n",
       "      <td>married</td>\n",
       "      <td>45275</td>\n",
       "    </tr>\n",
       "    <tr>\n",
       "      <th>206162</th>\n",
       "      <td>187532</td>\n",
       "      <td>NaN</td>\n",
       "      <td>Floyd</td>\n",
       "      <td>Female</td>\n",
       "      <td>California</td>\n",
       "      <td>39</td>\n",
       "      <td>4/1/2020</td>\n",
       "      <td>0</td>\n",
       "      <td>single</td>\n",
       "      <td>56325</td>\n",
       "    </tr>\n",
       "    <tr>\n",
       "      <th>206171</th>\n",
       "      <td>116898</td>\n",
       "      <td>NaN</td>\n",
       "      <td>Delgado</td>\n",
       "      <td>Female</td>\n",
       "      <td>Colorado</td>\n",
       "      <td>23</td>\n",
       "      <td>4/1/2020</td>\n",
       "      <td>2</td>\n",
       "      <td>married</td>\n",
       "      <td>59222</td>\n",
       "    </tr>\n",
       "  </tbody>\n",
       "</table>\n",
       "<p>11259 rows × 10 columns</p>\n",
       "</div>"
      ],
      "text/plain": [
       "        user_id first_name   surname  gender         state  age date_joined  \\\n",
       "53        76659        NaN   Gilbert    Male      Colorado   26    1/1/2017   \n",
       "73        13738        NaN     Frost  Female     Louisiana   39    1/1/2017   \n",
       "82        89996        NaN    Dawson  Female        Oregon   52    1/1/2017   \n",
       "99        96166        NaN   Oconnor    Male      Oklahoma   51    1/1/2017   \n",
       "105       29778        NaN    Dawson  Female          Utah   63    1/1/2017   \n",
       "...         ...        ...       ...     ...           ...  ...         ...   \n",
       "206038   121317        NaN    Melton    Male  Pennsylvania   28   3/31/2020   \n",
       "206044   200799        NaN  Copeland  Female        Hawaii   52    4/1/2020   \n",
       "206090   167394        NaN     Frost  Female        Hawaii   61    4/1/2020   \n",
       "206162   187532        NaN     Floyd  Female    California   39    4/1/2020   \n",
       "206171   116898        NaN   Delgado  Female      Colorado   23    4/1/2020   \n",
       "\n",
       "        number_of_dependents marital_status  income  \n",
       "53                         2        married   41709  \n",
       "73                         0         single   82518  \n",
       "82                         3        married  117099  \n",
       "99                         1        married  155673  \n",
       "105                        3        married  151819  \n",
       "...                      ...            ...     ...  \n",
       "206038                     3        married   87783  \n",
       "206044                     2        married  108488  \n",
       "206090                     1        married   45275  \n",
       "206162                     0         single   56325  \n",
       "206171                     2        married   59222  \n",
       "\n",
       "[11259 rows x 10 columns]"
      ]
     },
     "execution_count": 40,
     "metadata": {},
     "output_type": "execute_result"
    }
   ],
   "source": [
    "#View results\n",
    "df_customers_nan"
   ]
  },
  {
   "cell_type": "markdown",
   "id": "74825d60-0aec-4c61-955e-bded5f223bfc",
   "metadata": {},
   "source": [
    "### 5.2.2 Address missing values"
   ]
  },
  {
   "cell_type": "markdown",
   "id": "3d6d1fd0-f8d5-4c9a-9133-3ea80c324c62",
   "metadata": {},
   "source": [
    "##### The first_name column contains 11259 null values. Non vital information and not enough records to validate deletion. No need to add a flag column and cannot substitue with measures of central tendancy as it is categorical.\n",
    "##### No other columns identified for deletion at this stage."
   ]
  },
  {
   "cell_type": "markdown",
   "id": "2352af69-bb14-430f-ac28-3f7ab1d32216",
   "metadata": {},
   "source": [
    "## 5.3. Duplicates"
   ]
  },
  {
   "cell_type": "markdown",
   "id": "4f97f1f8-6166-41d2-becc-2fe28ffff561",
   "metadata": {},
   "source": [
    "### 5.3.1. Find duplicates"
   ]
  },
  {
   "cell_type": "code",
   "execution_count": 45,
   "id": "3d5c12ce-7f31-4240-9acf-a01e30fb60eb",
   "metadata": {},
   "outputs": [],
   "source": [
    "#Find duplicates and create subset with the results\n",
    "df_customers_duplicates = df_customers[df_customers.duplicated()]"
   ]
  },
  {
   "cell_type": "code",
   "execution_count": 46,
   "id": "7c8c9178-67c5-4387-8925-aaaac05f148c",
   "metadata": {},
   "outputs": [
    {
     "data": {
      "text/html": [
       "<div>\n",
       "<style scoped>\n",
       "    .dataframe tbody tr th:only-of-type {\n",
       "        vertical-align: middle;\n",
       "    }\n",
       "\n",
       "    .dataframe tbody tr th {\n",
       "        vertical-align: top;\n",
       "    }\n",
       "\n",
       "    .dataframe thead th {\n",
       "        text-align: right;\n",
       "    }\n",
       "</style>\n",
       "<table border=\"1\" class=\"dataframe\">\n",
       "  <thead>\n",
       "    <tr style=\"text-align: right;\">\n",
       "      <th></th>\n",
       "      <th>user_id</th>\n",
       "      <th>first_name</th>\n",
       "      <th>surname</th>\n",
       "      <th>gender</th>\n",
       "      <th>state</th>\n",
       "      <th>age</th>\n",
       "      <th>date_joined</th>\n",
       "      <th>number_of_dependents</th>\n",
       "      <th>marital_status</th>\n",
       "      <th>income</th>\n",
       "    </tr>\n",
       "  </thead>\n",
       "  <tbody>\n",
       "  </tbody>\n",
       "</table>\n",
       "</div>"
      ],
      "text/plain": [
       "Empty DataFrame\n",
       "Columns: [user_id, first_name, surname, gender, state, age, date_joined, number_of_dependents, marital_status, income]\n",
       "Index: []"
      ]
     },
     "execution_count": 46,
     "metadata": {},
     "output_type": "execute_result"
    }
   ],
   "source": [
    "#View results\n",
    "df_customers_duplicates"
   ]
  },
  {
   "cell_type": "code",
   "execution_count": 47,
   "id": "37ebc8f5-0bf4-491f-ab9e-dc2c0c69d644",
   "metadata": {},
   "outputs": [
    {
     "data": {
      "text/plain": [
       "(0, 10)"
      ]
     },
     "execution_count": 47,
     "metadata": {},
     "output_type": "execute_result"
    }
   ],
   "source": [
    "#Get the dimensions of the subset\n",
    "df_customers_duplicates.shape"
   ]
  },
  {
   "cell_type": "markdown",
   "id": "0bcb219a-bcdb-4f7b-a109-2448f44d20f2",
   "metadata": {},
   "source": [
    "### 5.3.2. Address duplicates"
   ]
  },
  {
   "cell_type": "markdown",
   "id": "3710ae75-06d5-43ed-944b-bb1c5d844f01",
   "metadata": {},
   "source": [
    "##### No duplicates identified"
   ]
  },
  {
   "cell_type": "markdown",
   "id": "ab5ada56-8ed6-49a4-a1cc-5d89924e3914",
   "metadata": {},
   "source": [
    "## 5.4. Mixed-type data"
   ]
  },
  {
   "cell_type": "markdown",
   "id": "cb821f6c-aab8-4095-ae47-2333672b6b50",
   "metadata": {},
   "source": [
    "### 5.4.1. Find mixed-type data"
   ]
  },
  {
   "cell_type": "code",
   "execution_count": 52,
   "id": "addae628-93d6-44f3-a807-bc1dfaf595c6",
   "metadata": {},
   "outputs": [
    {
     "name": "stdout",
     "output_type": "stream",
     "text": [
      "first_name\n"
     ]
    }
   ],
   "source": [
    "for col in df_customers.columns.tolist():\n",
    "    weird = (df_customers[[col]].map(type) != df_customers[[col]].iloc[0].apply(type)).any(axis = 1)\n",
    "    if len (df_customers[weird]) > 0:\n",
    "        print (col)"
   ]
  },
  {
   "cell_type": "code",
   "execution_count": 53,
   "id": "255a4631-0e44-4a03-8345-b954a431410b",
   "metadata": {},
   "outputs": [
    {
     "data": {
      "text/plain": [
       "user_id                  int64\n",
       "first_name              object\n",
       "surname                 object\n",
       "gender                  object\n",
       "state                   object\n",
       "age                      int64\n",
       "date_joined             object\n",
       "number_of_dependents     int64\n",
       "marital_status          object\n",
       "income                   int64\n",
       "dtype: object"
      ]
     },
     "execution_count": 53,
     "metadata": {},
     "output_type": "execute_result"
    }
   ],
   "source": [
    "#Return the data types of each column in the dataframe\n",
    "df_customers.dtypes"
   ]
  },
  {
   "cell_type": "code",
   "execution_count": 54,
   "id": "d022e2b9-0c17-4050-92f1-3f73397a872e",
   "metadata": {},
   "outputs": [],
   "source": [
    "#Change data type of mix column to string and update the dataframe with results\n",
    "df_customers['first_name'] = df_customers['first_name'].astype('str')"
   ]
  },
  {
   "cell_type": "markdown",
   "id": "98414ddf-8bd6-462c-a4c9-1f182a36525a",
   "metadata": {},
   "source": [
    "### 5.4.2. Address mixed-type data"
   ]
  },
  {
   "cell_type": "markdown",
   "id": "00807bb7-c3a2-4965-a6ca-74c11b0156a1",
   "metadata": {},
   "source": [
    "##### The first_name column was returned due to null values. No need to change data type"
   ]
  },
  {
   "cell_type": "markdown",
   "id": "524f3ac8-43ad-4ffe-a207-95a5b52a7a7a",
   "metadata": {},
   "source": [
    "# 6. Merge dataframes"
   ]
  },
  {
   "cell_type": "code",
   "execution_count": 58,
   "id": "78792726-47a8-49d6-aade-787e072ee277",
   "metadata": {},
   "outputs": [
    {
     "data": {
      "text/html": [
       "<div>\n",
       "<style scoped>\n",
       "    .dataframe tbody tr th:only-of-type {\n",
       "        vertical-align: middle;\n",
       "    }\n",
       "\n",
       "    .dataframe tbody tr th {\n",
       "        vertical-align: top;\n",
       "    }\n",
       "\n",
       "    .dataframe thead th {\n",
       "        text-align: right;\n",
       "    }\n",
       "</style>\n",
       "<table border=\"1\" class=\"dataframe\">\n",
       "  <thead>\n",
       "    <tr style=\"text-align: right;\">\n",
       "      <th></th>\n",
       "      <th>user_id</th>\n",
       "      <th>first_name</th>\n",
       "      <th>surname</th>\n",
       "      <th>gender</th>\n",
       "      <th>state</th>\n",
       "      <th>age</th>\n",
       "      <th>date_joined</th>\n",
       "      <th>number_of_dependents</th>\n",
       "      <th>marital_status</th>\n",
       "      <th>income</th>\n",
       "    </tr>\n",
       "  </thead>\n",
       "  <tbody>\n",
       "    <tr>\n",
       "      <th>0</th>\n",
       "      <td>26711</td>\n",
       "      <td>Deborah</td>\n",
       "      <td>Esquivel</td>\n",
       "      <td>Female</td>\n",
       "      <td>Missouri</td>\n",
       "      <td>48</td>\n",
       "      <td>1/1/2017</td>\n",
       "      <td>3</td>\n",
       "      <td>married</td>\n",
       "      <td>165665</td>\n",
       "    </tr>\n",
       "    <tr>\n",
       "      <th>1</th>\n",
       "      <td>33890</td>\n",
       "      <td>Patricia</td>\n",
       "      <td>Hart</td>\n",
       "      <td>Female</td>\n",
       "      <td>New Mexico</td>\n",
       "      <td>36</td>\n",
       "      <td>1/1/2017</td>\n",
       "      <td>0</td>\n",
       "      <td>single</td>\n",
       "      <td>59285</td>\n",
       "    </tr>\n",
       "    <tr>\n",
       "      <th>2</th>\n",
       "      <td>65803</td>\n",
       "      <td>Kenneth</td>\n",
       "      <td>Farley</td>\n",
       "      <td>Male</td>\n",
       "      <td>Idaho</td>\n",
       "      <td>35</td>\n",
       "      <td>1/1/2017</td>\n",
       "      <td>2</td>\n",
       "      <td>married</td>\n",
       "      <td>99568</td>\n",
       "    </tr>\n",
       "    <tr>\n",
       "      <th>3</th>\n",
       "      <td>125935</td>\n",
       "      <td>Michelle</td>\n",
       "      <td>Hicks</td>\n",
       "      <td>Female</td>\n",
       "      <td>Iowa</td>\n",
       "      <td>40</td>\n",
       "      <td>1/1/2017</td>\n",
       "      <td>0</td>\n",
       "      <td>single</td>\n",
       "      <td>42049</td>\n",
       "    </tr>\n",
       "    <tr>\n",
       "      <th>4</th>\n",
       "      <td>130797</td>\n",
       "      <td>Ann</td>\n",
       "      <td>Gilmore</td>\n",
       "      <td>Female</td>\n",
       "      <td>Maryland</td>\n",
       "      <td>26</td>\n",
       "      <td>1/1/2017</td>\n",
       "      <td>1</td>\n",
       "      <td>married</td>\n",
       "      <td>40374</td>\n",
       "    </tr>\n",
       "  </tbody>\n",
       "</table>\n",
       "</div>"
      ],
      "text/plain": [
       "   user_id first_name   surname  gender       state  age date_joined  \\\n",
       "0    26711    Deborah  Esquivel  Female    Missouri   48    1/1/2017   \n",
       "1    33890   Patricia      Hart  Female  New Mexico   36    1/1/2017   \n",
       "2    65803    Kenneth    Farley    Male       Idaho   35    1/1/2017   \n",
       "3   125935   Michelle     Hicks  Female        Iowa   40    1/1/2017   \n",
       "4   130797        Ann   Gilmore  Female    Maryland   26    1/1/2017   \n",
       "\n",
       "   number_of_dependents marital_status  income  \n",
       "0                     3        married  165665  \n",
       "1                     0         single   59285  \n",
       "2                     2        married   99568  \n",
       "3                     0         single   42049  \n",
       "4                     1        married   40374  "
      ]
     },
     "execution_count": 58,
     "metadata": {},
     "output_type": "execute_result"
    }
   ],
   "source": [
    "#Display the first 5 rows of the dataframe\n",
    "df_customers.head()"
   ]
  },
  {
   "cell_type": "code",
   "execution_count": 59,
   "id": "8ba75f22-86fb-475e-b9f4-11940ab6948b",
   "metadata": {},
   "outputs": [
    {
     "data": {
      "text/html": [
       "<div>\n",
       "<style scoped>\n",
       "    .dataframe tbody tr th:only-of-type {\n",
       "        vertical-align: middle;\n",
       "    }\n",
       "\n",
       "    .dataframe tbody tr th {\n",
       "        vertical-align: top;\n",
       "    }\n",
       "\n",
       "    .dataframe thead th {\n",
       "        text-align: right;\n",
       "    }\n",
       "</style>\n",
       "<table border=\"1\" class=\"dataframe\">\n",
       "  <thead>\n",
       "    <tr style=\"text-align: right;\">\n",
       "      <th></th>\n",
       "      <th>order_id</th>\n",
       "      <th>user_id</th>\n",
       "      <th>user_order_number</th>\n",
       "      <th>orders_day_of_week</th>\n",
       "      <th>order_hour_of_day</th>\n",
       "      <th>days_since_prior_order</th>\n",
       "      <th>first_order</th>\n",
       "      <th>product_id</th>\n",
       "      <th>add_to_cart_order</th>\n",
       "      <th>reordered</th>\n",
       "      <th>...</th>\n",
       "      <th>price_label</th>\n",
       "      <th>busiest_day</th>\n",
       "      <th>busiest_days</th>\n",
       "      <th>busiest_hours</th>\n",
       "      <th>max_order</th>\n",
       "      <th>loyalty_flag</th>\n",
       "      <th>avg_price</th>\n",
       "      <th>spending_flag</th>\n",
       "      <th>median_days</th>\n",
       "      <th>frequency_flag</th>\n",
       "    </tr>\n",
       "  </thead>\n",
       "  <tbody>\n",
       "    <tr>\n",
       "      <th>0</th>\n",
       "      <td>2539329</td>\n",
       "      <td>1</td>\n",
       "      <td>1</td>\n",
       "      <td>2</td>\n",
       "      <td>8</td>\n",
       "      <td>NaN</td>\n",
       "      <td>True</td>\n",
       "      <td>196</td>\n",
       "      <td>1</td>\n",
       "      <td>0</td>\n",
       "      <td>...</td>\n",
       "      <td>Mid-range product</td>\n",
       "      <td>Regularly busy</td>\n",
       "      <td>Regularly busy</td>\n",
       "      <td>Average orders</td>\n",
       "      <td>10</td>\n",
       "      <td>New customer</td>\n",
       "      <td>6.367797</td>\n",
       "      <td>Low spender</td>\n",
       "      <td>20.5</td>\n",
       "      <td>Non-frequent customer</td>\n",
       "    </tr>\n",
       "    <tr>\n",
       "      <th>1</th>\n",
       "      <td>2539329</td>\n",
       "      <td>1</td>\n",
       "      <td>1</td>\n",
       "      <td>2</td>\n",
       "      <td>8</td>\n",
       "      <td>NaN</td>\n",
       "      <td>True</td>\n",
       "      <td>14084</td>\n",
       "      <td>2</td>\n",
       "      <td>0</td>\n",
       "      <td>...</td>\n",
       "      <td>Mid-range product</td>\n",
       "      <td>Regularly busy</td>\n",
       "      <td>Regularly busy</td>\n",
       "      <td>Average orders</td>\n",
       "      <td>10</td>\n",
       "      <td>New customer</td>\n",
       "      <td>6.367797</td>\n",
       "      <td>Low spender</td>\n",
       "      <td>20.5</td>\n",
       "      <td>Non-frequent customer</td>\n",
       "    </tr>\n",
       "    <tr>\n",
       "      <th>2</th>\n",
       "      <td>2539329</td>\n",
       "      <td>1</td>\n",
       "      <td>1</td>\n",
       "      <td>2</td>\n",
       "      <td>8</td>\n",
       "      <td>NaN</td>\n",
       "      <td>True</td>\n",
       "      <td>12427</td>\n",
       "      <td>3</td>\n",
       "      <td>0</td>\n",
       "      <td>...</td>\n",
       "      <td>Low-range product</td>\n",
       "      <td>Regularly busy</td>\n",
       "      <td>Regularly busy</td>\n",
       "      <td>Average orders</td>\n",
       "      <td>10</td>\n",
       "      <td>New customer</td>\n",
       "      <td>6.367797</td>\n",
       "      <td>Low spender</td>\n",
       "      <td>20.5</td>\n",
       "      <td>Non-frequent customer</td>\n",
       "    </tr>\n",
       "    <tr>\n",
       "      <th>3</th>\n",
       "      <td>2539329</td>\n",
       "      <td>1</td>\n",
       "      <td>1</td>\n",
       "      <td>2</td>\n",
       "      <td>8</td>\n",
       "      <td>NaN</td>\n",
       "      <td>True</td>\n",
       "      <td>26088</td>\n",
       "      <td>4</td>\n",
       "      <td>0</td>\n",
       "      <td>...</td>\n",
       "      <td>Low-range product</td>\n",
       "      <td>Regularly busy</td>\n",
       "      <td>Regularly busy</td>\n",
       "      <td>Average orders</td>\n",
       "      <td>10</td>\n",
       "      <td>New customer</td>\n",
       "      <td>6.367797</td>\n",
       "      <td>Low spender</td>\n",
       "      <td>20.5</td>\n",
       "      <td>Non-frequent customer</td>\n",
       "    </tr>\n",
       "    <tr>\n",
       "      <th>4</th>\n",
       "      <td>2539329</td>\n",
       "      <td>1</td>\n",
       "      <td>1</td>\n",
       "      <td>2</td>\n",
       "      <td>8</td>\n",
       "      <td>NaN</td>\n",
       "      <td>True</td>\n",
       "      <td>26405</td>\n",
       "      <td>5</td>\n",
       "      <td>0</td>\n",
       "      <td>...</td>\n",
       "      <td>Low-range product</td>\n",
       "      <td>Regularly busy</td>\n",
       "      <td>Regularly busy</td>\n",
       "      <td>Average orders</td>\n",
       "      <td>10</td>\n",
       "      <td>New customer</td>\n",
       "      <td>6.367797</td>\n",
       "      <td>Low spender</td>\n",
       "      <td>20.5</td>\n",
       "      <td>Non-frequent customer</td>\n",
       "    </tr>\n",
       "  </tbody>\n",
       "</table>\n",
       "<p>5 rows × 24 columns</p>\n",
       "</div>"
      ],
      "text/plain": [
       "   order_id  user_id  user_order_number  orders_day_of_week  \\\n",
       "0   2539329        1                  1                   2   \n",
       "1   2539329        1                  1                   2   \n",
       "2   2539329        1                  1                   2   \n",
       "3   2539329        1                  1                   2   \n",
       "4   2539329        1                  1                   2   \n",
       "\n",
       "   order_hour_of_day  days_since_prior_order  first_order  product_id  \\\n",
       "0                  8                     NaN         True         196   \n",
       "1                  8                     NaN         True       14084   \n",
       "2                  8                     NaN         True       12427   \n",
       "3                  8                     NaN         True       26088   \n",
       "4                  8                     NaN         True       26405   \n",
       "\n",
       "   add_to_cart_order  reordered  ...        price_label     busiest_day  \\\n",
       "0                  1          0  ...  Mid-range product  Regularly busy   \n",
       "1                  2          0  ...  Mid-range product  Regularly busy   \n",
       "2                  3          0  ...  Low-range product  Regularly busy   \n",
       "3                  4          0  ...  Low-range product  Regularly busy   \n",
       "4                  5          0  ...  Low-range product  Regularly busy   \n",
       "\n",
       "     busiest_days   busiest_hours max_order  loyalty_flag avg_price  \\\n",
       "0  Regularly busy  Average orders        10  New customer  6.367797   \n",
       "1  Regularly busy  Average orders        10  New customer  6.367797   \n",
       "2  Regularly busy  Average orders        10  New customer  6.367797   \n",
       "3  Regularly busy  Average orders        10  New customer  6.367797   \n",
       "4  Regularly busy  Average orders        10  New customer  6.367797   \n",
       "\n",
       "  spending_flag  median_days         frequency_flag  \n",
       "0   Low spender         20.5  Non-frequent customer  \n",
       "1   Low spender         20.5  Non-frequent customer  \n",
       "2   Low spender         20.5  Non-frequent customer  \n",
       "3   Low spender         20.5  Non-frequent customer  \n",
       "4   Low spender         20.5  Non-frequent customer  \n",
       "\n",
       "[5 rows x 24 columns]"
      ]
     },
     "execution_count": 59,
     "metadata": {},
     "output_type": "execute_result"
    }
   ],
   "source": [
    "#Display the first 5 rows of the dataframe\n",
    "df_orders_products_merged.head()"
   ]
  },
  {
   "cell_type": "code",
   "execution_count": 60,
   "id": "10072ac6-e700-4535-8fb7-8f43693186ac",
   "metadata": {},
   "outputs": [],
   "source": [
    "#Merge dataframes using order_id and inner join while adding a merge flag\n",
    "df_final_merged = df_orders_products_merged.merge(df_customers, on = 'user_id', indicator = True)"
   ]
  },
  {
   "cell_type": "code",
   "execution_count": 61,
   "id": "65abdef4-6ccf-4b65-b022-9782cefde8e2",
   "metadata": {},
   "outputs": [
    {
     "data": {
      "text/plain": [
       "_merge\n",
       "both          32404859\n",
       "left_only            0\n",
       "right_only           0\n",
       "Name: count, dtype: int64"
      ]
     },
     "execution_count": 61,
     "metadata": {},
     "output_type": "execute_result"
    }
   ],
   "source": [
    "#Check merge rate\n",
    "df_final_merged['_merge'].value_counts()"
   ]
  },
  {
   "cell_type": "code",
   "execution_count": 62,
   "id": "9032f05f-8aa2-4b0c-95af-45e42c80eea4",
   "metadata": {},
   "outputs": [
    {
     "data": {
      "text/plain": [
       "(32404859, 34)"
      ]
     },
     "execution_count": 62,
     "metadata": {},
     "output_type": "execute_result"
    }
   ],
   "source": [
    "#Get the dimensions of the dataframe\n",
    "df_final_merged.shape"
   ]
  },
  {
   "cell_type": "code",
   "execution_count": 63,
   "id": "54f3cc47-b6ea-4fdd-b972-ed659be3bc26",
   "metadata": {},
   "outputs": [
    {
     "data": {
      "text/html": [
       "<div>\n",
       "<style scoped>\n",
       "    .dataframe tbody tr th:only-of-type {\n",
       "        vertical-align: middle;\n",
       "    }\n",
       "\n",
       "    .dataframe tbody tr th {\n",
       "        vertical-align: top;\n",
       "    }\n",
       "\n",
       "    .dataframe thead th {\n",
       "        text-align: right;\n",
       "    }\n",
       "</style>\n",
       "<table border=\"1\" class=\"dataframe\">\n",
       "  <thead>\n",
       "    <tr style=\"text-align: right;\">\n",
       "      <th></th>\n",
       "      <th>order_id</th>\n",
       "      <th>user_id</th>\n",
       "      <th>user_order_number</th>\n",
       "      <th>orders_day_of_week</th>\n",
       "      <th>order_hour_of_day</th>\n",
       "      <th>days_since_prior_order</th>\n",
       "      <th>first_order</th>\n",
       "      <th>product_id</th>\n",
       "      <th>add_to_cart_order</th>\n",
       "      <th>reordered</th>\n",
       "      <th>...</th>\n",
       "      <th>first_name</th>\n",
       "      <th>surname</th>\n",
       "      <th>gender</th>\n",
       "      <th>state</th>\n",
       "      <th>age</th>\n",
       "      <th>date_joined</th>\n",
       "      <th>number_of_dependents</th>\n",
       "      <th>marital_status</th>\n",
       "      <th>income</th>\n",
       "      <th>_merge</th>\n",
       "    </tr>\n",
       "  </thead>\n",
       "  <tbody>\n",
       "    <tr>\n",
       "      <th>0</th>\n",
       "      <td>2539329</td>\n",
       "      <td>1</td>\n",
       "      <td>1</td>\n",
       "      <td>2</td>\n",
       "      <td>8</td>\n",
       "      <td>NaN</td>\n",
       "      <td>True</td>\n",
       "      <td>196</td>\n",
       "      <td>1</td>\n",
       "      <td>0</td>\n",
       "      <td>...</td>\n",
       "      <td>Linda</td>\n",
       "      <td>Nguyen</td>\n",
       "      <td>Female</td>\n",
       "      <td>Alabama</td>\n",
       "      <td>31</td>\n",
       "      <td>2/17/2019</td>\n",
       "      <td>3</td>\n",
       "      <td>married</td>\n",
       "      <td>40423</td>\n",
       "      <td>both</td>\n",
       "    </tr>\n",
       "    <tr>\n",
       "      <th>1</th>\n",
       "      <td>2539329</td>\n",
       "      <td>1</td>\n",
       "      <td>1</td>\n",
       "      <td>2</td>\n",
       "      <td>8</td>\n",
       "      <td>NaN</td>\n",
       "      <td>True</td>\n",
       "      <td>14084</td>\n",
       "      <td>2</td>\n",
       "      <td>0</td>\n",
       "      <td>...</td>\n",
       "      <td>Linda</td>\n",
       "      <td>Nguyen</td>\n",
       "      <td>Female</td>\n",
       "      <td>Alabama</td>\n",
       "      <td>31</td>\n",
       "      <td>2/17/2019</td>\n",
       "      <td>3</td>\n",
       "      <td>married</td>\n",
       "      <td>40423</td>\n",
       "      <td>both</td>\n",
       "    </tr>\n",
       "    <tr>\n",
       "      <th>2</th>\n",
       "      <td>2539329</td>\n",
       "      <td>1</td>\n",
       "      <td>1</td>\n",
       "      <td>2</td>\n",
       "      <td>8</td>\n",
       "      <td>NaN</td>\n",
       "      <td>True</td>\n",
       "      <td>12427</td>\n",
       "      <td>3</td>\n",
       "      <td>0</td>\n",
       "      <td>...</td>\n",
       "      <td>Linda</td>\n",
       "      <td>Nguyen</td>\n",
       "      <td>Female</td>\n",
       "      <td>Alabama</td>\n",
       "      <td>31</td>\n",
       "      <td>2/17/2019</td>\n",
       "      <td>3</td>\n",
       "      <td>married</td>\n",
       "      <td>40423</td>\n",
       "      <td>both</td>\n",
       "    </tr>\n",
       "    <tr>\n",
       "      <th>3</th>\n",
       "      <td>2539329</td>\n",
       "      <td>1</td>\n",
       "      <td>1</td>\n",
       "      <td>2</td>\n",
       "      <td>8</td>\n",
       "      <td>NaN</td>\n",
       "      <td>True</td>\n",
       "      <td>26088</td>\n",
       "      <td>4</td>\n",
       "      <td>0</td>\n",
       "      <td>...</td>\n",
       "      <td>Linda</td>\n",
       "      <td>Nguyen</td>\n",
       "      <td>Female</td>\n",
       "      <td>Alabama</td>\n",
       "      <td>31</td>\n",
       "      <td>2/17/2019</td>\n",
       "      <td>3</td>\n",
       "      <td>married</td>\n",
       "      <td>40423</td>\n",
       "      <td>both</td>\n",
       "    </tr>\n",
       "    <tr>\n",
       "      <th>4</th>\n",
       "      <td>2539329</td>\n",
       "      <td>1</td>\n",
       "      <td>1</td>\n",
       "      <td>2</td>\n",
       "      <td>8</td>\n",
       "      <td>NaN</td>\n",
       "      <td>True</td>\n",
       "      <td>26405</td>\n",
       "      <td>5</td>\n",
       "      <td>0</td>\n",
       "      <td>...</td>\n",
       "      <td>Linda</td>\n",
       "      <td>Nguyen</td>\n",
       "      <td>Female</td>\n",
       "      <td>Alabama</td>\n",
       "      <td>31</td>\n",
       "      <td>2/17/2019</td>\n",
       "      <td>3</td>\n",
       "      <td>married</td>\n",
       "      <td>40423</td>\n",
       "      <td>both</td>\n",
       "    </tr>\n",
       "  </tbody>\n",
       "</table>\n",
       "<p>5 rows × 34 columns</p>\n",
       "</div>"
      ],
      "text/plain": [
       "   order_id  user_id  user_order_number  orders_day_of_week  \\\n",
       "0   2539329        1                  1                   2   \n",
       "1   2539329        1                  1                   2   \n",
       "2   2539329        1                  1                   2   \n",
       "3   2539329        1                  1                   2   \n",
       "4   2539329        1                  1                   2   \n",
       "\n",
       "   order_hour_of_day  days_since_prior_order  first_order  product_id  \\\n",
       "0                  8                     NaN         True         196   \n",
       "1                  8                     NaN         True       14084   \n",
       "2                  8                     NaN         True       12427   \n",
       "3                  8                     NaN         True       26088   \n",
       "4                  8                     NaN         True       26405   \n",
       "\n",
       "   add_to_cart_order  reordered  ... first_name  surname  gender    state age  \\\n",
       "0                  1          0  ...      Linda   Nguyen  Female  Alabama  31   \n",
       "1                  2          0  ...      Linda   Nguyen  Female  Alabama  31   \n",
       "2                  3          0  ...      Linda   Nguyen  Female  Alabama  31   \n",
       "3                  4          0  ...      Linda   Nguyen  Female  Alabama  31   \n",
       "4                  5          0  ...      Linda   Nguyen  Female  Alabama  31   \n",
       "\n",
       "  date_joined number_of_dependents marital_status  income _merge  \n",
       "0   2/17/2019                    3        married   40423   both  \n",
       "1   2/17/2019                    3        married   40423   both  \n",
       "2   2/17/2019                    3        married   40423   both  \n",
       "3   2/17/2019                    3        married   40423   both  \n",
       "4   2/17/2019                    3        married   40423   both  \n",
       "\n",
       "[5 rows x 34 columns]"
      ]
     },
     "execution_count": 63,
     "metadata": {},
     "output_type": "execute_result"
    }
   ],
   "source": [
    "#Display the first 5 rows of the dataframe\n",
    "df_final_merged.head()"
   ]
  },
  {
   "cell_type": "markdown",
   "id": "90c213d3-05ef-490b-b159-3ffce8d56515",
   "metadata": {},
   "source": [
    "# 7. Export dataframe"
   ]
  },
  {
   "cell_type": "code",
   "execution_count": 65,
   "id": "2ca8e6d8-d31e-49f3-94da-351137ec368a",
   "metadata": {},
   "outputs": [],
   "source": [
    "#Drop merge flag\n",
    "df_final_merged = df_final_merged.drop(columns = ['_merge'])"
   ]
  },
  {
   "cell_type": "code",
   "execution_count": 66,
   "id": "f9d28a06-df0a-4fb4-80a6-52ed6cf80f73",
   "metadata": {},
   "outputs": [
    {
     "data": {
      "text/plain": [
       "(32404859, 33)"
      ]
     },
     "execution_count": 66,
     "metadata": {},
     "output_type": "execute_result"
    }
   ],
   "source": [
    "#Check dimensions of the dataframe\n",
    "df_final_merged.shape"
   ]
  },
  {
   "cell_type": "code",
   "execution_count": 67,
   "id": "719c4cc0-9621-4686-a284-345f0ff4c83f",
   "metadata": {},
   "outputs": [],
   "source": [
    "#Export dataframe\n",
    "df_final_merged.to_pickle(os.path.join(path, '02 - Data','Prepared Data', '09_final_merged.pkl'))"
   ]
  },
  {
   "cell_type": "markdown",
   "id": "48bb6707-6faf-41fc-a5b9-7eb5c26fe07b",
   "metadata": {},
   "source": [
    "# Task"
   ]
  },
  {
   "cell_type": "markdown",
   "id": "ba6aff41-2dc8-4f55-b939-96bc6d70bc78",
   "metadata": {},
   "source": [
    "## 1. Download dataset\n",
    "Download the customer data set and add it to your “Original Data” folder."
   ]
  },
  {
   "cell_type": "markdown",
   "id": "2c9c8c7b-3923-4970-960b-0183241f445e",
   "metadata": {},
   "source": [
    "##### Data downloaded"
   ]
  },
  {
   "cell_type": "markdown",
   "id": "d974da0a-aabc-446a-a7d0-7edd6541d0fc",
   "metadata": {},
   "source": [
    "## 2. Create notebook\n",
    "Create a new notebook in your “Scripts” folder for part 1 of this task."
   ]
  },
  {
   "cell_type": "markdown",
   "id": "6a596ded-2b15-4825-a91a-9d508dc1ff88",
   "metadata": {},
   "source": [
    "##### Notebook created"
   ]
  },
  {
   "cell_type": "markdown",
   "id": "24a0b712-c023-44bd-99fd-5f085cf764ab",
   "metadata": {},
   "source": [
    "## 3. Importing libraries\n",
    "Import your analysis libraries, as well as your new customer data set as a dataframe."
   ]
  },
  {
   "cell_type": "markdown",
   "id": "05e9ed2a-2cef-4e73-8a1a-843e5b1af66b",
   "metadata": {},
   "source": [
    "##### Refer: 1. Import libraries\n",
    "##### Refer: 2. Import datasets"
   ]
  },
  {
   "cell_type": "markdown",
   "id": "4dddff3d-943d-45b0-89ba-d3cd6c125a28",
   "metadata": {},
   "source": [
    "## 4. Data wrangling\n",
    "Wrangle the data so that it follows consistent logic; for example, rename columns with illogical names and drop columns that don’t add anything to your analysis."
   ]
  },
  {
   "cell_type": "markdown",
   "id": "9b12769e-a195-4277-b1a0-140f2b44cfb4",
   "metadata": {},
   "source": [
    "##### Refer: 4. Data wrangling"
   ]
  },
  {
   "cell_type": "markdown",
   "id": "a235decf-a54f-47fd-a261-e8560b90143b",
   "metadata": {},
   "source": [
    "## 5. Quality and consistency checks\n",
    "Complete the fundamental data quality and consistency checks you’ve learned throughout this Achievement; for example, check for and address missing values and duplicates, and convert any mixed-type data."
   ]
  },
  {
   "cell_type": "markdown",
   "id": "f0876511-7419-4aa1-a1df-ab9a88b93fed",
   "metadata": {},
   "source": [
    "##### Refer: 5. Consistency checks"
   ]
  },
  {
   "cell_type": "markdown",
   "id": "d1cfccd1-8705-45a9-a0d6-2f7ed8b6e494",
   "metadata": {},
   "source": [
    "## 6. Combine data\n",
    "Combine your customer data with the rest of your prepared Instacart data. (Hint: Make sure the key columns are the same data type!)"
   ]
  },
  {
   "cell_type": "markdown",
   "id": "aa997775-4915-4d02-aa17-ec1f0accc723",
   "metadata": {},
   "source": [
    "##### Refer: 6. Merge dataframes"
   ]
  },
  {
   "cell_type": "markdown",
   "id": "a85fb272-b532-4538-94ec-6a62fa8a2fb9",
   "metadata": {},
   "source": [
    "## 7. Check notebook\n",
    "Ensure your notebook contains logical titles, section headings, and descriptive code comments."
   ]
  },
  {
   "cell_type": "markdown",
   "id": "a2fbd8e5-a6bd-4375-9045-4b277986eaac",
   "metadata": {},
   "source": [
    "##### Checked notebook, included section headings and code comments"
   ]
  },
  {
   "cell_type": "markdown",
   "id": "5f4d6268-5812-43af-af9f-42673d640682",
   "metadata": {},
   "source": [
    "## 8. Export dataframe\n",
    "Export this new dataframe as a pickle file so you can continue to use it in the second part of this task."
   ]
  },
  {
   "cell_type": "markdown",
   "id": "c2a0e5a1-4632-4a49-ba29-78703f7359cd",
   "metadata": {},
   "source": [
    "##### Refer: 7. Export dataframe"
   ]
  },
  {
   "cell_type": "markdown",
   "id": "198e3e99-6345-4d6e-bd2d-e07f3a1ff4cc",
   "metadata": {},
   "source": [
    "## 9. Save & submit\n",
    "Save your notebook so that you can send it to your tutor for review after completing part 2."
   ]
  },
  {
   "cell_type": "markdown",
   "id": "1d5acae5-fef9-4443-85b9-3f67ded04ebe",
   "metadata": {},
   "source": [
    "##### Notebook saved and submitted"
   ]
  }
 ],
 "metadata": {
  "kernelspec": {
   "display_name": "Python 3 (ipykernel)",
   "language": "python",
   "name": "python3"
  },
  "language_info": {
   "codemirror_mode": {
    "name": "ipython",
    "version": 3
   },
   "file_extension": ".py",
   "mimetype": "text/x-python",
   "name": "python",
   "nbconvert_exporter": "python",
   "pygments_lexer": "ipython3",
   "version": "3.12.4"
  }
 },
 "nbformat": 4,
 "nbformat_minor": 5
}
