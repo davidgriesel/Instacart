{
 "cells": [
  {
   "cell_type": "markdown",
   "id": "9164d72f-226c-47ec-877f-c2ba21b3c93b",
   "metadata": {
    "jp-MarkdownHeadingCollapsed": true
   },
   "source": [
    "# Coding etiquette & excellent reporting"
   ]
  },
  {
   "cell_type": "markdown",
   "id": "6517da0c-b435-456d-bdf4-e39159c41dda",
   "metadata": {},
   "source": [
    "# Contents\n",
    "1. Import libraries\n",
    "2. Import datasets\n",
    "3. Check imported data\n",
    "4. Personally identifiable informaton (PII)\n",
    "5. Regional Segmentation\n",
    "6. Low-activity customers\n",
    "7. Customer profiling\n",
    "8. Profile visualisations\n",
    "9. Profile aggregations\n",
    "10. Profiles by region & department\n",
    "11. Plot charts\n",
    "12. Export dataframe"
   ]
  },
  {
   "cell_type": "markdown",
   "id": "fa57be7f-e631-4331-9ec4-b0e7e118235a",
   "metadata": {},
   "source": [
    "# 1. Import libraries"
   ]
  },
  {
   "cell_type": "code",
   "execution_count": 5,
   "id": "e8246131-8ab0-477e-b0f3-490e71ab45d2",
   "metadata": {},
   "outputs": [],
   "source": [
    "#Import libraries\n",
    "import pandas as pd\n",
    "import numpy as np\n",
    "import os\n",
    "import matplotlib.pyplot as plt\n",
    "import seaborn as sns\n",
    "import scipy"
   ]
  },
  {
   "cell_type": "markdown",
   "id": "15ee776b-6b82-4057-acd7-0d47c474dd68",
   "metadata": {},
   "source": [
    "# 2. Import datasets"
   ]
  },
  {
   "cell_type": "code",
   "execution_count": 7,
   "id": "f1edf702-80e7-4731-9097-66795f6bb5a6",
   "metadata": {},
   "outputs": [],
   "source": [
    "#Define project path\n",
    "path = r'/Users/davidgriesel/Documents/0 - CareerFoundry/02 - Data Analytics Immersion/04 - Python Fundamentals for Data Analysts/Instacart Basket Analysis - IC 202409'"
   ]
  },
  {
   "cell_type": "markdown",
   "id": "a186296c-e5fa-45fc-a99a-bd2f3ea7232e",
   "metadata": {},
   "source": [
    "## 2.1. Merged dataset"
   ]
  },
  {
   "cell_type": "code",
   "execution_count": 9,
   "id": "fbbe09c7-cead-469c-ab65-63a472092c84",
   "metadata": {},
   "outputs": [],
   "source": [
    "#Import merged dataset\n",
    "df_final_merged = pd.read_pickle(os.path.join(path, '02 - Data', 'Prepared Data', '09_final_merged.pkl'))"
   ]
  },
  {
   "cell_type": "markdown",
   "id": "e78a9f86-63d5-433a-add8-f2fbabe75eb6",
   "metadata": {},
   "source": [
    "## 2.2. Departments"
   ]
  },
  {
   "cell_type": "code",
   "execution_count": 11,
   "id": "76ff1ef7-9da0-4448-a7c1-7dbc863ef132",
   "metadata": {},
   "outputs": [],
   "source": [
    "#Import departments dataset\n",
    "df_departments = pd.read_csv(os.path.join(path, '02 - Data', 'Prepared Data', '04_departments_wrangled.csv'), index_col = 0)"
   ]
  },
  {
   "cell_type": "markdown",
   "id": "aea5ce8a-c994-4ea6-a763-635c4329e804",
   "metadata": {},
   "source": [
    "# 3. Check imported data"
   ]
  },
  {
   "cell_type": "markdown",
   "id": "7046f3f6-d8dc-4003-8136-ced28920c714",
   "metadata": {},
   "source": [
    "## 3.1. Merged dataset"
   ]
  },
  {
   "cell_type": "code",
   "execution_count": 14,
   "id": "244fd3b0-a5ac-4087-bea9-a9ad96181d72",
   "metadata": {},
   "outputs": [
    {
     "data": {
      "text/plain": [
       "(32404859, 33)"
      ]
     },
     "execution_count": 14,
     "metadata": {},
     "output_type": "execute_result"
    }
   ],
   "source": [
    "#View dimensions\n",
    "df_final_merged.shape"
   ]
  },
  {
   "cell_type": "code",
   "execution_count": 15,
   "id": "36b2b1f5-8f29-4ab0-9f83-de2a8abc833f",
   "metadata": {},
   "outputs": [],
   "source": [
    "#Set pandas to display all columns\n",
    "pd.set_option('display.max_columns', None)"
   ]
  },
  {
   "cell_type": "code",
   "execution_count": 16,
   "id": "1f2f0f77-d479-4458-b1e8-29b0b5acb3a9",
   "metadata": {},
   "outputs": [
    {
     "data": {
      "text/html": [
       "<div>\n",
       "<style scoped>\n",
       "    .dataframe tbody tr th:only-of-type {\n",
       "        vertical-align: middle;\n",
       "    }\n",
       "\n",
       "    .dataframe tbody tr th {\n",
       "        vertical-align: top;\n",
       "    }\n",
       "\n",
       "    .dataframe thead th {\n",
       "        text-align: right;\n",
       "    }\n",
       "</style>\n",
       "<table border=\"1\" class=\"dataframe\">\n",
       "  <thead>\n",
       "    <tr style=\"text-align: right;\">\n",
       "      <th></th>\n",
       "      <th>order_id</th>\n",
       "      <th>user_id</th>\n",
       "      <th>user_order_number</th>\n",
       "      <th>orders_day_of_week</th>\n",
       "      <th>order_hour_of_day</th>\n",
       "      <th>days_since_prior_order</th>\n",
       "      <th>first_order</th>\n",
       "      <th>product_id</th>\n",
       "      <th>add_to_cart_order</th>\n",
       "      <th>reordered</th>\n",
       "      <th>product_name</th>\n",
       "      <th>aisle_id</th>\n",
       "      <th>department_id</th>\n",
       "      <th>prices</th>\n",
       "      <th>price_label</th>\n",
       "      <th>busiest_day</th>\n",
       "      <th>busiest_days</th>\n",
       "      <th>busiest_hours</th>\n",
       "      <th>max_order</th>\n",
       "      <th>loyalty_flag</th>\n",
       "      <th>avg_price</th>\n",
       "      <th>spending_flag</th>\n",
       "      <th>median_days</th>\n",
       "      <th>frequency_flag</th>\n",
       "      <th>first_name</th>\n",
       "      <th>surname</th>\n",
       "      <th>gender</th>\n",
       "      <th>state</th>\n",
       "      <th>age</th>\n",
       "      <th>date_joined</th>\n",
       "      <th>number_of_dependents</th>\n",
       "      <th>marital_status</th>\n",
       "      <th>income</th>\n",
       "    </tr>\n",
       "  </thead>\n",
       "  <tbody>\n",
       "    <tr>\n",
       "      <th>0</th>\n",
       "      <td>2539329</td>\n",
       "      <td>1</td>\n",
       "      <td>1</td>\n",
       "      <td>2</td>\n",
       "      <td>8</td>\n",
       "      <td>NaN</td>\n",
       "      <td>True</td>\n",
       "      <td>196</td>\n",
       "      <td>1</td>\n",
       "      <td>0</td>\n",
       "      <td>Soda</td>\n",
       "      <td>77</td>\n",
       "      <td>7</td>\n",
       "      <td>9.0</td>\n",
       "      <td>Mid-range product</td>\n",
       "      <td>Regularly busy</td>\n",
       "      <td>Regularly busy</td>\n",
       "      <td>Average orders</td>\n",
       "      <td>10</td>\n",
       "      <td>New customer</td>\n",
       "      <td>6.367797</td>\n",
       "      <td>Low spender</td>\n",
       "      <td>20.5</td>\n",
       "      <td>Non-frequent customer</td>\n",
       "      <td>Linda</td>\n",
       "      <td>Nguyen</td>\n",
       "      <td>Female</td>\n",
       "      <td>Alabama</td>\n",
       "      <td>31</td>\n",
       "      <td>2/17/2019</td>\n",
       "      <td>3</td>\n",
       "      <td>married</td>\n",
       "      <td>40423</td>\n",
       "    </tr>\n",
       "    <tr>\n",
       "      <th>1</th>\n",
       "      <td>2539329</td>\n",
       "      <td>1</td>\n",
       "      <td>1</td>\n",
       "      <td>2</td>\n",
       "      <td>8</td>\n",
       "      <td>NaN</td>\n",
       "      <td>True</td>\n",
       "      <td>14084</td>\n",
       "      <td>2</td>\n",
       "      <td>0</td>\n",
       "      <td>Organic Unsweetened Vanilla Almond Milk</td>\n",
       "      <td>91</td>\n",
       "      <td>16</td>\n",
       "      <td>12.5</td>\n",
       "      <td>Mid-range product</td>\n",
       "      <td>Regularly busy</td>\n",
       "      <td>Regularly busy</td>\n",
       "      <td>Average orders</td>\n",
       "      <td>10</td>\n",
       "      <td>New customer</td>\n",
       "      <td>6.367797</td>\n",
       "      <td>Low spender</td>\n",
       "      <td>20.5</td>\n",
       "      <td>Non-frequent customer</td>\n",
       "      <td>Linda</td>\n",
       "      <td>Nguyen</td>\n",
       "      <td>Female</td>\n",
       "      <td>Alabama</td>\n",
       "      <td>31</td>\n",
       "      <td>2/17/2019</td>\n",
       "      <td>3</td>\n",
       "      <td>married</td>\n",
       "      <td>40423</td>\n",
       "    </tr>\n",
       "    <tr>\n",
       "      <th>2</th>\n",
       "      <td>2539329</td>\n",
       "      <td>1</td>\n",
       "      <td>1</td>\n",
       "      <td>2</td>\n",
       "      <td>8</td>\n",
       "      <td>NaN</td>\n",
       "      <td>True</td>\n",
       "      <td>12427</td>\n",
       "      <td>3</td>\n",
       "      <td>0</td>\n",
       "      <td>Original Beef Jerky</td>\n",
       "      <td>23</td>\n",
       "      <td>19</td>\n",
       "      <td>4.4</td>\n",
       "      <td>Low-range product</td>\n",
       "      <td>Regularly busy</td>\n",
       "      <td>Regularly busy</td>\n",
       "      <td>Average orders</td>\n",
       "      <td>10</td>\n",
       "      <td>New customer</td>\n",
       "      <td>6.367797</td>\n",
       "      <td>Low spender</td>\n",
       "      <td>20.5</td>\n",
       "      <td>Non-frequent customer</td>\n",
       "      <td>Linda</td>\n",
       "      <td>Nguyen</td>\n",
       "      <td>Female</td>\n",
       "      <td>Alabama</td>\n",
       "      <td>31</td>\n",
       "      <td>2/17/2019</td>\n",
       "      <td>3</td>\n",
       "      <td>married</td>\n",
       "      <td>40423</td>\n",
       "    </tr>\n",
       "    <tr>\n",
       "      <th>3</th>\n",
       "      <td>2539329</td>\n",
       "      <td>1</td>\n",
       "      <td>1</td>\n",
       "      <td>2</td>\n",
       "      <td>8</td>\n",
       "      <td>NaN</td>\n",
       "      <td>True</td>\n",
       "      <td>26088</td>\n",
       "      <td>4</td>\n",
       "      <td>0</td>\n",
       "      <td>Aged White Cheddar Popcorn</td>\n",
       "      <td>23</td>\n",
       "      <td>19</td>\n",
       "      <td>4.7</td>\n",
       "      <td>Low-range product</td>\n",
       "      <td>Regularly busy</td>\n",
       "      <td>Regularly busy</td>\n",
       "      <td>Average orders</td>\n",
       "      <td>10</td>\n",
       "      <td>New customer</td>\n",
       "      <td>6.367797</td>\n",
       "      <td>Low spender</td>\n",
       "      <td>20.5</td>\n",
       "      <td>Non-frequent customer</td>\n",
       "      <td>Linda</td>\n",
       "      <td>Nguyen</td>\n",
       "      <td>Female</td>\n",
       "      <td>Alabama</td>\n",
       "      <td>31</td>\n",
       "      <td>2/17/2019</td>\n",
       "      <td>3</td>\n",
       "      <td>married</td>\n",
       "      <td>40423</td>\n",
       "    </tr>\n",
       "    <tr>\n",
       "      <th>4</th>\n",
       "      <td>2539329</td>\n",
       "      <td>1</td>\n",
       "      <td>1</td>\n",
       "      <td>2</td>\n",
       "      <td>8</td>\n",
       "      <td>NaN</td>\n",
       "      <td>True</td>\n",
       "      <td>26405</td>\n",
       "      <td>5</td>\n",
       "      <td>0</td>\n",
       "      <td>XL Pick-A-Size Paper Towel Rolls</td>\n",
       "      <td>54</td>\n",
       "      <td>17</td>\n",
       "      <td>1.0</td>\n",
       "      <td>Low-range product</td>\n",
       "      <td>Regularly busy</td>\n",
       "      <td>Regularly busy</td>\n",
       "      <td>Average orders</td>\n",
       "      <td>10</td>\n",
       "      <td>New customer</td>\n",
       "      <td>6.367797</td>\n",
       "      <td>Low spender</td>\n",
       "      <td>20.5</td>\n",
       "      <td>Non-frequent customer</td>\n",
       "      <td>Linda</td>\n",
       "      <td>Nguyen</td>\n",
       "      <td>Female</td>\n",
       "      <td>Alabama</td>\n",
       "      <td>31</td>\n",
       "      <td>2/17/2019</td>\n",
       "      <td>3</td>\n",
       "      <td>married</td>\n",
       "      <td>40423</td>\n",
       "    </tr>\n",
       "  </tbody>\n",
       "</table>\n",
       "</div>"
      ],
      "text/plain": [
       "   order_id  user_id  user_order_number  orders_day_of_week  \\\n",
       "0   2539329        1                  1                   2   \n",
       "1   2539329        1                  1                   2   \n",
       "2   2539329        1                  1                   2   \n",
       "3   2539329        1                  1                   2   \n",
       "4   2539329        1                  1                   2   \n",
       "\n",
       "   order_hour_of_day  days_since_prior_order  first_order  product_id  \\\n",
       "0                  8                     NaN         True         196   \n",
       "1                  8                     NaN         True       14084   \n",
       "2                  8                     NaN         True       12427   \n",
       "3                  8                     NaN         True       26088   \n",
       "4                  8                     NaN         True       26405   \n",
       "\n",
       "   add_to_cart_order  reordered                             product_name  \\\n",
       "0                  1          0                                     Soda   \n",
       "1                  2          0  Organic Unsweetened Vanilla Almond Milk   \n",
       "2                  3          0                      Original Beef Jerky   \n",
       "3                  4          0               Aged White Cheddar Popcorn   \n",
       "4                  5          0         XL Pick-A-Size Paper Towel Rolls   \n",
       "\n",
       "   aisle_id  department_id  prices        price_label     busiest_day  \\\n",
       "0        77              7     9.0  Mid-range product  Regularly busy   \n",
       "1        91             16    12.5  Mid-range product  Regularly busy   \n",
       "2        23             19     4.4  Low-range product  Regularly busy   \n",
       "3        23             19     4.7  Low-range product  Regularly busy   \n",
       "4        54             17     1.0  Low-range product  Regularly busy   \n",
       "\n",
       "     busiest_days   busiest_hours  max_order  loyalty_flag  avg_price  \\\n",
       "0  Regularly busy  Average orders         10  New customer   6.367797   \n",
       "1  Regularly busy  Average orders         10  New customer   6.367797   \n",
       "2  Regularly busy  Average orders         10  New customer   6.367797   \n",
       "3  Regularly busy  Average orders         10  New customer   6.367797   \n",
       "4  Regularly busy  Average orders         10  New customer   6.367797   \n",
       "\n",
       "  spending_flag  median_days         frequency_flag first_name surname  \\\n",
       "0   Low spender         20.5  Non-frequent customer      Linda  Nguyen   \n",
       "1   Low spender         20.5  Non-frequent customer      Linda  Nguyen   \n",
       "2   Low spender         20.5  Non-frequent customer      Linda  Nguyen   \n",
       "3   Low spender         20.5  Non-frequent customer      Linda  Nguyen   \n",
       "4   Low spender         20.5  Non-frequent customer      Linda  Nguyen   \n",
       "\n",
       "   gender    state  age date_joined  number_of_dependents marital_status  \\\n",
       "0  Female  Alabama   31   2/17/2019                     3        married   \n",
       "1  Female  Alabama   31   2/17/2019                     3        married   \n",
       "2  Female  Alabama   31   2/17/2019                     3        married   \n",
       "3  Female  Alabama   31   2/17/2019                     3        married   \n",
       "4  Female  Alabama   31   2/17/2019                     3        married   \n",
       "\n",
       "   income  \n",
       "0   40423  \n",
       "1   40423  \n",
       "2   40423  \n",
       "3   40423  \n",
       "4   40423  "
      ]
     },
     "execution_count": 16,
     "metadata": {},
     "output_type": "execute_result"
    }
   ],
   "source": [
    "#View top 5 records/rows\n",
    "df_final_merged.head()"
   ]
  },
  {
   "cell_type": "markdown",
   "id": "bda48c31-7ea7-4585-93f0-d6356f2560d4",
   "metadata": {},
   "source": [
    "## 3.2. Departments"
   ]
  },
  {
   "cell_type": "code",
   "execution_count": 18,
   "id": "53f5451f-2cb7-477f-a532-9c6820cb93bb",
   "metadata": {},
   "outputs": [
    {
     "data": {
      "text/plain": [
       "(21, 1)"
      ]
     },
     "execution_count": 18,
     "metadata": {},
     "output_type": "execute_result"
    }
   ],
   "source": [
    "#Get dimensions\n",
    "df_departments.shape"
   ]
  },
  {
   "cell_type": "code",
   "execution_count": 19,
   "id": "553cc77f-b1b3-4211-8748-7af091ef18bd",
   "metadata": {},
   "outputs": [
    {
     "data": {
      "text/html": [
       "<div>\n",
       "<style scoped>\n",
       "    .dataframe tbody tr th:only-of-type {\n",
       "        vertical-align: middle;\n",
       "    }\n",
       "\n",
       "    .dataframe tbody tr th {\n",
       "        vertical-align: top;\n",
       "    }\n",
       "\n",
       "    .dataframe thead th {\n",
       "        text-align: right;\n",
       "    }\n",
       "</style>\n",
       "<table border=\"1\" class=\"dataframe\">\n",
       "  <thead>\n",
       "    <tr style=\"text-align: right;\">\n",
       "      <th></th>\n",
       "      <th>department</th>\n",
       "    </tr>\n",
       "  </thead>\n",
       "  <tbody>\n",
       "    <tr>\n",
       "      <th>1</th>\n",
       "      <td>frozen</td>\n",
       "    </tr>\n",
       "    <tr>\n",
       "      <th>2</th>\n",
       "      <td>other</td>\n",
       "    </tr>\n",
       "    <tr>\n",
       "      <th>3</th>\n",
       "      <td>bakery</td>\n",
       "    </tr>\n",
       "    <tr>\n",
       "      <th>4</th>\n",
       "      <td>produce</td>\n",
       "    </tr>\n",
       "    <tr>\n",
       "      <th>5</th>\n",
       "      <td>alcohol</td>\n",
       "    </tr>\n",
       "  </tbody>\n",
       "</table>\n",
       "</div>"
      ],
      "text/plain": [
       "  department\n",
       "1     frozen\n",
       "2      other\n",
       "3     bakery\n",
       "4    produce\n",
       "5    alcohol"
      ]
     },
     "execution_count": 19,
     "metadata": {},
     "output_type": "execute_result"
    }
   ],
   "source": [
    "#View top 5 records/rows\n",
    "df_departments.head()"
   ]
  },
  {
   "cell_type": "markdown",
   "id": "13d06a38-6422-403f-b6ff-aa5acbed5d4d",
   "metadata": {},
   "source": [
    "# 4. Personally identifiable information (PII)"
   ]
  },
  {
   "cell_type": "markdown",
   "id": "3e40dd45-8c12-4df7-8a52-6a143932b667",
   "metadata": {},
   "source": [
    "## 4.1. Identify columns with personal information"
   ]
  },
  {
   "cell_type": "code",
   "execution_count": 22,
   "id": "52b0aeed-6817-4734-8f79-29541a7674b1",
   "metadata": {},
   "outputs": [
    {
     "data": {
      "text/plain": [
       "Index(['order_id', 'user_id', 'user_order_number', 'orders_day_of_week',\n",
       "       'order_hour_of_day', 'days_since_prior_order', 'first_order',\n",
       "       'product_id', 'add_to_cart_order', 'reordered', 'product_name',\n",
       "       'aisle_id', 'department_id', 'prices', 'price_label', 'busiest_day',\n",
       "       'busiest_days', 'busiest_hours', 'max_order', 'loyalty_flag',\n",
       "       'avg_price', 'spending_flag', 'median_days', 'frequency_flag',\n",
       "       'first_name', 'surname', 'gender', 'state', 'age', 'date_joined',\n",
       "       'number_of_dependents', 'marital_status', 'income'],\n",
       "      dtype='object')"
      ]
     },
     "execution_count": 22,
     "metadata": {},
     "output_type": "execute_result"
    }
   ],
   "source": [
    "#Get column names\n",
    "df_final_merged.columns"
   ]
  },
  {
   "cell_type": "markdown",
   "id": "b45a1025-58b6-429c-8e9e-1fb2d7454250",
   "metadata": {},
   "source": [
    "##### Columns containing personal information: 'first_name', 'surname', 'gender', 'state', 'age', 'number-of_dependents', 'family_status', 'income'\n",
    "##### Columns that can be used to identify individuals (PII): 'first_name' and 'surname'"
   ]
  },
  {
   "cell_type": "markdown",
   "id": "6cf5c88a-462a-406c-b86f-b725cb4e659a",
   "metadata": {},
   "source": [
    "## 4.2. Remove columns with PII"
   ]
  },
  {
   "cell_type": "code",
   "execution_count": 25,
   "id": "776f7235-7e7c-4461-a0ed-b9e03bbe11f2",
   "metadata": {},
   "outputs": [],
   "source": [
    "#Drop 'first_name' and 'surname' columns\n",
    "df_final_merged = df_final_merged.drop(columns = ['first_name', 'surname'])"
   ]
  },
  {
   "cell_type": "code",
   "execution_count": 26,
   "id": "d50e412c-a815-44ab-96e6-f627109da579",
   "metadata": {},
   "outputs": [
    {
     "data": {
      "text/plain": [
       "(32404859, 31)"
      ]
     },
     "execution_count": 26,
     "metadata": {},
     "output_type": "execute_result"
    }
   ],
   "source": [
    "#Get dimensions\n",
    "df_final_merged.shape"
   ]
  },
  {
   "cell_type": "code",
   "execution_count": 27,
   "id": "ddbf6425-217e-4332-bd22-f4e873aa4ea0",
   "metadata": {},
   "outputs": [
    {
     "data": {
      "text/plain": [
       "Index(['order_id', 'user_id', 'user_order_number', 'orders_day_of_week',\n",
       "       'order_hour_of_day', 'days_since_prior_order', 'first_order',\n",
       "       'product_id', 'add_to_cart_order', 'reordered', 'product_name',\n",
       "       'aisle_id', 'department_id', 'prices', 'price_label', 'busiest_day',\n",
       "       'busiest_days', 'busiest_hours', 'max_order', 'loyalty_flag',\n",
       "       'avg_price', 'spending_flag', 'median_days', 'frequency_flag', 'gender',\n",
       "       'state', 'age', 'date_joined', 'number_of_dependents', 'marital_status',\n",
       "       'income'],\n",
       "      dtype='object')"
      ]
     },
     "execution_count": 27,
     "metadata": {},
     "output_type": "execute_result"
    }
   ],
   "source": [
    "#Get column names\n",
    "df_final_merged.columns"
   ]
  },
  {
   "cell_type": "markdown",
   "id": "9d4d39cb-ea75-4bfb-a0e7-4347c2853e68",
   "metadata": {},
   "source": [
    "##### The 'first_name' and 'surname' columns successfully removed."
   ]
  },
  {
   "cell_type": "markdown",
   "id": "a4b0db88-a698-45ed-8123-a1ec454d5eb7",
   "metadata": {},
   "source": [
    "# 5. Regional Segmentation"
   ]
  },
  {
   "cell_type": "markdown",
   "id": "b6e5ee5a-d06a-4b45-9191-218494543242",
   "metadata": {},
   "source": [
    "## 5.1. Identify states"
   ]
  },
  {
   "cell_type": "code",
   "execution_count": 31,
   "id": "65b03c6e-aae7-4860-a5d4-133b81944c08",
   "metadata": {
    "scrolled": true
   },
   "outputs": [
    {
     "data": {
      "text/plain": [
       "state\n",
       "Alabama                 638003\n",
       "Alaska                  648495\n",
       "Arizona                 653964\n",
       "Arkansas                636144\n",
       "California              659783\n",
       "Colorado                639280\n",
       "Connecticut             623022\n",
       "Delaware                637024\n",
       "District of Columbia    613695\n",
       "Florida                 629027\n",
       "Georgia                 656389\n",
       "Hawaii                  632901\n",
       "Idaho                   607119\n",
       "Illinois                633024\n",
       "Indiana                 627282\n",
       "Iowa                    625493\n",
       "Kansas                  637538\n",
       "Kentucky                632490\n",
       "Louisiana               637482\n",
       "Maine                   638583\n",
       "Maryland                626579\n",
       "Massachusetts           646358\n",
       "Michigan                630928\n",
       "Minnesota               647825\n",
       "Mississippi             632675\n",
       "Missouri                640732\n",
       "Montana                 635265\n",
       "Nebraska                625813\n",
       "Nevada                  636139\n",
       "New Hampshire           615378\n",
       "New Jersey              627692\n",
       "New Mexico              654494\n",
       "New York                635983\n",
       "North Carolina          651900\n",
       "North Dakota            638491\n",
       "Ohio                    628319\n",
       "Oklahoma                651739\n",
       "Oregon                  636425\n",
       "Pennsylvania            667082\n",
       "Rhode Island            656913\n",
       "South Carolina          636754\n",
       "South Dakota            633772\n",
       "Tennessee               617873\n",
       "Texas                   640394\n",
       "Utah                    611941\n",
       "Vermont                 611725\n",
       "Virginia                641421\n",
       "Washington              632852\n",
       "West Virginia           612296\n",
       "Wisconsin               628108\n",
       "Wyoming                 644255\n",
       "Name: count, dtype: int64"
      ]
     },
     "execution_count": 31,
     "metadata": {},
     "output_type": "execute_result"
    }
   ],
   "source": [
    "#View values in 'state' column\n",
    "df_final_merged['state'].value_counts(dropna = False).sort_index()"
   ]
  },
  {
   "cell_type": "code",
   "execution_count": 32,
   "id": "49366d8e-6fe8-464b-8930-29a39f8c5592",
   "metadata": {},
   "outputs": [
    {
     "data": {
      "text/plain": [
       "51"
      ]
     },
     "execution_count": 32,
     "metadata": {},
     "output_type": "execute_result"
    }
   ],
   "source": [
    "#Count number of unique values in 'state' column\n",
    "states = df_final_merged['state'].nunique(dropna = False)\n",
    "states"
   ]
  },
  {
   "cell_type": "markdown",
   "id": "1ae875a3-3f13-4099-9ee6-d4d0b950a766",
   "metadata": {},
   "source": [
    "##### There are 51 states for allocation to regions"
   ]
  },
  {
   "cell_type": "markdown",
   "id": "d28189fc-e224-434c-bf01-f660636ed75c",
   "metadata": {},
   "source": [
    "## 5.2. Add 'region' column\n",
    "[Wikipedia source used for allocation](https://simple.wikipedia.org/wiki/List_of_regions_of_the_United_States) \n"
   ]
  },
  {
   "cell_type": "code",
   "execution_count": 35,
   "id": "c8d387b9-bc73-4dee-9246-d20ec9b0654c",
   "metadata": {},
   "outputs": [],
   "source": [
    "#Allocate states\n",
    "result_1 = []\n",
    "for value in df_final_merged['state']:\n",
    "  if value in ['Maine', 'New Hampshire', 'Vermont', 'Massachusetts', 'Rhode Island', 'Connecticut', 'New York', 'Pennsylvania', 'New Jersey']:\n",
    "    result_1.append('Northeast')\n",
    "  elif value in ['Wisconsin', 'Michigan', 'Illinois', 'Indiana', 'Ohio', 'North Dakota', 'South Dakota', 'Nebraska', 'Kansas', 'Minnesota', 'Iowa', 'Missouri']:\n",
    "    result_1.append('Midwest')\n",
    "  elif value in ['Delaware', 'Maryland', 'District of Columbia', 'Virginia', 'West Virginia', 'North Carolina', 'South Carolina', 'Georgia', 'Florida', 'Kentucky', 'Tennessee', 'Mississippi', 'Alabama', 'Oklahoma', 'Texas', 'Arkansas', 'Louisiana']:\n",
    "    result_1.append('South')\n",
    "  elif value in ['Idaho', 'Montana', 'Wyoming', 'Nevada', 'Utah', 'Colorado', 'Arizona', 'New Mexico', 'Alaska', 'Washington', 'Oregon', 'California', 'Hawaii']:\n",
    "    result_1.append('West')\n",
    "  else:\n",
    "    result_1.append('Unallocated') #Check"
   ]
  },
  {
   "cell_type": "code",
   "execution_count": 36,
   "id": "4f480520-c23e-4beb-a0ad-8500cdd6c91b",
   "metadata": {},
   "outputs": [
    {
     "data": {
      "text/plain": [
       "['South',\n",
       " 'South',\n",
       " 'South',\n",
       " 'South',\n",
       " 'South',\n",
       " 'South',\n",
       " 'South',\n",
       " 'South',\n",
       " 'South',\n",
       " 'South',\n",
       " 'South',\n",
       " 'South',\n",
       " 'South',\n",
       " 'South',\n",
       " 'South',\n",
       " 'South',\n",
       " 'South',\n",
       " 'South',\n",
       " 'South',\n",
       " 'South',\n",
       " 'South',\n",
       " 'South',\n",
       " 'South',\n",
       " 'South',\n",
       " 'South',\n",
       " 'South',\n",
       " 'South',\n",
       " 'South',\n",
       " 'South',\n",
       " 'South',\n",
       " 'South',\n",
       " 'South',\n",
       " 'South',\n",
       " 'South',\n",
       " 'South',\n",
       " 'South',\n",
       " 'South',\n",
       " 'South',\n",
       " 'South',\n",
       " 'South',\n",
       " 'South',\n",
       " 'South',\n",
       " 'South',\n",
       " 'South',\n",
       " 'South',\n",
       " 'South',\n",
       " 'South',\n",
       " 'South',\n",
       " 'South',\n",
       " 'South',\n",
       " 'South',\n",
       " 'South',\n",
       " 'South',\n",
       " 'South',\n",
       " 'South',\n",
       " 'South',\n",
       " 'South',\n",
       " 'South',\n",
       " 'South',\n",
       " 'West',\n",
       " 'West',\n",
       " 'West',\n",
       " 'West',\n",
       " 'West',\n",
       " 'West',\n",
       " 'West',\n",
       " 'West',\n",
       " 'West',\n",
       " 'West',\n",
       " 'West',\n",
       " 'West',\n",
       " 'West',\n",
       " 'West',\n",
       " 'West',\n",
       " 'West',\n",
       " 'West',\n",
       " 'West',\n",
       " 'West',\n",
       " 'West',\n",
       " 'West',\n",
       " 'West',\n",
       " 'West',\n",
       " 'West',\n",
       " 'West',\n",
       " 'West',\n",
       " 'West',\n",
       " 'West',\n",
       " 'West',\n",
       " 'West',\n",
       " 'West',\n",
       " 'West',\n",
       " 'West',\n",
       " 'West',\n",
       " 'West',\n",
       " 'West',\n",
       " 'West',\n",
       " 'West',\n",
       " 'West',\n",
       " 'West',\n",
       " 'West',\n",
       " 'West',\n",
       " 'West',\n",
       " 'West',\n",
       " 'West',\n",
       " 'West',\n",
       " 'West',\n",
       " 'West',\n",
       " 'West',\n",
       " 'West',\n",
       " 'West',\n",
       " 'West',\n",
       " 'West',\n",
       " 'West',\n",
       " 'West',\n",
       " 'West',\n",
       " 'West',\n",
       " 'West',\n",
       " 'West',\n",
       " 'West',\n",
       " 'West',\n",
       " 'West',\n",
       " 'West',\n",
       " 'West',\n",
       " 'West',\n",
       " 'West',\n",
       " 'West',\n",
       " 'West',\n",
       " 'West',\n",
       " 'West',\n",
       " 'West',\n",
       " 'West',\n",
       " 'West',\n",
       " 'West',\n",
       " 'West',\n",
       " 'West',\n",
       " 'West',\n",
       " 'West',\n",
       " 'West',\n",
       " 'West',\n",
       " 'West',\n",
       " 'West',\n",
       " 'West',\n",
       " 'West',\n",
       " 'West',\n",
       " 'West',\n",
       " 'West',\n",
       " 'West',\n",
       " 'West',\n",
       " 'West',\n",
       " 'West',\n",
       " 'West',\n",
       " 'West',\n",
       " 'West',\n",
       " 'West',\n",
       " 'West',\n",
       " 'West',\n",
       " 'West',\n",
       " 'West',\n",
       " 'West',\n",
       " 'West',\n",
       " 'West',\n",
       " 'West',\n",
       " 'West',\n",
       " 'West',\n",
       " 'West',\n",
       " 'West',\n",
       " 'West',\n",
       " 'West',\n",
       " 'West',\n",
       " 'West',\n",
       " 'West',\n",
       " 'West',\n",
       " 'West',\n",
       " 'West',\n",
       " 'West',\n",
       " 'West',\n",
       " 'West',\n",
       " 'West',\n",
       " 'West',\n",
       " 'West',\n",
       " 'West',\n",
       " 'West',\n",
       " 'West',\n",
       " 'West',\n",
       " 'West',\n",
       " 'West',\n",
       " 'West',\n",
       " 'West',\n",
       " 'West',\n",
       " 'West',\n",
       " 'West',\n",
       " 'West',\n",
       " 'West',\n",
       " 'West',\n",
       " 'West',\n",
       " 'West',\n",
       " 'West',\n",
       " 'West',\n",
       " 'West',\n",
       " 'West',\n",
       " 'West',\n",
       " 'West',\n",
       " 'West',\n",
       " 'West',\n",
       " 'West',\n",
       " 'West',\n",
       " 'West',\n",
       " 'West',\n",
       " 'West',\n",
       " 'West',\n",
       " 'West',\n",
       " 'West',\n",
       " 'West',\n",
       " 'West',\n",
       " 'West',\n",
       " 'West',\n",
       " 'West',\n",
       " 'West',\n",
       " 'West',\n",
       " 'West',\n",
       " 'West',\n",
       " 'West',\n",
       " 'West',\n",
       " 'West',\n",
       " 'West',\n",
       " 'West',\n",
       " 'West',\n",
       " 'West',\n",
       " 'West',\n",
       " 'West',\n",
       " 'West',\n",
       " 'West',\n",
       " 'West',\n",
       " 'West',\n",
       " 'West',\n",
       " 'West',\n",
       " 'West',\n",
       " 'West',\n",
       " 'West',\n",
       " 'West',\n",
       " 'West',\n",
       " 'West',\n",
       " 'West',\n",
       " 'West',\n",
       " 'West',\n",
       " 'West',\n",
       " 'West',\n",
       " 'West',\n",
       " 'West',\n",
       " 'West',\n",
       " 'West',\n",
       " 'West',\n",
       " 'West',\n",
       " 'West',\n",
       " 'West',\n",
       " 'West',\n",
       " 'West',\n",
       " 'West',\n",
       " 'West',\n",
       " 'West',\n",
       " 'West',\n",
       " 'West',\n",
       " 'West',\n",
       " 'West',\n",
       " 'West',\n",
       " 'West',\n",
       " 'West',\n",
       " 'West',\n",
       " 'West',\n",
       " 'West',\n",
       " 'West',\n",
       " 'West',\n",
       " 'West',\n",
       " 'West',\n",
       " 'West',\n",
       " 'West',\n",
       " 'West',\n",
       " 'West',\n",
       " 'West',\n",
       " 'West',\n",
       " 'West',\n",
       " 'West',\n",
       " 'West',\n",
       " 'West',\n",
       " 'West',\n",
       " 'West',\n",
       " 'West',\n",
       " 'West',\n",
       " 'West',\n",
       " 'West',\n",
       " 'West',\n",
       " 'West',\n",
       " 'West',\n",
       " 'West',\n",
       " 'West',\n",
       " 'West',\n",
       " 'West',\n",
       " 'West',\n",
       " 'West',\n",
       " 'West',\n",
       " 'West',\n",
       " 'West',\n",
       " 'West',\n",
       " 'West',\n",
       " 'West',\n",
       " 'West',\n",
       " 'West',\n",
       " 'West',\n",
       " 'West',\n",
       " 'West',\n",
       " 'West',\n",
       " 'West',\n",
       " 'West',\n",
       " 'West',\n",
       " 'West',\n",
       " 'West',\n",
       " 'West',\n",
       " 'West',\n",
       " 'West',\n",
       " 'West',\n",
       " 'West',\n",
       " 'West',\n",
       " 'West',\n",
       " 'West',\n",
       " 'West',\n",
       " 'West',\n",
       " 'West',\n",
       " 'West',\n",
       " 'West',\n",
       " 'West',\n",
       " 'West',\n",
       " 'West',\n",
       " 'West',\n",
       " 'West',\n",
       " 'West',\n",
       " 'West',\n",
       " 'West',\n",
       " 'West',\n",
       " 'West',\n",
       " 'West',\n",
       " 'West',\n",
       " 'West',\n",
       " 'South',\n",
       " 'South',\n",
       " 'South',\n",
       " 'South',\n",
       " 'South',\n",
       " 'South',\n",
       " 'South',\n",
       " 'South',\n",
       " 'South',\n",
       " 'South',\n",
       " 'South',\n",
       " 'South',\n",
       " 'South',\n",
       " 'South',\n",
       " 'South',\n",
       " 'South',\n",
       " 'South',\n",
       " 'South',\n",
       " 'West',\n",
       " 'West',\n",
       " 'West',\n",
       " 'West',\n",
       " 'West',\n",
       " 'West',\n",
       " 'West',\n",
       " 'West',\n",
       " 'West',\n",
       " 'West',\n",
       " 'West',\n",
       " 'West',\n",
       " 'West',\n",
       " 'West',\n",
       " 'West',\n",
       " 'West',\n",
       " 'West',\n",
       " 'West',\n",
       " 'West',\n",
       " 'West',\n",
       " 'West',\n",
       " 'West',\n",
       " 'West',\n",
       " 'West',\n",
       " 'West',\n",
       " 'West',\n",
       " 'West',\n",
       " 'West',\n",
       " 'West',\n",
       " 'West',\n",
       " 'West',\n",
       " 'West',\n",
       " 'West',\n",
       " 'West',\n",
       " 'West',\n",
       " 'West',\n",
       " 'West',\n",
       " 'West',\n",
       " 'West',\n",
       " 'West',\n",
       " 'West',\n",
       " 'West',\n",
       " 'West',\n",
       " 'West',\n",
       " 'West',\n",
       " 'West',\n",
       " 'West',\n",
       " 'West',\n",
       " 'West',\n",
       " 'West',\n",
       " 'West',\n",
       " 'Northeast',\n",
       " 'Northeast',\n",
       " 'Northeast',\n",
       " 'Northeast',\n",
       " 'Northeast',\n",
       " 'Northeast',\n",
       " 'Northeast',\n",
       " 'Northeast',\n",
       " 'Northeast',\n",
       " 'Northeast',\n",
       " 'Northeast',\n",
       " 'Northeast',\n",
       " 'Northeast',\n",
       " 'Northeast',\n",
       " 'Northeast',\n",
       " 'Northeast',\n",
       " 'Northeast',\n",
       " 'Northeast',\n",
       " 'Northeast',\n",
       " 'Northeast',\n",
       " 'Northeast',\n",
       " 'Northeast',\n",
       " 'Northeast',\n",
       " 'Northeast',\n",
       " 'Northeast',\n",
       " 'Northeast',\n",
       " 'Northeast',\n",
       " 'Northeast',\n",
       " 'Northeast',\n",
       " 'Northeast',\n",
       " 'Northeast',\n",
       " 'Northeast',\n",
       " 'Northeast',\n",
       " 'Northeast',\n",
       " 'Northeast',\n",
       " 'Northeast',\n",
       " 'Northeast',\n",
       " 'Northeast',\n",
       " 'Northeast',\n",
       " 'Northeast',\n",
       " 'Northeast',\n",
       " 'Northeast',\n",
       " 'Northeast',\n",
       " 'Northeast',\n",
       " 'Northeast',\n",
       " 'Northeast',\n",
       " 'Northeast',\n",
       " 'Northeast',\n",
       " 'Northeast',\n",
       " 'Northeast',\n",
       " 'Northeast',\n",
       " 'Northeast',\n",
       " 'Northeast',\n",
       " 'Northeast',\n",
       " 'Northeast',\n",
       " 'Northeast',\n",
       " 'Northeast',\n",
       " 'Northeast',\n",
       " 'Northeast',\n",
       " 'Northeast',\n",
       " 'Northeast',\n",
       " 'Northeast',\n",
       " 'Northeast',\n",
       " 'Northeast',\n",
       " 'Northeast',\n",
       " 'Northeast',\n",
       " 'Northeast',\n",
       " 'Northeast',\n",
       " 'Northeast',\n",
       " 'Northeast',\n",
       " 'Northeast',\n",
       " 'Northeast',\n",
       " 'Northeast',\n",
       " 'Northeast',\n",
       " 'Northeast',\n",
       " 'Northeast',\n",
       " 'Northeast',\n",
       " 'Northeast',\n",
       " 'Northeast',\n",
       " 'Northeast',\n",
       " 'Northeast',\n",
       " 'Northeast',\n",
       " 'Northeast',\n",
       " 'Northeast',\n",
       " 'Northeast',\n",
       " 'Northeast',\n",
       " 'Northeast',\n",
       " 'Northeast',\n",
       " 'Northeast',\n",
       " 'Northeast',\n",
       " 'Northeast',\n",
       " 'Northeast',\n",
       " 'Northeast',\n",
       " 'Northeast',\n",
       " 'Northeast',\n",
       " 'Northeast',\n",
       " 'Northeast',\n",
       " 'Northeast',\n",
       " 'Northeast',\n",
       " 'Northeast',\n",
       " 'Northeast',\n",
       " 'Northeast',\n",
       " 'Northeast',\n",
       " 'Northeast',\n",
       " 'Northeast',\n",
       " 'Northeast',\n",
       " 'Northeast',\n",
       " 'Northeast',\n",
       " 'Northeast',\n",
       " 'Northeast',\n",
       " 'Northeast',\n",
       " 'Northeast',\n",
       " 'Northeast',\n",
       " 'Northeast',\n",
       " 'Northeast',\n",
       " 'Northeast',\n",
       " 'Northeast',\n",
       " 'Northeast',\n",
       " 'Northeast',\n",
       " 'Northeast',\n",
       " 'Northeast',\n",
       " 'Northeast',\n",
       " 'Northeast',\n",
       " 'Northeast',\n",
       " 'Northeast',\n",
       " 'Northeast',\n",
       " 'Northeast',\n",
       " 'Northeast',\n",
       " 'Northeast',\n",
       " 'Northeast',\n",
       " 'Northeast',\n",
       " 'Northeast',\n",
       " 'Northeast',\n",
       " 'Northeast',\n",
       " 'Northeast',\n",
       " 'Northeast',\n",
       " 'Northeast',\n",
       " 'Northeast',\n",
       " 'Northeast',\n",
       " 'Northeast',\n",
       " 'Northeast',\n",
       " 'Northeast',\n",
       " 'Northeast',\n",
       " 'Northeast',\n",
       " 'Northeast',\n",
       " 'Northeast',\n",
       " 'Northeast',\n",
       " 'Northeast',\n",
       " 'Northeast',\n",
       " 'Northeast',\n",
       " 'Northeast',\n",
       " 'Northeast',\n",
       " 'Northeast',\n",
       " 'Northeast',\n",
       " 'Northeast',\n",
       " 'Northeast',\n",
       " 'Northeast',\n",
       " 'Northeast',\n",
       " 'Northeast',\n",
       " 'Northeast',\n",
       " 'Northeast',\n",
       " 'Northeast',\n",
       " 'Northeast',\n",
       " 'Northeast',\n",
       " 'Northeast',\n",
       " 'Northeast',\n",
       " 'Northeast',\n",
       " 'Northeast',\n",
       " 'Northeast',\n",
       " 'Northeast',\n",
       " 'Northeast',\n",
       " 'Northeast',\n",
       " 'Northeast',\n",
       " 'Northeast',\n",
       " 'Northeast',\n",
       " 'Northeast',\n",
       " 'Northeast',\n",
       " 'Northeast',\n",
       " 'Northeast',\n",
       " 'Northeast',\n",
       " 'Northeast',\n",
       " 'Northeast',\n",
       " 'Northeast',\n",
       " 'Northeast',\n",
       " 'Northeast',\n",
       " 'Northeast',\n",
       " 'Northeast',\n",
       " 'Northeast',\n",
       " 'Northeast',\n",
       " 'Northeast',\n",
       " 'Northeast',\n",
       " 'Northeast',\n",
       " 'Northeast',\n",
       " 'Northeast',\n",
       " 'Northeast',\n",
       " 'Northeast',\n",
       " 'Northeast',\n",
       " 'Northeast',\n",
       " 'Northeast',\n",
       " 'Northeast',\n",
       " 'Northeast',\n",
       " 'Northeast',\n",
       " 'Northeast',\n",
       " 'Northeast',\n",
       " 'Northeast',\n",
       " 'Northeast',\n",
       " 'South',\n",
       " 'South',\n",
       " 'South',\n",
       " 'South',\n",
       " 'South',\n",
       " 'South',\n",
       " 'South',\n",
       " 'South',\n",
       " 'South',\n",
       " 'South',\n",
       " 'South',\n",
       " 'South',\n",
       " 'South',\n",
       " 'South',\n",
       " 'South',\n",
       " 'South',\n",
       " 'South',\n",
       " 'South',\n",
       " 'South',\n",
       " 'South',\n",
       " 'South',\n",
       " 'South',\n",
       " 'South',\n",
       " 'South',\n",
       " 'South',\n",
       " 'South',\n",
       " 'South',\n",
       " 'South',\n",
       " 'South',\n",
       " 'South',\n",
       " 'South',\n",
       " 'South',\n",
       " 'South',\n",
       " 'South',\n",
       " 'South',\n",
       " 'South',\n",
       " 'South',\n",
       " 'South',\n",
       " 'South',\n",
       " 'South',\n",
       " 'South',\n",
       " 'South',\n",
       " 'South',\n",
       " 'South',\n",
       " 'South',\n",
       " 'South',\n",
       " 'South',\n",
       " 'South',\n",
       " 'South',\n",
       " 'South',\n",
       " 'South',\n",
       " 'South',\n",
       " 'South',\n",
       " 'South',\n",
       " 'South',\n",
       " 'South',\n",
       " 'South',\n",
       " 'South',\n",
       " 'South',\n",
       " 'South',\n",
       " 'South',\n",
       " 'South',\n",
       " 'South',\n",
       " 'South',\n",
       " 'South',\n",
       " 'South',\n",
       " 'South',\n",
       " 'South',\n",
       " 'South',\n",
       " 'South',\n",
       " 'South',\n",
       " 'South',\n",
       " 'South',\n",
       " 'South',\n",
       " 'South',\n",
       " 'South',\n",
       " 'South',\n",
       " 'South',\n",
       " 'South',\n",
       " 'South',\n",
       " 'South',\n",
       " 'South',\n",
       " 'South',\n",
       " 'South',\n",
       " 'South',\n",
       " 'South',\n",
       " 'South',\n",
       " 'South',\n",
       " 'South',\n",
       " 'South',\n",
       " 'South',\n",
       " 'South',\n",
       " 'South',\n",
       " 'South',\n",
       " 'South',\n",
       " 'South',\n",
       " 'South',\n",
       " 'South',\n",
       " 'South',\n",
       " 'South',\n",
       " 'South',\n",
       " 'South',\n",
       " 'South',\n",
       " 'South',\n",
       " 'South',\n",
       " 'South',\n",
       " 'South',\n",
       " 'South',\n",
       " 'South',\n",
       " 'South',\n",
       " 'South',\n",
       " 'South',\n",
       " 'South',\n",
       " 'South',\n",
       " 'South',\n",
       " 'South',\n",
       " 'South',\n",
       " 'South',\n",
       " 'South',\n",
       " 'South',\n",
       " 'South',\n",
       " 'South',\n",
       " 'South',\n",
       " 'South',\n",
       " 'South',\n",
       " 'South',\n",
       " 'South',\n",
       " 'South',\n",
       " 'South',\n",
       " 'South',\n",
       " 'South',\n",
       " 'South',\n",
       " 'South',\n",
       " 'South',\n",
       " 'South',\n",
       " 'South',\n",
       " 'South',\n",
       " 'South',\n",
       " 'South',\n",
       " 'South',\n",
       " 'South',\n",
       " 'South',\n",
       " 'South',\n",
       " 'South',\n",
       " 'South',\n",
       " 'South',\n",
       " 'South',\n",
       " 'South',\n",
       " 'South',\n",
       " 'South',\n",
       " 'South',\n",
       " 'South',\n",
       " 'South',\n",
       " 'South',\n",
       " 'South',\n",
       " 'South',\n",
       " 'South',\n",
       " 'South',\n",
       " 'South',\n",
       " 'South',\n",
       " 'South',\n",
       " 'South',\n",
       " 'South',\n",
       " 'South',\n",
       " 'South',\n",
       " 'South',\n",
       " 'South',\n",
       " 'South',\n",
       " 'South',\n",
       " 'South',\n",
       " 'South',\n",
       " 'South',\n",
       " 'South',\n",
       " 'South',\n",
       " 'South',\n",
       " 'South',\n",
       " 'South',\n",
       " 'South',\n",
       " 'South',\n",
       " 'South',\n",
       " 'South',\n",
       " 'South',\n",
       " 'South',\n",
       " 'South',\n",
       " 'South',\n",
       " 'South',\n",
       " 'South',\n",
       " 'South',\n",
       " 'South',\n",
       " 'South',\n",
       " 'South',\n",
       " 'South',\n",
       " 'South',\n",
       " 'South',\n",
       " 'South',\n",
       " 'South',\n",
       " 'South',\n",
       " 'South',\n",
       " 'South',\n",
       " 'South',\n",
       " 'South',\n",
       " 'South',\n",
       " 'South',\n",
       " 'South',\n",
       " 'South',\n",
       " 'South',\n",
       " 'South',\n",
       " 'South',\n",
       " 'South',\n",
       " 'South',\n",
       " 'South',\n",
       " 'South',\n",
       " 'South',\n",
       " 'South',\n",
       " 'South',\n",
       " 'South',\n",
       " 'South',\n",
       " 'South',\n",
       " 'South',\n",
       " 'South',\n",
       " 'South',\n",
       " 'South',\n",
       " 'South',\n",
       " 'South',\n",
       " 'South',\n",
       " 'South',\n",
       " 'South',\n",
       " 'South',\n",
       " 'South',\n",
       " 'South',\n",
       " 'South',\n",
       " 'South',\n",
       " 'South',\n",
       " 'South',\n",
       " 'South',\n",
       " 'South',\n",
       " 'South',\n",
       " 'South',\n",
       " 'South',\n",
       " 'South',\n",
       " 'South',\n",
       " 'South',\n",
       " 'South',\n",
       " 'South',\n",
       " 'South',\n",
       " 'South',\n",
       " 'South',\n",
       " 'South',\n",
       " 'South',\n",
       " 'South',\n",
       " 'South',\n",
       " 'South',\n",
       " 'South',\n",
       " 'South',\n",
       " 'South',\n",
       " 'South',\n",
       " 'South',\n",
       " 'South',\n",
       " 'South',\n",
       " 'South',\n",
       " 'South',\n",
       " 'South',\n",
       " 'South',\n",
       " 'South',\n",
       " 'South',\n",
       " 'South',\n",
       " 'South',\n",
       " 'South',\n",
       " 'South',\n",
       " 'South',\n",
       " 'South',\n",
       " 'South',\n",
       " 'South',\n",
       " 'South',\n",
       " 'South',\n",
       " 'South',\n",
       " 'South',\n",
       " 'South',\n",
       " 'South',\n",
       " 'South',\n",
       " 'South',\n",
       " 'South',\n",
       " 'South',\n",
       " 'South',\n",
       " 'South',\n",
       " 'South',\n",
       " 'South',\n",
       " 'South',\n",
       " 'South',\n",
       " 'South',\n",
       " 'South',\n",
       " 'South',\n",
       " 'South',\n",
       " 'South',\n",
       " 'South',\n",
       " 'South',\n",
       " 'South',\n",
       " 'South',\n",
       " 'South',\n",
       " 'South',\n",
       " 'South',\n",
       " 'South',\n",
       " 'South',\n",
       " 'South',\n",
       " 'South',\n",
       " 'South',\n",
       " 'South',\n",
       " 'South',\n",
       " 'South',\n",
       " 'South',\n",
       " 'South',\n",
       " 'South',\n",
       " 'South',\n",
       " 'South',\n",
       " 'South',\n",
       " 'South',\n",
       " 'South',\n",
       " 'South',\n",
       " 'South',\n",
       " 'South',\n",
       " 'South',\n",
       " 'South',\n",
       " 'South',\n",
       " 'South',\n",
       " 'South',\n",
       " 'South',\n",
       " 'South',\n",
       " 'South',\n",
       " 'South',\n",
       " 'South',\n",
       " 'South',\n",
       " 'South',\n",
       " 'South',\n",
       " 'South',\n",
       " 'South',\n",
       " 'South',\n",
       " 'South',\n",
       " 'South',\n",
       " 'South',\n",
       " 'South',\n",
       " 'South',\n",
       " 'South',\n",
       " 'South',\n",
       " 'South',\n",
       " 'South',\n",
       " 'South',\n",
       " 'South',\n",
       " 'South',\n",
       " 'South',\n",
       " 'South',\n",
       " 'South',\n",
       " 'South',\n",
       " 'South',\n",
       " 'South',\n",
       " 'South',\n",
       " 'South',\n",
       " 'South',\n",
       " 'South',\n",
       " 'South',\n",
       " 'South',\n",
       " 'South',\n",
       " 'South',\n",
       " 'West',\n",
       " 'West',\n",
       " 'West',\n",
       " 'West',\n",
       " 'West',\n",
       " 'West',\n",
       " 'West',\n",
       " 'West',\n",
       " 'West',\n",
       " 'West',\n",
       " 'West',\n",
       " 'West',\n",
       " 'West',\n",
       " 'West',\n",
       " 'West',\n",
       " 'West',\n",
       " 'West',\n",
       " 'West',\n",
       " 'West',\n",
       " 'West',\n",
       " 'West',\n",
       " ...]"
      ]
     },
     "execution_count": 36,
     "metadata": {},
     "output_type": "execute_result"
    }
   ],
   "source": [
    "#View result\n",
    "result_1"
   ]
  },
  {
   "cell_type": "code",
   "execution_count": 37,
   "id": "eb87e91d-2b7e-414c-8453-e9b517df7b91",
   "metadata": {},
   "outputs": [],
   "source": [
    "#Assign result to a new column\n",
    "df_final_merged['region'] = result_1"
   ]
  },
  {
   "cell_type": "code",
   "execution_count": 38,
   "id": "85546b60-2a66-4121-ae8c-eef08de94121",
   "metadata": {},
   "outputs": [
    {
     "data": {
      "text/plain": [
       "(32404859, 32)"
      ]
     },
     "execution_count": 38,
     "metadata": {},
     "output_type": "execute_result"
    }
   ],
   "source": [
    "#Get dimensions\n",
    "df_final_merged.shape"
   ]
  },
  {
   "cell_type": "code",
   "execution_count": 39,
   "id": "24c961ac-43aa-4bbd-b024-757df3f78250",
   "metadata": {},
   "outputs": [
    {
     "data": {
      "text/plain": [
       "Index(['order_id', 'user_id', 'user_order_number', 'orders_day_of_week',\n",
       "       'order_hour_of_day', 'days_since_prior_order', 'first_order',\n",
       "       'product_id', 'add_to_cart_order', 'reordered', 'product_name',\n",
       "       'aisle_id', 'department_id', 'prices', 'price_label', 'busiest_day',\n",
       "       'busiest_days', 'busiest_hours', 'max_order', 'loyalty_flag',\n",
       "       'avg_price', 'spending_flag', 'median_days', 'frequency_flag', 'gender',\n",
       "       'state', 'age', 'date_joined', 'number_of_dependents', 'marital_status',\n",
       "       'income', 'region'],\n",
       "      dtype='object')"
      ]
     },
     "execution_count": 39,
     "metadata": {},
     "output_type": "execute_result"
    }
   ],
   "source": [
    "#Get column names\n",
    "df_final_merged.columns"
   ]
  },
  {
   "cell_type": "code",
   "execution_count": 40,
   "id": "6cd1b483-accc-4989-9492-a4b9413d67a1",
   "metadata": {},
   "outputs": [
    {
     "data": {
      "text/plain": [
       "region\n",
       "South        10791885\n",
       "West          8292913\n",
       "Midwest       7597325\n",
       "Northeast     5722736\n",
       "Name: count, dtype: int64"
      ]
     },
     "execution_count": 40,
     "metadata": {},
     "output_type": "execute_result"
    }
   ],
   "source": [
    "#View distribution of values in 'region' column\n",
    "df_final_merged['region'].value_counts(dropna = False)"
   ]
  },
  {
   "cell_type": "markdown",
   "id": "b5845384-7037-4f3d-abba-672f9379b65f",
   "metadata": {},
   "source": [
    "## 5.3. Spending habits per region"
   ]
  },
  {
   "cell_type": "code",
   "execution_count": 42,
   "id": "3f44ed5a-5267-4220-9a17-e28ae880e84b",
   "metadata": {},
   "outputs": [],
   "source": [
    "#Cross variables\n",
    "regional_spending_habits = pd.crosstab(df_final_merged['region'], df_final_merged['spending_flag'], dropna = False)"
   ]
  },
  {
   "cell_type": "code",
   "execution_count": 43,
   "id": "f6501888-62cc-40fd-a2aa-b33c48cd62ff",
   "metadata": {},
   "outputs": [
    {
     "data": {
      "text/html": [
       "<div>\n",
       "<style scoped>\n",
       "    .dataframe tbody tr th:only-of-type {\n",
       "        vertical-align: middle;\n",
       "    }\n",
       "\n",
       "    .dataframe tbody tr th {\n",
       "        vertical-align: top;\n",
       "    }\n",
       "\n",
       "    .dataframe thead th {\n",
       "        text-align: right;\n",
       "    }\n",
       "</style>\n",
       "<table border=\"1\" class=\"dataframe\">\n",
       "  <thead>\n",
       "    <tr style=\"text-align: right;\">\n",
       "      <th>spending_flag</th>\n",
       "      <th>High spender</th>\n",
       "      <th>Low spender</th>\n",
       "    </tr>\n",
       "    <tr>\n",
       "      <th>region</th>\n",
       "      <th></th>\n",
       "      <th></th>\n",
       "    </tr>\n",
       "  </thead>\n",
       "  <tbody>\n",
       "    <tr>\n",
       "      <th>Midwest</th>\n",
       "      <td>29294</td>\n",
       "      <td>7568031</td>\n",
       "    </tr>\n",
       "    <tr>\n",
       "      <th>Northeast</th>\n",
       "      <td>18642</td>\n",
       "      <td>5704094</td>\n",
       "    </tr>\n",
       "    <tr>\n",
       "      <th>South</th>\n",
       "      <td>40739</td>\n",
       "      <td>10751146</td>\n",
       "    </tr>\n",
       "    <tr>\n",
       "      <th>West</th>\n",
       "      <td>31286</td>\n",
       "      <td>8261627</td>\n",
       "    </tr>\n",
       "  </tbody>\n",
       "</table>\n",
       "</div>"
      ],
      "text/plain": [
       "spending_flag  High spender  Low spender\n",
       "region                                  \n",
       "Midwest               29294      7568031\n",
       "Northeast             18642      5704094\n",
       "South                 40739     10751146\n",
       "West                  31286      8261627"
      ]
     },
     "execution_count": 43,
     "metadata": {},
     "output_type": "execute_result"
    }
   ],
   "source": [
    "#View the resulting table\n",
    "regional_spending_habits"
   ]
  },
  {
   "cell_type": "markdown",
   "id": "df326664-8361-48a9-8a5b-884f592b369d",
   "metadata": {},
   "source": [
    "# 6. Low-activity customers"
   ]
  },
  {
   "cell_type": "markdown",
   "id": "00c0d62b-fd13-44ab-9ede-ec1966584978",
   "metadata": {},
   "source": [
    "## 6.1. Add 'activity_flag' column"
   ]
  },
  {
   "cell_type": "code",
   "execution_count": 46,
   "id": "e711046c-d13b-4c27-8ac4-5e9593c7b6ea",
   "metadata": {},
   "outputs": [
    {
     "data": {
      "text/html": [
       "<div>\n",
       "<style scoped>\n",
       "    .dataframe tbody tr th:only-of-type {\n",
       "        vertical-align: middle;\n",
       "    }\n",
       "\n",
       "    .dataframe tbody tr th {\n",
       "        vertical-align: top;\n",
       "    }\n",
       "\n",
       "    .dataframe thead th {\n",
       "        text-align: right;\n",
       "    }\n",
       "</style>\n",
       "<table border=\"1\" class=\"dataframe\">\n",
       "  <thead>\n",
       "    <tr style=\"text-align: right;\">\n",
       "      <th></th>\n",
       "      <th>order_id</th>\n",
       "      <th>user_id</th>\n",
       "      <th>user_order_number</th>\n",
       "      <th>orders_day_of_week</th>\n",
       "      <th>order_hour_of_day</th>\n",
       "      <th>days_since_prior_order</th>\n",
       "      <th>first_order</th>\n",
       "      <th>product_id</th>\n",
       "      <th>add_to_cart_order</th>\n",
       "      <th>reordered</th>\n",
       "      <th>product_name</th>\n",
       "      <th>aisle_id</th>\n",
       "      <th>department_id</th>\n",
       "      <th>prices</th>\n",
       "      <th>price_label</th>\n",
       "      <th>busiest_day</th>\n",
       "      <th>busiest_days</th>\n",
       "      <th>busiest_hours</th>\n",
       "      <th>max_order</th>\n",
       "      <th>loyalty_flag</th>\n",
       "      <th>avg_price</th>\n",
       "      <th>spending_flag</th>\n",
       "      <th>median_days</th>\n",
       "      <th>frequency_flag</th>\n",
       "      <th>gender</th>\n",
       "      <th>state</th>\n",
       "      <th>age</th>\n",
       "      <th>date_joined</th>\n",
       "      <th>number_of_dependents</th>\n",
       "      <th>marital_status</th>\n",
       "      <th>income</th>\n",
       "      <th>region</th>\n",
       "    </tr>\n",
       "  </thead>\n",
       "  <tbody>\n",
       "    <tr>\n",
       "      <th>0</th>\n",
       "      <td>2539329</td>\n",
       "      <td>1</td>\n",
       "      <td>1</td>\n",
       "      <td>2</td>\n",
       "      <td>8</td>\n",
       "      <td>NaN</td>\n",
       "      <td>True</td>\n",
       "      <td>196</td>\n",
       "      <td>1</td>\n",
       "      <td>0</td>\n",
       "      <td>Soda</td>\n",
       "      <td>77</td>\n",
       "      <td>7</td>\n",
       "      <td>9.0</td>\n",
       "      <td>Mid-range product</td>\n",
       "      <td>Regularly busy</td>\n",
       "      <td>Regularly busy</td>\n",
       "      <td>Average orders</td>\n",
       "      <td>10</td>\n",
       "      <td>New customer</td>\n",
       "      <td>6.367797</td>\n",
       "      <td>Low spender</td>\n",
       "      <td>20.5</td>\n",
       "      <td>Non-frequent customer</td>\n",
       "      <td>Female</td>\n",
       "      <td>Alabama</td>\n",
       "      <td>31</td>\n",
       "      <td>2/17/2019</td>\n",
       "      <td>3</td>\n",
       "      <td>married</td>\n",
       "      <td>40423</td>\n",
       "      <td>South</td>\n",
       "    </tr>\n",
       "    <tr>\n",
       "      <th>1</th>\n",
       "      <td>2539329</td>\n",
       "      <td>1</td>\n",
       "      <td>1</td>\n",
       "      <td>2</td>\n",
       "      <td>8</td>\n",
       "      <td>NaN</td>\n",
       "      <td>True</td>\n",
       "      <td>14084</td>\n",
       "      <td>2</td>\n",
       "      <td>0</td>\n",
       "      <td>Organic Unsweetened Vanilla Almond Milk</td>\n",
       "      <td>91</td>\n",
       "      <td>16</td>\n",
       "      <td>12.5</td>\n",
       "      <td>Mid-range product</td>\n",
       "      <td>Regularly busy</td>\n",
       "      <td>Regularly busy</td>\n",
       "      <td>Average orders</td>\n",
       "      <td>10</td>\n",
       "      <td>New customer</td>\n",
       "      <td>6.367797</td>\n",
       "      <td>Low spender</td>\n",
       "      <td>20.5</td>\n",
       "      <td>Non-frequent customer</td>\n",
       "      <td>Female</td>\n",
       "      <td>Alabama</td>\n",
       "      <td>31</td>\n",
       "      <td>2/17/2019</td>\n",
       "      <td>3</td>\n",
       "      <td>married</td>\n",
       "      <td>40423</td>\n",
       "      <td>South</td>\n",
       "    </tr>\n",
       "    <tr>\n",
       "      <th>2</th>\n",
       "      <td>2539329</td>\n",
       "      <td>1</td>\n",
       "      <td>1</td>\n",
       "      <td>2</td>\n",
       "      <td>8</td>\n",
       "      <td>NaN</td>\n",
       "      <td>True</td>\n",
       "      <td>12427</td>\n",
       "      <td>3</td>\n",
       "      <td>0</td>\n",
       "      <td>Original Beef Jerky</td>\n",
       "      <td>23</td>\n",
       "      <td>19</td>\n",
       "      <td>4.4</td>\n",
       "      <td>Low-range product</td>\n",
       "      <td>Regularly busy</td>\n",
       "      <td>Regularly busy</td>\n",
       "      <td>Average orders</td>\n",
       "      <td>10</td>\n",
       "      <td>New customer</td>\n",
       "      <td>6.367797</td>\n",
       "      <td>Low spender</td>\n",
       "      <td>20.5</td>\n",
       "      <td>Non-frequent customer</td>\n",
       "      <td>Female</td>\n",
       "      <td>Alabama</td>\n",
       "      <td>31</td>\n",
       "      <td>2/17/2019</td>\n",
       "      <td>3</td>\n",
       "      <td>married</td>\n",
       "      <td>40423</td>\n",
       "      <td>South</td>\n",
       "    </tr>\n",
       "    <tr>\n",
       "      <th>3</th>\n",
       "      <td>2539329</td>\n",
       "      <td>1</td>\n",
       "      <td>1</td>\n",
       "      <td>2</td>\n",
       "      <td>8</td>\n",
       "      <td>NaN</td>\n",
       "      <td>True</td>\n",
       "      <td>26088</td>\n",
       "      <td>4</td>\n",
       "      <td>0</td>\n",
       "      <td>Aged White Cheddar Popcorn</td>\n",
       "      <td>23</td>\n",
       "      <td>19</td>\n",
       "      <td>4.7</td>\n",
       "      <td>Low-range product</td>\n",
       "      <td>Regularly busy</td>\n",
       "      <td>Regularly busy</td>\n",
       "      <td>Average orders</td>\n",
       "      <td>10</td>\n",
       "      <td>New customer</td>\n",
       "      <td>6.367797</td>\n",
       "      <td>Low spender</td>\n",
       "      <td>20.5</td>\n",
       "      <td>Non-frequent customer</td>\n",
       "      <td>Female</td>\n",
       "      <td>Alabama</td>\n",
       "      <td>31</td>\n",
       "      <td>2/17/2019</td>\n",
       "      <td>3</td>\n",
       "      <td>married</td>\n",
       "      <td>40423</td>\n",
       "      <td>South</td>\n",
       "    </tr>\n",
       "    <tr>\n",
       "      <th>4</th>\n",
       "      <td>2539329</td>\n",
       "      <td>1</td>\n",
       "      <td>1</td>\n",
       "      <td>2</td>\n",
       "      <td>8</td>\n",
       "      <td>NaN</td>\n",
       "      <td>True</td>\n",
       "      <td>26405</td>\n",
       "      <td>5</td>\n",
       "      <td>0</td>\n",
       "      <td>XL Pick-A-Size Paper Towel Rolls</td>\n",
       "      <td>54</td>\n",
       "      <td>17</td>\n",
       "      <td>1.0</td>\n",
       "      <td>Low-range product</td>\n",
       "      <td>Regularly busy</td>\n",
       "      <td>Regularly busy</td>\n",
       "      <td>Average orders</td>\n",
       "      <td>10</td>\n",
       "      <td>New customer</td>\n",
       "      <td>6.367797</td>\n",
       "      <td>Low spender</td>\n",
       "      <td>20.5</td>\n",
       "      <td>Non-frequent customer</td>\n",
       "      <td>Female</td>\n",
       "      <td>Alabama</td>\n",
       "      <td>31</td>\n",
       "      <td>2/17/2019</td>\n",
       "      <td>3</td>\n",
       "      <td>married</td>\n",
       "      <td>40423</td>\n",
       "      <td>South</td>\n",
       "    </tr>\n",
       "  </tbody>\n",
       "</table>\n",
       "</div>"
      ],
      "text/plain": [
       "   order_id  user_id  user_order_number  orders_day_of_week  \\\n",
       "0   2539329        1                  1                   2   \n",
       "1   2539329        1                  1                   2   \n",
       "2   2539329        1                  1                   2   \n",
       "3   2539329        1                  1                   2   \n",
       "4   2539329        1                  1                   2   \n",
       "\n",
       "   order_hour_of_day  days_since_prior_order  first_order  product_id  \\\n",
       "0                  8                     NaN         True         196   \n",
       "1                  8                     NaN         True       14084   \n",
       "2                  8                     NaN         True       12427   \n",
       "3                  8                     NaN         True       26088   \n",
       "4                  8                     NaN         True       26405   \n",
       "\n",
       "   add_to_cart_order  reordered                             product_name  \\\n",
       "0                  1          0                                     Soda   \n",
       "1                  2          0  Organic Unsweetened Vanilla Almond Milk   \n",
       "2                  3          0                      Original Beef Jerky   \n",
       "3                  4          0               Aged White Cheddar Popcorn   \n",
       "4                  5          0         XL Pick-A-Size Paper Towel Rolls   \n",
       "\n",
       "   aisle_id  department_id  prices        price_label     busiest_day  \\\n",
       "0        77              7     9.0  Mid-range product  Regularly busy   \n",
       "1        91             16    12.5  Mid-range product  Regularly busy   \n",
       "2        23             19     4.4  Low-range product  Regularly busy   \n",
       "3        23             19     4.7  Low-range product  Regularly busy   \n",
       "4        54             17     1.0  Low-range product  Regularly busy   \n",
       "\n",
       "     busiest_days   busiest_hours  max_order  loyalty_flag  avg_price  \\\n",
       "0  Regularly busy  Average orders         10  New customer   6.367797   \n",
       "1  Regularly busy  Average orders         10  New customer   6.367797   \n",
       "2  Regularly busy  Average orders         10  New customer   6.367797   \n",
       "3  Regularly busy  Average orders         10  New customer   6.367797   \n",
       "4  Regularly busy  Average orders         10  New customer   6.367797   \n",
       "\n",
       "  spending_flag  median_days         frequency_flag  gender    state  age  \\\n",
       "0   Low spender         20.5  Non-frequent customer  Female  Alabama   31   \n",
       "1   Low spender         20.5  Non-frequent customer  Female  Alabama   31   \n",
       "2   Low spender         20.5  Non-frequent customer  Female  Alabama   31   \n",
       "3   Low spender         20.5  Non-frequent customer  Female  Alabama   31   \n",
       "4   Low spender         20.5  Non-frequent customer  Female  Alabama   31   \n",
       "\n",
       "  date_joined  number_of_dependents marital_status  income region  \n",
       "0   2/17/2019                     3        married   40423  South  \n",
       "1   2/17/2019                     3        married   40423  South  \n",
       "2   2/17/2019                     3        married   40423  South  \n",
       "3   2/17/2019                     3        married   40423  South  \n",
       "4   2/17/2019                     3        married   40423  South  "
      ]
     },
     "execution_count": 46,
     "metadata": {},
     "output_type": "execute_result"
    }
   ],
   "source": [
    "#View top 5 records/rows\n",
    "df_final_merged.head()"
   ]
  },
  {
   "cell_type": "code",
   "execution_count": 47,
   "id": "d76ec997-da04-44e0-8ad0-20809118b2c1",
   "metadata": {},
   "outputs": [],
   "source": [
    "#Allocate activity\n",
    "result_2 = []\n",
    "for value in df_final_merged['max_order']:\n",
    "  if value < 5:\n",
    "    result_2.append('inactive')\n",
    "  elif value >= 5:\n",
    "    result_2.append('active')\n",
    "  else:\n",
    "    result_2.append('unallocated') #Check"
   ]
  },
  {
   "cell_type": "code",
   "execution_count": 48,
   "id": "8d6caa2c-e8f0-43d9-b0f4-eaff6d68329a",
   "metadata": {},
   "outputs": [
    {
     "data": {
      "text/plain": [
       "['active',\n",
       " 'active',\n",
       " 'active',\n",
       " 'active',\n",
       " 'active',\n",
       " 'active',\n",
       " 'active',\n",
       " 'active',\n",
       " 'active',\n",
       " 'active',\n",
       " 'active',\n",
       " 'active',\n",
       " 'active',\n",
       " 'active',\n",
       " 'active',\n",
       " 'active',\n",
       " 'active',\n",
       " 'active',\n",
       " 'active',\n",
       " 'active',\n",
       " 'active',\n",
       " 'active',\n",
       " 'active',\n",
       " 'active',\n",
       " 'active',\n",
       " 'active',\n",
       " 'active',\n",
       " 'active',\n",
       " 'active',\n",
       " 'active',\n",
       " 'active',\n",
       " 'active',\n",
       " 'active',\n",
       " 'active',\n",
       " 'active',\n",
       " 'active',\n",
       " 'active',\n",
       " 'active',\n",
       " 'active',\n",
       " 'active',\n",
       " 'active',\n",
       " 'active',\n",
       " 'active',\n",
       " 'active',\n",
       " 'active',\n",
       " 'active',\n",
       " 'active',\n",
       " 'active',\n",
       " 'active',\n",
       " 'active',\n",
       " 'active',\n",
       " 'active',\n",
       " 'active',\n",
       " 'active',\n",
       " 'active',\n",
       " 'active',\n",
       " 'active',\n",
       " 'active',\n",
       " 'active',\n",
       " 'active',\n",
       " 'active',\n",
       " 'active',\n",
       " 'active',\n",
       " 'active',\n",
       " 'active',\n",
       " 'active',\n",
       " 'active',\n",
       " 'active',\n",
       " 'active',\n",
       " 'active',\n",
       " 'active',\n",
       " 'active',\n",
       " 'active',\n",
       " 'active',\n",
       " 'active',\n",
       " 'active',\n",
       " 'active',\n",
       " 'active',\n",
       " 'active',\n",
       " 'active',\n",
       " 'active',\n",
       " 'active',\n",
       " 'active',\n",
       " 'active',\n",
       " 'active',\n",
       " 'active',\n",
       " 'active',\n",
       " 'active',\n",
       " 'active',\n",
       " 'active',\n",
       " 'active',\n",
       " 'active',\n",
       " 'active',\n",
       " 'active',\n",
       " 'active',\n",
       " 'active',\n",
       " 'active',\n",
       " 'active',\n",
       " 'active',\n",
       " 'active',\n",
       " 'active',\n",
       " 'active',\n",
       " 'active',\n",
       " 'active',\n",
       " 'active',\n",
       " 'active',\n",
       " 'active',\n",
       " 'active',\n",
       " 'active',\n",
       " 'active',\n",
       " 'active',\n",
       " 'active',\n",
       " 'active',\n",
       " 'active',\n",
       " 'active',\n",
       " 'active',\n",
       " 'active',\n",
       " 'active',\n",
       " 'active',\n",
       " 'active',\n",
       " 'active',\n",
       " 'active',\n",
       " 'active',\n",
       " 'active',\n",
       " 'active',\n",
       " 'active',\n",
       " 'active',\n",
       " 'active',\n",
       " 'active',\n",
       " 'active',\n",
       " 'active',\n",
       " 'active',\n",
       " 'active',\n",
       " 'active',\n",
       " 'active',\n",
       " 'active',\n",
       " 'active',\n",
       " 'active',\n",
       " 'active',\n",
       " 'active',\n",
       " 'active',\n",
       " 'active',\n",
       " 'active',\n",
       " 'active',\n",
       " 'active',\n",
       " 'active',\n",
       " 'active',\n",
       " 'active',\n",
       " 'active',\n",
       " 'active',\n",
       " 'active',\n",
       " 'active',\n",
       " 'active',\n",
       " 'active',\n",
       " 'active',\n",
       " 'active',\n",
       " 'active',\n",
       " 'active',\n",
       " 'active',\n",
       " 'active',\n",
       " 'active',\n",
       " 'active',\n",
       " 'active',\n",
       " 'active',\n",
       " 'active',\n",
       " 'active',\n",
       " 'active',\n",
       " 'active',\n",
       " 'active',\n",
       " 'active',\n",
       " 'active',\n",
       " 'active',\n",
       " 'active',\n",
       " 'active',\n",
       " 'active',\n",
       " 'active',\n",
       " 'active',\n",
       " 'active',\n",
       " 'active',\n",
       " 'active',\n",
       " 'active',\n",
       " 'active',\n",
       " 'active',\n",
       " 'active',\n",
       " 'active',\n",
       " 'active',\n",
       " 'active',\n",
       " 'active',\n",
       " 'active',\n",
       " 'active',\n",
       " 'active',\n",
       " 'active',\n",
       " 'active',\n",
       " 'active',\n",
       " 'active',\n",
       " 'active',\n",
       " 'active',\n",
       " 'active',\n",
       " 'active',\n",
       " 'active',\n",
       " 'active',\n",
       " 'active',\n",
       " 'active',\n",
       " 'active',\n",
       " 'active',\n",
       " 'active',\n",
       " 'active',\n",
       " 'active',\n",
       " 'active',\n",
       " 'active',\n",
       " 'active',\n",
       " 'active',\n",
       " 'active',\n",
       " 'active',\n",
       " 'active',\n",
       " 'active',\n",
       " 'active',\n",
       " 'active',\n",
       " 'active',\n",
       " 'active',\n",
       " 'active',\n",
       " 'active',\n",
       " 'active',\n",
       " 'active',\n",
       " 'active',\n",
       " 'active',\n",
       " 'active',\n",
       " 'active',\n",
       " 'active',\n",
       " 'active',\n",
       " 'active',\n",
       " 'active',\n",
       " 'active',\n",
       " 'active',\n",
       " 'active',\n",
       " 'active',\n",
       " 'active',\n",
       " 'active',\n",
       " 'active',\n",
       " 'active',\n",
       " 'active',\n",
       " 'active',\n",
       " 'active',\n",
       " 'active',\n",
       " 'active',\n",
       " 'active',\n",
       " 'active',\n",
       " 'active',\n",
       " 'active',\n",
       " 'active',\n",
       " 'active',\n",
       " 'active',\n",
       " 'active',\n",
       " 'active',\n",
       " 'active',\n",
       " 'active',\n",
       " 'active',\n",
       " 'active',\n",
       " 'active',\n",
       " 'active',\n",
       " 'active',\n",
       " 'active',\n",
       " 'active',\n",
       " 'active',\n",
       " 'active',\n",
       " 'active',\n",
       " 'active',\n",
       " 'active',\n",
       " 'active',\n",
       " 'active',\n",
       " 'active',\n",
       " 'active',\n",
       " 'active',\n",
       " 'active',\n",
       " 'active',\n",
       " 'active',\n",
       " 'active',\n",
       " 'active',\n",
       " 'active',\n",
       " 'active',\n",
       " 'active',\n",
       " 'active',\n",
       " 'active',\n",
       " 'active',\n",
       " 'active',\n",
       " 'active',\n",
       " 'active',\n",
       " 'active',\n",
       " 'active',\n",
       " 'active',\n",
       " 'active',\n",
       " 'active',\n",
       " 'active',\n",
       " 'active',\n",
       " 'active',\n",
       " 'active',\n",
       " 'active',\n",
       " 'active',\n",
       " 'active',\n",
       " 'active',\n",
       " 'active',\n",
       " 'active',\n",
       " 'active',\n",
       " 'active',\n",
       " 'active',\n",
       " 'active',\n",
       " 'active',\n",
       " 'active',\n",
       " 'active',\n",
       " 'active',\n",
       " 'active',\n",
       " 'active',\n",
       " 'active',\n",
       " 'active',\n",
       " 'active',\n",
       " 'active',\n",
       " 'active',\n",
       " 'active',\n",
       " 'active',\n",
       " 'active',\n",
       " 'active',\n",
       " 'active',\n",
       " 'active',\n",
       " 'active',\n",
       " 'active',\n",
       " 'active',\n",
       " 'active',\n",
       " 'active',\n",
       " 'active',\n",
       " 'active',\n",
       " 'active',\n",
       " 'active',\n",
       " 'active',\n",
       " 'active',\n",
       " 'active',\n",
       " 'active',\n",
       " 'active',\n",
       " 'active',\n",
       " 'active',\n",
       " 'active',\n",
       " 'active',\n",
       " 'active',\n",
       " 'active',\n",
       " 'active',\n",
       " 'active',\n",
       " 'active',\n",
       " 'active',\n",
       " 'active',\n",
       " 'active',\n",
       " 'active',\n",
       " 'active',\n",
       " 'active',\n",
       " 'active',\n",
       " 'active',\n",
       " 'active',\n",
       " 'active',\n",
       " 'active',\n",
       " 'active',\n",
       " 'active',\n",
       " 'active',\n",
       " 'inactive',\n",
       " 'inactive',\n",
       " 'inactive',\n",
       " 'inactive',\n",
       " 'inactive',\n",
       " 'inactive',\n",
       " 'inactive',\n",
       " 'inactive',\n",
       " 'inactive',\n",
       " 'inactive',\n",
       " 'inactive',\n",
       " 'inactive',\n",
       " 'inactive',\n",
       " 'inactive',\n",
       " 'inactive',\n",
       " 'inactive',\n",
       " 'inactive',\n",
       " 'inactive',\n",
       " 'inactive',\n",
       " 'inactive',\n",
       " 'inactive',\n",
       " 'inactive',\n",
       " 'inactive',\n",
       " 'inactive',\n",
       " 'inactive',\n",
       " 'inactive',\n",
       " 'inactive',\n",
       " 'inactive',\n",
       " 'inactive',\n",
       " 'inactive',\n",
       " 'inactive',\n",
       " 'inactive',\n",
       " 'inactive',\n",
       " 'inactive',\n",
       " 'inactive',\n",
       " 'inactive',\n",
       " 'inactive',\n",
       " 'inactive',\n",
       " 'inactive',\n",
       " 'inactive',\n",
       " 'inactive',\n",
       " 'inactive',\n",
       " 'inactive',\n",
       " 'inactive',\n",
       " 'inactive',\n",
       " 'inactive',\n",
       " 'inactive',\n",
       " 'inactive',\n",
       " 'inactive',\n",
       " 'inactive',\n",
       " 'inactive',\n",
       " 'active',\n",
       " 'active',\n",
       " 'active',\n",
       " 'active',\n",
       " 'active',\n",
       " 'active',\n",
       " 'active',\n",
       " 'active',\n",
       " 'active',\n",
       " 'active',\n",
       " 'active',\n",
       " 'active',\n",
       " 'active',\n",
       " 'active',\n",
       " 'active',\n",
       " 'active',\n",
       " 'active',\n",
       " 'active',\n",
       " 'active',\n",
       " 'active',\n",
       " 'active',\n",
       " 'active',\n",
       " 'active',\n",
       " 'active',\n",
       " 'active',\n",
       " 'active',\n",
       " 'active',\n",
       " 'active',\n",
       " 'active',\n",
       " 'active',\n",
       " 'active',\n",
       " 'active',\n",
       " 'active',\n",
       " 'active',\n",
       " 'active',\n",
       " 'active',\n",
       " 'active',\n",
       " 'active',\n",
       " 'active',\n",
       " 'active',\n",
       " 'active',\n",
       " 'active',\n",
       " 'active',\n",
       " 'active',\n",
       " 'active',\n",
       " 'active',\n",
       " 'active',\n",
       " 'active',\n",
       " 'active',\n",
       " 'active',\n",
       " 'active',\n",
       " 'active',\n",
       " 'active',\n",
       " 'active',\n",
       " 'active',\n",
       " 'active',\n",
       " 'active',\n",
       " 'active',\n",
       " 'active',\n",
       " 'active',\n",
       " 'active',\n",
       " 'active',\n",
       " 'active',\n",
       " 'active',\n",
       " 'active',\n",
       " 'active',\n",
       " 'active',\n",
       " 'active',\n",
       " 'active',\n",
       " 'active',\n",
       " 'active',\n",
       " 'active',\n",
       " 'active',\n",
       " 'active',\n",
       " 'active',\n",
       " 'active',\n",
       " 'active',\n",
       " 'active',\n",
       " 'active',\n",
       " 'active',\n",
       " 'active',\n",
       " 'active',\n",
       " 'active',\n",
       " 'active',\n",
       " 'active',\n",
       " 'active',\n",
       " 'active',\n",
       " 'active',\n",
       " 'active',\n",
       " 'active',\n",
       " 'active',\n",
       " 'active',\n",
       " 'active',\n",
       " 'active',\n",
       " 'active',\n",
       " 'active',\n",
       " 'active',\n",
       " 'active',\n",
       " 'active',\n",
       " 'active',\n",
       " 'active',\n",
       " 'active',\n",
       " 'active',\n",
       " 'active',\n",
       " 'active',\n",
       " 'active',\n",
       " 'active',\n",
       " 'active',\n",
       " 'active',\n",
       " 'active',\n",
       " 'active',\n",
       " 'active',\n",
       " 'active',\n",
       " 'active',\n",
       " 'active',\n",
       " 'active',\n",
       " 'active',\n",
       " 'active',\n",
       " 'active',\n",
       " 'active',\n",
       " 'active',\n",
       " 'active',\n",
       " 'active',\n",
       " 'active',\n",
       " 'active',\n",
       " 'active',\n",
       " 'active',\n",
       " 'active',\n",
       " 'active',\n",
       " 'active',\n",
       " 'active',\n",
       " 'active',\n",
       " 'active',\n",
       " 'active',\n",
       " 'active',\n",
       " 'active',\n",
       " 'active',\n",
       " 'active',\n",
       " 'active',\n",
       " 'active',\n",
       " 'active',\n",
       " 'active',\n",
       " 'active',\n",
       " 'active',\n",
       " 'active',\n",
       " 'active',\n",
       " 'active',\n",
       " 'active',\n",
       " 'active',\n",
       " 'active',\n",
       " 'active',\n",
       " 'active',\n",
       " 'active',\n",
       " 'active',\n",
       " 'active',\n",
       " 'active',\n",
       " 'active',\n",
       " 'active',\n",
       " 'active',\n",
       " 'active',\n",
       " 'active',\n",
       " 'active',\n",
       " 'active',\n",
       " 'active',\n",
       " 'active',\n",
       " 'active',\n",
       " 'active',\n",
       " 'active',\n",
       " 'active',\n",
       " 'active',\n",
       " 'active',\n",
       " 'active',\n",
       " 'active',\n",
       " 'active',\n",
       " 'active',\n",
       " 'active',\n",
       " 'active',\n",
       " 'active',\n",
       " 'active',\n",
       " 'active',\n",
       " 'active',\n",
       " 'active',\n",
       " 'active',\n",
       " 'active',\n",
       " 'active',\n",
       " 'active',\n",
       " 'active',\n",
       " 'active',\n",
       " 'active',\n",
       " 'active',\n",
       " 'active',\n",
       " 'active',\n",
       " 'active',\n",
       " 'active',\n",
       " 'active',\n",
       " 'active',\n",
       " 'active',\n",
       " 'active',\n",
       " 'active',\n",
       " 'active',\n",
       " 'active',\n",
       " 'active',\n",
       " 'active',\n",
       " 'active',\n",
       " 'active',\n",
       " 'active',\n",
       " 'inactive',\n",
       " 'inactive',\n",
       " 'inactive',\n",
       " 'inactive',\n",
       " 'inactive',\n",
       " 'inactive',\n",
       " 'inactive',\n",
       " 'inactive',\n",
       " 'inactive',\n",
       " 'inactive',\n",
       " 'inactive',\n",
       " 'inactive',\n",
       " 'inactive',\n",
       " 'inactive',\n",
       " 'inactive',\n",
       " 'inactive',\n",
       " 'inactive',\n",
       " 'inactive',\n",
       " 'inactive',\n",
       " 'inactive',\n",
       " 'inactive',\n",
       " 'inactive',\n",
       " 'inactive',\n",
       " 'inactive',\n",
       " 'inactive',\n",
       " 'inactive',\n",
       " 'inactive',\n",
       " 'inactive',\n",
       " 'inactive',\n",
       " 'inactive',\n",
       " 'inactive',\n",
       " 'inactive',\n",
       " 'inactive',\n",
       " 'inactive',\n",
       " 'inactive',\n",
       " 'inactive',\n",
       " 'inactive',\n",
       " 'inactive',\n",
       " 'inactive',\n",
       " 'inactive',\n",
       " 'inactive',\n",
       " 'inactive',\n",
       " 'inactive',\n",
       " 'inactive',\n",
       " 'inactive',\n",
       " 'inactive',\n",
       " 'inactive',\n",
       " 'inactive',\n",
       " 'inactive',\n",
       " 'inactive',\n",
       " 'inactive',\n",
       " 'inactive',\n",
       " 'inactive',\n",
       " 'inactive',\n",
       " 'inactive',\n",
       " 'inactive',\n",
       " 'inactive',\n",
       " 'inactive',\n",
       " 'inactive',\n",
       " 'inactive',\n",
       " 'inactive',\n",
       " 'inactive',\n",
       " 'inactive',\n",
       " 'inactive',\n",
       " 'inactive',\n",
       " 'inactive',\n",
       " 'inactive',\n",
       " 'inactive',\n",
       " 'inactive',\n",
       " 'inactive',\n",
       " 'inactive',\n",
       " 'inactive',\n",
       " 'inactive',\n",
       " 'inactive',\n",
       " 'inactive',\n",
       " 'inactive',\n",
       " 'inactive',\n",
       " 'inactive',\n",
       " 'inactive',\n",
       " 'inactive',\n",
       " 'inactive',\n",
       " 'inactive',\n",
       " 'inactive',\n",
       " 'inactive',\n",
       " 'inactive',\n",
       " 'inactive',\n",
       " 'inactive',\n",
       " 'inactive',\n",
       " 'inactive',\n",
       " 'inactive',\n",
       " 'inactive',\n",
       " 'inactive',\n",
       " 'inactive',\n",
       " 'inactive',\n",
       " 'inactive',\n",
       " 'inactive',\n",
       " 'inactive',\n",
       " 'inactive',\n",
       " 'inactive',\n",
       " 'inactive',\n",
       " 'inactive',\n",
       " 'inactive',\n",
       " 'inactive',\n",
       " 'inactive',\n",
       " 'inactive',\n",
       " 'inactive',\n",
       " 'inactive',\n",
       " 'inactive',\n",
       " 'inactive',\n",
       " 'inactive',\n",
       " 'inactive',\n",
       " 'inactive',\n",
       " 'inactive',\n",
       " 'inactive',\n",
       " 'inactive',\n",
       " 'inactive',\n",
       " 'inactive',\n",
       " 'inactive',\n",
       " 'inactive',\n",
       " 'inactive',\n",
       " 'inactive',\n",
       " 'inactive',\n",
       " 'inactive',\n",
       " 'inactive',\n",
       " 'inactive',\n",
       " 'active',\n",
       " 'active',\n",
       " 'active',\n",
       " 'active',\n",
       " 'active',\n",
       " 'active',\n",
       " 'active',\n",
       " 'active',\n",
       " 'active',\n",
       " 'active',\n",
       " 'active',\n",
       " 'active',\n",
       " 'active',\n",
       " 'active',\n",
       " 'active',\n",
       " 'active',\n",
       " 'active',\n",
       " 'active',\n",
       " 'active',\n",
       " 'active',\n",
       " 'active',\n",
       " 'active',\n",
       " 'active',\n",
       " 'active',\n",
       " 'active',\n",
       " 'active',\n",
       " 'active',\n",
       " 'active',\n",
       " 'active',\n",
       " 'active',\n",
       " 'active',\n",
       " 'active',\n",
       " 'active',\n",
       " 'active',\n",
       " 'active',\n",
       " 'active',\n",
       " 'active',\n",
       " 'active',\n",
       " 'active',\n",
       " 'active',\n",
       " 'active',\n",
       " 'active',\n",
       " 'active',\n",
       " 'active',\n",
       " 'active',\n",
       " 'active',\n",
       " 'active',\n",
       " 'active',\n",
       " 'active',\n",
       " 'active',\n",
       " 'active',\n",
       " 'active',\n",
       " 'active',\n",
       " 'active',\n",
       " 'active',\n",
       " 'active',\n",
       " 'active',\n",
       " 'active',\n",
       " 'active',\n",
       " 'active',\n",
       " 'active',\n",
       " 'active',\n",
       " 'active',\n",
       " 'active',\n",
       " 'active',\n",
       " 'active',\n",
       " 'active',\n",
       " 'active',\n",
       " 'active',\n",
       " 'active',\n",
       " 'active',\n",
       " 'active',\n",
       " 'active',\n",
       " 'active',\n",
       " 'active',\n",
       " 'active',\n",
       " 'active',\n",
       " 'active',\n",
       " 'active',\n",
       " 'active',\n",
       " 'active',\n",
       " 'active',\n",
       " 'active',\n",
       " 'active',\n",
       " 'active',\n",
       " 'active',\n",
       " 'active',\n",
       " 'active',\n",
       " 'active',\n",
       " 'active',\n",
       " 'active',\n",
       " 'active',\n",
       " 'active',\n",
       " 'active',\n",
       " 'active',\n",
       " 'active',\n",
       " 'active',\n",
       " 'active',\n",
       " 'active',\n",
       " 'active',\n",
       " 'active',\n",
       " 'active',\n",
       " 'active',\n",
       " 'active',\n",
       " 'active',\n",
       " 'active',\n",
       " 'active',\n",
       " 'active',\n",
       " 'active',\n",
       " 'active',\n",
       " 'active',\n",
       " 'active',\n",
       " 'active',\n",
       " 'active',\n",
       " 'active',\n",
       " 'active',\n",
       " 'active',\n",
       " 'active',\n",
       " 'active',\n",
       " 'active',\n",
       " 'active',\n",
       " 'active',\n",
       " 'active',\n",
       " 'active',\n",
       " 'active',\n",
       " 'active',\n",
       " 'active',\n",
       " 'active',\n",
       " 'active',\n",
       " 'active',\n",
       " 'active',\n",
       " 'active',\n",
       " 'active',\n",
       " 'active',\n",
       " 'active',\n",
       " 'active',\n",
       " 'active',\n",
       " 'active',\n",
       " 'active',\n",
       " 'active',\n",
       " 'active',\n",
       " 'active',\n",
       " 'active',\n",
       " 'active',\n",
       " 'active',\n",
       " 'active',\n",
       " 'active',\n",
       " 'active',\n",
       " 'active',\n",
       " 'active',\n",
       " 'active',\n",
       " 'active',\n",
       " 'active',\n",
       " 'active',\n",
       " 'active',\n",
       " 'active',\n",
       " 'active',\n",
       " 'active',\n",
       " 'active',\n",
       " 'active',\n",
       " 'active',\n",
       " 'active',\n",
       " 'active',\n",
       " 'active',\n",
       " 'active',\n",
       " 'active',\n",
       " 'active',\n",
       " 'active',\n",
       " 'active',\n",
       " 'active',\n",
       " 'active',\n",
       " 'active',\n",
       " 'active',\n",
       " 'active',\n",
       " 'active',\n",
       " 'active',\n",
       " 'active',\n",
       " 'active',\n",
       " 'active',\n",
       " 'active',\n",
       " 'active',\n",
       " 'active',\n",
       " 'active',\n",
       " 'active',\n",
       " 'active',\n",
       " 'active',\n",
       " 'active',\n",
       " 'active',\n",
       " 'active',\n",
       " 'active',\n",
       " 'active',\n",
       " 'active',\n",
       " 'active',\n",
       " 'active',\n",
       " 'active',\n",
       " 'active',\n",
       " 'active',\n",
       " 'active',\n",
       " 'active',\n",
       " 'active',\n",
       " 'active',\n",
       " 'active',\n",
       " 'active',\n",
       " 'active',\n",
       " 'active',\n",
       " 'active',\n",
       " 'active',\n",
       " 'active',\n",
       " 'active',\n",
       " 'active',\n",
       " 'active',\n",
       " 'active',\n",
       " 'active',\n",
       " 'active',\n",
       " 'active',\n",
       " 'active',\n",
       " 'active',\n",
       " 'active',\n",
       " 'active',\n",
       " 'active',\n",
       " 'active',\n",
       " 'active',\n",
       " 'active',\n",
       " 'active',\n",
       " 'active',\n",
       " 'active',\n",
       " 'active',\n",
       " 'active',\n",
       " 'active',\n",
       " 'active',\n",
       " 'active',\n",
       " 'active',\n",
       " 'active',\n",
       " 'active',\n",
       " 'active',\n",
       " 'active',\n",
       " 'active',\n",
       " 'active',\n",
       " 'active',\n",
       " 'active',\n",
       " 'active',\n",
       " 'active',\n",
       " 'active',\n",
       " 'active',\n",
       " 'active',\n",
       " 'active',\n",
       " 'active',\n",
       " 'active',\n",
       " 'active',\n",
       " 'active',\n",
       " 'active',\n",
       " 'active',\n",
       " 'active',\n",
       " 'active',\n",
       " 'active',\n",
       " 'active',\n",
       " 'active',\n",
       " 'active',\n",
       " ...]"
      ]
     },
     "execution_count": 48,
     "metadata": {},
     "output_type": "execute_result"
    }
   ],
   "source": [
    "#View results\n",
    "result_2"
   ]
  },
  {
   "cell_type": "code",
   "execution_count": 49,
   "id": "26d7584c-5fe4-4447-bb00-0b526769925f",
   "metadata": {},
   "outputs": [],
   "source": [
    "#Assign result to a new column\n",
    "df_final_merged['activity_flag'] = result_2"
   ]
  },
  {
   "cell_type": "code",
   "execution_count": 50,
   "id": "a3cecb62-1830-4a1a-89cb-02cfdb4ceb5d",
   "metadata": {},
   "outputs": [
    {
     "data": {
      "text/plain": [
       "(32404859, 33)"
      ]
     },
     "execution_count": 50,
     "metadata": {},
     "output_type": "execute_result"
    }
   ],
   "source": [
    "#View dimensions\n",
    "df_final_merged.shape"
   ]
  },
  {
   "cell_type": "code",
   "execution_count": 51,
   "id": "211fb906-eff0-4a99-962c-69fad520b97a",
   "metadata": {},
   "outputs": [
    {
     "data": {
      "text/plain": [
       "activity_flag\n",
       "active      30964564\n",
       "inactive     1440295\n",
       "Name: count, dtype: int64"
      ]
     },
     "execution_count": 51,
     "metadata": {},
     "output_type": "execute_result"
    }
   ],
   "source": [
    "#View distribution of values in 'activity_flag' column\n",
    "df_final_merged['activity_flag'].value_counts(dropna = False)"
   ]
  },
  {
   "cell_type": "code",
   "execution_count": 52,
   "id": "4e419d31-ed2e-4bf7-b09a-a71f63583424",
   "metadata": {},
   "outputs": [
    {
     "data": {
      "text/plain": [
       "activity_flag\n",
       "active      162631\n",
       "inactive     43578\n",
       "Name: user_id, dtype: int64"
      ]
     },
     "execution_count": 52,
     "metadata": {},
     "output_type": "execute_result"
    }
   ],
   "source": [
    "#Group by activity_flag and count the unique user_ids per flag\n",
    "df_final_merged.groupby('activity_flag')['user_id'].nunique()"
   ]
  },
  {
   "cell_type": "code",
   "execution_count": 53,
   "id": "ac5a8993-9910-4f1f-9a39-7ade1f6ff761",
   "metadata": {},
   "outputs": [],
   "source": [
    "#Create subset of active customers only\n",
    "df_active_customers = df_final_merged[df_final_merged['activity_flag'] == 'active']"
   ]
  },
  {
   "cell_type": "code",
   "execution_count": 54,
   "id": "3772a1d9-20ad-4335-8830-d3b6f75b139c",
   "metadata": {},
   "outputs": [
    {
     "data": {
      "text/plain": [
       "(30964564, 33)"
      ]
     },
     "execution_count": 54,
     "metadata": {},
     "output_type": "execute_result"
    }
   ],
   "source": [
    "#View dimensions\n",
    "df_active_customers.shape"
   ]
  },
  {
   "cell_type": "markdown",
   "id": "aed748e8-3397-4c23-9b0b-6a50ab9111e5",
   "metadata": {},
   "source": [
    "## 6.2. Export for CFO"
   ]
  },
  {
   "cell_type": "code",
   "execution_count": 56,
   "id": "7b90ac7d-adca-4450-96d9-c2e692737984",
   "metadata": {},
   "outputs": [],
   "source": [
    "#Export to .csv for CFO\n",
    "df_active_customers.to_csv(os.path.join(path, '02 - Data', 'Prepared Data', '10_active_customers.csv'))"
   ]
  },
  {
   "cell_type": "markdown",
   "id": "1263c3dc-9e45-4c05-8747-533be0b75ed7",
   "metadata": {},
   "source": [
    "# 7. Customer profiling"
   ]
  },
  {
   "cell_type": "markdown",
   "id": "43ad0368-a618-417b-bbb3-6e51e5b77491",
   "metadata": {},
   "source": [
    "## 7.1. Age profile"
   ]
  },
  {
   "cell_type": "code",
   "execution_count": 59,
   "id": "f42bcaab-13f7-43cc-a307-9d8d1e83ea81",
   "metadata": {},
   "outputs": [
    {
     "data": {
      "text/plain": [
       "age\n",
       "18    500474\n",
       "19    519606\n",
       "20    502848\n",
       "21    512527\n",
       "22    513853\n",
       "       ...  \n",
       "77    502120\n",
       "78    495311\n",
       "79    529742\n",
       "80    515246\n",
       "81    509284\n",
       "Name: count, Length: 64, dtype: int64"
      ]
     },
     "execution_count": 59,
     "metadata": {},
     "output_type": "execute_result"
    }
   ],
   "source": [
    "#View values in 'age' column\n",
    "df_final_merged['age'].value_counts(dropna = False).sort_index()"
   ]
  },
  {
   "cell_type": "code",
   "execution_count": 60,
   "id": "e1999d31-5d89-4fd4-a9c2-4298cf4d03e9",
   "metadata": {},
   "outputs": [],
   "source": [
    "#Allocate age\n",
    "result_3 = []\n",
    "for value in df_final_merged['age']:\n",
    "  if value <= 34:\n",
    "    result_3.append('Young')\n",
    "  elif value <= 64:\n",
    "    result_3.append('Adult')\n",
    "  elif value <= 81:\n",
    "    result_3.append('Senior')\n",
    "  else:\n",
    "    result_3.append('unallocated')"
   ]
  },
  {
   "cell_type": "code",
   "execution_count": 61,
   "id": "88478ea3-4497-4991-ae38-634c861029a9",
   "metadata": {},
   "outputs": [],
   "source": [
    "#Assign result to a new column\n",
    "df_final_merged['age_profile'] = result_3"
   ]
  },
  {
   "cell_type": "code",
   "execution_count": 62,
   "id": "3c129aa3-4082-40c1-b1e8-a17ff99c869e",
   "metadata": {},
   "outputs": [
    {
     "data": {
      "text/plain": [
       "(32404859, 34)"
      ]
     },
     "execution_count": 62,
     "metadata": {},
     "output_type": "execute_result"
    }
   ],
   "source": [
    "#View dimensions\n",
    "df_final_merged.shape"
   ]
  },
  {
   "cell_type": "code",
   "execution_count": 63,
   "id": "f2989204-0e42-4ebd-942d-f45e9ca15b34",
   "metadata": {},
   "outputs": [],
   "source": [
    "# Define the correct order for category\n",
    "age_order = ['Young', 'Adult', 'Senior']"
   ]
  },
  {
   "cell_type": "code",
   "execution_count": 64,
   "id": "d7e1180a-bbac-4cdb-bc65-e536a39fab9e",
   "metadata": {},
   "outputs": [],
   "source": [
    "# Convert 'age_profile' to categorical type with the specified order\n",
    "df_final_merged['age_profile'] = pd.Categorical(df_final_merged['age_profile'], categories = age_order, ordered = True)"
   ]
  },
  {
   "cell_type": "code",
   "execution_count": 65,
   "id": "e3c2ea35-bde3-4c3c-b3b9-8cd8f66dbcf3",
   "metadata": {},
   "outputs": [
    {
     "data": {
      "text/plain": [
       "age_profile\n",
       "Young      8627655\n",
       "Adult     15202120\n",
       "Senior     8575084\n",
       "Name: count, dtype: int64"
      ]
     },
     "execution_count": 65,
     "metadata": {},
     "output_type": "execute_result"
    }
   ],
   "source": [
    "#View distribution of values in 'age_profile' column\n",
    "df_final_merged['age_profile'].value_counts(dropna = False).sort_index()"
   ]
  },
  {
   "cell_type": "code",
   "execution_count": 66,
   "id": "97457d03-8487-4fa8-8b68-802d8ed5c344",
   "metadata": {},
   "outputs": [
    {
     "data": {
      "text/plain": [
       "age_profile\n",
       "Young     54840\n",
       "Adult     96640\n",
       "Senior    54729\n",
       "Name: user_id, dtype: int64"
      ]
     },
     "execution_count": 66,
     "metadata": {},
     "output_type": "execute_result"
    }
   ],
   "source": [
    "#Group by age_profile and count the unique user_ids per flag\n",
    "df_final_merged.groupby('age_profile', observed = False)['user_id'].nunique()"
   ]
  },
  {
   "cell_type": "markdown",
   "id": "77c0e06d-2e0a-4e81-a8e4-b5aa82954839",
   "metadata": {},
   "source": [
    "## 7.2. Income profile"
   ]
  },
  {
   "cell_type": "code",
   "execution_count": 68,
   "id": "e38b1154-1fe9-463d-9904-9a70395207c0",
   "metadata": {},
   "outputs": [
    {
     "data": {
      "text/plain": [
       "income\n",
       "25903      20\n",
       "25911      28\n",
       "25937      39\n",
       "25941      31\n",
       "25955     392\n",
       "         ... \n",
       "584097    826\n",
       "590790     54\n",
       "591089    176\n",
       "592409    318\n",
       "593901    640\n",
       "Name: count, Length: 108012, dtype: int64"
      ]
     },
     "execution_count": 68,
     "metadata": {},
     "output_type": "execute_result"
    }
   ],
   "source": [
    "df_final_merged['income'].value_counts(dropna = False).sort_index()"
   ]
  },
  {
   "cell_type": "code",
   "execution_count": 69,
   "id": "160edb70-57fc-4782-95c1-6c90d57924ea",
   "metadata": {},
   "outputs": [],
   "source": [
    "#Allocate income\n",
    "result_4 = []\n",
    "for value in df_final_merged['income']:\n",
    "  if value <= 54999:\n",
    "    result_4.append('Low income')\n",
    "  elif value <= 149999:\n",
    "    result_4.append('Middle income')\n",
    "  else:\n",
    "    result_4.append('High income') #Check"
   ]
  },
  {
   "cell_type": "code",
   "execution_count": 70,
   "id": "6caf4793-e9b2-4901-8249-a463b3c80c5d",
   "metadata": {},
   "outputs": [],
   "source": [
    "#Assign result to a new column\n",
    "df_final_merged['income_profile'] = result_4"
   ]
  },
  {
   "cell_type": "code",
   "execution_count": 71,
   "id": "2a98a6c9-0647-4952-87ad-c3d1e86b79b1",
   "metadata": {},
   "outputs": [
    {
     "data": {
      "text/plain": [
       "(32404859, 35)"
      ]
     },
     "execution_count": 71,
     "metadata": {},
     "output_type": "execute_result"
    }
   ],
   "source": [
    "#View dimensions\n",
    "df_final_merged.shape"
   ]
  },
  {
   "cell_type": "code",
   "execution_count": 72,
   "id": "0f3c2e81-51d1-4f44-910f-455007c7111a",
   "metadata": {},
   "outputs": [],
   "source": [
    "# Define the correct order for category\n",
    "income_order = ['Low income', 'Middle income', 'High income']"
   ]
  },
  {
   "cell_type": "code",
   "execution_count": 73,
   "id": "e4b6bcc0-42ff-4037-934c-e075803a0834",
   "metadata": {},
   "outputs": [],
   "source": [
    "# Convert 'age_profile' to categorical type with the specified order\n",
    "df_final_merged['income_profile'] = pd.Categorical(df_final_merged['income_profile'], categories = income_order, ordered = True)"
   ]
  },
  {
   "cell_type": "code",
   "execution_count": 74,
   "id": "5e2d3deb-238b-45de-b3c3-3c0c1a06dee0",
   "metadata": {},
   "outputs": [
    {
     "data": {
      "text/plain": [
       "income_profile\n",
       "Low income        4739985\n",
       "Middle income    23613293\n",
       "High income       4051581\n",
       "Name: count, dtype: int64"
      ]
     },
     "execution_count": 74,
     "metadata": {},
     "output_type": "execute_result"
    }
   ],
   "source": [
    "#View distribution of values in 'income_profile' column\n",
    "df_final_merged['income_profile'].value_counts(dropna = False).sort_index()"
   ]
  },
  {
   "cell_type": "code",
   "execution_count": 75,
   "id": "a0fea3f8-3630-4494-93ae-f3171a4e2a33",
   "metadata": {},
   "outputs": [
    {
     "data": {
      "text/plain": [
       "income_profile\n",
       "Low income        42113\n",
       "Middle income    140842\n",
       "High income       23254\n",
       "Name: user_id, dtype: int64"
      ]
     },
     "execution_count": 75,
     "metadata": {},
     "output_type": "execute_result"
    }
   ],
   "source": [
    "#Group by income_profile and count the unique user_ids per flag\n",
    "df_final_merged.groupby('income_profile', observed = False)['user_id'].nunique()"
   ]
  },
  {
   "cell_type": "markdown",
   "id": "98fa4274-8f3e-4aa8-8b9b-d589cf607ef4",
   "metadata": {},
   "source": [
    "## 7.3. Family status"
   ]
  },
  {
   "cell_type": "markdown",
   "id": "7b5d857b-f73a-4a76-aa10-01fc6a889ad8",
   "metadata": {},
   "source": [
    "### 7.3.1. Parental status"
   ]
  },
  {
   "cell_type": "code",
   "execution_count": 78,
   "id": "a592f5e7-f212-4f0e-97f3-b69fcd478ee6",
   "metadata": {},
   "outputs": [
    {
     "data": {
      "text/plain": [
       "number_of_dependents\n",
       "0    8097503\n",
       "1    8081104\n",
       "2    8091143\n",
       "3    8135109\n",
       "Name: count, dtype: int64"
      ]
     },
     "execution_count": 78,
     "metadata": {},
     "output_type": "execute_result"
    }
   ],
   "source": [
    "#View distribution of values in 'number_of_dependents' column\n",
    "df_final_merged['number_of_dependents'].value_counts(dropna = False).sort_index()"
   ]
  },
  {
   "cell_type": "code",
   "execution_count": 79,
   "id": "02e06f67-0d52-4fa4-b1e1-47cb7237ff3a",
   "metadata": {},
   "outputs": [],
   "source": [
    "#Allocate dependents\n",
    "result_5 = []\n",
    "for value in df_final_merged['number_of_dependents']:\n",
    "  if value == 0:\n",
    "    result_5.append('non-parent')\n",
    "  elif value > 0:\n",
    "    result_5.append('parent')\n",
    "  else:\n",
    "    result_5.append('unallocated') #Check"
   ]
  },
  {
   "cell_type": "code",
   "execution_count": 80,
   "id": "afe8067e-64b9-49a7-996f-a999ea7a1954",
   "metadata": {},
   "outputs": [],
   "source": [
    "#Assign result to a new column\n",
    "df_final_merged['parental_status'] = result_5"
   ]
  },
  {
   "cell_type": "code",
   "execution_count": 81,
   "id": "d4ea9277-b135-4716-995c-16976a0f6a6e",
   "metadata": {},
   "outputs": [
    {
     "data": {
      "text/plain": [
       "(32404859, 36)"
      ]
     },
     "execution_count": 81,
     "metadata": {},
     "output_type": "execute_result"
    }
   ],
   "source": [
    "#Get dimensions\n",
    "df_final_merged.shape"
   ]
  },
  {
   "cell_type": "code",
   "execution_count": 82,
   "id": "b41450cc-d75d-4cc5-b8db-b228ea423d4e",
   "metadata": {},
   "outputs": [
    {
     "data": {
      "text/plain": [
       "parental_status\n",
       "non-parent     8097503\n",
       "parent        24307356\n",
       "Name: count, dtype: int64"
      ]
     },
     "execution_count": 82,
     "metadata": {},
     "output_type": "execute_result"
    }
   ],
   "source": [
    "#View distribution of values in 'parent_profile' column\n",
    "df_final_merged['parental_status'].value_counts(dropna = False).sort_index()"
   ]
  },
  {
   "cell_type": "markdown",
   "id": "b9550d9e-b066-497e-a536-1863950634e0",
   "metadata": {},
   "source": [
    "### 7.3.2. Marital status"
   ]
  },
  {
   "cell_type": "code",
   "execution_count": 84,
   "id": "92877216-fd72-4383-bb9c-1dc00b979773",
   "metadata": {},
   "outputs": [
    {
     "data": {
      "text/plain": [
       "marital_status\n",
       "divorced/widowed                     2771812\n",
       "living with parents and siblings     1550603\n",
       "married                             22756753\n",
       "single                               5325691\n",
       "Name: count, dtype: int64"
      ]
     },
     "execution_count": 84,
     "metadata": {},
     "output_type": "execute_result"
    }
   ],
   "source": [
    "#View distribution of values in 'marital_status' column\n",
    "df_final_merged['marital_status'].value_counts(dropna = False).sort_index()"
   ]
  },
  {
   "cell_type": "markdown",
   "id": "04a25589-c66a-4df6-bb5f-856744117dfa",
   "metadata": {},
   "source": [
    "### 7.3.3. Family status"
   ]
  },
  {
   "cell_type": "code",
   "execution_count": 86,
   "id": "e8224466-0684-4b8f-a449-6c9166e9a36d",
   "metadata": {},
   "outputs": [],
   "source": [
    "#Cross variables\n",
    "marital_vs_parental_status = pd.crosstab(df_final_merged['marital_status'], df_final_merged['parental_status'], dropna = False)"
   ]
  },
  {
   "cell_type": "code",
   "execution_count": 87,
   "id": "39a4a89c-5307-40aa-b774-ac3117351774",
   "metadata": {},
   "outputs": [
    {
     "data": {
      "text/html": [
       "<div>\n",
       "<style scoped>\n",
       "    .dataframe tbody tr th:only-of-type {\n",
       "        vertical-align: middle;\n",
       "    }\n",
       "\n",
       "    .dataframe tbody tr th {\n",
       "        vertical-align: top;\n",
       "    }\n",
       "\n",
       "    .dataframe thead th {\n",
       "        text-align: right;\n",
       "    }\n",
       "</style>\n",
       "<table border=\"1\" class=\"dataframe\">\n",
       "  <thead>\n",
       "    <tr style=\"text-align: right;\">\n",
       "      <th>parental_status</th>\n",
       "      <th>non-parent</th>\n",
       "      <th>parent</th>\n",
       "    </tr>\n",
       "    <tr>\n",
       "      <th>marital_status</th>\n",
       "      <th></th>\n",
       "      <th></th>\n",
       "    </tr>\n",
       "  </thead>\n",
       "  <tbody>\n",
       "    <tr>\n",
       "      <th>divorced/widowed</th>\n",
       "      <td>2771812</td>\n",
       "      <td>0</td>\n",
       "    </tr>\n",
       "    <tr>\n",
       "      <th>living with parents and siblings</th>\n",
       "      <td>0</td>\n",
       "      <td>1550603</td>\n",
       "    </tr>\n",
       "    <tr>\n",
       "      <th>married</th>\n",
       "      <td>0</td>\n",
       "      <td>22756753</td>\n",
       "    </tr>\n",
       "    <tr>\n",
       "      <th>single</th>\n",
       "      <td>5325691</td>\n",
       "      <td>0</td>\n",
       "    </tr>\n",
       "  </tbody>\n",
       "</table>\n",
       "</div>"
      ],
      "text/plain": [
       "parental_status                   non-parent    parent\n",
       "marital_status                                        \n",
       "divorced/widowed                     2771812         0\n",
       "living with parents and siblings           0   1550603\n",
       "married                                    0  22756753\n",
       "single                               5325691         0"
      ]
     },
     "execution_count": 87,
     "metadata": {},
     "output_type": "execute_result"
    }
   ],
   "source": [
    "#View the resulting table\n",
    "marital_vs_parental_status"
   ]
  },
  {
   "cell_type": "markdown",
   "id": "fb9cad6f-fc62-4e3b-bbf3-af02a32d61ff",
   "metadata": {},
   "source": [
    "##### Allocate lables as follows:\n",
    "- None of the divorced/widowed and single users have children and can be classified as single adults.\n",
    "- All users that live with their parents or siblings are also parents and can be classified as young parents.\n",
    "- All married users are parents and can be classified as families."
   ]
  },
  {
   "cell_type": "code",
   "execution_count": 89,
   "id": "8b0dcaff-ed72-491b-b934-b484a5758098",
   "metadata": {},
   "outputs": [],
   "source": [
    "#Allocate family status\n",
    "result_6 = []\n",
    "for value in df_final_merged['marital_status']:\n",
    "  if value == 'divorced/widowed':\n",
    "    result_6.append('Single adult')\n",
    "  elif value == 'living with parents and siblings':\n",
    "    result_6.append('Young parent')\n",
    "  elif value == 'married':\n",
    "    result_6.append('Family')\n",
    "  elif value == 'single':\n",
    "    result_6.append('Single adult')\n",
    "  else:\n",
    "    result_6.append('unallocated') #Check"
   ]
  },
  {
   "cell_type": "code",
   "execution_count": 90,
   "id": "0673457c-4d76-4e68-b6c5-1a86829338ac",
   "metadata": {},
   "outputs": [],
   "source": [
    "#Assign result to a new column\n",
    "df_final_merged['family_status'] = result_6"
   ]
  },
  {
   "cell_type": "code",
   "execution_count": 91,
   "id": "f65f6199-b654-4446-8411-92fb6ba7d909",
   "metadata": {},
   "outputs": [
    {
     "data": {
      "text/plain": [
       "(32404859, 37)"
      ]
     },
     "execution_count": 91,
     "metadata": {},
     "output_type": "execute_result"
    }
   ],
   "source": [
    "#Get dimensions\n",
    "df_final_merged.shape"
   ]
  },
  {
   "cell_type": "code",
   "execution_count": 92,
   "id": "b40e003d-dea2-4faf-a54a-125d2beaab5a",
   "metadata": {},
   "outputs": [],
   "source": [
    "#Define order for the family categories\n",
    "family_order = ['Single adult', 'Young parent', 'Family']"
   ]
  },
  {
   "cell_type": "code",
   "execution_count": 93,
   "id": "ddfc8f7b-0fc4-4e67-a2db-0467d7016be7",
   "metadata": {},
   "outputs": [],
   "source": [
    "#Convert 'family_status' column to a categorical type with the specified order\n",
    "df_final_merged['family_status'] = pd.Categorical(df_final_merged['family_status'], categories = family_order, ordered = True)"
   ]
  },
  {
   "cell_type": "code",
   "execution_count": 94,
   "id": "3b877328-dfab-44a7-b93e-863ba73c9cf3",
   "metadata": {},
   "outputs": [
    {
     "data": {
      "text/plain": [
       "family_status\n",
       "Single adult     8097503\n",
       "Young parent     1550603\n",
       "Family          22756753\n",
       "Name: count, dtype: int64"
      ]
     },
     "execution_count": 94,
     "metadata": {},
     "output_type": "execute_result"
    }
   ],
   "source": [
    "#View distribution of values in 'parent_profile' column\n",
    "df_final_merged['family_status'].value_counts(dropna = False).sort_index()"
   ]
  },
  {
   "cell_type": "code",
   "execution_count": 95,
   "id": "b227c246-f109-4da0-8299-d7a03f2be697",
   "metadata": {},
   "outputs": [
    {
     "data": {
      "text/plain": [
       "family_status\n",
       "Single adult     51602\n",
       "Young parent      9701\n",
       "Family          144906\n",
       "Name: user_id, dtype: int64"
      ]
     },
     "execution_count": 95,
     "metadata": {},
     "output_type": "execute_result"
    }
   ],
   "source": [
    "#Group by parental_status and count the unique user_ids per flag\n",
    "df_final_merged.groupby('family_status', observed = False)['user_id'].nunique()"
   ]
  },
  {
   "cell_type": "markdown",
   "id": "57566a01-6240-4d20-93cf-669a0c25da1a",
   "metadata": {},
   "source": [
    "# 8. Other"
   ]
  },
  {
   "cell_type": "markdown",
   "id": "2fc97598-9857-4c07-abca-919492eb1352",
   "metadata": {},
   "source": [
    "## 8.1. Product category"
   ]
  },
  {
   "cell_type": "markdown",
   "id": "d999bf68-3bae-43a7-88ae-63ebb2fea117",
   "metadata": {},
   "source": [
    "### 8.1.1. Define the variable"
   ]
  },
  {
   "cell_type": "code",
   "execution_count": 99,
   "id": "4426d84d-5782-4a6b-9611-2a93c8546569",
   "metadata": {},
   "outputs": [
    {
     "data": {
      "text/plain": [
       "department_id\n",
       "4     9479291\n",
       "16    5398747\n",
       "19    2887550\n",
       "7     2688123\n",
       "1     2234743\n",
       "13    1875369\n",
       "3     1172428\n",
       "15    1068058\n",
       "20    1051249\n",
       "9      866627\n",
       "17     738666\n",
       "12     708927\n",
       "14     703033\n",
       "11     447572\n",
       "18     423802\n",
       "6      269253\n",
       "5      153696\n",
       "8       97716\n",
       "21      69145\n",
       "2       36291\n",
       "10      34573\n",
       "Name: count, dtype: int64"
      ]
     },
     "execution_count": 99,
     "metadata": {},
     "output_type": "execute_result"
    }
   ],
   "source": [
    "#View distribution of values in 'department_id' column\n",
    "df_final_merged['department_id'].value_counts(dropna = False)"
   ]
  },
  {
   "cell_type": "code",
   "execution_count": 100,
   "id": "f0da584f-6b78-410e-9390-aee5d377b576",
   "metadata": {},
   "outputs": [],
   "source": [
    "#Turn dataframe into data dictionary\n",
    "data_dictionary = df_departments.to_dict('index')"
   ]
  },
  {
   "cell_type": "code",
   "execution_count": 101,
   "id": "f5975ada-5b77-4f0e-b61b-b89816b37271",
   "metadata": {},
   "outputs": [
    {
     "data": {
      "text/plain": [
       "{1: {'department': 'frozen'},\n",
       " 2: {'department': 'other'},\n",
       " 3: {'department': 'bakery'},\n",
       " 4: {'department': 'produce'},\n",
       " 5: {'department': 'alcohol'},\n",
       " 6: {'department': 'international'},\n",
       " 7: {'department': 'beverages'},\n",
       " 8: {'department': 'pets'},\n",
       " 9: {'department': 'dry goods pasta'},\n",
       " 10: {'department': 'bulk'},\n",
       " 11: {'department': 'personal care'},\n",
       " 12: {'department': 'meat seafood'},\n",
       " 13: {'department': 'pantry'},\n",
       " 14: {'department': 'breakfast'},\n",
       " 15: {'department': 'canned goods'},\n",
       " 16: {'department': 'dairy eggs'},\n",
       " 17: {'department': 'household'},\n",
       " 18: {'department': 'babies'},\n",
       " 19: {'department': 'snacks'},\n",
       " 20: {'department': 'deli'},\n",
       " 21: {'department': 'missing'}}"
      ]
     },
     "execution_count": 101,
     "metadata": {},
     "output_type": "execute_result"
    }
   ],
   "source": [
    "#View created data dictionary\n",
    "data_dictionary"
   ]
  },
  {
   "cell_type": "markdown",
   "id": "3a799611-40ee-4cf5-b317-b922d2eb8116",
   "metadata": {},
   "source": [
    "##### Categories can be allocated as follows:\n",
    "- beverages as beverages [7]\n",
    "- alcoholic as alcoholic beverages [5]\n",
    "- dairy eggs, deli, meat seafood, produce & bakery as perishables [16,20,12,4,3]\n",
    "- frozen, bulk, canned goods, dry goods pasta, pantry, snacks & breakfast as non-perishables [1,10,15,9,13,19,14]\n",
    "- household as household [17]\n",
    "- personal care as personal care [11]\n",
    "- pets as pets [8]\n",
    "- babies as babies [18]\n",
    "- international, missing & other as miscellaneous [6,21,2]"
   ]
  },
  {
   "cell_type": "markdown",
   "id": "7d5825c1-33af-40cd-b540-076d096db0e9",
   "metadata": {},
   "source": [
    "### 8.1.2. Allocate the variable"
   ]
  },
  {
   "cell_type": "code",
   "execution_count": 104,
   "id": "31c63219-a973-4029-b417-049ec7eb4195",
   "metadata": {},
   "outputs": [],
   "source": [
    "#Allocate departments\n",
    "result_8 = []\n",
    "for value in df_final_merged['department_id']:\n",
    "  if value in [7]:\n",
    "    result_8.append('beverages')\n",
    "  elif value in [5]:\n",
    "    result_8.append('alcoholic beverages')\n",
    "  elif value in [16,20,12,4,3]:\n",
    "    result_8.append('perishables')\n",
    "  elif value in [1,10,15,9,13,19,14]:\n",
    "    result_8.append('non-perishables')\n",
    "  elif value in [17]:\n",
    "    result_8.append('household')\n",
    "  elif value in [11]:\n",
    "    result_8.append('personal care')\n",
    "  elif value in [8]:\n",
    "    result_8.append('pets')\n",
    "  elif value in [18]:\n",
    "    result_8.append('babies')\n",
    "  elif value in [6,21,2]:\n",
    "    result_8.append('miscellaneous')\n",
    "  else:\n",
    "    result_8.append('unallocated') #Check"
   ]
  },
  {
   "cell_type": "code",
   "execution_count": 105,
   "id": "2fcdce86-1004-4827-bd67-b5a2e814e6d8",
   "metadata": {},
   "outputs": [],
   "source": [
    "#Assign result to a new column\n",
    "df_final_merged['product_category'] = result_8"
   ]
  },
  {
   "cell_type": "code",
   "execution_count": 106,
   "id": "909c5220-80dd-438c-887f-575340535285",
   "metadata": {},
   "outputs": [
    {
     "data": {
      "text/plain": [
       "(32404859, 38)"
      ]
     },
     "execution_count": 106,
     "metadata": {},
     "output_type": "execute_result"
    }
   ],
   "source": [
    "#View dimensions\n",
    "df_final_merged.shape"
   ]
  },
  {
   "cell_type": "code",
   "execution_count": 107,
   "id": "f5b909f1-6277-410f-bdb3-656653de119c",
   "metadata": {},
   "outputs": [
    {
     "data": {
      "text/plain": [
       "product_category\n",
       "perishables            17810642\n",
       "non-perishables         9669953\n",
       "beverages               2688123\n",
       "household                738666\n",
       "personal care            447572\n",
       "babies                   423802\n",
       "miscellaneous            374689\n",
       "alcoholic beverages      153696\n",
       "pets                      97716\n",
       "Name: count, dtype: int64"
      ]
     },
     "execution_count": 107,
     "metadata": {},
     "output_type": "execute_result"
    }
   ],
   "source": [
    "#View distribution of values in 'departments_profile' column\n",
    "df_final_merged['product_category'].value_counts(dropna = False).sort_values(ascending = False)"
   ]
  },
  {
   "cell_type": "markdown",
   "id": "80c54d98-98a2-4262-86cf-0ef7bcfa0803",
   "metadata": {},
   "source": [
    "## 8.2. Loyalty flag by frequency flag"
   ]
  },
  {
   "cell_type": "code",
   "execution_count": 109,
   "id": "4fe40be8-aef5-4033-93b5-367def9badce",
   "metadata": {},
   "outputs": [],
   "source": [
    "# Define the correct order for loyalty_flag and frequency_flag\n",
    "loyalty_order = ['New customer', 'Regular customer', 'Loyal customer']\n",
    "frequency_order = ['Non-frequent customer', 'Regular customer', 'Frequent customer']"
   ]
  },
  {
   "cell_type": "code",
   "execution_count": 110,
   "id": "11bfb5ee-8d02-4079-a2c7-a772aeb06ba0",
   "metadata": {},
   "outputs": [],
   "source": [
    "# Convert 'loyalty_flag' and 'frequency_flag' to categorical types with the specified order\n",
    "df_final_merged['loyalty_flag'] = pd.Categorical(df_final_merged['loyalty_flag'], categories=loyalty_order, ordered=True)\n",
    "df_final_merged['frequency_flag'] = pd.Categorical(df_final_merged['frequency_flag'], categories=frequency_order, ordered=True)"
   ]
  },
  {
   "cell_type": "code",
   "execution_count": 111,
   "id": "84d38d14-16cd-431d-ad32-6f97af108428",
   "metadata": {},
   "outputs": [],
   "source": [
    "#Cross variables\n",
    "loyalty_flag_by_frequency_flag = pd.crosstab(df_final_merged['loyalty_flag'], df_final_merged['frequency_flag'], dropna = False)"
   ]
  },
  {
   "cell_type": "code",
   "execution_count": 112,
   "id": "0753f36e-5973-43f3-8759-d46953be9cc1",
   "metadata": {},
   "outputs": [
    {
     "data": {
      "text/html": [
       "<div>\n",
       "<style scoped>\n",
       "    .dataframe tbody tr th:only-of-type {\n",
       "        vertical-align: middle;\n",
       "    }\n",
       "\n",
       "    .dataframe tbody tr th {\n",
       "        vertical-align: top;\n",
       "    }\n",
       "\n",
       "    .dataframe thead th {\n",
       "        text-align: right;\n",
       "    }\n",
       "</style>\n",
       "<table border=\"1\" class=\"dataframe\">\n",
       "  <thead>\n",
       "    <tr style=\"text-align: right;\">\n",
       "      <th>frequency_flag</th>\n",
       "      <th>Non-frequent customer</th>\n",
       "      <th>Regular customer</th>\n",
       "      <th>Frequent customer</th>\n",
       "    </tr>\n",
       "    <tr>\n",
       "      <th>loyalty_flag</th>\n",
       "      <th></th>\n",
       "      <th></th>\n",
       "      <th></th>\n",
       "    </tr>\n",
       "  </thead>\n",
       "  <tbody>\n",
       "    <tr>\n",
       "      <th>New customer</th>\n",
       "      <td>2724967</td>\n",
       "      <td>1870352</td>\n",
       "      <td>1648671</td>\n",
       "    </tr>\n",
       "    <tr>\n",
       "      <th>Regular customer</th>\n",
       "      <td>911475</td>\n",
       "      <td>5334079</td>\n",
       "      <td>9631222</td>\n",
       "    </tr>\n",
       "    <tr>\n",
       "      <th>Loyal customer</th>\n",
       "      <td>0</td>\n",
       "      <td>4133</td>\n",
       "      <td>10279960</td>\n",
       "    </tr>\n",
       "  </tbody>\n",
       "</table>\n",
       "</div>"
      ],
      "text/plain": [
       "frequency_flag    Non-frequent customer  Regular customer  Frequent customer\n",
       "loyalty_flag                                                                \n",
       "New customer                    2724967           1870352            1648671\n",
       "Regular customer                 911475           5334079            9631222\n",
       "Loyal customer                        0              4133           10279960"
      ]
     },
     "execution_count": 112,
     "metadata": {},
     "output_type": "execute_result"
    }
   ],
   "source": [
    "#View the resulting table\n",
    "loyalty_flag_by_frequency_flag"
   ]
  },
  {
   "cell_type": "markdown",
   "id": "9793ed72-97f0-49af-995d-a70ab53d4c5e",
   "metadata": {},
   "source": [
    "# 9. Visualisations"
   ]
  },
  {
   "cell_type": "markdown",
   "id": "1780f108-221c-4fc1-a508-9157e813525e",
   "metadata": {},
   "source": [
    "## 9.1. Age profile"
   ]
  },
  {
   "cell_type": "code",
   "execution_count": 115,
   "id": "8c98b759-6a34-4a27-9ac2-da3d87d5fccb",
   "metadata": {},
   "outputs": [
    {
     "data": {
      "image/png": "[encoded data removed]",
      "text/plain": [
       "<Figure size 640x480 with 1 Axes>"
      ]
     },
     "metadata": {},
     "output_type": "display_data"
    }
   ],
   "source": [
    "#Create bar chart\n",
    "age_profile_chart = df_final_merged['age_profile'].value_counts().sort_index().plot.bar()\n",
    "\n",
    "#Set the title and labels\n",
    "plt.title('Age Profile')\n",
    "plt.xlabel('')\n",
    "plt.ylabel('Aggregate number of products ordered')\n",
    "\n",
    "#Disable scientific notation on the y-axis\n",
    "plt.ticklabel_format(style = 'plain', axis = 'y')\n",
    "\n",
    "#Fit chart to size\n",
    "plt.tight_layout()\n",
    "\n",
    "# Show the plot\n",
    "plt.show()"
   ]
  },
  {
   "cell_type": "code",
   "execution_count": 116,
   "id": "20b27191-3e88-420a-90c7-cbb5d6f098d0",
   "metadata": {},
   "outputs": [],
   "source": [
    "age_profile_chart.figure.savefig(os.path.join(path, '04 - Analysis','Visualisations', '10.1 - Age profile.png'))"
   ]
  },
  {
   "cell_type": "markdown",
   "id": "2f851576-8e9b-45e3-86e0-10f545e6cf7c",
   "metadata": {},
   "source": [
    "## 9.2. Income profile"
   ]
  },
  {
   "cell_type": "code",
   "execution_count": 118,
   "id": "56f9c921-29e4-43db-a008-dca955d1e08c",
   "metadata": {},
   "outputs": [
    {
     "data": {
      "image/png": "[encoded data removed]",
      "text/plain": [
       "<Figure size 640x480 with 1 Axes>"
      ]
     },
     "metadata": {},
     "output_type": "display_data"
    }
   ],
   "source": [
    "#Create bar chart\n",
    "income_profile_chart = df_final_merged['income_profile'].value_counts().sort_index().plot.bar()\n",
    "\n",
    "#Set the title and labels\n",
    "plt.title('Income Profile')\n",
    "plt.xlabel('')\n",
    "plt.ylabel('Aggregate number of products ordered')\n",
    "\n",
    "#Disable scientific notation on the y-axis\n",
    "plt.ticklabel_format(style = 'plain', axis = 'y')\n",
    "\n",
    "#Fit chart to size\n",
    "plt.tight_layout()\n",
    "\n",
    "# Show the plot\n",
    "plt.show()"
   ]
  },
  {
   "cell_type": "code",
   "execution_count": 119,
   "id": "d0824d78-b4fe-4c2a-a05c-1bef97e56a68",
   "metadata": {},
   "outputs": [],
   "source": [
    "income_profile_chart.figure.savefig(os.path.join(path, '04 - Analysis','Visualisations', '10.2 - Income profile.png'))"
   ]
  },
  {
   "cell_type": "markdown",
   "id": "f292ec5d-f8c5-4c2f-971d-1ae818bb976d",
   "metadata": {},
   "source": [
    "## 9.3. Family status"
   ]
  },
  {
   "cell_type": "code",
   "execution_count": 121,
   "id": "b67c080c-6f24-448d-92a0-a3dd4fc35ddc",
   "metadata": {},
   "outputs": [
    {
     "data": {
      "image/png": "[encoded data removed]",
      "text/plain": [
       "<Figure size 640x480 with 1 Axes>"
      ]
     },
     "metadata": {},
     "output_type": "display_data"
    }
   ],
   "source": [
    "#Create bar chart\n",
    "family_status_chart = df_final_merged['family_status'].value_counts().sort_index().plot.bar()\n",
    "\n",
    "#Set the title and labels\n",
    "plt.title('Family Status')\n",
    "plt.xlabel('') \n",
    "plt.ylabel('Aggregate number of products ordered') \n",
    "\n",
    "#Disable scientific notation on the y-axis\n",
    "plt.ticklabel_format(style = 'plain', axis = 'y')\n",
    "\n",
    "#Fit chart to size\n",
    "plt.tight_layout()\n",
    "\n",
    "# Show the plot\n",
    "plt.show()"
   ]
  },
  {
   "cell_type": "code",
   "execution_count": 122,
   "id": "525403eb-d23b-45e6-9cae-9c0ea2210e1b",
   "metadata": {},
   "outputs": [],
   "source": [
    "family_status_chart.figure.savefig(os.path.join(path, '04 - Analysis','Visualisations', '10.3 - Family status.png'))"
   ]
  },
  {
   "cell_type": "markdown",
   "id": "6efd60c1-d2ed-4efb-8d26-2e8f901fa68b",
   "metadata": {},
   "source": [
    "## 9.4. Region"
   ]
  },
  {
   "cell_type": "code",
   "execution_count": 124,
   "id": "0b36a8ed-d8d1-4a21-97dc-e322276795d2",
   "metadata": {},
   "outputs": [
    {
     "data": {
      "text/plain": [
       "region\n",
       "Midwest       7597325\n",
       "Northeast     5722736\n",
       "South        10791885\n",
       "West          8292913\n",
       "Name: count, dtype: int64"
      ]
     },
     "execution_count": 124,
     "metadata": {},
     "output_type": "execute_result"
    }
   ],
   "source": [
    "#View distribution of values in 'region' column\n",
    "df_final_merged['region'].value_counts(dropna = False).sort_index()"
   ]
  },
  {
   "cell_type": "code",
   "execution_count": 125,
   "id": "942c1fb7-e52a-4f70-8fc4-dff0c09f13b7",
   "metadata": {},
   "outputs": [
    {
     "data": {
      "image/png": "[encoded data removed]",
      "text/plain": [
       "<Figure size 640x480 with 1 Axes>"
      ]
     },
     "metadata": {},
     "output_type": "display_data"
    }
   ],
   "source": [
    "#Create bar chart\n",
    "region_chart = df_final_merged['region'].value_counts().sort_index().plot.bar()\n",
    "\n",
    "#Set the title and labels\n",
    "plt.title('Distribution of orders by Region')\n",
    "plt.xlabel('')\n",
    "plt.ylabel('Aggregate number of products ordered')\n",
    "\n",
    "#Disable scientific notation on the y-axis\n",
    "plt.ticklabel_format(style = 'plain', axis = 'y')\n",
    "\n",
    "#Fit chart to size\n",
    "plt.tight_layout()\n",
    "\n",
    "# Show the plot\n",
    "plt.show()"
   ]
  },
  {
   "cell_type": "code",
   "execution_count": 126,
   "id": "0e6a8a76-c193-4527-bd32-5e3af66a924d",
   "metadata": {},
   "outputs": [],
   "source": [
    "region_chart.figure.savefig(os.path.join(path, '04 - Analysis','Visualisations', '10.4 - Distribution of orders by Region.png'))"
   ]
  },
  {
   "cell_type": "markdown",
   "id": "f3dc214a-bf7a-451d-bfb5-4670dd4e9f2a",
   "metadata": {},
   "source": [
    "## 9.5. Department"
   ]
  },
  {
   "cell_type": "code",
   "execution_count": 128,
   "id": "c85e1c07-3911-4789-8fdc-fd499ebc1737",
   "metadata": {},
   "outputs": [
    {
     "data": {
      "text/plain": [
       "department_id\n",
       "1     2234743\n",
       "2       36291\n",
       "3     1172428\n",
       "4     9479291\n",
       "5      153696\n",
       "6      269253\n",
       "7     2688123\n",
       "8       97716\n",
       "9      866627\n",
       "10      34573\n",
       "11     447572\n",
       "12     708927\n",
       "13    1875369\n",
       "14     703033\n",
       "15    1068058\n",
       "16    5398747\n",
       "17     738666\n",
       "18     423802\n",
       "19    2887550\n",
       "20    1051249\n",
       "21      69145\n",
       "Name: count, dtype: int64"
      ]
     },
     "execution_count": 128,
     "metadata": {},
     "output_type": "execute_result"
    }
   ],
   "source": [
    "#View distribution of values in 'department_id' column\n",
    "df_final_merged['department_id'].value_counts(dropna = False).sort_index()"
   ]
  },
  {
   "cell_type": "code",
   "execution_count": 129,
   "id": "3e7daca6-37c6-4172-b009-6c62362e6dae",
   "metadata": {},
   "outputs": [
    {
     "data": {
      "image/png": "[encoded data removed]",
      "text/plain": [
       "<Figure size 640x480 with 1 Axes>"
      ]
     },
     "metadata": {},
     "output_type": "display_data"
    }
   ],
   "source": [
    "#Create a bar chart using the department_id counts\n",
    "department_id_chart = df_final_merged['department_id'].value_counts(ascending = False).plot.bar()\n",
    "\n",
    "#Create a list of department names in the same order as the bar chart\n",
    "department_labels = [data_dictionary[dept_id]['department'] for dept_id in df_final_merged['department_id'].value_counts(ascending=False).index]\n",
    "\n",
    "#Set the x-axis tick labels to the department names\n",
    "department_id_chart.set_xticklabels(department_labels, rotation = 90, ha = 'right')\n",
    "\n",
    "#Set the title and labels\n",
    "plt.title('Distribution of orders by Department')\n",
    "plt.xlabel('')\n",
    "plt.ylabel('Aggregate number of products ordered')\n",
    "\n",
    "#Disable scientific notation on the y-axis\n",
    "plt.ticklabel_format(style = 'plain', axis = 'y')\n",
    "\n",
    "#Fit chart to size\n",
    "plt.tight_layout()\n",
    "\n",
    "# Show the plot\n",
    "plt.show()\n"
   ]
  },
  {
   "cell_type": "code",
   "execution_count": 130,
   "id": "82403af9-6404-4309-b134-4ff4857822fc",
   "metadata": {},
   "outputs": [],
   "source": [
    "department_id_chart.figure.savefig(os.path.join(path, '04 - Analysis','Visualisations', '10.5 - Distribution of orders by Department.png'))"
   ]
  },
  {
   "cell_type": "markdown",
   "id": "2b32a30f-eb92-46c0-8f18-575163ec9b8b",
   "metadata": {},
   "source": [
    "## 9.6. Product_category"
   ]
  },
  {
   "cell_type": "code",
   "execution_count": 132,
   "id": "2d353e99-9fbf-4596-b5ad-a4f3aa72b5a8",
   "metadata": {},
   "outputs": [
    {
     "data": {
      "text/plain": [
       "product_category\n",
       "alcoholic beverages      153696\n",
       "babies                   423802\n",
       "beverages               2688123\n",
       "household                738666\n",
       "miscellaneous            374689\n",
       "non-perishables         9669953\n",
       "perishables            17810642\n",
       "personal care            447572\n",
       "pets                      97716\n",
       "Name: count, dtype: int64"
      ]
     },
     "execution_count": 132,
     "metadata": {},
     "output_type": "execute_result"
    }
   ],
   "source": [
    "#View distribution of values in 'product_category' column\n",
    "df_final_merged['product_category'].value_counts(dropna = False).sort_index()"
   ]
  },
  {
   "cell_type": "code",
   "execution_count": 133,
   "id": "4fd8268a-d924-4d5d-b710-f0964908d969",
   "metadata": {},
   "outputs": [
    {
     "data": {
      "image/png": "[encoded data removed]",
      "text/plain": [
       "<Figure size 640x480 with 1 Axes>"
      ]
     },
     "metadata": {},
     "output_type": "display_data"
    }
   ],
   "source": [
    "#Create bar chart\n",
    "product_category_chart = df_final_merged['product_category'].value_counts(ascending = False).plot.bar()\n",
    "\n",
    "#Set the title and labels\n",
    "plt.title('Distribution of orders by Product category')\n",
    "plt.xlabel('')\n",
    "plt.ylabel('Aggregate number of products ordered')\n",
    "\n",
    "#Disable scientific notation on the y-axis\n",
    "plt.ticklabel_format(style = 'plain', axis = 'y')\n",
    "\n",
    "#Fit chart to size\n",
    "plt.tight_layout()\n",
    "\n",
    "# Show the plot\n",
    "plt.show()"
   ]
  },
  {
   "cell_type": "code",
   "execution_count": 134,
   "id": "af84b67a-ba80-4112-912c-bada701bd1d8",
   "metadata": {},
   "outputs": [],
   "source": [
    "product_category_chart.figure.savefig(os.path.join(path, '04 - Analysis','Visualisations', '10.6 - Distribution of orders by Product category.png'))"
   ]
  },
  {
   "cell_type": "markdown",
   "id": "7680ffac-4c76-4ce2-b13e-a90a057fb3de",
   "metadata": {},
   "source": [
    "## 9.7. Loyalty flag by frequency flag"
   ]
  },
  {
   "cell_type": "code",
   "execution_count": 136,
   "id": "334a07b6-b319-4c8e-968c-5674cf3b058e",
   "metadata": {},
   "outputs": [
    {
     "data": {
      "image/png": "[encoded data removed]",
      "text/plain": [
       "<Figure size 640x480 with 1 Axes>"
      ]
     },
     "metadata": {},
     "output_type": "display_data"
    }
   ],
   "source": [
    "# Plot the stacked bar chart\n",
    "loyalty_flag_by_frequency_flag_chart = loyalty_flag_by_frequency_flag.plot(kind='bar', stacked=True)\n",
    "\n",
    "# Add title and labels\n",
    "plt.title('Loyalty vs Frequency flags')\n",
    "plt.xlabel('')\n",
    "plt.ylabel('Aggregate number of products ordered')\n",
    "plt.legend(title = None)\n",
    "\n",
    "#Disable scientific notation on the y-axis\n",
    "plt.ticklabel_format(style = 'plain', axis = 'y')\n",
    "\n",
    "#Fit chart to size\n",
    "plt.tight_layout()\n",
    "\n",
    "# Display the plot\n",
    "plt.show()"
   ]
  },
  {
   "cell_type": "code",
   "execution_count": 137,
   "id": "0d71953e-611f-4695-afe3-a8baa3116802",
   "metadata": {},
   "outputs": [],
   "source": [
    "loyalty_flag_by_frequency_flag_chart.figure.savefig(os.path.join(path, '04 - Analysis','Visualisations', '10.7 - Loyalty by Frequency.png'))"
   ]
  },
  {
   "cell_type": "markdown",
   "id": "daa1fa05-3e67-48bd-9285-481f96ca9d2e",
   "metadata": {},
   "source": [
    "# 10. Profile aggregations"
   ]
  },
  {
   "cell_type": "markdown",
   "id": "04447e8f-5ec4-4149-8a7b-81cf914feeb9",
   "metadata": {},
   "source": [
    "## 10.1. Age profile"
   ]
  },
  {
   "cell_type": "code",
   "execution_count": 140,
   "id": "ceab3c64-723d-464c-9521-008103723850",
   "metadata": {},
   "outputs": [
    {
     "data": {
      "text/html": [
       "<div>\n",
       "<style scoped>\n",
       "    .dataframe tbody tr th:only-of-type {\n",
       "        vertical-align: middle;\n",
       "    }\n",
       "\n",
       "    .dataframe tbody tr th {\n",
       "        vertical-align: top;\n",
       "    }\n",
       "\n",
       "    .dataframe thead tr th {\n",
       "        text-align: left;\n",
       "    }\n",
       "\n",
       "    .dataframe thead tr:last-of-type th {\n",
       "        text-align: right;\n",
       "    }\n",
       "</style>\n",
       "<table border=\"1\" class=\"dataframe\">\n",
       "  <thead>\n",
       "    <tr>\n",
       "      <th></th>\n",
       "      <th colspan=\"3\" halign=\"left\">days_since_prior_order</th>\n",
       "      <th colspan=\"3\" halign=\"left\">prices</th>\n",
       "    </tr>\n",
       "    <tr>\n",
       "      <th></th>\n",
       "      <th>min</th>\n",
       "      <th>max</th>\n",
       "      <th>mean</th>\n",
       "      <th>min</th>\n",
       "      <th>max</th>\n",
       "      <th>mean</th>\n",
       "    </tr>\n",
       "    <tr>\n",
       "      <th>age_profile</th>\n",
       "      <th></th>\n",
       "      <th></th>\n",
       "      <th></th>\n",
       "      <th></th>\n",
       "      <th></th>\n",
       "      <th></th>\n",
       "    </tr>\n",
       "  </thead>\n",
       "  <tbody>\n",
       "    <tr>\n",
       "      <th>Young</th>\n",
       "      <td>0.0</td>\n",
       "      <td>30.0</td>\n",
       "      <td>11.120753</td>\n",
       "      <td>1.0</td>\n",
       "      <td>25.0</td>\n",
       "      <td>7.786742</td>\n",
       "    </tr>\n",
       "    <tr>\n",
       "      <th>Adult</th>\n",
       "      <td>0.0</td>\n",
       "      <td>30.0</td>\n",
       "      <td>11.108966</td>\n",
       "      <td>1.0</td>\n",
       "      <td>25.0</td>\n",
       "      <td>7.791879</td>\n",
       "    </tr>\n",
       "    <tr>\n",
       "      <th>Senior</th>\n",
       "      <td>0.0</td>\n",
       "      <td>30.0</td>\n",
       "      <td>11.078641</td>\n",
       "      <td>1.0</td>\n",
       "      <td>25.0</td>\n",
       "      <td>7.797555</td>\n",
       "    </tr>\n",
       "  </tbody>\n",
       "</table>\n",
       "</div>"
      ],
      "text/plain": [
       "            days_since_prior_order                  prices                \n",
       "                               min   max       mean    min   max      mean\n",
       "age_profile                                                               \n",
       "Young                          0.0  30.0  11.120753    1.0  25.0  7.786742\n",
       "Adult                          0.0  30.0  11.108966    1.0  25.0  7.791879\n",
       "Senior                         0.0  30.0  11.078641    1.0  25.0  7.797555"
      ]
     },
     "execution_count": 140,
     "metadata": {},
     "output_type": "execute_result"
    }
   ],
   "source": [
    "# Group dataframe by age_profile and calculate the mean, min, and max for the 'days_since_prior_order' and 'prices'\n",
    "df_final_merged.groupby('age_profile', observed = True).agg({'days_since_prior_order': ['min', 'max', 'mean'], 'prices': ['min', 'max', 'mean']})"
   ]
  },
  {
   "cell_type": "markdown",
   "id": "4377d290-045c-4753-9f23-cf995ca5f79c",
   "metadata": {},
   "source": [
    "## 10.2. Income profile"
   ]
  },
  {
   "cell_type": "code",
   "execution_count": 142,
   "id": "51260421-ed1e-473d-9b4f-14bff7b7ba53",
   "metadata": {},
   "outputs": [
    {
     "data": {
      "text/html": [
       "<div>\n",
       "<style scoped>\n",
       "    .dataframe tbody tr th:only-of-type {\n",
       "        vertical-align: middle;\n",
       "    }\n",
       "\n",
       "    .dataframe tbody tr th {\n",
       "        vertical-align: top;\n",
       "    }\n",
       "\n",
       "    .dataframe thead tr th {\n",
       "        text-align: left;\n",
       "    }\n",
       "\n",
       "    .dataframe thead tr:last-of-type th {\n",
       "        text-align: right;\n",
       "    }\n",
       "</style>\n",
       "<table border=\"1\" class=\"dataframe\">\n",
       "  <thead>\n",
       "    <tr>\n",
       "      <th></th>\n",
       "      <th colspan=\"3\" halign=\"left\">days_since_prior_order</th>\n",
       "      <th colspan=\"3\" halign=\"left\">prices</th>\n",
       "    </tr>\n",
       "    <tr>\n",
       "      <th></th>\n",
       "      <th>min</th>\n",
       "      <th>max</th>\n",
       "      <th>mean</th>\n",
       "      <th>min</th>\n",
       "      <th>max</th>\n",
       "      <th>mean</th>\n",
       "    </tr>\n",
       "    <tr>\n",
       "      <th>income_profile</th>\n",
       "      <th></th>\n",
       "      <th></th>\n",
       "      <th></th>\n",
       "      <th></th>\n",
       "      <th></th>\n",
       "      <th></th>\n",
       "    </tr>\n",
       "  </thead>\n",
       "  <tbody>\n",
       "    <tr>\n",
       "      <th>Low income</th>\n",
       "      <td>0.0</td>\n",
       "      <td>30.0</td>\n",
       "      <td>11.524660</td>\n",
       "      <td>1.0</td>\n",
       "      <td>25.0</td>\n",
       "      <td>6.904099</td>\n",
       "    </tr>\n",
       "    <tr>\n",
       "      <th>Middle income</th>\n",
       "      <td>0.0</td>\n",
       "      <td>30.0</td>\n",
       "      <td>11.048333</td>\n",
       "      <td>1.0</td>\n",
       "      <td>25.0</td>\n",
       "      <td>7.942635</td>\n",
       "    </tr>\n",
       "    <tr>\n",
       "      <th>High income</th>\n",
       "      <td>0.0</td>\n",
       "      <td>30.0</td>\n",
       "      <td>10.941393</td>\n",
       "      <td>1.0</td>\n",
       "      <td>25.0</td>\n",
       "      <td>7.952944</td>\n",
       "    </tr>\n",
       "  </tbody>\n",
       "</table>\n",
       "</div>"
      ],
      "text/plain": [
       "               days_since_prior_order                  prices                \n",
       "                                  min   max       mean    min   max      mean\n",
       "income_profile                                                               \n",
       "Low income                        0.0  30.0  11.524660    1.0  25.0  6.904099\n",
       "Middle income                     0.0  30.0  11.048333    1.0  25.0  7.942635\n",
       "High income                       0.0  30.0  10.941393    1.0  25.0  7.952944"
      ]
     },
     "execution_count": 142,
     "metadata": {},
     "output_type": "execute_result"
    }
   ],
   "source": [
    "# Group dataframe by income_profile and calculate the mean, min, and max for the 'days_since_prior_order' and 'prices'\n",
    "df_final_merged.groupby('income_profile', observed = True).agg({'days_since_prior_order': ['min', 'max', 'mean'], 'prices': ['min', 'max', 'mean']})"
   ]
  },
  {
   "cell_type": "markdown",
   "id": "55aaac2c-c618-4c23-acda-e3888f99489f",
   "metadata": {},
   "source": [
    "## 10.3. Family status"
   ]
  },
  {
   "cell_type": "code",
   "execution_count": 144,
   "id": "229f2bf9-1590-4bda-a26f-6c786d2d760d",
   "metadata": {},
   "outputs": [
    {
     "data": {
      "text/html": [
       "<div>\n",
       "<style scoped>\n",
       "    .dataframe tbody tr th:only-of-type {\n",
       "        vertical-align: middle;\n",
       "    }\n",
       "\n",
       "    .dataframe tbody tr th {\n",
       "        vertical-align: top;\n",
       "    }\n",
       "\n",
       "    .dataframe thead tr th {\n",
       "        text-align: left;\n",
       "    }\n",
       "\n",
       "    .dataframe thead tr:last-of-type th {\n",
       "        text-align: right;\n",
       "    }\n",
       "</style>\n",
       "<table border=\"1\" class=\"dataframe\">\n",
       "  <thead>\n",
       "    <tr>\n",
       "      <th></th>\n",
       "      <th colspan=\"3\" halign=\"left\">days_since_prior_order</th>\n",
       "      <th colspan=\"3\" halign=\"left\">prices</th>\n",
       "    </tr>\n",
       "    <tr>\n",
       "      <th></th>\n",
       "      <th>min</th>\n",
       "      <th>max</th>\n",
       "      <th>mean</th>\n",
       "      <th>min</th>\n",
       "      <th>max</th>\n",
       "      <th>mean</th>\n",
       "    </tr>\n",
       "    <tr>\n",
       "      <th>family_status</th>\n",
       "      <th></th>\n",
       "      <th></th>\n",
       "      <th></th>\n",
       "      <th></th>\n",
       "      <th></th>\n",
       "      <th></th>\n",
       "    </tr>\n",
       "  </thead>\n",
       "  <tbody>\n",
       "    <tr>\n",
       "      <th>Single adult</th>\n",
       "      <td>0.0</td>\n",
       "      <td>30.0</td>\n",
       "      <td>11.080805</td>\n",
       "      <td>1.0</td>\n",
       "      <td>25.0</td>\n",
       "      <td>7.790933</td>\n",
       "    </tr>\n",
       "    <tr>\n",
       "      <th>Young parent</th>\n",
       "      <td>0.0</td>\n",
       "      <td>30.0</td>\n",
       "      <td>11.048170</td>\n",
       "      <td>1.0</td>\n",
       "      <td>25.0</td>\n",
       "      <td>7.801569</td>\n",
       "    </tr>\n",
       "    <tr>\n",
       "      <th>Family</th>\n",
       "      <td>0.0</td>\n",
       "      <td>30.0</td>\n",
       "      <td>11.116175</td>\n",
       "      <td>1.0</td>\n",
       "      <td>25.0</td>\n",
       "      <td>7.791746</td>\n",
       "    </tr>\n",
       "  </tbody>\n",
       "</table>\n",
       "</div>"
      ],
      "text/plain": [
       "              days_since_prior_order                  prices                \n",
       "                                 min   max       mean    min   max      mean\n",
       "family_status                                                               \n",
       "Single adult                     0.0  30.0  11.080805    1.0  25.0  7.790933\n",
       "Young parent                     0.0  30.0  11.048170    1.0  25.0  7.801569\n",
       "Family                           0.0  30.0  11.116175    1.0  25.0  7.791746"
      ]
     },
     "execution_count": 144,
     "metadata": {},
     "output_type": "execute_result"
    }
   ],
   "source": [
    "# Group dataframe by age_profile and calculate the mean, min, and max for the 'days_since_prior_order' and 'prices'\n",
    "df_final_merged.groupby('family_status', observed = True).agg({'days_since_prior_order': ['min', 'max', 'mean'], 'prices': ['min', 'max', 'mean']})"
   ]
  },
  {
   "cell_type": "markdown",
   "id": "a9db5ad7-8efd-45c8-a8d1-e024ef8288e8",
   "metadata": {},
   "source": [
    "# 11. Profile crosstabs"
   ]
  },
  {
   "cell_type": "markdown",
   "id": "fd197b99-0f4f-49fa-bed1-ab32bae73cdf",
   "metadata": {},
   "source": [
    "## 11.1. Age profile"
   ]
  },
  {
   "cell_type": "markdown",
   "id": "d05a36c2-de2d-4687-9966-91eadd6111e1",
   "metadata": {},
   "source": [
    "### 11.1.1. Age profile by region"
   ]
  },
  {
   "cell_type": "code",
   "execution_count": 148,
   "id": "b84879a4-f10f-4c6c-bcf4-67628db25ee3",
   "metadata": {},
   "outputs": [],
   "source": [
    "#Cross variables\n",
    "age_profile_by_region = pd.crosstab(df_final_merged['region'], df_final_merged['age_profile'], dropna = False)"
   ]
  },
  {
   "cell_type": "code",
   "execution_count": 149,
   "id": "72ecd4cf-0dce-411b-a3b6-0d5345fded2b",
   "metadata": {},
   "outputs": [
    {
     "data": {
      "text/html": [
       "<div>\n",
       "<style scoped>\n",
       "    .dataframe tbody tr th:only-of-type {\n",
       "        vertical-align: middle;\n",
       "    }\n",
       "\n",
       "    .dataframe tbody tr th {\n",
       "        vertical-align: top;\n",
       "    }\n",
       "\n",
       "    .dataframe thead th {\n",
       "        text-align: right;\n",
       "    }\n",
       "</style>\n",
       "<table border=\"1\" class=\"dataframe\">\n",
       "  <thead>\n",
       "    <tr style=\"text-align: right;\">\n",
       "      <th>age_profile</th>\n",
       "      <th>Young</th>\n",
       "      <th>Adult</th>\n",
       "      <th>Senior</th>\n",
       "    </tr>\n",
       "    <tr>\n",
       "      <th>region</th>\n",
       "      <th></th>\n",
       "      <th></th>\n",
       "      <th></th>\n",
       "    </tr>\n",
       "  </thead>\n",
       "  <tbody>\n",
       "    <tr>\n",
       "      <th>Midwest</th>\n",
       "      <td>2002572</td>\n",
       "      <td>3603909</td>\n",
       "      <td>1990844</td>\n",
       "    </tr>\n",
       "    <tr>\n",
       "      <th>Northeast</th>\n",
       "      <td>1535542</td>\n",
       "      <td>2633291</td>\n",
       "      <td>1553903</td>\n",
       "    </tr>\n",
       "    <tr>\n",
       "      <th>South</th>\n",
       "      <td>2898325</td>\n",
       "      <td>5057303</td>\n",
       "      <td>2836257</td>\n",
       "    </tr>\n",
       "    <tr>\n",
       "      <th>West</th>\n",
       "      <td>2191216</td>\n",
       "      <td>3907617</td>\n",
       "      <td>2194080</td>\n",
       "    </tr>\n",
       "  </tbody>\n",
       "</table>\n",
       "</div>"
      ],
      "text/plain": [
       "age_profile    Young    Adult   Senior\n",
       "region                                \n",
       "Midwest      2002572  3603909  1990844\n",
       "Northeast    1535542  2633291  1553903\n",
       "South        2898325  5057303  2836257\n",
       "West         2191216  3907617  2194080"
      ]
     },
     "execution_count": 149,
     "metadata": {},
     "output_type": "execute_result"
    }
   ],
   "source": [
    "#View the resulting table\n",
    "age_profile_by_region"
   ]
  },
  {
   "cell_type": "markdown",
   "id": "85ed09ff-64c5-4aff-b826-39ba88b3938f",
   "metadata": {},
   "source": [
    "### 11.1.2. Age profile by product category"
   ]
  },
  {
   "cell_type": "code",
   "execution_count": 151,
   "id": "94d18766-f998-47ee-9047-e07757080b8b",
   "metadata": {},
   "outputs": [],
   "source": [
    "#Cross variables\n",
    "age_profile_by_product_category = pd.crosstab(df_final_merged['product_category'], df_final_merged['age_profile'], dropna = False)"
   ]
  },
  {
   "cell_type": "code",
   "execution_count": 152,
   "id": "458f7286-6d4e-4f70-ad89-965ade96b4c5",
   "metadata": {},
   "outputs": [
    {
     "data": {
      "text/html": [
       "<div>\n",
       "<style scoped>\n",
       "    .dataframe tbody tr th:only-of-type {\n",
       "        vertical-align: middle;\n",
       "    }\n",
       "\n",
       "    .dataframe tbody tr th {\n",
       "        vertical-align: top;\n",
       "    }\n",
       "\n",
       "    .dataframe thead th {\n",
       "        text-align: right;\n",
       "    }\n",
       "</style>\n",
       "<table border=\"1\" class=\"dataframe\">\n",
       "  <thead>\n",
       "    <tr style=\"text-align: right;\">\n",
       "      <th>age_profile</th>\n",
       "      <th>Young</th>\n",
       "      <th>Adult</th>\n",
       "      <th>Senior</th>\n",
       "    </tr>\n",
       "    <tr>\n",
       "      <th>product_category</th>\n",
       "      <th></th>\n",
       "      <th></th>\n",
       "      <th></th>\n",
       "    </tr>\n",
       "  </thead>\n",
       "  <tbody>\n",
       "    <tr>\n",
       "      <th>alcoholic beverages</th>\n",
       "      <td>42621</td>\n",
       "      <td>72039</td>\n",
       "      <td>39036</td>\n",
       "    </tr>\n",
       "    <tr>\n",
       "      <th>babies</th>\n",
       "      <td>111092</td>\n",
       "      <td>203265</td>\n",
       "      <td>109445</td>\n",
       "    </tr>\n",
       "    <tr>\n",
       "      <th>beverages</th>\n",
       "      <td>708101</td>\n",
       "      <td>1265190</td>\n",
       "      <td>714832</td>\n",
       "    </tr>\n",
       "    <tr>\n",
       "      <th>household</th>\n",
       "      <td>194619</td>\n",
       "      <td>347112</td>\n",
       "      <td>196935</td>\n",
       "    </tr>\n",
       "    <tr>\n",
       "      <th>miscellaneous</th>\n",
       "      <td>101486</td>\n",
       "      <td>174910</td>\n",
       "      <td>98293</td>\n",
       "    </tr>\n",
       "    <tr>\n",
       "      <th>non-perishables</th>\n",
       "      <td>2579642</td>\n",
       "      <td>4534689</td>\n",
       "      <td>2555622</td>\n",
       "    </tr>\n",
       "    <tr>\n",
       "      <th>perishables</th>\n",
       "      <td>4745471</td>\n",
       "      <td>8347941</td>\n",
       "      <td>4717230</td>\n",
       "    </tr>\n",
       "    <tr>\n",
       "      <th>personal care</th>\n",
       "      <td>118245</td>\n",
       "      <td>211922</td>\n",
       "      <td>117405</td>\n",
       "    </tr>\n",
       "    <tr>\n",
       "      <th>pets</th>\n",
       "      <td>26378</td>\n",
       "      <td>45052</td>\n",
       "      <td>26286</td>\n",
       "    </tr>\n",
       "  </tbody>\n",
       "</table>\n",
       "</div>"
      ],
      "text/plain": [
       "age_profile            Young    Adult   Senior\n",
       "product_category                              \n",
       "alcoholic beverages    42621    72039    39036\n",
       "babies                111092   203265   109445\n",
       "beverages             708101  1265190   714832\n",
       "household             194619   347112   196935\n",
       "miscellaneous         101486   174910    98293\n",
       "non-perishables      2579642  4534689  2555622\n",
       "perishables          4745471  8347941  4717230\n",
       "personal care         118245   211922   117405\n",
       "pets                   26378    45052    26286"
      ]
     },
     "execution_count": 152,
     "metadata": {},
     "output_type": "execute_result"
    }
   ],
   "source": [
    "#View the resulting table\n",
    "age_profile_by_product_category"
   ]
  },
  {
   "cell_type": "markdown",
   "id": "0fdfede2-dad2-47b9-b686-fc86fdfcd161",
   "metadata": {},
   "source": [
    "## 11.2. Income profile"
   ]
  },
  {
   "cell_type": "markdown",
   "id": "24ec7219-1952-414d-80aa-91d4ee45dc75",
   "metadata": {},
   "source": [
    "### 11.2.1. Income profile by region"
   ]
  },
  {
   "cell_type": "code",
   "execution_count": 155,
   "id": "b06fd026-4277-416a-845a-cb9547d0198e",
   "metadata": {},
   "outputs": [],
   "source": [
    "#Cross variables\n",
    "income_profile_by_region = pd.crosstab(df_final_merged['region'], df_final_merged['income_profile'], dropna = False)"
   ]
  },
  {
   "cell_type": "code",
   "execution_count": 156,
   "id": "b4f3d19d-2d1c-48d6-b5f9-6f2317ed8ddd",
   "metadata": {},
   "outputs": [
    {
     "data": {
      "text/html": [
       "<div>\n",
       "<style scoped>\n",
       "    .dataframe tbody tr th:only-of-type {\n",
       "        vertical-align: middle;\n",
       "    }\n",
       "\n",
       "    .dataframe tbody tr th {\n",
       "        vertical-align: top;\n",
       "    }\n",
       "\n",
       "    .dataframe thead th {\n",
       "        text-align: right;\n",
       "    }\n",
       "</style>\n",
       "<table border=\"1\" class=\"dataframe\">\n",
       "  <thead>\n",
       "    <tr style=\"text-align: right;\">\n",
       "      <th>income_profile</th>\n",
       "      <th>Low income</th>\n",
       "      <th>Middle income</th>\n",
       "      <th>High income</th>\n",
       "    </tr>\n",
       "    <tr>\n",
       "      <th>region</th>\n",
       "      <th></th>\n",
       "      <th></th>\n",
       "      <th></th>\n",
       "    </tr>\n",
       "  </thead>\n",
       "  <tbody>\n",
       "    <tr>\n",
       "      <th>Midwest</th>\n",
       "      <td>1093626</td>\n",
       "      <td>5547751</td>\n",
       "      <td>955948</td>\n",
       "    </tr>\n",
       "    <tr>\n",
       "      <th>Northeast</th>\n",
       "      <td>839691</td>\n",
       "      <td>4176257</td>\n",
       "      <td>706788</td>\n",
       "    </tr>\n",
       "    <tr>\n",
       "      <th>South</th>\n",
       "      <td>1605216</td>\n",
       "      <td>7844457</td>\n",
       "      <td>1342212</td>\n",
       "    </tr>\n",
       "    <tr>\n",
       "      <th>West</th>\n",
       "      <td>1201452</td>\n",
       "      <td>6044828</td>\n",
       "      <td>1046633</td>\n",
       "    </tr>\n",
       "  </tbody>\n",
       "</table>\n",
       "</div>"
      ],
      "text/plain": [
       "income_profile  Low income  Middle income  High income\n",
       "region                                                \n",
       "Midwest            1093626        5547751       955948\n",
       "Northeast           839691        4176257       706788\n",
       "South              1605216        7844457      1342212\n",
       "West               1201452        6044828      1046633"
      ]
     },
     "execution_count": 156,
     "metadata": {},
     "output_type": "execute_result"
    }
   ],
   "source": [
    "#View the resulting table\n",
    "income_profile_by_region"
   ]
  },
  {
   "cell_type": "markdown",
   "id": "0f0f5c52-ec54-42bb-8370-b06c95a374e3",
   "metadata": {},
   "source": [
    "### 11.2.2. Income profile by product category"
   ]
  },
  {
   "cell_type": "code",
   "execution_count": 158,
   "id": "edd825b4-7e56-403c-9b50-f15339a2a474",
   "metadata": {},
   "outputs": [],
   "source": [
    "#Cross variables\n",
    "income_profile_by_product_category = pd.crosstab(df_final_merged['product_category'], df_final_merged['income_profile'], dropna = False)"
   ]
  },
  {
   "cell_type": "code",
   "execution_count": 159,
   "id": "e3e270f6-e76f-4295-8a90-4080faf8a219",
   "metadata": {},
   "outputs": [
    {
     "data": {
      "text/html": [
       "<div>\n",
       "<style scoped>\n",
       "    .dataframe tbody tr th:only-of-type {\n",
       "        vertical-align: middle;\n",
       "    }\n",
       "\n",
       "    .dataframe tbody tr th {\n",
       "        vertical-align: top;\n",
       "    }\n",
       "\n",
       "    .dataframe thead th {\n",
       "        text-align: right;\n",
       "    }\n",
       "</style>\n",
       "<table border=\"1\" class=\"dataframe\">\n",
       "  <thead>\n",
       "    <tr style=\"text-align: right;\">\n",
       "      <th>income_profile</th>\n",
       "      <th>Low income</th>\n",
       "      <th>Middle income</th>\n",
       "      <th>High income</th>\n",
       "    </tr>\n",
       "    <tr>\n",
       "      <th>product_category</th>\n",
       "      <th></th>\n",
       "      <th></th>\n",
       "      <th></th>\n",
       "    </tr>\n",
       "  </thead>\n",
       "  <tbody>\n",
       "    <tr>\n",
       "      <th>alcoholic beverages</th>\n",
       "      <td>24324</td>\n",
       "      <td>104419</td>\n",
       "      <td>24953</td>\n",
       "    </tr>\n",
       "    <tr>\n",
       "      <th>babies</th>\n",
       "      <td>45598</td>\n",
       "      <td>323771</td>\n",
       "      <td>54433</td>\n",
       "    </tr>\n",
       "    <tr>\n",
       "      <th>beverages</th>\n",
       "      <td>506792</td>\n",
       "      <td>1856184</td>\n",
       "      <td>325147</td>\n",
       "    </tr>\n",
       "    <tr>\n",
       "      <th>household</th>\n",
       "      <td>120045</td>\n",
       "      <td>521839</td>\n",
       "      <td>96782</td>\n",
       "    </tr>\n",
       "    <tr>\n",
       "      <th>miscellaneous</th>\n",
       "      <td>47661</td>\n",
       "      <td>279254</td>\n",
       "      <td>47774</td>\n",
       "    </tr>\n",
       "    <tr>\n",
       "      <th>non-perishables</th>\n",
       "      <td>1618797</td>\n",
       "      <td>6862836</td>\n",
       "      <td>1188320</td>\n",
       "    </tr>\n",
       "    <tr>\n",
       "      <th>perishables</th>\n",
       "      <td>2296311</td>\n",
       "      <td>13269727</td>\n",
       "      <td>2244604</td>\n",
       "    </tr>\n",
       "    <tr>\n",
       "      <th>personal care</th>\n",
       "      <td>67793</td>\n",
       "      <td>323725</td>\n",
       "      <td>56054</td>\n",
       "    </tr>\n",
       "    <tr>\n",
       "      <th>pets</th>\n",
       "      <td>12664</td>\n",
       "      <td>71538</td>\n",
       "      <td>13514</td>\n",
       "    </tr>\n",
       "  </tbody>\n",
       "</table>\n",
       "</div>"
      ],
      "text/plain": [
       "income_profile       Low income  Middle income  High income\n",
       "product_category                                           \n",
       "alcoholic beverages       24324         104419        24953\n",
       "babies                    45598         323771        54433\n",
       "beverages                506792        1856184       325147\n",
       "household                120045         521839        96782\n",
       "miscellaneous             47661         279254        47774\n",
       "non-perishables         1618797        6862836      1188320\n",
       "perishables             2296311       13269727      2244604\n",
       "personal care             67793         323725        56054\n",
       "pets                      12664          71538        13514"
      ]
     },
     "execution_count": 159,
     "metadata": {},
     "output_type": "execute_result"
    }
   ],
   "source": [
    "#View the resulting table\n",
    "income_profile_by_product_category"
   ]
  },
  {
   "cell_type": "markdown",
   "id": "78b74e19-c323-42da-816d-393275e2613f",
   "metadata": {},
   "source": [
    "## 11.3. Family status"
   ]
  },
  {
   "cell_type": "markdown",
   "id": "09879471-e61f-4cba-8257-c5082439cbc8",
   "metadata": {},
   "source": [
    "### 11.3.1. Family status by region"
   ]
  },
  {
   "cell_type": "code",
   "execution_count": 162,
   "id": "be062525-169d-4200-82c6-befa7661dba0",
   "metadata": {},
   "outputs": [],
   "source": [
    "#Cross variables\n",
    "family_status_by_region = pd.crosstab(df_final_merged['region'], df_final_merged['family_status'], dropna = False)"
   ]
  },
  {
   "cell_type": "code",
   "execution_count": 163,
   "id": "1651fbc5-a7a8-44d2-8081-0fc8567e0016",
   "metadata": {},
   "outputs": [
    {
     "data": {
      "text/html": [
       "<div>\n",
       "<style scoped>\n",
       "    .dataframe tbody tr th:only-of-type {\n",
       "        vertical-align: middle;\n",
       "    }\n",
       "\n",
       "    .dataframe tbody tr th {\n",
       "        vertical-align: top;\n",
       "    }\n",
       "\n",
       "    .dataframe thead th {\n",
       "        text-align: right;\n",
       "    }\n",
       "</style>\n",
       "<table border=\"1\" class=\"dataframe\">\n",
       "  <thead>\n",
       "    <tr style=\"text-align: right;\">\n",
       "      <th>family_status</th>\n",
       "      <th>Single adult</th>\n",
       "      <th>Young parent</th>\n",
       "      <th>Family</th>\n",
       "    </tr>\n",
       "    <tr>\n",
       "      <th>region</th>\n",
       "      <th></th>\n",
       "      <th></th>\n",
       "      <th></th>\n",
       "    </tr>\n",
       "  </thead>\n",
       "  <tbody>\n",
       "    <tr>\n",
       "      <th>Midwest</th>\n",
       "      <td>1905200</td>\n",
       "      <td>366517</td>\n",
       "      <td>5325608</td>\n",
       "    </tr>\n",
       "    <tr>\n",
       "      <th>Northeast</th>\n",
       "      <td>1418301</td>\n",
       "      <td>268114</td>\n",
       "      <td>4036321</td>\n",
       "    </tr>\n",
       "    <tr>\n",
       "      <th>South</th>\n",
       "      <td>2701659</td>\n",
       "      <td>529584</td>\n",
       "      <td>7560642</td>\n",
       "    </tr>\n",
       "    <tr>\n",
       "      <th>West</th>\n",
       "      <td>2072343</td>\n",
       "      <td>386388</td>\n",
       "      <td>5834182</td>\n",
       "    </tr>\n",
       "  </tbody>\n",
       "</table>\n",
       "</div>"
      ],
      "text/plain": [
       "family_status  Single adult  Young parent   Family\n",
       "region                                            \n",
       "Midwest             1905200        366517  5325608\n",
       "Northeast           1418301        268114  4036321\n",
       "South               2701659        529584  7560642\n",
       "West                2072343        386388  5834182"
      ]
     },
     "execution_count": 163,
     "metadata": {},
     "output_type": "execute_result"
    }
   ],
   "source": [
    "#View the resulting table\n",
    "family_status_by_region"
   ]
  },
  {
   "cell_type": "markdown",
   "id": "c1499ef6-9e05-4868-8800-c5b5dfa46332",
   "metadata": {},
   "source": [
    "### 11.3.2. Family status by product category"
   ]
  },
  {
   "cell_type": "code",
   "execution_count": 165,
   "id": "9e8ee7fa-c9c1-43cc-9db1-d2a1cdc05dab",
   "metadata": {},
   "outputs": [],
   "source": [
    "#Cross variables\n",
    "family_status_by_product_category = pd.crosstab(df_final_merged['product_category'], df_final_merged['family_status'], dropna = False)"
   ]
  },
  {
   "cell_type": "code",
   "execution_count": 166,
   "id": "ba7ce88b-fe3d-4313-98cb-12665b51c789",
   "metadata": {},
   "outputs": [
    {
     "data": {
      "text/html": [
       "<div>\n",
       "<style scoped>\n",
       "    .dataframe tbody tr th:only-of-type {\n",
       "        vertical-align: middle;\n",
       "    }\n",
       "\n",
       "    .dataframe tbody tr th {\n",
       "        vertical-align: top;\n",
       "    }\n",
       "\n",
       "    .dataframe thead th {\n",
       "        text-align: right;\n",
       "    }\n",
       "</style>\n",
       "<table border=\"1\" class=\"dataframe\">\n",
       "  <thead>\n",
       "    <tr style=\"text-align: right;\">\n",
       "      <th>family_status</th>\n",
       "      <th>Single adult</th>\n",
       "      <th>Young parent</th>\n",
       "      <th>Family</th>\n",
       "    </tr>\n",
       "    <tr>\n",
       "      <th>product_category</th>\n",
       "      <th></th>\n",
       "      <th></th>\n",
       "      <th></th>\n",
       "    </tr>\n",
       "  </thead>\n",
       "  <tbody>\n",
       "    <tr>\n",
       "      <th>alcoholic beverages</th>\n",
       "      <td>39118</td>\n",
       "      <td>8896</td>\n",
       "      <td>105682</td>\n",
       "    </tr>\n",
       "    <tr>\n",
       "      <th>babies</th>\n",
       "      <td>106494</td>\n",
       "      <td>20146</td>\n",
       "      <td>297162</td>\n",
       "    </tr>\n",
       "    <tr>\n",
       "      <th>beverages</th>\n",
       "      <td>674442</td>\n",
       "      <td>124629</td>\n",
       "      <td>1889052</td>\n",
       "    </tr>\n",
       "    <tr>\n",
       "      <th>household</th>\n",
       "      <td>180773</td>\n",
       "      <td>35226</td>\n",
       "      <td>522667</td>\n",
       "    </tr>\n",
       "    <tr>\n",
       "      <th>miscellaneous</th>\n",
       "      <td>93976</td>\n",
       "      <td>18556</td>\n",
       "      <td>262157</td>\n",
       "    </tr>\n",
       "    <tr>\n",
       "      <th>non-perishables</th>\n",
       "      <td>2407670</td>\n",
       "      <td>465265</td>\n",
       "      <td>6797018</td>\n",
       "    </tr>\n",
       "    <tr>\n",
       "      <th>perishables</th>\n",
       "      <td>4458441</td>\n",
       "      <td>850953</td>\n",
       "      <td>12501248</td>\n",
       "    </tr>\n",
       "    <tr>\n",
       "      <th>personal care</th>\n",
       "      <td>112006</td>\n",
       "      <td>21312</td>\n",
       "      <td>314254</td>\n",
       "    </tr>\n",
       "    <tr>\n",
       "      <th>pets</th>\n",
       "      <td>24583</td>\n",
       "      <td>5620</td>\n",
       "      <td>67513</td>\n",
       "    </tr>\n",
       "  </tbody>\n",
       "</table>\n",
       "</div>"
      ],
      "text/plain": [
       "family_status        Single adult  Young parent    Family\n",
       "product_category                                         \n",
       "alcoholic beverages         39118          8896    105682\n",
       "babies                     106494         20146    297162\n",
       "beverages                  674442        124629   1889052\n",
       "household                  180773         35226    522667\n",
       "miscellaneous               93976         18556    262157\n",
       "non-perishables           2407670        465265   6797018\n",
       "perishables               4458441        850953  12501248\n",
       "personal care              112006         21312    314254\n",
       "pets                        24583          5620     67513"
      ]
     },
     "execution_count": 166,
     "metadata": {},
     "output_type": "execute_result"
    }
   ],
   "source": [
    "#View the resulting table\n",
    "family_status_by_product_category"
   ]
  },
  {
   "cell_type": "markdown",
   "id": "1888762f-5947-42a4-8412-a269793c6090",
   "metadata": {},
   "source": [
    "# 12. Crosstab visualisations"
   ]
  },
  {
   "cell_type": "markdown",
   "id": "b34815af-efa3-4e33-b4a5-03e5e191a2e4",
   "metadata": {},
   "source": [
    "## 12.1. Age profile"
   ]
  },
  {
   "cell_type": "markdown",
   "id": "5d822b34-e960-40f8-ba8f-179c6aa4139a",
   "metadata": {},
   "source": [
    "### 12.1.1. Age profile by region"
   ]
  },
  {
   "cell_type": "code",
   "execution_count": 170,
   "id": "84ec4798-091d-40da-a3f5-dd9ec2b6439b",
   "metadata": {},
   "outputs": [
    {
     "data": {
      "image/png": "[encoded data removed]",
      "text/plain": [
       "<Figure size 640x480 with 1 Axes>"
      ]
     },
     "metadata": {},
     "output_type": "display_data"
    }
   ],
   "source": [
    "# Plot a stacked bar chart for the crosstab result\n",
    "age_profile_by_region_chart = age_profile_by_region.plot(kind = 'bar', stacked = True)\n",
    "\n",
    "# Add title and labels\n",
    "plt.title('Age profile by Region')\n",
    "plt.xlabel('')\n",
    "plt.ylabel('Aggregate number of products ordered')\n",
    "plt.legend(title = None)\n",
    "\n",
    "#Disable scientific notation on the y-axis\n",
    "plt.ticklabel_format(style = 'plain', axis = 'y')\n",
    "\n",
    "#Fit chart to size\n",
    "plt.tight_layout()\n",
    "\n",
    "# Display the plot\n",
    "plt.show()"
   ]
  },
  {
   "cell_type": "code",
   "execution_count": 171,
   "id": "03ef7532-7d83-43d6-a953-f2f9cf2a435d",
   "metadata": {},
   "outputs": [],
   "source": [
    "age_profile_by_region_chart.figure.savefig(os.path.join(path, '04 - Analysis','Visualisations', '10.8 - Age profile by Region.png'))"
   ]
  },
  {
   "cell_type": "markdown",
   "id": "a13804e6-dba1-4207-92ce-14cd313b7023",
   "metadata": {},
   "source": [
    "### 12.1.2. Age profile by product category"
   ]
  },
  {
   "cell_type": "code",
   "execution_count": 173,
   "id": "2f05d3eb-3a63-4fc5-8bbe-0747ef69362c",
   "metadata": {},
   "outputs": [
    {
     "data": {
      "image/png": "[encoded data removed]",
      "text/plain": [
       "<Figure size 640x480 with 1 Axes>"
      ]
     },
     "metadata": {},
     "output_type": "display_data"
    }
   ],
   "source": [
    "# Calculate the total across all ages for each product_category\n",
    "total_age_by_product_category = age_profile_by_product_category.sum(axis = 1)\n",
    "\n",
    "# Sort the crosstab by total frequency of product_category in descending order\n",
    "age_profile_by_product_category_sorted = age_profile_by_product_category.loc[total_age_by_product_category.sort_values(ascending = False).index]\n",
    "\n",
    "# Plot the sorted stacked bar chart and capture the Axes object\n",
    "ax_2 = age_profile_by_product_category_sorted.plot(kind = 'bar', stacked=True)\n",
    "\n",
    "# Set the title and labels\n",
    "plt.title('Age profile by Product category')\n",
    "plt.xlabel('')\n",
    "plt.ylabel('Aggregate number of products ordered')\n",
    "plt.legend(title = None)\n",
    "\n",
    "#Disable scientific notation on the y-axis\n",
    "plt.ticklabel_format(style = 'plain', axis = 'y')\n",
    "\n",
    "# Save the chart using the figure object from the Axes\n",
    "age_profile_by_product_category_fig = ax_2.get_figure()  \n",
    "\n",
    "# Fit the chart to the figure\n",
    "plt.tight_layout()\n",
    "\n",
    "# Show the plot\n",
    "plt.show()"
   ]
  },
  {
   "cell_type": "code",
   "execution_count": 174,
   "id": "05f85a97-f072-4b5b-b29b-e6cd3303f975",
   "metadata": {},
   "outputs": [],
   "source": [
    "age_profile_by_product_category_fig.savefig(os.path.join(path, '04 - Analysis', 'Visualisations', '10.9 - Age profile by Product category.png'))"
   ]
  },
  {
   "cell_type": "markdown",
   "id": "b3b0d40d-0bc5-4e67-97f9-142bc327b3cd",
   "metadata": {},
   "source": [
    "## 12.2. Income profile"
   ]
  },
  {
   "cell_type": "markdown",
   "id": "5e10adaf-b5db-418e-9765-b47cad3fad5e",
   "metadata": {},
   "source": [
    "### 12.2.1. Income profile by region"
   ]
  },
  {
   "cell_type": "code",
   "execution_count": 177,
   "id": "cd95f8af-6635-47d2-9700-680540eb0ef4",
   "metadata": {},
   "outputs": [
    {
     "data": {
      "text/plain": [
       "<Figure size 640x480 with 0 Axes>"
      ]
     },
     "metadata": {},
     "output_type": "display_data"
    },
    {
     "data": {
      "image/png": "[encoded data removed]",
      "text/plain": [
       "<Figure size 640x480 with 1 Axes>"
      ]
     },
     "metadata": {},
     "output_type": "display_data"
    }
   ],
   "source": [
    "#Fit chart to size\n",
    "plt.tight_layout()\n",
    "\n",
    "# Plot a stacked bar chart for the crosstab result\n",
    "income_profile_by_region_chart = income_profile_by_region.plot(kind = 'bar', stacked = True)\n",
    "\n",
    "# Add title and labels\n",
    "plt.title('Income profile by Region')\n",
    "plt.xlabel('')\n",
    "plt.ylabel('Aggregate number of products ordered')\n",
    "plt.legend(title = None)\n",
    "\n",
    "#Disable scientific notation on the y-axis\n",
    "plt.ticklabel_format(style = 'plain', axis = 'y')\n",
    "\n",
    "#Fit chart to size\n",
    "plt.tight_layout()\n",
    "\n",
    "# Display the plot\n",
    "plt.show()"
   ]
  },
  {
   "cell_type": "code",
   "execution_count": 178,
   "id": "b74cad54-e6ad-4fb3-8b54-f251e9af9c12",
   "metadata": {},
   "outputs": [],
   "source": [
    "income_profile_by_region_chart.figure.savefig(os.path.join(path, '04 - Analysis','Visualisations', '10.10 - Income profile by Region.png'))"
   ]
  },
  {
   "cell_type": "markdown",
   "id": "58dfbfa4-f4b7-43e0-b58d-a36e2c768bb7",
   "metadata": {},
   "source": [
    "### 12.2.2. Income profile by product category"
   ]
  },
  {
   "cell_type": "code",
   "execution_count": 180,
   "id": "f9a026f0-52e2-4647-8625-5c1dc550c028",
   "metadata": {},
   "outputs": [
    {
     "data": {
      "image/png": "[encoded data removed]",
      "text/plain": [
       "<Figure size 640x480 with 1 Axes>"
      ]
     },
     "metadata": {},
     "output_type": "display_data"
    }
   ],
   "source": [
    "# Calculate the total across all ages for each product_category\n",
    "total_income_by_product_category = income_profile_by_product_category.sum(axis = 1)\n",
    "\n",
    "# Sort the crosstab by total frequency of product_category in descending order\n",
    "income_profile_by_product_category_sorted = income_profile_by_product_category.loc[total_income_by_product_category.sort_values(ascending = False).index]\n",
    "\n",
    "# Plot the sorted stacked bar chart\n",
    "ax_3 = income_profile_by_product_category_sorted.plot(kind='bar', stacked = True)\n",
    "\n",
    "# Add title and labels\n",
    "plt.title('Income profile by Product category')\n",
    "plt.xlabel('')\n",
    "plt.ylabel('Aggregate number of products ordered')\n",
    "plt.legend(title = None)\n",
    "\n",
    "#Disable scientific notation on the y-axis\n",
    "plt.ticklabel_format(style = 'plain', axis = 'y')\n",
    "\n",
    "# Save the chart using the figure object from the Axes\n",
    "income_profile_by_product_category_fig = ax_3.get_figure()  \n",
    "\n",
    "#Fit chart to size\n",
    "plt.tight_layout()\n",
    "\n",
    "# Display the plot\n",
    "plt.show()"
   ]
  },
  {
   "cell_type": "code",
   "execution_count": 181,
   "id": "1816f328-b60e-4a8e-b4da-7cd7b55da26c",
   "metadata": {},
   "outputs": [],
   "source": [
    "income_profile_by_product_category_fig.savefig(os.path.join(path, '04 - Analysis','Visualisations', '10.11 - Income profile by Product category.png'))"
   ]
  },
  {
   "cell_type": "markdown",
   "id": "3d5e25da-08f2-478e-af96-56248e906a2f",
   "metadata": {},
   "source": [
    "## 12.3. Family status"
   ]
  },
  {
   "cell_type": "markdown",
   "id": "3e44a97c-e7c0-4ee5-8299-c8a350912f86",
   "metadata": {},
   "source": [
    "### 12.3.1. Family status by region"
   ]
  },
  {
   "cell_type": "code",
   "execution_count": 184,
   "id": "36c74428-5e36-43e9-9e7a-59dd2c247084",
   "metadata": {},
   "outputs": [
    {
     "data": {
      "image/png": "[encoded data removed]",
      "text/plain": [
       "<Figure size 640x480 with 1 Axes>"
      ]
     },
     "metadata": {},
     "output_type": "display_data"
    }
   ],
   "source": [
    "# Plot a stacked bar chart for the crosstab result\n",
    "family_status_by_region_chart = family_status_by_region.plot(kind = 'bar', stacked = True)\n",
    "\n",
    "# Add title and labels\n",
    "plt.title('Family status by Region')\n",
    "plt.xlabel('')\n",
    "plt.ylabel('Aggregate number of products ordered')\n",
    "plt.legend(title = None)\n",
    "\n",
    "\n",
    "#Disable scientific notation on the y-axis\n",
    "plt.ticklabel_format(style = 'plain', axis = 'y')\n",
    "\n",
    "#Fit chart to size\n",
    "plt.tight_layout()\n",
    "\n",
    "# Display the plot\n",
    "plt.show()"
   ]
  },
  {
   "cell_type": "code",
   "execution_count": 185,
   "id": "df3accd3-04e8-4a2b-96b7-2cbc97bcc81a",
   "metadata": {},
   "outputs": [],
   "source": [
    "family_status_by_region_chart.figure.savefig(os.path.join(path, '04 - Analysis','Visualisations', '10.12 - Family status by Region.png'))"
   ]
  },
  {
   "cell_type": "markdown",
   "id": "0de4c581-0db4-4e48-a883-e6140d9f74e6",
   "metadata": {},
   "source": [
    "### 12.3.2. Family status by product category"
   ]
  },
  {
   "cell_type": "code",
   "execution_count": 187,
   "id": "2a1e27de-d16c-4b8d-8627-552018879be9",
   "metadata": {},
   "outputs": [
    {
     "data": {
      "image/png": "[encoded data removed]",
      "text/plain": [
       "<Figure size 640x480 with 1 Axes>"
      ]
     },
     "metadata": {},
     "output_type": "display_data"
    }
   ],
   "source": [
    "# Calculate the total across all ages for each product_category\n",
    "total_family_by_product_category = family_status_by_product_category.sum(axis=1)\n",
    "\n",
    "# Sort the crosstab by total frequency of product_category in descending order\n",
    "family_status_by_product_category_sorted = family_status_by_product_category.loc[total_family_by_product_category.sort_values(ascending = False).index]\n",
    "\n",
    "# Plot the sorted stacked bar chart\n",
    "ax_4 = family_status_by_product_category_sorted.plot(kind = 'bar', stacked = True)\n",
    "\n",
    "# Add title and labels\n",
    "plt.title('Family status by Product category')\n",
    "plt.xlabel('')\n",
    "plt.ylabel('Number of Orders')\n",
    "plt.legend(title = None)\n",
    "\n",
    "#Disable scientific notation on the y-axis\n",
    "plt.ticklabel_format(style = 'plain', axis = 'y')\n",
    "\n",
    "# Save the chart using the figure object from the Axes\n",
    "family_status_by_product_category_fig = ax_4.get_figure()  \n",
    "\n",
    "#Fit chart to size\n",
    "plt.tight_layout()\n",
    "\n",
    "# Display the plot\n",
    "plt.show()"
   ]
  },
  {
   "cell_type": "code",
   "execution_count": 188,
   "id": "c95d78c1-fa4d-4831-854c-519c37dcda6f",
   "metadata": {},
   "outputs": [],
   "source": [
    "family_status_by_product_category_fig.savefig(os.path.join(path, '04 - Analysis','Visualisations', '10.13 - Family status by Product category.png'))"
   ]
  },
  {
   "cell_type": "markdown",
   "id": "863e0849-50c1-463f-a726-47bdfdacb2c7",
   "metadata": {},
   "source": [
    "# 13. Export dataframe"
   ]
  },
  {
   "cell_type": "code",
   "execution_count": 190,
   "id": "2c25531b-2a85-4895-9bbf-73f3d700b607",
   "metadata": {},
   "outputs": [
    {
     "data": {
      "text/plain": [
       "(32404859, 38)"
      ]
     },
     "execution_count": 190,
     "metadata": {},
     "output_type": "execute_result"
    }
   ],
   "source": [
    "#View dimensions\n",
    "df_final_merged.shape"
   ]
  },
  {
   "cell_type": "code",
   "execution_count": 191,
   "id": "2e05c845-e7f8-48b6-a4fe-353f3f641d7a",
   "metadata": {},
   "outputs": [],
   "source": [
    "#Exporting dataset\n",
    "df_final_merged.to_pickle(os.path.join(path, '02 - Data','Prepared Data', '10_final_merged.pkl'))"
   ]
  },
  {
   "cell_type": "markdown",
   "id": "1ab46f7a-0c17-42d3-bd5a-e99dc5235233",
   "metadata": {},
   "source": [
    "# Task"
   ]
  },
  {
   "cell_type": "markdown",
   "id": "6c514f1c-7ad4-4039-b55d-1b7de7281a11",
   "metadata": {},
   "source": [
    "## 1. Import dataset\n",
    "Import the data set you exported in Exercise 4.9 into a new Jupyter notebook. This should be the merged version of your data that contains the new customers column."
   ]
  },
  {
   "cell_type": "markdown",
   "id": "47f2255f-ff58-4d5c-ad10-a56812b1c837",
   "metadata": {},
   "source": [
    "##### Refer: 2. Import datasets"
   ]
  },
  {
   "cell_type": "markdown",
   "id": "7d9046b6-7eb7-477f-ad00-770755c9acbf",
   "metadata": {},
   "source": [
    "## 2. Personally identifiable information (PII)\n",
    "Consider any security implications that might exist for this new data. You’ll need to address any PII data in the data before continuing your analysis."
   ]
  },
  {
   "cell_type": "markdown",
   "id": "599baae7-4686-4fd1-ba07-7b2de210c6c9",
   "metadata": {},
   "source": [
    "##### Refer: 4. Personally identifiable information (PII)"
   ]
  },
  {
   "cell_type": "markdown",
   "id": "7c04f6de-c74a-43cf-95ad-a2b02757a341",
   "metadata": {},
   "source": [
    "## 3. Regional segmentation\n",
    "The Instacart officers are interested in comparing customer behavior in different geographic areas. Create a regional segmentation of the data. You’ll need to create a “Region” column based on the “State” column from your customers data set.\n",
    "- Use the region information in this [Wikipedia article](https://simple.wikipedia.org/wiki/List_of_regions_of_the_United_States) to create your column (you only need to create regions, not divisions).\n",
    "- Determine whether there’s a difference in spending habits between the different U.S. regions. (Hint: You can do this by crossing the variable you just created with the spending flag.)\n"
   ]
  },
  {
   "cell_type": "markdown",
   "id": "31bb25d7-4f0a-478f-ada2-cf140d31493d",
   "metadata": {},
   "source": [
    "##### Refer: 5. Regional Segmentation"
   ]
  },
  {
   "cell_type": "markdown",
   "id": "98e7212f-6733-4e3b-a1c3-cf9eaf0d1751",
   "metadata": {},
   "source": [
    "## 4. Subset - Low-activity customers\n",
    "The Instacart CFO isn’t interested in customers who don’t generate much revenue for the app. Create an exclusion flag for low-activity customers (customers with less than 5 orders) and exclude them from the data. Make sure you export this sample."
   ]
  },
  {
   "cell_type": "markdown",
   "id": "3a0a278c-cb62-4b2f-a67b-cfc314484047",
   "metadata": {},
   "source": [
    "##### Refer: 6. Low-activity customers"
   ]
  },
  {
   "cell_type": "markdown",
   "id": "22959e95-e95b-43d0-b0a1-b6fa143b9041",
   "metadata": {},
   "source": [
    "## 5. Customer profiling\n",
    "The marketing and business strategy units at Instacart want to create more-relevant marketing strategies for different products and are, thus, curious about customer profiling in their database. Create a profiling variable based on age, income, certain goods in the “department_id” column, and number of dependents. You might also use the “orders_day_of_week” and “order_hour_of_day” columns if you can think of a way they would impact customer profiles. (Hint: As an example, try thinking of what characteristics would lead you to the profile “Single adult” or “Young parent.”)"
   ]
  },
  {
   "cell_type": "markdown",
   "id": "e91451cf-3ae5-4458-8778-10ccfa9a5c79",
   "metadata": {},
   "source": [
    "##### Refer: 7. Customer profiling"
   ]
  },
  {
   "cell_type": "markdown",
   "id": "264db5a0-db22-4c20-9f9d-f9f9fe824f00",
   "metadata": {},
   "source": [
    "## 6. Profile visualisations\n",
    "Create an appropriate visualization to show the distribution of profiles."
   ]
  },
  {
   "cell_type": "markdown",
   "id": "a5295fa1-40f5-49eb-92e7-1b625903b9a2",
   "metadata": {},
   "source": [
    "##### Refer: 9. Profile visualisations"
   ]
  },
  {
   "cell_type": "markdown",
   "id": "83b42b47-71be-4b85-aa07-c45a7a42bbbc",
   "metadata": {},
   "source": [
    "## 7. Profile aggregations\n",
    "Aggregate the max, mean, and min variables on a customer-profile level for usage frequency and expenditure."
   ]
  },
  {
   "cell_type": "markdown",
   "id": "6e1b36af-28fc-4d8e-9900-8cc727a06d32",
   "metadata": {},
   "source": [
    "##### Refer: 10. Profile aggregations"
   ]
  },
  {
   "cell_type": "markdown",
   "id": "652feb66-5083-44b0-9569-a832f7612556",
   "metadata": {},
   "source": [
    "## 8. Profiles by region and departments\n",
    "Compare your customer profiles with regions and departments. Can you identify a link between them? Customers may demonstrate different behaviors across regions, which could make this information important."
   ]
  },
  {
   "cell_type": "markdown",
   "id": "dc705202-5108-46a1-837f-d64f2afd9a38",
   "metadata": {},
   "source": [
    "##### Refer: 11. Profiles by region and department"
   ]
  },
  {
   "cell_type": "markdown",
   "id": "eff9cc0b-7968-49b4-8df1-5ddec7aa1fcb",
   "metadata": {},
   "source": [
    "## 9. Plot profile charts\n",
    "Produce suitable charts to illustrate your results and export them in your project folder."
   ]
  },
  {
   "cell_type": "markdown",
   "id": "e6990488-8d7f-41c4-aaab-1a0ee8a3c142",
   "metadata": {},
   "source": [
    "##### Refer: 12. Plot profile charts"
   ]
  },
  {
   "cell_type": "markdown",
   "id": "dd7801a8-9d1e-4634-b693-b07c823f1c8f",
   "metadata": {},
   "source": [
    "## 10. Check notebook and save\n",
    "Tidy up your script, export your final data set, and save your notebook."
   ]
  },
  {
   "cell_type": "markdown",
   "id": "f6729e92-a52a-4a7c-90c1-5c10d56d63db",
   "metadata": {},
   "source": [
    "##### Checked notebook, included section headings and code comments\n",
    "##### Refer: 13. Export dataframe"
   ]
  }
 ],
 "metadata": {
  "kernelspec": {
   "display_name": "Python 3 (ipykernel)",
   "language": "python",
   "name": "python3"
  },
  "language_info": {
   "codemirror_mode": {
    "name": "ipython",
    "version": 3
   },
   "file_extension": ".py",
   "mimetype": "text/x-python",
   "name": "python",
   "nbconvert_exporter": "python",
   "pygments_lexer": "ipython3",
   "version": "3.12.4"
  }
 },
 "nbformat": 4,
 "nbformat_minor": 5
}
