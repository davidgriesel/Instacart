{
 "cells": [
  {
   "cell_type": "markdown",
   "id": "026a5d6c-4328-4f59-8743-020f37e56364",
   "metadata": {},
   "source": [
    "# Data Wrangling & Subsetting"
   ]
  },
  {
   "cell_type": "markdown",
   "id": "6cb2a14f-8cae-442f-9d74-bfffeb39d66e",
   "metadata": {},
   "source": [
    "# Contents\n",
    "1. Import libraries\n",
    "2. Import datasets\n",
    "3. Check imported data\n",
    "4. Data wrangling\n",
    "5. Data dictionaries\n",
    "6. Create subsets using filters\n",
    "7. Export dataframes"
   ]
  },
  {
   "cell_type": "markdown",
   "id": "7aa90d16-f8f0-47e2-9e98-e74af8c7b85d",
   "metadata": {},
   "source": [
    "# 1. Import libraries"
   ]
  },
  {
   "cell_type": "code",
   "execution_count": 6,
   "id": "f7e732bd-709e-4184-9b2f-27a98494db9b",
   "metadata": {},
   "outputs": [],
   "source": [
    "#Import libraries\n",
    "import pandas as pd\n",
    "import numpy as np\n",
    "import os"
   ]
  },
  {
   "cell_type": "markdown",
   "id": "d5084301-3b71-447f-bb22-d5d153433ac8",
   "metadata": {},
   "source": [
    "# 2. Import datasets"
   ]
  },
  {
   "cell_type": "code",
   "execution_count": 8,
   "id": "b3c76e85-8ebc-4abb-84e4-4a36bcf9d190",
   "metadata": {},
   "outputs": [],
   "source": [
    "#Define the project path\n",
    "path = r'/Users/davidgriesel/Documents/0 - CareerFoundry/02 - Data Analytics Immersion/04 - Python Fundamentals for Data Analysts/Instacart Basket Analysis - IC 202409'"
   ]
  },
  {
   "cell_type": "markdown",
   "id": "8ed7888f-3a93-45c5-8bf2-7efc9bd8c15a",
   "metadata": {},
   "source": [
    "## 2.1 Orders"
   ]
  },
  {
   "cell_type": "code",
   "execution_count": 10,
   "id": "a7192d3b-b857-4845-95a8-58dd4207cad1",
   "metadata": {},
   "outputs": [],
   "source": [
    "#Import 'orders' dataset\n",
    "df_orders = pd.read_csv(os.path.join(path, '02 - Data', 'Original Data', 'orders.csv'), index_col = False)"
   ]
  },
  {
   "cell_type": "markdown",
   "id": "162a63ce-7c3a-4d1d-99df-7022029c5c5d",
   "metadata": {},
   "source": [
    "## 2.2 Products"
   ]
  },
  {
   "cell_type": "code",
   "execution_count": 12,
   "id": "0d04eb7b-5db1-4e1d-a463-32b8984cf647",
   "metadata": {},
   "outputs": [],
   "source": [
    "#Import 'products' dataset\n",
    "df_products = pd.read_csv(os.path.join(path, '02 - Data', 'Original Data', 'products.csv'), index_col = False)"
   ]
  },
  {
   "cell_type": "markdown",
   "id": "9cfe8ee0-a466-410a-8e3c-f5f304dfcde3",
   "metadata": {},
   "source": [
    "## 2.3 Departments"
   ]
  },
  {
   "cell_type": "code",
   "execution_count": 14,
   "id": "8d5159c9-08df-48f0-924a-7818d104783e",
   "metadata": {},
   "outputs": [],
   "source": [
    "#Import 'departments' dataset\n",
    "df_departments = pd.read_csv(os.path.join(path, '02 - Data', 'Original Data', 'departments.csv'), index_col = False)"
   ]
  },
  {
   "cell_type": "markdown",
   "id": "20a52454-5f5a-4f9e-9ac5-55ed3886a37b",
   "metadata": {},
   "source": [
    "# 3. Check imported data"
   ]
  },
  {
   "cell_type": "markdown",
   "id": "f9de1416-06ac-4356-87db-f0b0dcc7af7b",
   "metadata": {},
   "source": [
    "## 3.1 Orders"
   ]
  },
  {
   "cell_type": "code",
   "execution_count": 17,
   "id": "48488817-90cb-4fdf-a210-e6a5a014e8b2",
   "metadata": {},
   "outputs": [
    {
     "data": {
      "text/plain": [
       "(3421083, 7)"
      ]
     },
     "execution_count": 17,
     "metadata": {},
     "output_type": "execute_result"
    }
   ],
   "source": [
    "# Get dimensions\n",
    "df_orders.shape"
   ]
  },
  {
   "cell_type": "code",
   "execution_count": 18,
   "id": "15504a3c-3d0d-4a36-b63c-e01d76068b55",
   "metadata": {},
   "outputs": [
    {
     "data": {
      "text/html": [
       "<div>\n",
       "<style scoped>\n",
       "    .dataframe tbody tr th:only-of-type {\n",
       "        vertical-align: middle;\n",
       "    }\n",
       "\n",
       "    .dataframe tbody tr th {\n",
       "        vertical-align: top;\n",
       "    }\n",
       "\n",
       "    .dataframe thead th {\n",
       "        text-align: right;\n",
       "    }\n",
       "</style>\n",
       "<table border=\"1\" class=\"dataframe\">\n",
       "  <thead>\n",
       "    <tr style=\"text-align: right;\">\n",
       "      <th></th>\n",
       "      <th>order_id</th>\n",
       "      <th>user_id</th>\n",
       "      <th>eval_set</th>\n",
       "      <th>order_number</th>\n",
       "      <th>order_dow</th>\n",
       "      <th>order_hour_of_day</th>\n",
       "      <th>days_since_prior_order</th>\n",
       "    </tr>\n",
       "  </thead>\n",
       "  <tbody>\n",
       "    <tr>\n",
       "      <th>0</th>\n",
       "      <td>2539329</td>\n",
       "      <td>1</td>\n",
       "      <td>prior</td>\n",
       "      <td>1</td>\n",
       "      <td>2</td>\n",
       "      <td>8</td>\n",
       "      <td>NaN</td>\n",
       "    </tr>\n",
       "    <tr>\n",
       "      <th>1</th>\n",
       "      <td>2398795</td>\n",
       "      <td>1</td>\n",
       "      <td>prior</td>\n",
       "      <td>2</td>\n",
       "      <td>3</td>\n",
       "      <td>7</td>\n",
       "      <td>15.0</td>\n",
       "    </tr>\n",
       "    <tr>\n",
       "      <th>2</th>\n",
       "      <td>473747</td>\n",
       "      <td>1</td>\n",
       "      <td>prior</td>\n",
       "      <td>3</td>\n",
       "      <td>3</td>\n",
       "      <td>12</td>\n",
       "      <td>21.0</td>\n",
       "    </tr>\n",
       "    <tr>\n",
       "      <th>3</th>\n",
       "      <td>2254736</td>\n",
       "      <td>1</td>\n",
       "      <td>prior</td>\n",
       "      <td>4</td>\n",
       "      <td>4</td>\n",
       "      <td>7</td>\n",
       "      <td>29.0</td>\n",
       "    </tr>\n",
       "    <tr>\n",
       "      <th>4</th>\n",
       "      <td>431534</td>\n",
       "      <td>1</td>\n",
       "      <td>prior</td>\n",
       "      <td>5</td>\n",
       "      <td>4</td>\n",
       "      <td>15</td>\n",
       "      <td>28.0</td>\n",
       "    </tr>\n",
       "  </tbody>\n",
       "</table>\n",
       "</div>"
      ],
      "text/plain": [
       "   order_id  user_id eval_set  order_number  order_dow  order_hour_of_day  \\\n",
       "0   2539329        1    prior             1          2                  8   \n",
       "1   2398795        1    prior             2          3                  7   \n",
       "2    473747        1    prior             3          3                 12   \n",
       "3   2254736        1    prior             4          4                  7   \n",
       "4    431534        1    prior             5          4                 15   \n",
       "\n",
       "   days_since_prior_order  \n",
       "0                     NaN  \n",
       "1                    15.0  \n",
       "2                    21.0  \n",
       "3                    29.0  \n",
       "4                    28.0  "
      ]
     },
     "execution_count": 18,
     "metadata": {},
     "output_type": "execute_result"
    }
   ],
   "source": [
    "#View first 5 rows of the dataframe\n",
    "df_orders.head()"
   ]
  },
  {
   "cell_type": "markdown",
   "id": "ad42ca65-fd61-44be-988e-2f9a98a6265e",
   "metadata": {},
   "source": [
    "## 3.2 Products"
   ]
  },
  {
   "cell_type": "code",
   "execution_count": 20,
   "id": "53453913-a0b4-45ba-ac73-a43f9aea0d73",
   "metadata": {},
   "outputs": [
    {
     "data": {
      "text/plain": [
       "(49693, 5)"
      ]
     },
     "execution_count": 20,
     "metadata": {},
     "output_type": "execute_result"
    }
   ],
   "source": [
    "# Get dimensions\n",
    "df_products.shape"
   ]
  },
  {
   "cell_type": "code",
   "execution_count": 21,
   "id": "bd53f831-fc86-4eb4-850b-3235d57c7a27",
   "metadata": {},
   "outputs": [
    {
     "data": {
      "text/html": [
       "<div>\n",
       "<style scoped>\n",
       "    .dataframe tbody tr th:only-of-type {\n",
       "        vertical-align: middle;\n",
       "    }\n",
       "\n",
       "    .dataframe tbody tr th {\n",
       "        vertical-align: top;\n",
       "    }\n",
       "\n",
       "    .dataframe thead th {\n",
       "        text-align: right;\n",
       "    }\n",
       "</style>\n",
       "<table border=\"1\" class=\"dataframe\">\n",
       "  <thead>\n",
       "    <tr style=\"text-align: right;\">\n",
       "      <th></th>\n",
       "      <th>product_id</th>\n",
       "      <th>product_name</th>\n",
       "      <th>aisle_id</th>\n",
       "      <th>department_id</th>\n",
       "      <th>prices</th>\n",
       "    </tr>\n",
       "  </thead>\n",
       "  <tbody>\n",
       "    <tr>\n",
       "      <th>0</th>\n",
       "      <td>1</td>\n",
       "      <td>Chocolate Sandwich Cookies</td>\n",
       "      <td>61</td>\n",
       "      <td>19</td>\n",
       "      <td>5.8</td>\n",
       "    </tr>\n",
       "    <tr>\n",
       "      <th>1</th>\n",
       "      <td>2</td>\n",
       "      <td>All-Seasons Salt</td>\n",
       "      <td>104</td>\n",
       "      <td>13</td>\n",
       "      <td>9.3</td>\n",
       "    </tr>\n",
       "    <tr>\n",
       "      <th>2</th>\n",
       "      <td>3</td>\n",
       "      <td>Robust Golden Unsweetened Oolong Tea</td>\n",
       "      <td>94</td>\n",
       "      <td>7</td>\n",
       "      <td>4.5</td>\n",
       "    </tr>\n",
       "    <tr>\n",
       "      <th>3</th>\n",
       "      <td>4</td>\n",
       "      <td>Smart Ones Classic Favorites Mini Rigatoni Wit...</td>\n",
       "      <td>38</td>\n",
       "      <td>1</td>\n",
       "      <td>10.5</td>\n",
       "    </tr>\n",
       "    <tr>\n",
       "      <th>4</th>\n",
       "      <td>5</td>\n",
       "      <td>Green Chile Anytime Sauce</td>\n",
       "      <td>5</td>\n",
       "      <td>13</td>\n",
       "      <td>4.3</td>\n",
       "    </tr>\n",
       "  </tbody>\n",
       "</table>\n",
       "</div>"
      ],
      "text/plain": [
       "   product_id                                       product_name  aisle_id  \\\n",
       "0           1                         Chocolate Sandwich Cookies        61   \n",
       "1           2                                   All-Seasons Salt       104   \n",
       "2           3               Robust Golden Unsweetened Oolong Tea        94   \n",
       "3           4  Smart Ones Classic Favorites Mini Rigatoni Wit...        38   \n",
       "4           5                          Green Chile Anytime Sauce         5   \n",
       "\n",
       "   department_id  prices  \n",
       "0             19     5.8  \n",
       "1             13     9.3  \n",
       "2              7     4.5  \n",
       "3              1    10.5  \n",
       "4             13     4.3  "
      ]
     },
     "execution_count": 21,
     "metadata": {},
     "output_type": "execute_result"
    }
   ],
   "source": [
    "#View first 5 rows of the dataframe\n",
    "df_products.head()"
   ]
  },
  {
   "cell_type": "markdown",
   "id": "797fc0d2-b266-4b2a-94fa-bfc0d75ba0c9",
   "metadata": {},
   "source": [
    "## 3.3 Departments"
   ]
  },
  {
   "cell_type": "code",
   "execution_count": 23,
   "id": "c06b2170-1ade-4b8e-b54e-a57f5d9a3953",
   "metadata": {},
   "outputs": [
    {
     "data": {
      "text/plain": [
       "(1, 22)"
      ]
     },
     "execution_count": 23,
     "metadata": {},
     "output_type": "execute_result"
    }
   ],
   "source": [
    "# Get dimensions\n",
    "df_departments.shape"
   ]
  },
  {
   "cell_type": "code",
   "execution_count": 24,
   "id": "0ccda571-1612-4628-b0db-3e432e57998d",
   "metadata": {},
   "outputs": [
    {
     "data": {
      "text/html": [
       "<div>\n",
       "<style scoped>\n",
       "    .dataframe tbody tr th:only-of-type {\n",
       "        vertical-align: middle;\n",
       "    }\n",
       "\n",
       "    .dataframe tbody tr th {\n",
       "        vertical-align: top;\n",
       "    }\n",
       "\n",
       "    .dataframe thead th {\n",
       "        text-align: right;\n",
       "    }\n",
       "</style>\n",
       "<table border=\"1\" class=\"dataframe\">\n",
       "  <thead>\n",
       "    <tr style=\"text-align: right;\">\n",
       "      <th></th>\n",
       "      <th>department_id</th>\n",
       "      <th>1</th>\n",
       "      <th>2</th>\n",
       "      <th>3</th>\n",
       "      <th>4</th>\n",
       "      <th>5</th>\n",
       "      <th>6</th>\n",
       "      <th>7</th>\n",
       "      <th>8</th>\n",
       "      <th>9</th>\n",
       "      <th>...</th>\n",
       "      <th>12</th>\n",
       "      <th>13</th>\n",
       "      <th>14</th>\n",
       "      <th>15</th>\n",
       "      <th>16</th>\n",
       "      <th>17</th>\n",
       "      <th>18</th>\n",
       "      <th>19</th>\n",
       "      <th>20</th>\n",
       "      <th>21</th>\n",
       "    </tr>\n",
       "  </thead>\n",
       "  <tbody>\n",
       "    <tr>\n",
       "      <th>0</th>\n",
       "      <td>department</td>\n",
       "      <td>frozen</td>\n",
       "      <td>other</td>\n",
       "      <td>bakery</td>\n",
       "      <td>produce</td>\n",
       "      <td>alcohol</td>\n",
       "      <td>international</td>\n",
       "      <td>beverages</td>\n",
       "      <td>pets</td>\n",
       "      <td>dry goods pasta</td>\n",
       "      <td>...</td>\n",
       "      <td>meat seafood</td>\n",
       "      <td>pantry</td>\n",
       "      <td>breakfast</td>\n",
       "      <td>canned goods</td>\n",
       "      <td>dairy eggs</td>\n",
       "      <td>household</td>\n",
       "      <td>babies</td>\n",
       "      <td>snacks</td>\n",
       "      <td>deli</td>\n",
       "      <td>missing</td>\n",
       "    </tr>\n",
       "  </tbody>\n",
       "</table>\n",
       "<p>1 rows × 22 columns</p>\n",
       "</div>"
      ],
      "text/plain": [
       "  department_id       1      2       3        4        5              6  \\\n",
       "0    department  frozen  other  bakery  produce  alcohol  international   \n",
       "\n",
       "           7     8                9  ...            12      13         14  \\\n",
       "0  beverages  pets  dry goods pasta  ...  meat seafood  pantry  breakfast   \n",
       "\n",
       "             15          16         17      18      19    20       21  \n",
       "0  canned goods  dairy eggs  household  babies  snacks  deli  missing  \n",
       "\n",
       "[1 rows x 22 columns]"
      ]
     },
     "execution_count": 24,
     "metadata": {},
     "output_type": "execute_result"
    }
   ],
   "source": [
    "#View first 5 rows of the dataframe\n",
    "df_departments.head()"
   ]
  },
  {
   "cell_type": "markdown",
   "id": "9dee111b-fcfc-43e2-9345-b82c195dbd38",
   "metadata": {},
   "source": [
    "# 4. Data wrangling"
   ]
  },
  {
   "cell_type": "markdown",
   "id": "fd6ec4b8-c50e-4a9d-ad25-06ccaab89db2",
   "metadata": {},
   "source": [
    "## 4.1. Orders"
   ]
  },
  {
   "cell_type": "markdown",
   "id": "49c4578d-0d76-4094-9ee6-877885109f46",
   "metadata": {},
   "source": [
    "### 4.1.1. Drop columns"
   ]
  },
  {
   "cell_type": "markdown",
   "id": "d04d9463-0714-414f-8a99-cae2322340ba",
   "metadata": {},
   "source": [
    "#### 4.1.1.1. Drop 'eval_set' column"
   ]
  },
  {
   "cell_type": "code",
   "execution_count": 29,
   "id": "ae25b201-7b6b-4cc5-bbb4-fa8166976773",
   "metadata": {},
   "outputs": [
    {
     "data": {
      "text/plain": [
       "Index(['order_id', 'user_id', 'eval_set', 'order_number', 'order_dow',\n",
       "       'order_hour_of_day', 'days_since_prior_order'],\n",
       "      dtype='object')"
      ]
     },
     "execution_count": 29,
     "metadata": {},
     "output_type": "execute_result"
    }
   ],
   "source": [
    "# View column names\n",
    "df_orders.columns"
   ]
  },
  {
   "cell_type": "markdown",
   "id": "b8faa167-27e1-4853-9fdd-c61fcc6752af",
   "metadata": {},
   "source": [
    "##### 'eval_set' column contains extraneous information"
   ]
  },
  {
   "cell_type": "code",
   "execution_count": 31,
   "id": "25e4038b-53f1-4f54-b72d-233e8cb33ca3",
   "metadata": {},
   "outputs": [],
   "source": [
    "#Remove 'eval_set' column and update the dataframe with results\n",
    "df_orders = df_orders.drop(columns = ['eval_set'])"
   ]
  },
  {
   "cell_type": "code",
   "execution_count": 32,
   "id": "e4f5b716-1555-4a57-95b8-a8a8c09ddeb9",
   "metadata": {},
   "outputs": [
    {
     "data": {
      "text/html": [
       "<div>\n",
       "<style scoped>\n",
       "    .dataframe tbody tr th:only-of-type {\n",
       "        vertical-align: middle;\n",
       "    }\n",
       "\n",
       "    .dataframe tbody tr th {\n",
       "        vertical-align: top;\n",
       "    }\n",
       "\n",
       "    .dataframe thead th {\n",
       "        text-align: right;\n",
       "    }\n",
       "</style>\n",
       "<table border=\"1\" class=\"dataframe\">\n",
       "  <thead>\n",
       "    <tr style=\"text-align: right;\">\n",
       "      <th></th>\n",
       "      <th>order_id</th>\n",
       "      <th>user_id</th>\n",
       "      <th>order_number</th>\n",
       "      <th>order_dow</th>\n",
       "      <th>order_hour_of_day</th>\n",
       "      <th>days_since_prior_order</th>\n",
       "    </tr>\n",
       "  </thead>\n",
       "  <tbody>\n",
       "    <tr>\n",
       "      <th>0</th>\n",
       "      <td>2539329</td>\n",
       "      <td>1</td>\n",
       "      <td>1</td>\n",
       "      <td>2</td>\n",
       "      <td>8</td>\n",
       "      <td>NaN</td>\n",
       "    </tr>\n",
       "    <tr>\n",
       "      <th>1</th>\n",
       "      <td>2398795</td>\n",
       "      <td>1</td>\n",
       "      <td>2</td>\n",
       "      <td>3</td>\n",
       "      <td>7</td>\n",
       "      <td>15.0</td>\n",
       "    </tr>\n",
       "    <tr>\n",
       "      <th>2</th>\n",
       "      <td>473747</td>\n",
       "      <td>1</td>\n",
       "      <td>3</td>\n",
       "      <td>3</td>\n",
       "      <td>12</td>\n",
       "      <td>21.0</td>\n",
       "    </tr>\n",
       "    <tr>\n",
       "      <th>3</th>\n",
       "      <td>2254736</td>\n",
       "      <td>1</td>\n",
       "      <td>4</td>\n",
       "      <td>4</td>\n",
       "      <td>7</td>\n",
       "      <td>29.0</td>\n",
       "    </tr>\n",
       "    <tr>\n",
       "      <th>4</th>\n",
       "      <td>431534</td>\n",
       "      <td>1</td>\n",
       "      <td>5</td>\n",
       "      <td>4</td>\n",
       "      <td>15</td>\n",
       "      <td>28.0</td>\n",
       "    </tr>\n",
       "  </tbody>\n",
       "</table>\n",
       "</div>"
      ],
      "text/plain": [
       "   order_id  user_id  order_number  order_dow  order_hour_of_day  \\\n",
       "0   2539329        1             1          2                  8   \n",
       "1   2398795        1             2          3                  7   \n",
       "2    473747        1             3          3                 12   \n",
       "3   2254736        1             4          4                  7   \n",
       "4    431534        1             5          4                 15   \n",
       "\n",
       "   days_since_prior_order  \n",
       "0                     NaN  \n",
       "1                    15.0  \n",
       "2                    21.0  \n",
       "3                    29.0  \n",
       "4                    28.0  "
      ]
     },
     "execution_count": 32,
     "metadata": {},
     "output_type": "execute_result"
    }
   ],
   "source": [
    "#View first 5 rows of updated dataframe\n",
    "df_orders .head()"
   ]
  },
  {
   "cell_type": "markdown",
   "id": "4c26bffb-297f-4bbb-952a-a473dd6b249c",
   "metadata": {},
   "source": [
    "#### 4.1.1.2. Frequency distribution 'days_since_prior_order' column"
   ]
  },
  {
   "cell_type": "code",
   "execution_count": 34,
   "id": "76f4d067-ad56-4672-9b1a-ea2645f6165b",
   "metadata": {},
   "outputs": [
    {
     "data": {
      "text/plain": [
       "days_since_prior_order\n",
       "30.0    369323\n",
       "7.0     320608\n",
       "6.0     240013\n",
       "4.0     221696\n",
       "3.0     217005\n",
       "5.0     214503\n",
       "NaN     206209\n",
       "2.0     193206\n",
       "8.0     181717\n",
       "1.0     145247\n",
       "9.0     118188\n",
       "14.0    100230\n",
       "10.0     95186\n",
       "13.0     83214\n",
       "11.0     80970\n",
       "12.0     76146\n",
       "0.0      67755\n",
       "15.0     66579\n",
       "16.0     46941\n",
       "21.0     45470\n",
       "17.0     39245\n",
       "20.0     38527\n",
       "18.0     35881\n",
       "19.0     34384\n",
       "22.0     32012\n",
       "28.0     26777\n",
       "23.0     23885\n",
       "27.0     22013\n",
       "24.0     20712\n",
       "25.0     19234\n",
       "29.0     19191\n",
       "26.0     19016\n",
       "Name: count, dtype: int64"
      ]
     },
     "execution_count": 34,
     "metadata": {},
     "output_type": "execute_result"
    }
   ],
   "source": [
    "#Display the frequency of unique values in the column\n",
    "df_orders['days_since_prior_order'].value_counts(dropna = False)"
   ]
  },
  {
   "cell_type": "markdown",
   "id": "ce0d325c-0992-44f4-bb0c-92b0594e62ea",
   "metadata": {},
   "source": [
    "##### Variable contains 206209 null values. Does not validate removal of the column. Investigate further during consistency checks"
   ]
  },
  {
   "cell_type": "markdown",
   "id": "baa4085e-84b4-439d-9c6b-e92929d16170",
   "metadata": {},
   "source": [
    "#### 4.1.1.3. Frequency distribution 'order_hour_of_day' column (Task)"
   ]
  },
  {
   "cell_type": "code",
   "execution_count": 37,
   "id": "22123c8d-7622-4c08-bf38-58c33ab2cb39",
   "metadata": {},
   "outputs": [
    {
     "data": {
      "text/plain": [
       "order_hour_of_day\n",
       "10    288418\n",
       "11    284728\n",
       "15    283639\n",
       "14    283042\n",
       "13    277999\n",
       "12    272841\n",
       "16    272553\n",
       "9     257812\n",
       "17    228795\n",
       "18    182912\n",
       "8     178201\n",
       "19    140569\n",
       "20    104292\n",
       "7      91868\n",
       "21     78109\n",
       "22     61468\n",
       "23     40043\n",
       "6      30529\n",
       "0      22758\n",
       "1      12398\n",
       "5       9569\n",
       "2       7539\n",
       "4       5527\n",
       "3       5474\n",
       "Name: count, dtype: int64"
      ]
     },
     "execution_count": 37,
     "metadata": {},
     "output_type": "execute_result"
    }
   ],
   "source": [
    "#Display the frequency of unique values in the column\n",
    "df_orders['order_hour_of_day'].value_counts(dropna = True)"
   ]
  },
  {
   "cell_type": "markdown",
   "id": "1b3391a1-90ed-4d0a-9522-35af545260fa",
   "metadata": {},
   "source": [
    "##### The busiest hour for placing orders is 10am"
   ]
  },
  {
   "cell_type": "markdown",
   "id": "be3569cd-1889-4b47-8a9a-35950a7fe7c3",
   "metadata": {},
   "source": [
    "### 4.1.2. Rename columns"
   ]
  },
  {
   "cell_type": "markdown",
   "id": "2a5e8d6e-0af4-484f-af59-c653b2f249c2",
   "metadata": {},
   "source": [
    "#### 4.1.2.1. Rename 'order_dow' column"
   ]
  },
  {
   "cell_type": "markdown",
   "id": "d3565b16-2a71-46e2-9de3-c4bf5e46c25a",
   "metadata": {},
   "source": [
    "##### Unclear column header: 'order_dow'"
   ]
  },
  {
   "cell_type": "code",
   "execution_count": 42,
   "id": "292819ac-779b-444e-89e6-56700f4e58e8",
   "metadata": {},
   "outputs": [],
   "source": [
    "#Rename column to 'orders_day_of_week'\n",
    "df_orders.rename(columns = {'order_dow' : 'orders_day_of_week'}, inplace = True)"
   ]
  },
  {
   "cell_type": "code",
   "execution_count": 43,
   "id": "71cfbbbf-a834-40bc-8e48-16389e6cdd23",
   "metadata": {},
   "outputs": [
    {
     "data": {
      "text/html": [
       "<div>\n",
       "<style scoped>\n",
       "    .dataframe tbody tr th:only-of-type {\n",
       "        vertical-align: middle;\n",
       "    }\n",
       "\n",
       "    .dataframe tbody tr th {\n",
       "        vertical-align: top;\n",
       "    }\n",
       "\n",
       "    .dataframe thead th {\n",
       "        text-align: right;\n",
       "    }\n",
       "</style>\n",
       "<table border=\"1\" class=\"dataframe\">\n",
       "  <thead>\n",
       "    <tr style=\"text-align: right;\">\n",
       "      <th></th>\n",
       "      <th>order_id</th>\n",
       "      <th>user_id</th>\n",
       "      <th>order_number</th>\n",
       "      <th>orders_day_of_week</th>\n",
       "      <th>order_hour_of_day</th>\n",
       "      <th>days_since_prior_order</th>\n",
       "    </tr>\n",
       "  </thead>\n",
       "  <tbody>\n",
       "    <tr>\n",
       "      <th>0</th>\n",
       "      <td>2539329</td>\n",
       "      <td>1</td>\n",
       "      <td>1</td>\n",
       "      <td>2</td>\n",
       "      <td>8</td>\n",
       "      <td>NaN</td>\n",
       "    </tr>\n",
       "    <tr>\n",
       "      <th>1</th>\n",
       "      <td>2398795</td>\n",
       "      <td>1</td>\n",
       "      <td>2</td>\n",
       "      <td>3</td>\n",
       "      <td>7</td>\n",
       "      <td>15.0</td>\n",
       "    </tr>\n",
       "    <tr>\n",
       "      <th>2</th>\n",
       "      <td>473747</td>\n",
       "      <td>1</td>\n",
       "      <td>3</td>\n",
       "      <td>3</td>\n",
       "      <td>12</td>\n",
       "      <td>21.0</td>\n",
       "    </tr>\n",
       "    <tr>\n",
       "      <th>3</th>\n",
       "      <td>2254736</td>\n",
       "      <td>1</td>\n",
       "      <td>4</td>\n",
       "      <td>4</td>\n",
       "      <td>7</td>\n",
       "      <td>29.0</td>\n",
       "    </tr>\n",
       "    <tr>\n",
       "      <th>4</th>\n",
       "      <td>431534</td>\n",
       "      <td>1</td>\n",
       "      <td>5</td>\n",
       "      <td>4</td>\n",
       "      <td>15</td>\n",
       "      <td>28.0</td>\n",
       "    </tr>\n",
       "  </tbody>\n",
       "</table>\n",
       "</div>"
      ],
      "text/plain": [
       "   order_id  user_id  order_number  orders_day_of_week  order_hour_of_day  \\\n",
       "0   2539329        1             1                   2                  8   \n",
       "1   2398795        1             2                   3                  7   \n",
       "2    473747        1             3                   3                 12   \n",
       "3   2254736        1             4                   4                  7   \n",
       "4    431534        1             5                   4                 15   \n",
       "\n",
       "   days_since_prior_order  \n",
       "0                     NaN  \n",
       "1                    15.0  \n",
       "2                    21.0  \n",
       "3                    29.0  \n",
       "4                    28.0  "
      ]
     },
     "execution_count": 43,
     "metadata": {},
     "output_type": "execute_result"
    }
   ],
   "source": [
    "#View first 5 rows of updated dataframe\n",
    "df_orders.head()"
   ]
  },
  {
   "cell_type": "markdown",
   "id": "fe3950df-1fb7-4286-a824-59896e407c75",
   "metadata": {},
   "source": [
    "#### 4.1.2.2 Rename 'days_since_prior_order' column (Task)"
   ]
  },
  {
   "cell_type": "code",
   "execution_count": 45,
   "id": "4bf522fe-625a-4914-af6c-51e1fb55741c",
   "metadata": {},
   "outputs": [
    {
     "data": {
      "text/html": [
       "<div>\n",
       "<style scoped>\n",
       "    .dataframe tbody tr th:only-of-type {\n",
       "        vertical-align: middle;\n",
       "    }\n",
       "\n",
       "    .dataframe tbody tr th {\n",
       "        vertical-align: top;\n",
       "    }\n",
       "\n",
       "    .dataframe thead th {\n",
       "        text-align: right;\n",
       "    }\n",
       "</style>\n",
       "<table border=\"1\" class=\"dataframe\">\n",
       "  <thead>\n",
       "    <tr style=\"text-align: right;\">\n",
       "      <th></th>\n",
       "      <th>order_id</th>\n",
       "      <th>user_id</th>\n",
       "      <th>order_number</th>\n",
       "      <th>orders_day_of_week</th>\n",
       "      <th>order_hour_of_day</th>\n",
       "      <th>days_since_last_order</th>\n",
       "    </tr>\n",
       "  </thead>\n",
       "  <tbody>\n",
       "    <tr>\n",
       "      <th>0</th>\n",
       "      <td>2539329</td>\n",
       "      <td>1</td>\n",
       "      <td>1</td>\n",
       "      <td>2</td>\n",
       "      <td>8</td>\n",
       "      <td>NaN</td>\n",
       "    </tr>\n",
       "    <tr>\n",
       "      <th>1</th>\n",
       "      <td>2398795</td>\n",
       "      <td>1</td>\n",
       "      <td>2</td>\n",
       "      <td>3</td>\n",
       "      <td>7</td>\n",
       "      <td>15.0</td>\n",
       "    </tr>\n",
       "    <tr>\n",
       "      <th>2</th>\n",
       "      <td>473747</td>\n",
       "      <td>1</td>\n",
       "      <td>3</td>\n",
       "      <td>3</td>\n",
       "      <td>12</td>\n",
       "      <td>21.0</td>\n",
       "    </tr>\n",
       "    <tr>\n",
       "      <th>3</th>\n",
       "      <td>2254736</td>\n",
       "      <td>1</td>\n",
       "      <td>4</td>\n",
       "      <td>4</td>\n",
       "      <td>7</td>\n",
       "      <td>29.0</td>\n",
       "    </tr>\n",
       "    <tr>\n",
       "      <th>4</th>\n",
       "      <td>431534</td>\n",
       "      <td>1</td>\n",
       "      <td>5</td>\n",
       "      <td>4</td>\n",
       "      <td>15</td>\n",
       "      <td>28.0</td>\n",
       "    </tr>\n",
       "    <tr>\n",
       "      <th>...</th>\n",
       "      <td>...</td>\n",
       "      <td>...</td>\n",
       "      <td>...</td>\n",
       "      <td>...</td>\n",
       "      <td>...</td>\n",
       "      <td>...</td>\n",
       "    </tr>\n",
       "    <tr>\n",
       "      <th>3421078</th>\n",
       "      <td>2266710</td>\n",
       "      <td>206209</td>\n",
       "      <td>10</td>\n",
       "      <td>5</td>\n",
       "      <td>18</td>\n",
       "      <td>29.0</td>\n",
       "    </tr>\n",
       "    <tr>\n",
       "      <th>3421079</th>\n",
       "      <td>1854736</td>\n",
       "      <td>206209</td>\n",
       "      <td>11</td>\n",
       "      <td>4</td>\n",
       "      <td>10</td>\n",
       "      <td>30.0</td>\n",
       "    </tr>\n",
       "    <tr>\n",
       "      <th>3421080</th>\n",
       "      <td>626363</td>\n",
       "      <td>206209</td>\n",
       "      <td>12</td>\n",
       "      <td>1</td>\n",
       "      <td>12</td>\n",
       "      <td>18.0</td>\n",
       "    </tr>\n",
       "    <tr>\n",
       "      <th>3421081</th>\n",
       "      <td>2977660</td>\n",
       "      <td>206209</td>\n",
       "      <td>13</td>\n",
       "      <td>1</td>\n",
       "      <td>12</td>\n",
       "      <td>7.0</td>\n",
       "    </tr>\n",
       "    <tr>\n",
       "      <th>3421082</th>\n",
       "      <td>272231</td>\n",
       "      <td>206209</td>\n",
       "      <td>14</td>\n",
       "      <td>6</td>\n",
       "      <td>14</td>\n",
       "      <td>30.0</td>\n",
       "    </tr>\n",
       "  </tbody>\n",
       "</table>\n",
       "<p>3421083 rows × 6 columns</p>\n",
       "</div>"
      ],
      "text/plain": [
       "         order_id  user_id  order_number  orders_day_of_week  \\\n",
       "0         2539329        1             1                   2   \n",
       "1         2398795        1             2                   3   \n",
       "2          473747        1             3                   3   \n",
       "3         2254736        1             4                   4   \n",
       "4          431534        1             5                   4   \n",
       "...           ...      ...           ...                 ...   \n",
       "3421078   2266710   206209            10                   5   \n",
       "3421079   1854736   206209            11                   4   \n",
       "3421080    626363   206209            12                   1   \n",
       "3421081   2977660   206209            13                   1   \n",
       "3421082    272231   206209            14                   6   \n",
       "\n",
       "         order_hour_of_day  days_since_last_order  \n",
       "0                        8                    NaN  \n",
       "1                        7                   15.0  \n",
       "2                       12                   21.0  \n",
       "3                        7                   29.0  \n",
       "4                       15                   28.0  \n",
       "...                    ...                    ...  \n",
       "3421078                 18                   29.0  \n",
       "3421079                 10                   30.0  \n",
       "3421080                 12                   18.0  \n",
       "3421081                 12                    7.0  \n",
       "3421082                 14                   30.0  \n",
       "\n",
       "[3421083 rows x 6 columns]"
      ]
     },
     "execution_count": 45,
     "metadata": {},
     "output_type": "execute_result"
    }
   ],
   "source": [
    "#Rename column to 'days_since_last_order' (without saving) and view\n",
    "df_orders.rename(columns = {'days_since_prior_order' : 'days_since_last_order'}, inplace = False)"
   ]
  },
  {
   "cell_type": "markdown",
   "id": "313b27ee-fd59-403e-9bb0-95ba52047dbd",
   "metadata": {},
   "source": [
    "#### 4.1.2.3 Rename 'order_number' column "
   ]
  },
  {
   "cell_type": "code",
   "execution_count": 47,
   "id": "80ba1f32-7348-4d3c-a45e-7b82e50b0618",
   "metadata": {},
   "outputs": [],
   "source": [
    "#Rename column to 'orders_day_of_week'\n",
    "df_orders.rename(columns = {'order_number' : 'user_order_number'}, inplace = True)"
   ]
  },
  {
   "cell_type": "code",
   "execution_count": 48,
   "id": "814f48d5-a024-4ea6-8fd2-9613b6080789",
   "metadata": {},
   "outputs": [
    {
     "data": {
      "text/html": [
       "<div>\n",
       "<style scoped>\n",
       "    .dataframe tbody tr th:only-of-type {\n",
       "        vertical-align: middle;\n",
       "    }\n",
       "\n",
       "    .dataframe tbody tr th {\n",
       "        vertical-align: top;\n",
       "    }\n",
       "\n",
       "    .dataframe thead th {\n",
       "        text-align: right;\n",
       "    }\n",
       "</style>\n",
       "<table border=\"1\" class=\"dataframe\">\n",
       "  <thead>\n",
       "    <tr style=\"text-align: right;\">\n",
       "      <th></th>\n",
       "      <th>order_id</th>\n",
       "      <th>user_id</th>\n",
       "      <th>user_order_number</th>\n",
       "      <th>orders_day_of_week</th>\n",
       "      <th>order_hour_of_day</th>\n",
       "      <th>days_since_prior_order</th>\n",
       "    </tr>\n",
       "  </thead>\n",
       "  <tbody>\n",
       "    <tr>\n",
       "      <th>0</th>\n",
       "      <td>2539329</td>\n",
       "      <td>1</td>\n",
       "      <td>1</td>\n",
       "      <td>2</td>\n",
       "      <td>8</td>\n",
       "      <td>NaN</td>\n",
       "    </tr>\n",
       "    <tr>\n",
       "      <th>1</th>\n",
       "      <td>2398795</td>\n",
       "      <td>1</td>\n",
       "      <td>2</td>\n",
       "      <td>3</td>\n",
       "      <td>7</td>\n",
       "      <td>15.0</td>\n",
       "    </tr>\n",
       "    <tr>\n",
       "      <th>2</th>\n",
       "      <td>473747</td>\n",
       "      <td>1</td>\n",
       "      <td>3</td>\n",
       "      <td>3</td>\n",
       "      <td>12</td>\n",
       "      <td>21.0</td>\n",
       "    </tr>\n",
       "    <tr>\n",
       "      <th>3</th>\n",
       "      <td>2254736</td>\n",
       "      <td>1</td>\n",
       "      <td>4</td>\n",
       "      <td>4</td>\n",
       "      <td>7</td>\n",
       "      <td>29.0</td>\n",
       "    </tr>\n",
       "    <tr>\n",
       "      <th>4</th>\n",
       "      <td>431534</td>\n",
       "      <td>1</td>\n",
       "      <td>5</td>\n",
       "      <td>4</td>\n",
       "      <td>15</td>\n",
       "      <td>28.0</td>\n",
       "    </tr>\n",
       "  </tbody>\n",
       "</table>\n",
       "</div>"
      ],
      "text/plain": [
       "   order_id  user_id  user_order_number  orders_day_of_week  \\\n",
       "0   2539329        1                  1                   2   \n",
       "1   2398795        1                  2                   3   \n",
       "2    473747        1                  3                   3   \n",
       "3   2254736        1                  4                   4   \n",
       "4    431534        1                  5                   4   \n",
       "\n",
       "   order_hour_of_day  days_since_prior_order  \n",
       "0                  8                     NaN  \n",
       "1                  7                    15.0  \n",
       "2                 12                    21.0  \n",
       "3                  7                    29.0  \n",
       "4                 15                    28.0  "
      ]
     },
     "execution_count": 48,
     "metadata": {},
     "output_type": "execute_result"
    }
   ],
   "source": [
    "#View first 5 rows of updated dataframe\n",
    "df_orders.head()"
   ]
  },
  {
   "cell_type": "markdown",
   "id": "91e47d5d-347d-4076-9180-0a97002e4806",
   "metadata": {},
   "source": [
    "### 4.1.3. Change data types"
   ]
  },
  {
   "cell_type": "code",
   "execution_count": 50,
   "id": "e17fd7a3-5a2d-40a2-a596-0b5723c3b556",
   "metadata": {},
   "outputs": [
    {
     "data": {
      "text/html": [
       "<div>\n",
       "<style scoped>\n",
       "    .dataframe tbody tr th:only-of-type {\n",
       "        vertical-align: middle;\n",
       "    }\n",
       "\n",
       "    .dataframe tbody tr th {\n",
       "        vertical-align: top;\n",
       "    }\n",
       "\n",
       "    .dataframe thead th {\n",
       "        text-align: right;\n",
       "    }\n",
       "</style>\n",
       "<table border=\"1\" class=\"dataframe\">\n",
       "  <thead>\n",
       "    <tr style=\"text-align: right;\">\n",
       "      <th></th>\n",
       "      <th>order_id</th>\n",
       "      <th>user_id</th>\n",
       "      <th>user_order_number</th>\n",
       "      <th>orders_day_of_week</th>\n",
       "      <th>order_hour_of_day</th>\n",
       "      <th>days_since_prior_order</th>\n",
       "    </tr>\n",
       "  </thead>\n",
       "  <tbody>\n",
       "    <tr>\n",
       "      <th>count</th>\n",
       "      <td>3.421083e+06</td>\n",
       "      <td>3.421083e+06</td>\n",
       "      <td>3.421083e+06</td>\n",
       "      <td>3.421083e+06</td>\n",
       "      <td>3.421083e+06</td>\n",
       "      <td>3.214874e+06</td>\n",
       "    </tr>\n",
       "    <tr>\n",
       "      <th>mean</th>\n",
       "      <td>1.710542e+06</td>\n",
       "      <td>1.029782e+05</td>\n",
       "      <td>1.715486e+01</td>\n",
       "      <td>2.776219e+00</td>\n",
       "      <td>1.345202e+01</td>\n",
       "      <td>1.111484e+01</td>\n",
       "    </tr>\n",
       "    <tr>\n",
       "      <th>std</th>\n",
       "      <td>9.875817e+05</td>\n",
       "      <td>5.953372e+04</td>\n",
       "      <td>1.773316e+01</td>\n",
       "      <td>2.046829e+00</td>\n",
       "      <td>4.226088e+00</td>\n",
       "      <td>9.206737e+00</td>\n",
       "    </tr>\n",
       "    <tr>\n",
       "      <th>min</th>\n",
       "      <td>1.000000e+00</td>\n",
       "      <td>1.000000e+00</td>\n",
       "      <td>1.000000e+00</td>\n",
       "      <td>0.000000e+00</td>\n",
       "      <td>0.000000e+00</td>\n",
       "      <td>0.000000e+00</td>\n",
       "    </tr>\n",
       "    <tr>\n",
       "      <th>25%</th>\n",
       "      <td>8.552715e+05</td>\n",
       "      <td>5.139400e+04</td>\n",
       "      <td>5.000000e+00</td>\n",
       "      <td>1.000000e+00</td>\n",
       "      <td>1.000000e+01</td>\n",
       "      <td>4.000000e+00</td>\n",
       "    </tr>\n",
       "    <tr>\n",
       "      <th>50%</th>\n",
       "      <td>1.710542e+06</td>\n",
       "      <td>1.026890e+05</td>\n",
       "      <td>1.100000e+01</td>\n",
       "      <td>3.000000e+00</td>\n",
       "      <td>1.300000e+01</td>\n",
       "      <td>7.000000e+00</td>\n",
       "    </tr>\n",
       "    <tr>\n",
       "      <th>75%</th>\n",
       "      <td>2.565812e+06</td>\n",
       "      <td>1.543850e+05</td>\n",
       "      <td>2.300000e+01</td>\n",
       "      <td>5.000000e+00</td>\n",
       "      <td>1.600000e+01</td>\n",
       "      <td>1.500000e+01</td>\n",
       "    </tr>\n",
       "    <tr>\n",
       "      <th>max</th>\n",
       "      <td>3.421083e+06</td>\n",
       "      <td>2.062090e+05</td>\n",
       "      <td>1.000000e+02</td>\n",
       "      <td>6.000000e+00</td>\n",
       "      <td>2.300000e+01</td>\n",
       "      <td>3.000000e+01</td>\n",
       "    </tr>\n",
       "  </tbody>\n",
       "</table>\n",
       "</div>"
      ],
      "text/plain": [
       "           order_id       user_id  user_order_number  orders_day_of_week  \\\n",
       "count  3.421083e+06  3.421083e+06       3.421083e+06        3.421083e+06   \n",
       "mean   1.710542e+06  1.029782e+05       1.715486e+01        2.776219e+00   \n",
       "std    9.875817e+05  5.953372e+04       1.773316e+01        2.046829e+00   \n",
       "min    1.000000e+00  1.000000e+00       1.000000e+00        0.000000e+00   \n",
       "25%    8.552715e+05  5.139400e+04       5.000000e+00        1.000000e+00   \n",
       "50%    1.710542e+06  1.026890e+05       1.100000e+01        3.000000e+00   \n",
       "75%    2.565812e+06  1.543850e+05       2.300000e+01        5.000000e+00   \n",
       "max    3.421083e+06  2.062090e+05       1.000000e+02        6.000000e+00   \n",
       "\n",
       "       order_hour_of_day  days_since_prior_order  \n",
       "count       3.421083e+06            3.214874e+06  \n",
       "mean        1.345202e+01            1.111484e+01  \n",
       "std         4.226088e+00            9.206737e+00  \n",
       "min         0.000000e+00            0.000000e+00  \n",
       "25%         1.000000e+01            4.000000e+00  \n",
       "50%         1.300000e+01            7.000000e+00  \n",
       "75%         1.600000e+01            1.500000e+01  \n",
       "max         2.300000e+01            3.000000e+01  "
      ]
     },
     "execution_count": 50,
     "metadata": {},
     "output_type": "execute_result"
    }
   ],
   "source": [
    "#Generate descriptive statistics for numeric columns in the dataframe\n",
    "df_orders.describe()"
   ]
  },
  {
   "cell_type": "code",
   "execution_count": 51,
   "id": "b4b42586-94c8-4b8d-8206-b5c8662f820c",
   "metadata": {},
   "outputs": [
    {
     "data": {
      "text/plain": [
       "order_id                    int64\n",
       "user_id                     int64\n",
       "user_order_number           int64\n",
       "orders_day_of_week          int64\n",
       "order_hour_of_day           int64\n",
       "days_since_prior_order    float64\n",
       "dtype: object"
      ]
     },
     "execution_count": 51,
     "metadata": {},
     "output_type": "execute_result"
    }
   ],
   "source": [
    "#Return the data types of columns in the dataframe\n",
    "df_orders.dtypes"
   ]
  },
  {
   "cell_type": "markdown",
   "id": "4e26b8c1-70ba-4862-80c0-7fe9775a34ce",
   "metadata": {},
   "source": [
    "#### 4.1.3.1. Change 'order_id' data type "
   ]
  },
  {
   "cell_type": "code",
   "execution_count": 53,
   "id": "bd2b4393-0694-4376-b1a2-8fac08614ee5",
   "metadata": {},
   "outputs": [],
   "source": [
    "#Change data type of the column to string and update the dataframe with results\n",
    "df_orders['order_id'] = df_orders['order_id'].astype('str')"
   ]
  },
  {
   "cell_type": "code",
   "execution_count": 54,
   "id": "8d0c0e7a-1924-4fe2-ba1f-df76ea7d4e3d",
   "metadata": {},
   "outputs": [
    {
     "data": {
      "text/plain": [
       "dtype('O')"
      ]
     },
     "execution_count": 54,
     "metadata": {},
     "output_type": "execute_result"
    }
   ],
   "source": [
    "#Display the datatype of the updated column\n",
    "df_orders['order_id'].dtype"
   ]
  },
  {
   "cell_type": "code",
   "execution_count": 55,
   "id": "302a97d2-22d1-4554-97f0-898f13afc43c",
   "metadata": {},
   "outputs": [
    {
     "data": {
      "text/html": [
       "<div>\n",
       "<style scoped>\n",
       "    .dataframe tbody tr th:only-of-type {\n",
       "        vertical-align: middle;\n",
       "    }\n",
       "\n",
       "    .dataframe tbody tr th {\n",
       "        vertical-align: top;\n",
       "    }\n",
       "\n",
       "    .dataframe thead th {\n",
       "        text-align: right;\n",
       "    }\n",
       "</style>\n",
       "<table border=\"1\" class=\"dataframe\">\n",
       "  <thead>\n",
       "    <tr style=\"text-align: right;\">\n",
       "      <th></th>\n",
       "      <th>user_id</th>\n",
       "      <th>user_order_number</th>\n",
       "      <th>orders_day_of_week</th>\n",
       "      <th>order_hour_of_day</th>\n",
       "      <th>days_since_prior_order</th>\n",
       "    </tr>\n",
       "  </thead>\n",
       "  <tbody>\n",
       "    <tr>\n",
       "      <th>count</th>\n",
       "      <td>3.421083e+06</td>\n",
       "      <td>3.421083e+06</td>\n",
       "      <td>3.421083e+06</td>\n",
       "      <td>3.421083e+06</td>\n",
       "      <td>3.214874e+06</td>\n",
       "    </tr>\n",
       "    <tr>\n",
       "      <th>mean</th>\n",
       "      <td>1.029782e+05</td>\n",
       "      <td>1.715486e+01</td>\n",
       "      <td>2.776219e+00</td>\n",
       "      <td>1.345202e+01</td>\n",
       "      <td>1.111484e+01</td>\n",
       "    </tr>\n",
       "    <tr>\n",
       "      <th>std</th>\n",
       "      <td>5.953372e+04</td>\n",
       "      <td>1.773316e+01</td>\n",
       "      <td>2.046829e+00</td>\n",
       "      <td>4.226088e+00</td>\n",
       "      <td>9.206737e+00</td>\n",
       "    </tr>\n",
       "    <tr>\n",
       "      <th>min</th>\n",
       "      <td>1.000000e+00</td>\n",
       "      <td>1.000000e+00</td>\n",
       "      <td>0.000000e+00</td>\n",
       "      <td>0.000000e+00</td>\n",
       "      <td>0.000000e+00</td>\n",
       "    </tr>\n",
       "    <tr>\n",
       "      <th>25%</th>\n",
       "      <td>5.139400e+04</td>\n",
       "      <td>5.000000e+00</td>\n",
       "      <td>1.000000e+00</td>\n",
       "      <td>1.000000e+01</td>\n",
       "      <td>4.000000e+00</td>\n",
       "    </tr>\n",
       "    <tr>\n",
       "      <th>50%</th>\n",
       "      <td>1.026890e+05</td>\n",
       "      <td>1.100000e+01</td>\n",
       "      <td>3.000000e+00</td>\n",
       "      <td>1.300000e+01</td>\n",
       "      <td>7.000000e+00</td>\n",
       "    </tr>\n",
       "    <tr>\n",
       "      <th>75%</th>\n",
       "      <td>1.543850e+05</td>\n",
       "      <td>2.300000e+01</td>\n",
       "      <td>5.000000e+00</td>\n",
       "      <td>1.600000e+01</td>\n",
       "      <td>1.500000e+01</td>\n",
       "    </tr>\n",
       "    <tr>\n",
       "      <th>max</th>\n",
       "      <td>2.062090e+05</td>\n",
       "      <td>1.000000e+02</td>\n",
       "      <td>6.000000e+00</td>\n",
       "      <td>2.300000e+01</td>\n",
       "      <td>3.000000e+01</td>\n",
       "    </tr>\n",
       "  </tbody>\n",
       "</table>\n",
       "</div>"
      ],
      "text/plain": [
       "            user_id  user_order_number  orders_day_of_week  order_hour_of_day  \\\n",
       "count  3.421083e+06       3.421083e+06        3.421083e+06       3.421083e+06   \n",
       "mean   1.029782e+05       1.715486e+01        2.776219e+00       1.345202e+01   \n",
       "std    5.953372e+04       1.773316e+01        2.046829e+00       4.226088e+00   \n",
       "min    1.000000e+00       1.000000e+00        0.000000e+00       0.000000e+00   \n",
       "25%    5.139400e+04       5.000000e+00        1.000000e+00       1.000000e+01   \n",
       "50%    1.026890e+05       1.100000e+01        3.000000e+00       1.300000e+01   \n",
       "75%    1.543850e+05       2.300000e+01        5.000000e+00       1.600000e+01   \n",
       "max    2.062090e+05       1.000000e+02        6.000000e+00       2.300000e+01   \n",
       "\n",
       "       days_since_prior_order  \n",
       "count            3.214874e+06  \n",
       "mean             1.111484e+01  \n",
       "std              9.206737e+00  \n",
       "min              0.000000e+00  \n",
       "25%              4.000000e+00  \n",
       "50%              7.000000e+00  \n",
       "75%              1.500000e+01  \n",
       "max              3.000000e+01  "
      ]
     },
     "execution_count": 55,
     "metadata": {},
     "output_type": "execute_result"
    }
   ],
   "source": [
    "#Generate descriptive statistics for numeric columns in the updated dataframe\n",
    "df_orders.describe()"
   ]
  },
  {
   "cell_type": "markdown",
   "id": "265f8633-91c9-42b2-8115-26799592f5f7",
   "metadata": {},
   "source": [
    "#### 4.1.3.2. Change 'user_id' data type (Task)"
   ]
  },
  {
   "cell_type": "code",
   "execution_count": 57,
   "id": "b0e8cfd8-969d-45f7-95bd-7813d836a42e",
   "metadata": {},
   "outputs": [],
   "source": [
    "#Change data type of user_id column to string and update the dataframe with results\n",
    "df_orders['user_id'] = df_orders['user_id'].astype('str')"
   ]
  },
  {
   "cell_type": "code",
   "execution_count": 58,
   "id": "9f3365eb-6bcf-47b1-a523-9d89ca59f601",
   "metadata": {},
   "outputs": [
    {
     "data": {
      "text/plain": [
       "dtype('O')"
      ]
     },
     "execution_count": 58,
     "metadata": {},
     "output_type": "execute_result"
    }
   ],
   "source": [
    "#Display the datatype of the updated column\n",
    "df_orders['user_id'].dtypes"
   ]
  },
  {
   "cell_type": "code",
   "execution_count": 59,
   "id": "e86f902f-1848-4cf9-aa92-26a308f34f8b",
   "metadata": {},
   "outputs": [
    {
     "data": {
      "text/html": [
       "<div>\n",
       "<style scoped>\n",
       "    .dataframe tbody tr th:only-of-type {\n",
       "        vertical-align: middle;\n",
       "    }\n",
       "\n",
       "    .dataframe tbody tr th {\n",
       "        vertical-align: top;\n",
       "    }\n",
       "\n",
       "    .dataframe thead th {\n",
       "        text-align: right;\n",
       "    }\n",
       "</style>\n",
       "<table border=\"1\" class=\"dataframe\">\n",
       "  <thead>\n",
       "    <tr style=\"text-align: right;\">\n",
       "      <th></th>\n",
       "      <th>user_order_number</th>\n",
       "      <th>orders_day_of_week</th>\n",
       "      <th>order_hour_of_day</th>\n",
       "      <th>days_since_prior_order</th>\n",
       "    </tr>\n",
       "  </thead>\n",
       "  <tbody>\n",
       "    <tr>\n",
       "      <th>count</th>\n",
       "      <td>3.421083e+06</td>\n",
       "      <td>3.421083e+06</td>\n",
       "      <td>3.421083e+06</td>\n",
       "      <td>3.214874e+06</td>\n",
       "    </tr>\n",
       "    <tr>\n",
       "      <th>mean</th>\n",
       "      <td>1.715486e+01</td>\n",
       "      <td>2.776219e+00</td>\n",
       "      <td>1.345202e+01</td>\n",
       "      <td>1.111484e+01</td>\n",
       "    </tr>\n",
       "    <tr>\n",
       "      <th>std</th>\n",
       "      <td>1.773316e+01</td>\n",
       "      <td>2.046829e+00</td>\n",
       "      <td>4.226088e+00</td>\n",
       "      <td>9.206737e+00</td>\n",
       "    </tr>\n",
       "    <tr>\n",
       "      <th>min</th>\n",
       "      <td>1.000000e+00</td>\n",
       "      <td>0.000000e+00</td>\n",
       "      <td>0.000000e+00</td>\n",
       "      <td>0.000000e+00</td>\n",
       "    </tr>\n",
       "    <tr>\n",
       "      <th>25%</th>\n",
       "      <td>5.000000e+00</td>\n",
       "      <td>1.000000e+00</td>\n",
       "      <td>1.000000e+01</td>\n",
       "      <td>4.000000e+00</td>\n",
       "    </tr>\n",
       "    <tr>\n",
       "      <th>50%</th>\n",
       "      <td>1.100000e+01</td>\n",
       "      <td>3.000000e+00</td>\n",
       "      <td>1.300000e+01</td>\n",
       "      <td>7.000000e+00</td>\n",
       "    </tr>\n",
       "    <tr>\n",
       "      <th>75%</th>\n",
       "      <td>2.300000e+01</td>\n",
       "      <td>5.000000e+00</td>\n",
       "      <td>1.600000e+01</td>\n",
       "      <td>1.500000e+01</td>\n",
       "    </tr>\n",
       "    <tr>\n",
       "      <th>max</th>\n",
       "      <td>1.000000e+02</td>\n",
       "      <td>6.000000e+00</td>\n",
       "      <td>2.300000e+01</td>\n",
       "      <td>3.000000e+01</td>\n",
       "    </tr>\n",
       "  </tbody>\n",
       "</table>\n",
       "</div>"
      ],
      "text/plain": [
       "       user_order_number  orders_day_of_week  order_hour_of_day  \\\n",
       "count       3.421083e+06        3.421083e+06       3.421083e+06   \n",
       "mean        1.715486e+01        2.776219e+00       1.345202e+01   \n",
       "std         1.773316e+01        2.046829e+00       4.226088e+00   \n",
       "min         1.000000e+00        0.000000e+00       0.000000e+00   \n",
       "25%         5.000000e+00        1.000000e+00       1.000000e+01   \n",
       "50%         1.100000e+01        3.000000e+00       1.300000e+01   \n",
       "75%         2.300000e+01        5.000000e+00       1.600000e+01   \n",
       "max         1.000000e+02        6.000000e+00       2.300000e+01   \n",
       "\n",
       "       days_since_prior_order  \n",
       "count            3.214874e+06  \n",
       "mean             1.111484e+01  \n",
       "std              9.206737e+00  \n",
       "min              0.000000e+00  \n",
       "25%              4.000000e+00  \n",
       "50%              7.000000e+00  \n",
       "75%              1.500000e+01  \n",
       "max              3.000000e+01  "
      ]
     },
     "execution_count": 59,
     "metadata": {},
     "output_type": "execute_result"
    }
   ],
   "source": [
    "#Generate descriptive statistics for numeric columns in the updated dataframe\n",
    "df_orders.describe()"
   ]
  },
  {
   "cell_type": "markdown",
   "id": "1ad7ab83-8a7b-4ea3-9847-df92f99ef6ec",
   "metadata": {},
   "source": [
    "## 4.2. Departments"
   ]
  },
  {
   "cell_type": "markdown",
   "id": "877d44fa-51b3-4422-897d-bc09d9aabe70",
   "metadata": {},
   "source": [
    "### 4.2.1. Transpose departments dataframe"
   ]
  },
  {
   "cell_type": "markdown",
   "id": "73a94872-9f24-4b60-8c74-77eac696df46",
   "metadata": {},
   "source": [
    "#### 4.2.1.1. View dataframe"
   ]
  },
  {
   "cell_type": "code",
   "execution_count": 63,
   "id": "eb3f0217-1895-4718-9652-c8cd52427576",
   "metadata": {},
   "outputs": [
    {
     "data": {
      "text/html": [
       "<div>\n",
       "<style scoped>\n",
       "    .dataframe tbody tr th:only-of-type {\n",
       "        vertical-align: middle;\n",
       "    }\n",
       "\n",
       "    .dataframe tbody tr th {\n",
       "        vertical-align: top;\n",
       "    }\n",
       "\n",
       "    .dataframe thead th {\n",
       "        text-align: right;\n",
       "    }\n",
       "</style>\n",
       "<table border=\"1\" class=\"dataframe\">\n",
       "  <thead>\n",
       "    <tr style=\"text-align: right;\">\n",
       "      <th></th>\n",
       "      <th>department_id</th>\n",
       "      <th>1</th>\n",
       "      <th>2</th>\n",
       "      <th>3</th>\n",
       "      <th>4</th>\n",
       "      <th>5</th>\n",
       "      <th>6</th>\n",
       "      <th>7</th>\n",
       "      <th>8</th>\n",
       "      <th>9</th>\n",
       "      <th>...</th>\n",
       "      <th>12</th>\n",
       "      <th>13</th>\n",
       "      <th>14</th>\n",
       "      <th>15</th>\n",
       "      <th>16</th>\n",
       "      <th>17</th>\n",
       "      <th>18</th>\n",
       "      <th>19</th>\n",
       "      <th>20</th>\n",
       "      <th>21</th>\n",
       "    </tr>\n",
       "  </thead>\n",
       "  <tbody>\n",
       "    <tr>\n",
       "      <th>0</th>\n",
       "      <td>department</td>\n",
       "      <td>frozen</td>\n",
       "      <td>other</td>\n",
       "      <td>bakery</td>\n",
       "      <td>produce</td>\n",
       "      <td>alcohol</td>\n",
       "      <td>international</td>\n",
       "      <td>beverages</td>\n",
       "      <td>pets</td>\n",
       "      <td>dry goods pasta</td>\n",
       "      <td>...</td>\n",
       "      <td>meat seafood</td>\n",
       "      <td>pantry</td>\n",
       "      <td>breakfast</td>\n",
       "      <td>canned goods</td>\n",
       "      <td>dairy eggs</td>\n",
       "      <td>household</td>\n",
       "      <td>babies</td>\n",
       "      <td>snacks</td>\n",
       "      <td>deli</td>\n",
       "      <td>missing</td>\n",
       "    </tr>\n",
       "  </tbody>\n",
       "</table>\n",
       "<p>1 rows × 22 columns</p>\n",
       "</div>"
      ],
      "text/plain": [
       "  department_id       1      2       3        4        5              6  \\\n",
       "0    department  frozen  other  bakery  produce  alcohol  international   \n",
       "\n",
       "           7     8                9  ...            12      13         14  \\\n",
       "0  beverages  pets  dry goods pasta  ...  meat seafood  pantry  breakfast   \n",
       "\n",
       "             15          16         17      18      19    20       21  \n",
       "0  canned goods  dairy eggs  household  babies  snacks  deli  missing  \n",
       "\n",
       "[1 rows x 22 columns]"
      ]
     },
     "execution_count": 63,
     "metadata": {},
     "output_type": "execute_result"
    }
   ],
   "source": [
    "#View the first 5 rows of the dataframe\n",
    "df_departments.head()"
   ]
  },
  {
   "cell_type": "markdown",
   "id": "4c16a237-33b0-43a9-b541-c14e959b6f63",
   "metadata": {},
   "source": [
    "#### 4.2.1.2. Transpose dataframe"
   ]
  },
  {
   "cell_type": "code",
   "execution_count": 65,
   "id": "70b1ab11-7d41-4cc0-8f38-67507aee899a",
   "metadata": {},
   "outputs": [
    {
     "data": {
      "text/html": [
       "<div>\n",
       "<style scoped>\n",
       "    .dataframe tbody tr th:only-of-type {\n",
       "        vertical-align: middle;\n",
       "    }\n",
       "\n",
       "    .dataframe tbody tr th {\n",
       "        vertical-align: top;\n",
       "    }\n",
       "\n",
       "    .dataframe thead th {\n",
       "        text-align: right;\n",
       "    }\n",
       "</style>\n",
       "<table border=\"1\" class=\"dataframe\">\n",
       "  <thead>\n",
       "    <tr style=\"text-align: right;\">\n",
       "      <th></th>\n",
       "      <th>0</th>\n",
       "    </tr>\n",
       "  </thead>\n",
       "  <tbody>\n",
       "    <tr>\n",
       "      <th>department_id</th>\n",
       "      <td>department</td>\n",
       "    </tr>\n",
       "    <tr>\n",
       "      <th>1</th>\n",
       "      <td>frozen</td>\n",
       "    </tr>\n",
       "    <tr>\n",
       "      <th>2</th>\n",
       "      <td>other</td>\n",
       "    </tr>\n",
       "    <tr>\n",
       "      <th>3</th>\n",
       "      <td>bakery</td>\n",
       "    </tr>\n",
       "    <tr>\n",
       "      <th>4</th>\n",
       "      <td>produce</td>\n",
       "    </tr>\n",
       "    <tr>\n",
       "      <th>5</th>\n",
       "      <td>alcohol</td>\n",
       "    </tr>\n",
       "    <tr>\n",
       "      <th>6</th>\n",
       "      <td>international</td>\n",
       "    </tr>\n",
       "    <tr>\n",
       "      <th>7</th>\n",
       "      <td>beverages</td>\n",
       "    </tr>\n",
       "    <tr>\n",
       "      <th>8</th>\n",
       "      <td>pets</td>\n",
       "    </tr>\n",
       "    <tr>\n",
       "      <th>9</th>\n",
       "      <td>dry goods pasta</td>\n",
       "    </tr>\n",
       "    <tr>\n",
       "      <th>10</th>\n",
       "      <td>bulk</td>\n",
       "    </tr>\n",
       "    <tr>\n",
       "      <th>11</th>\n",
       "      <td>personal care</td>\n",
       "    </tr>\n",
       "    <tr>\n",
       "      <th>12</th>\n",
       "      <td>meat seafood</td>\n",
       "    </tr>\n",
       "    <tr>\n",
       "      <th>13</th>\n",
       "      <td>pantry</td>\n",
       "    </tr>\n",
       "    <tr>\n",
       "      <th>14</th>\n",
       "      <td>breakfast</td>\n",
       "    </tr>\n",
       "    <tr>\n",
       "      <th>15</th>\n",
       "      <td>canned goods</td>\n",
       "    </tr>\n",
       "    <tr>\n",
       "      <th>16</th>\n",
       "      <td>dairy eggs</td>\n",
       "    </tr>\n",
       "    <tr>\n",
       "      <th>17</th>\n",
       "      <td>household</td>\n",
       "    </tr>\n",
       "    <tr>\n",
       "      <th>18</th>\n",
       "      <td>babies</td>\n",
       "    </tr>\n",
       "    <tr>\n",
       "      <th>19</th>\n",
       "      <td>snacks</td>\n",
       "    </tr>\n",
       "    <tr>\n",
       "      <th>20</th>\n",
       "      <td>deli</td>\n",
       "    </tr>\n",
       "    <tr>\n",
       "      <th>21</th>\n",
       "      <td>missing</td>\n",
       "    </tr>\n",
       "  </tbody>\n",
       "</table>\n",
       "</div>"
      ],
      "text/plain": [
       "                             0\n",
       "department_id       department\n",
       "1                       frozen\n",
       "2                        other\n",
       "3                       bakery\n",
       "4                      produce\n",
       "5                      alcohol\n",
       "6                international\n",
       "7                    beverages\n",
       "8                         pets\n",
       "9              dry goods pasta\n",
       "10                        bulk\n",
       "11               personal care\n",
       "12                meat seafood\n",
       "13                      pantry\n",
       "14                   breakfast\n",
       "15                canned goods\n",
       "16                  dairy eggs\n",
       "17                   household\n",
       "18                      babies\n",
       "19                      snacks\n",
       "20                        deli\n",
       "21                     missing"
      ]
     },
     "execution_count": 65,
     "metadata": {},
     "output_type": "execute_result"
    }
   ],
   "source": [
    "#Transpose the dataframe switching rows and columns and view results\n",
    "df_departments.T"
   ]
  },
  {
   "cell_type": "code",
   "execution_count": 66,
   "id": "f0f8dca9-097c-4b4d-a0bc-b2593486e28c",
   "metadata": {},
   "outputs": [],
   "source": [
    "#Transpose the dataframe and update the dataframe with results\n",
    "df_departments = df_departments.T"
   ]
  },
  {
   "cell_type": "markdown",
   "id": "5793c48f-ee4c-4202-86c8-e483f6ed795c",
   "metadata": {},
   "source": [
    "#### 4.2.1.3. Reset index"
   ]
  },
  {
   "cell_type": "code",
   "execution_count": 68,
   "id": "93c71ad8-bc61-4bb9-8ef7-ed9fc90c113c",
   "metadata": {},
   "outputs": [
    {
     "data": {
      "text/html": [
       "<div>\n",
       "<style scoped>\n",
       "    .dataframe tbody tr th:only-of-type {\n",
       "        vertical-align: middle;\n",
       "    }\n",
       "\n",
       "    .dataframe tbody tr th {\n",
       "        vertical-align: top;\n",
       "    }\n",
       "\n",
       "    .dataframe thead th {\n",
       "        text-align: right;\n",
       "    }\n",
       "</style>\n",
       "<table border=\"1\" class=\"dataframe\">\n",
       "  <thead>\n",
       "    <tr style=\"text-align: right;\">\n",
       "      <th></th>\n",
       "      <th>index</th>\n",
       "      <th>0</th>\n",
       "    </tr>\n",
       "  </thead>\n",
       "  <tbody>\n",
       "    <tr>\n",
       "      <th>0</th>\n",
       "      <td>department_id</td>\n",
       "      <td>department</td>\n",
       "    </tr>\n",
       "    <tr>\n",
       "      <th>1</th>\n",
       "      <td>1</td>\n",
       "      <td>frozen</td>\n",
       "    </tr>\n",
       "    <tr>\n",
       "      <th>2</th>\n",
       "      <td>2</td>\n",
       "      <td>other</td>\n",
       "    </tr>\n",
       "    <tr>\n",
       "      <th>3</th>\n",
       "      <td>3</td>\n",
       "      <td>bakery</td>\n",
       "    </tr>\n",
       "    <tr>\n",
       "      <th>4</th>\n",
       "      <td>4</td>\n",
       "      <td>produce</td>\n",
       "    </tr>\n",
       "    <tr>\n",
       "      <th>5</th>\n",
       "      <td>5</td>\n",
       "      <td>alcohol</td>\n",
       "    </tr>\n",
       "    <tr>\n",
       "      <th>6</th>\n",
       "      <td>6</td>\n",
       "      <td>international</td>\n",
       "    </tr>\n",
       "    <tr>\n",
       "      <th>7</th>\n",
       "      <td>7</td>\n",
       "      <td>beverages</td>\n",
       "    </tr>\n",
       "    <tr>\n",
       "      <th>8</th>\n",
       "      <td>8</td>\n",
       "      <td>pets</td>\n",
       "    </tr>\n",
       "    <tr>\n",
       "      <th>9</th>\n",
       "      <td>9</td>\n",
       "      <td>dry goods pasta</td>\n",
       "    </tr>\n",
       "    <tr>\n",
       "      <th>10</th>\n",
       "      <td>10</td>\n",
       "      <td>bulk</td>\n",
       "    </tr>\n",
       "    <tr>\n",
       "      <th>11</th>\n",
       "      <td>11</td>\n",
       "      <td>personal care</td>\n",
       "    </tr>\n",
       "    <tr>\n",
       "      <th>12</th>\n",
       "      <td>12</td>\n",
       "      <td>meat seafood</td>\n",
       "    </tr>\n",
       "    <tr>\n",
       "      <th>13</th>\n",
       "      <td>13</td>\n",
       "      <td>pantry</td>\n",
       "    </tr>\n",
       "    <tr>\n",
       "      <th>14</th>\n",
       "      <td>14</td>\n",
       "      <td>breakfast</td>\n",
       "    </tr>\n",
       "    <tr>\n",
       "      <th>15</th>\n",
       "      <td>15</td>\n",
       "      <td>canned goods</td>\n",
       "    </tr>\n",
       "    <tr>\n",
       "      <th>16</th>\n",
       "      <td>16</td>\n",
       "      <td>dairy eggs</td>\n",
       "    </tr>\n",
       "    <tr>\n",
       "      <th>17</th>\n",
       "      <td>17</td>\n",
       "      <td>household</td>\n",
       "    </tr>\n",
       "    <tr>\n",
       "      <th>18</th>\n",
       "      <td>18</td>\n",
       "      <td>babies</td>\n",
       "    </tr>\n",
       "    <tr>\n",
       "      <th>19</th>\n",
       "      <td>19</td>\n",
       "      <td>snacks</td>\n",
       "    </tr>\n",
       "    <tr>\n",
       "      <th>20</th>\n",
       "      <td>20</td>\n",
       "      <td>deli</td>\n",
       "    </tr>\n",
       "    <tr>\n",
       "      <th>21</th>\n",
       "      <td>21</td>\n",
       "      <td>missing</td>\n",
       "    </tr>\n",
       "  </tbody>\n",
       "</table>\n",
       "</div>"
      ],
      "text/plain": [
       "            index                0\n",
       "0   department_id       department\n",
       "1               1           frozen\n",
       "2               2            other\n",
       "3               3           bakery\n",
       "4               4          produce\n",
       "5               5          alcohol\n",
       "6               6    international\n",
       "7               7        beverages\n",
       "8               8             pets\n",
       "9               9  dry goods pasta\n",
       "10             10             bulk\n",
       "11             11    personal care\n",
       "12             12     meat seafood\n",
       "13             13           pantry\n",
       "14             14        breakfast\n",
       "15             15     canned goods\n",
       "16             16       dairy eggs\n",
       "17             17        household\n",
       "18             18           babies\n",
       "19             19           snacks\n",
       "20             20             deli\n",
       "21             21          missing"
      ]
     },
     "execution_count": 68,
     "metadata": {},
     "output_type": "execute_result"
    }
   ],
   "source": [
    "#Reset the index of the dataframe\n",
    "df_departments.reset_index()"
   ]
  },
  {
   "cell_type": "markdown",
   "id": "2050c2bc-f479-4a36-921f-0acaea87afa5",
   "metadata": {},
   "source": [
    "#### 4.2.1.4. Create 'new_header' variable"
   ]
  },
  {
   "cell_type": "code",
   "execution_count": 70,
   "id": "cd35003c-42d5-444e-8c59-8540efedc254",
   "metadata": {},
   "outputs": [],
   "source": [
    "#Select row 0 of the departments dataframe that contains the headings and assign it to a variable\n",
    "new_header = df_departments.iloc[0]"
   ]
  },
  {
   "cell_type": "code",
   "execution_count": 71,
   "id": "fa2628b8-810d-447a-af7e-6b2289d46ff4",
   "metadata": {},
   "outputs": [
    {
     "data": {
      "text/plain": [
       "0    department\n",
       "Name: department_id, dtype: object"
      ]
     },
     "execution_count": 71,
     "metadata": {},
     "output_type": "execute_result"
    }
   ],
   "source": [
    "#View the created variable\n",
    "new_header"
   ]
  },
  {
   "cell_type": "markdown",
   "id": "92601a69-9886-471b-987c-5d08f6eb5999",
   "metadata": {},
   "source": [
    "#### 4.2.1.5. Slice off old header"
   ]
  },
  {
   "cell_type": "code",
   "execution_count": 73,
   "id": "40d55dab-fa13-476b-beab-5ae00875e8cf",
   "metadata": {},
   "outputs": [],
   "source": [
    "#Select all rows from the departments dataframe from row 1 onward and update the dataframe with results\n",
    "df_departments = df_departments[1:]"
   ]
  },
  {
   "cell_type": "code",
   "execution_count": 74,
   "id": "88229d50-8661-4f65-bac9-7cfbbb2dc6a7",
   "metadata": {},
   "outputs": [
    {
     "data": {
      "text/html": [
       "<div>\n",
       "<style scoped>\n",
       "    .dataframe tbody tr th:only-of-type {\n",
       "        vertical-align: middle;\n",
       "    }\n",
       "\n",
       "    .dataframe tbody tr th {\n",
       "        vertical-align: top;\n",
       "    }\n",
       "\n",
       "    .dataframe thead th {\n",
       "        text-align: right;\n",
       "    }\n",
       "</style>\n",
       "<table border=\"1\" class=\"dataframe\">\n",
       "  <thead>\n",
       "    <tr style=\"text-align: right;\">\n",
       "      <th></th>\n",
       "      <th>0</th>\n",
       "    </tr>\n",
       "  </thead>\n",
       "  <tbody>\n",
       "    <tr>\n",
       "      <th>1</th>\n",
       "      <td>frozen</td>\n",
       "    </tr>\n",
       "    <tr>\n",
       "      <th>2</th>\n",
       "      <td>other</td>\n",
       "    </tr>\n",
       "    <tr>\n",
       "      <th>3</th>\n",
       "      <td>bakery</td>\n",
       "    </tr>\n",
       "    <tr>\n",
       "      <th>4</th>\n",
       "      <td>produce</td>\n",
       "    </tr>\n",
       "    <tr>\n",
       "      <th>5</th>\n",
       "      <td>alcohol</td>\n",
       "    </tr>\n",
       "    <tr>\n",
       "      <th>6</th>\n",
       "      <td>international</td>\n",
       "    </tr>\n",
       "    <tr>\n",
       "      <th>7</th>\n",
       "      <td>beverages</td>\n",
       "    </tr>\n",
       "    <tr>\n",
       "      <th>8</th>\n",
       "      <td>pets</td>\n",
       "    </tr>\n",
       "    <tr>\n",
       "      <th>9</th>\n",
       "      <td>dry goods pasta</td>\n",
       "    </tr>\n",
       "    <tr>\n",
       "      <th>10</th>\n",
       "      <td>bulk</td>\n",
       "    </tr>\n",
       "    <tr>\n",
       "      <th>11</th>\n",
       "      <td>personal care</td>\n",
       "    </tr>\n",
       "    <tr>\n",
       "      <th>12</th>\n",
       "      <td>meat seafood</td>\n",
       "    </tr>\n",
       "    <tr>\n",
       "      <th>13</th>\n",
       "      <td>pantry</td>\n",
       "    </tr>\n",
       "    <tr>\n",
       "      <th>14</th>\n",
       "      <td>breakfast</td>\n",
       "    </tr>\n",
       "    <tr>\n",
       "      <th>15</th>\n",
       "      <td>canned goods</td>\n",
       "    </tr>\n",
       "    <tr>\n",
       "      <th>16</th>\n",
       "      <td>dairy eggs</td>\n",
       "    </tr>\n",
       "    <tr>\n",
       "      <th>17</th>\n",
       "      <td>household</td>\n",
       "    </tr>\n",
       "    <tr>\n",
       "      <th>18</th>\n",
       "      <td>babies</td>\n",
       "    </tr>\n",
       "    <tr>\n",
       "      <th>19</th>\n",
       "      <td>snacks</td>\n",
       "    </tr>\n",
       "    <tr>\n",
       "      <th>20</th>\n",
       "      <td>deli</td>\n",
       "    </tr>\n",
       "    <tr>\n",
       "      <th>21</th>\n",
       "      <td>missing</td>\n",
       "    </tr>\n",
       "  </tbody>\n",
       "</table>\n",
       "</div>"
      ],
      "text/plain": [
       "                  0\n",
       "1            frozen\n",
       "2             other\n",
       "3            bakery\n",
       "4           produce\n",
       "5           alcohol\n",
       "6     international\n",
       "7         beverages\n",
       "8              pets\n",
       "9   dry goods pasta\n",
       "10             bulk\n",
       "11    personal care\n",
       "12     meat seafood\n",
       "13           pantry\n",
       "14        breakfast\n",
       "15     canned goods\n",
       "16       dairy eggs\n",
       "17        household\n",
       "18           babies\n",
       "19           snacks\n",
       "20             deli\n",
       "21          missing"
      ]
     },
     "execution_count": 74,
     "metadata": {},
     "output_type": "execute_result"
    }
   ],
   "source": [
    "#View updated dataframe\n",
    "df_departments"
   ]
  },
  {
   "cell_type": "markdown",
   "id": "bb6f9857-1510-483d-85f6-97775327282b",
   "metadata": {},
   "source": [
    "#### 4.2.1.6. Add new header"
   ]
  },
  {
   "cell_type": "code",
   "execution_count": 76,
   "id": "6a7102e9-7964-4094-9321-ae558f55e444",
   "metadata": {},
   "outputs": [],
   "source": [
    "#Assign new variable to column names\n",
    "df_departments.columns = new_header"
   ]
  },
  {
   "cell_type": "code",
   "execution_count": 77,
   "id": "e5feafb4-c57a-4a13-9f88-59208e01f3be",
   "metadata": {},
   "outputs": [
    {
     "data": {
      "text/html": [
       "<div>\n",
       "<style scoped>\n",
       "    .dataframe tbody tr th:only-of-type {\n",
       "        vertical-align: middle;\n",
       "    }\n",
       "\n",
       "    .dataframe tbody tr th {\n",
       "        vertical-align: top;\n",
       "    }\n",
       "\n",
       "    .dataframe thead th {\n",
       "        text-align: right;\n",
       "    }\n",
       "</style>\n",
       "<table border=\"1\" class=\"dataframe\">\n",
       "  <thead>\n",
       "    <tr style=\"text-align: right;\">\n",
       "      <th>department_id</th>\n",
       "      <th>department</th>\n",
       "    </tr>\n",
       "  </thead>\n",
       "  <tbody>\n",
       "    <tr>\n",
       "      <th>1</th>\n",
       "      <td>frozen</td>\n",
       "    </tr>\n",
       "    <tr>\n",
       "      <th>2</th>\n",
       "      <td>other</td>\n",
       "    </tr>\n",
       "    <tr>\n",
       "      <th>3</th>\n",
       "      <td>bakery</td>\n",
       "    </tr>\n",
       "    <tr>\n",
       "      <th>4</th>\n",
       "      <td>produce</td>\n",
       "    </tr>\n",
       "    <tr>\n",
       "      <th>5</th>\n",
       "      <td>alcohol</td>\n",
       "    </tr>\n",
       "  </tbody>\n",
       "</table>\n",
       "</div>"
      ],
      "text/plain": [
       "department_id department\n",
       "1                 frozen\n",
       "2                  other\n",
       "3                 bakery\n",
       "4                produce\n",
       "5                alcohol"
      ]
     },
     "execution_count": 77,
     "metadata": {},
     "output_type": "execute_result"
    }
   ],
   "source": [
    "#View first 5 rows of the updated dataframe\n",
    "df_departments.head()"
   ]
  },
  {
   "cell_type": "markdown",
   "id": "54f1f912-65cc-4eb2-a492-a02ff185ca9f",
   "metadata": {},
   "source": [
    "# 5. Data dictionaries"
   ]
  },
  {
   "cell_type": "markdown",
   "id": "8988973d-2c33-4764-8426-cfb1f507b099",
   "metadata": {},
   "source": [
    "## 5.1. Create a data dictionary "
   ]
  },
  {
   "cell_type": "code",
   "execution_count": 80,
   "id": "bde83fc2-376f-454d-861e-85165c9c2aed",
   "metadata": {},
   "outputs": [],
   "source": [
    "#Turn dataframe into data dictionary\n",
    "data_dictionary = df_departments.to_dict('index')"
   ]
  },
  {
   "cell_type": "code",
   "execution_count": 81,
   "id": "a637627b-3de3-4885-9871-3a45969ce038",
   "metadata": {},
   "outputs": [
    {
     "data": {
      "text/plain": [
       "{'1': {'department': 'frozen'},\n",
       " '2': {'department': 'other'},\n",
       " '3': {'department': 'bakery'},\n",
       " '4': {'department': 'produce'},\n",
       " '5': {'department': 'alcohol'},\n",
       " '6': {'department': 'international'},\n",
       " '7': {'department': 'beverages'},\n",
       " '8': {'department': 'pets'},\n",
       " '9': {'department': 'dry goods pasta'},\n",
       " '10': {'department': 'bulk'},\n",
       " '11': {'department': 'personal care'},\n",
       " '12': {'department': 'meat seafood'},\n",
       " '13': {'department': 'pantry'},\n",
       " '14': {'department': 'breakfast'},\n",
       " '15': {'department': 'canned goods'},\n",
       " '16': {'department': 'dairy eggs'},\n",
       " '17': {'department': 'household'},\n",
       " '18': {'department': 'babies'},\n",
       " '19': {'department': 'snacks'},\n",
       " '20': {'department': 'deli'},\n",
       " '21': {'department': 'missing'}}"
      ]
     },
     "execution_count": 81,
     "metadata": {},
     "output_type": "execute_result"
    }
   ],
   "source": [
    "#View created data dictionary\n",
    "data_dictionary"
   ]
  },
  {
   "cell_type": "markdown",
   "id": "bacb1d27-eae9-4c38-87ce-dbebfcfd1e81",
   "metadata": {},
   "source": [
    "## 5.2. Retrieve information - 'department_id' = 19"
   ]
  },
  {
   "cell_type": "code",
   "execution_count": 83,
   "id": "19ac17ac-468b-4406-aa49-01745da16f2e",
   "metadata": {},
   "outputs": [
    {
     "data": {
      "text/html": [
       "<div>\n",
       "<style scoped>\n",
       "    .dataframe tbody tr th:only-of-type {\n",
       "        vertical-align: middle;\n",
       "    }\n",
       "\n",
       "    .dataframe tbody tr th {\n",
       "        vertical-align: top;\n",
       "    }\n",
       "\n",
       "    .dataframe thead th {\n",
       "        text-align: right;\n",
       "    }\n",
       "</style>\n",
       "<table border=\"1\" class=\"dataframe\">\n",
       "  <thead>\n",
       "    <tr style=\"text-align: right;\">\n",
       "      <th></th>\n",
       "      <th>product_id</th>\n",
       "      <th>product_name</th>\n",
       "      <th>aisle_id</th>\n",
       "      <th>department_id</th>\n",
       "      <th>prices</th>\n",
       "    </tr>\n",
       "  </thead>\n",
       "  <tbody>\n",
       "    <tr>\n",
       "      <th>0</th>\n",
       "      <td>1</td>\n",
       "      <td>Chocolate Sandwich Cookies</td>\n",
       "      <td>61</td>\n",
       "      <td>19</td>\n",
       "      <td>5.8</td>\n",
       "    </tr>\n",
       "    <tr>\n",
       "      <th>1</th>\n",
       "      <td>2</td>\n",
       "      <td>All-Seasons Salt</td>\n",
       "      <td>104</td>\n",
       "      <td>13</td>\n",
       "      <td>9.3</td>\n",
       "    </tr>\n",
       "    <tr>\n",
       "      <th>2</th>\n",
       "      <td>3</td>\n",
       "      <td>Robust Golden Unsweetened Oolong Tea</td>\n",
       "      <td>94</td>\n",
       "      <td>7</td>\n",
       "      <td>4.5</td>\n",
       "    </tr>\n",
       "    <tr>\n",
       "      <th>3</th>\n",
       "      <td>4</td>\n",
       "      <td>Smart Ones Classic Favorites Mini Rigatoni Wit...</td>\n",
       "      <td>38</td>\n",
       "      <td>1</td>\n",
       "      <td>10.5</td>\n",
       "    </tr>\n",
       "    <tr>\n",
       "      <th>4</th>\n",
       "      <td>5</td>\n",
       "      <td>Green Chile Anytime Sauce</td>\n",
       "      <td>5</td>\n",
       "      <td>13</td>\n",
       "      <td>4.3</td>\n",
       "    </tr>\n",
       "  </tbody>\n",
       "</table>\n",
       "</div>"
      ],
      "text/plain": [
       "   product_id                                       product_name  aisle_id  \\\n",
       "0           1                         Chocolate Sandwich Cookies        61   \n",
       "1           2                                   All-Seasons Salt       104   \n",
       "2           3               Robust Golden Unsweetened Oolong Tea        94   \n",
       "3           4  Smart Ones Classic Favorites Mini Rigatoni Wit...        38   \n",
       "4           5                          Green Chile Anytime Sauce         5   \n",
       "\n",
       "   department_id  prices  \n",
       "0             19     5.8  \n",
       "1             13     9.3  \n",
       "2              7     4.5  \n",
       "3              1    10.5  \n",
       "4             13     4.3  "
      ]
     },
     "execution_count": 83,
     "metadata": {},
     "output_type": "execute_result"
    }
   ],
   "source": [
    "#Display the first 5 rows of the products dataframe\n",
    "df_products.head()"
   ]
  },
  {
   "cell_type": "code",
   "execution_count": 84,
   "id": "65c45cac-2a45-437a-94cf-b1835527cacf",
   "metadata": {},
   "outputs": [
    {
     "name": "stdout",
     "output_type": "stream",
     "text": [
      "{'department': 'snacks'}\n"
     ]
    }
   ],
   "source": [
    "#Retrieve the value associated with department_id = 19 from the data dictionary\n",
    "print(data_dictionary.get('19'))"
   ]
  },
  {
   "cell_type": "markdown",
   "id": "2186e29b-f801-4b72-87b8-95162e4347ac",
   "metadata": {},
   "source": [
    "## 5.3. Retrieve information - 'department_id' = 4 (Task)"
   ]
  },
  {
   "cell_type": "code",
   "execution_count": 86,
   "id": "240b7753-14ce-4c07-997a-2c3a7c1e33df",
   "metadata": {},
   "outputs": [
    {
     "name": "stdout",
     "output_type": "stream",
     "text": [
      "{'department': 'produce'}\n"
     ]
    }
   ],
   "source": [
    "#Retrieve the value associated with department_id = 4 from the data dictionary\n",
    "print(data_dictionary.get('4'))"
   ]
  },
  {
   "cell_type": "markdown",
   "id": "6c669fec-d3ab-4cf3-b3d0-580a90ab72c0",
   "metadata": {},
   "source": [
    "##### The description for department with id = 4 is 'produce'"
   ]
  },
  {
   "cell_type": "markdown",
   "id": "8a1a43c4-d307-4f0c-8f19-43c41238fc66",
   "metadata": {},
   "source": [
    "# 6. Create subsets using filters"
   ]
  },
  {
   "cell_type": "markdown",
   "id": "182350f7-cf69-4d71-b24a-a88b3fec961c",
   "metadata": {},
   "source": [
    "## 6.1. Create 'snacks' subset (Method 1)"
   ]
  },
  {
   "cell_type": "code",
   "execution_count": 90,
   "id": "51f22a8d-8894-452c-8184-843d483ec80a",
   "metadata": {},
   "outputs": [],
   "source": [
    "#Filter the dataframe for rows where department_id equals 19 using == operator and create subset with results\n",
    "df_snacks_1 = df_products[df_products['department_id'] == 19]"
   ]
  },
  {
   "cell_type": "code",
   "execution_count": 91,
   "id": "c28cdd83-96a8-4123-ab9e-983ac83fc271",
   "metadata": {},
   "outputs": [
    {
     "data": {
      "text/html": [
       "<div>\n",
       "<style scoped>\n",
       "    .dataframe tbody tr th:only-of-type {\n",
       "        vertical-align: middle;\n",
       "    }\n",
       "\n",
       "    .dataframe tbody tr th {\n",
       "        vertical-align: top;\n",
       "    }\n",
       "\n",
       "    .dataframe thead th {\n",
       "        text-align: right;\n",
       "    }\n",
       "</style>\n",
       "<table border=\"1\" class=\"dataframe\">\n",
       "  <thead>\n",
       "    <tr style=\"text-align: right;\">\n",
       "      <th></th>\n",
       "      <th>product_id</th>\n",
       "      <th>product_name</th>\n",
       "      <th>aisle_id</th>\n",
       "      <th>department_id</th>\n",
       "      <th>prices</th>\n",
       "    </tr>\n",
       "  </thead>\n",
       "  <tbody>\n",
       "    <tr>\n",
       "      <th>0</th>\n",
       "      <td>1</td>\n",
       "      <td>Chocolate Sandwich Cookies</td>\n",
       "      <td>61</td>\n",
       "      <td>19</td>\n",
       "      <td>5.8</td>\n",
       "    </tr>\n",
       "    <tr>\n",
       "      <th>15</th>\n",
       "      <td>16</td>\n",
       "      <td>Mint Chocolate Flavored Syrup</td>\n",
       "      <td>103</td>\n",
       "      <td>19</td>\n",
       "      <td>5.2</td>\n",
       "    </tr>\n",
       "    <tr>\n",
       "      <th>24</th>\n",
       "      <td>25</td>\n",
       "      <td>Salted Caramel Lean Protein &amp; Fiber Bar</td>\n",
       "      <td>3</td>\n",
       "      <td>19</td>\n",
       "      <td>1.9</td>\n",
       "    </tr>\n",
       "    <tr>\n",
       "      <th>31</th>\n",
       "      <td>32</td>\n",
       "      <td>Nacho Cheese White Bean Chips</td>\n",
       "      <td>107</td>\n",
       "      <td>19</td>\n",
       "      <td>4.9</td>\n",
       "    </tr>\n",
       "    <tr>\n",
       "      <th>40</th>\n",
       "      <td>41</td>\n",
       "      <td>Organic Sourdough Einkorn Crackers Rosemary</td>\n",
       "      <td>78</td>\n",
       "      <td>19</td>\n",
       "      <td>6.5</td>\n",
       "    </tr>\n",
       "  </tbody>\n",
       "</table>\n",
       "</div>"
      ],
      "text/plain": [
       "    product_id                                 product_name  aisle_id  \\\n",
       "0            1                   Chocolate Sandwich Cookies        61   \n",
       "15          16                Mint Chocolate Flavored Syrup       103   \n",
       "24          25      Salted Caramel Lean Protein & Fiber Bar         3   \n",
       "31          32                Nacho Cheese White Bean Chips       107   \n",
       "40          41  Organic Sourdough Einkorn Crackers Rosemary        78   \n",
       "\n",
       "    department_id  prices  \n",
       "0              19     5.8  \n",
       "15             19     5.2  \n",
       "24             19     1.9  \n",
       "31             19     4.9  \n",
       "40             19     6.5  "
      ]
     },
     "execution_count": 91,
     "metadata": {},
     "output_type": "execute_result"
    }
   ],
   "source": [
    "#View first 5 rows of created subset\n",
    "df_snacks_1.head()"
   ]
  },
  {
   "cell_type": "markdown",
   "id": "335590de-807e-4db9-8499-9458b833198d",
   "metadata": {},
   "source": [
    "## 6.2. Create 'snacks' subset (Method 2)"
   ]
  },
  {
   "cell_type": "code",
   "execution_count": 93,
   "id": "00cc09f4-6675-4040-b792-49bd29013240",
   "metadata": {},
   "outputs": [],
   "source": [
    "#Filter the dataframe for rows where department_id equals 19 using indexing method and create subset with results\n",
    "df_snacks_2 = df_products.loc[df_products['department_id'] == 19]"
   ]
  },
  {
   "cell_type": "code",
   "execution_count": 94,
   "id": "c7245bc7-62f0-488b-97eb-9fc072632280",
   "metadata": {},
   "outputs": [
    {
     "data": {
      "text/html": [
       "<div>\n",
       "<style scoped>\n",
       "    .dataframe tbody tr th:only-of-type {\n",
       "        vertical-align: middle;\n",
       "    }\n",
       "\n",
       "    .dataframe tbody tr th {\n",
       "        vertical-align: top;\n",
       "    }\n",
       "\n",
       "    .dataframe thead th {\n",
       "        text-align: right;\n",
       "    }\n",
       "</style>\n",
       "<table border=\"1\" class=\"dataframe\">\n",
       "  <thead>\n",
       "    <tr style=\"text-align: right;\">\n",
       "      <th></th>\n",
       "      <th>product_id</th>\n",
       "      <th>product_name</th>\n",
       "      <th>aisle_id</th>\n",
       "      <th>department_id</th>\n",
       "      <th>prices</th>\n",
       "    </tr>\n",
       "  </thead>\n",
       "  <tbody>\n",
       "    <tr>\n",
       "      <th>0</th>\n",
       "      <td>1</td>\n",
       "      <td>Chocolate Sandwich Cookies</td>\n",
       "      <td>61</td>\n",
       "      <td>19</td>\n",
       "      <td>5.8</td>\n",
       "    </tr>\n",
       "    <tr>\n",
       "      <th>15</th>\n",
       "      <td>16</td>\n",
       "      <td>Mint Chocolate Flavored Syrup</td>\n",
       "      <td>103</td>\n",
       "      <td>19</td>\n",
       "      <td>5.2</td>\n",
       "    </tr>\n",
       "    <tr>\n",
       "      <th>24</th>\n",
       "      <td>25</td>\n",
       "      <td>Salted Caramel Lean Protein &amp; Fiber Bar</td>\n",
       "      <td>3</td>\n",
       "      <td>19</td>\n",
       "      <td>1.9</td>\n",
       "    </tr>\n",
       "    <tr>\n",
       "      <th>31</th>\n",
       "      <td>32</td>\n",
       "      <td>Nacho Cheese White Bean Chips</td>\n",
       "      <td>107</td>\n",
       "      <td>19</td>\n",
       "      <td>4.9</td>\n",
       "    </tr>\n",
       "    <tr>\n",
       "      <th>40</th>\n",
       "      <td>41</td>\n",
       "      <td>Organic Sourdough Einkorn Crackers Rosemary</td>\n",
       "      <td>78</td>\n",
       "      <td>19</td>\n",
       "      <td>6.5</td>\n",
       "    </tr>\n",
       "  </tbody>\n",
       "</table>\n",
       "</div>"
      ],
      "text/plain": [
       "    product_id                                 product_name  aisle_id  \\\n",
       "0            1                   Chocolate Sandwich Cookies        61   \n",
       "15          16                Mint Chocolate Flavored Syrup       103   \n",
       "24          25      Salted Caramel Lean Protein & Fiber Bar         3   \n",
       "31          32                Nacho Cheese White Bean Chips       107   \n",
       "40          41  Organic Sourdough Einkorn Crackers Rosemary        78   \n",
       "\n",
       "    department_id  prices  \n",
       "0              19     5.8  \n",
       "15             19     5.2  \n",
       "24             19     1.9  \n",
       "31             19     4.9  \n",
       "40             19     6.5  "
      ]
     },
     "execution_count": 94,
     "metadata": {},
     "output_type": "execute_result"
    }
   ],
   "source": [
    "#View first 5 rows of created subset\n",
    "df_snacks_2.head()"
   ]
  },
  {
   "cell_type": "markdown",
   "id": "bbabc7be-e4a7-4a3d-9e4c-16d7191e7568",
   "metadata": {},
   "source": [
    "## 6.3. Create 'miscellaneous' subset (Multiple values)"
   ]
  },
  {
   "cell_type": "code",
   "execution_count": 96,
   "id": "00278de0-4c69-4e6b-ab06-3e12483c4175",
   "metadata": {},
   "outputs": [],
   "source": [
    "#Filter the dataframe for rows where department_id equals 17, 18, 19 using isin() function and create subset with results\n",
    "df_miscellaneous = df_products[df_products['department_id'].isin([17,18,19])]"
   ]
  },
  {
   "cell_type": "code",
   "execution_count": 97,
   "id": "59a5d163-273e-47f2-83fe-7e90ccc66e61",
   "metadata": {},
   "outputs": [
    {
     "data": {
      "text/plain": [
       "department_id\n",
       "19    6264\n",
       "17    3085\n",
       "18    1081\n",
       "Name: count, dtype: int64"
      ]
     },
     "execution_count": 97,
     "metadata": {},
     "output_type": "execute_result"
    }
   ],
   "source": [
    "#Display the frequency of unique values in the 'department_id' column\n",
    "df_miscellaneous['department_id'].value_counts(dropna = False)"
   ]
  },
  {
   "cell_type": "code",
   "execution_count": 98,
   "id": "f8168c22-6a02-43bd-aaef-f3222f392f1f",
   "metadata": {},
   "outputs": [
    {
     "data": {
      "text/html": [
       "<div>\n",
       "<style scoped>\n",
       "    .dataframe tbody tr th:only-of-type {\n",
       "        vertical-align: middle;\n",
       "    }\n",
       "\n",
       "    .dataframe tbody tr th {\n",
       "        vertical-align: top;\n",
       "    }\n",
       "\n",
       "    .dataframe thead th {\n",
       "        text-align: right;\n",
       "    }\n",
       "</style>\n",
       "<table border=\"1\" class=\"dataframe\">\n",
       "  <thead>\n",
       "    <tr style=\"text-align: right;\">\n",
       "      <th></th>\n",
       "      <th>product_id</th>\n",
       "      <th>product_name</th>\n",
       "      <th>aisle_id</th>\n",
       "      <th>department_id</th>\n",
       "      <th>prices</th>\n",
       "    </tr>\n",
       "  </thead>\n",
       "  <tbody>\n",
       "    <tr>\n",
       "      <th>0</th>\n",
       "      <td>1</td>\n",
       "      <td>Chocolate Sandwich Cookies</td>\n",
       "      <td>61</td>\n",
       "      <td>19</td>\n",
       "      <td>5.8</td>\n",
       "    </tr>\n",
       "    <tr>\n",
       "      <th>13</th>\n",
       "      <td>14</td>\n",
       "      <td>Fresh Scent Dishwasher Cleaner</td>\n",
       "      <td>74</td>\n",
       "      <td>17</td>\n",
       "      <td>6.5</td>\n",
       "    </tr>\n",
       "    <tr>\n",
       "      <th>14</th>\n",
       "      <td>15</td>\n",
       "      <td>Overnight Diapers Size 6</td>\n",
       "      <td>56</td>\n",
       "      <td>18</td>\n",
       "      <td>11.2</td>\n",
       "    </tr>\n",
       "    <tr>\n",
       "      <th>15</th>\n",
       "      <td>16</td>\n",
       "      <td>Mint Chocolate Flavored Syrup</td>\n",
       "      <td>103</td>\n",
       "      <td>19</td>\n",
       "      <td>5.2</td>\n",
       "    </tr>\n",
       "    <tr>\n",
       "      <th>24</th>\n",
       "      <td>25</td>\n",
       "      <td>Salted Caramel Lean Protein &amp; Fiber Bar</td>\n",
       "      <td>3</td>\n",
       "      <td>19</td>\n",
       "      <td>1.9</td>\n",
       "    </tr>\n",
       "  </tbody>\n",
       "</table>\n",
       "</div>"
      ],
      "text/plain": [
       "    product_id                             product_name  aisle_id  \\\n",
       "0            1               Chocolate Sandwich Cookies        61   \n",
       "13          14           Fresh Scent Dishwasher Cleaner        74   \n",
       "14          15                 Overnight Diapers Size 6        56   \n",
       "15          16            Mint Chocolate Flavored Syrup       103   \n",
       "24          25  Salted Caramel Lean Protein & Fiber Bar         3   \n",
       "\n",
       "    department_id  prices  \n",
       "0              19     5.8  \n",
       "13             17     6.5  \n",
       "14             18    11.2  \n",
       "15             19     5.2  \n",
       "24             19     1.9  "
      ]
     },
     "execution_count": 98,
     "metadata": {},
     "output_type": "execute_result"
    }
   ],
   "source": [
    "#View first 5 rows of created subset\n",
    "df_miscellaneous.head()\n"
   ]
  },
  {
   "cell_type": "markdown",
   "id": "8434907d-7346-4469-a9a2-4b1b571f013b",
   "metadata": {},
   "source": [
    "## 6.4. Create 'breakfast' subset (Task)"
   ]
  },
  {
   "cell_type": "code",
   "execution_count": 100,
   "id": "bf00f109-6da6-4fb7-8bf8-67c293e9160a",
   "metadata": {},
   "outputs": [
    {
     "data": {
      "text/plain": [
       "{'1': {'department': 'frozen'},\n",
       " '2': {'department': 'other'},\n",
       " '3': {'department': 'bakery'},\n",
       " '4': {'department': 'produce'},\n",
       " '5': {'department': 'alcohol'},\n",
       " '6': {'department': 'international'},\n",
       " '7': {'department': 'beverages'},\n",
       " '8': {'department': 'pets'},\n",
       " '9': {'department': 'dry goods pasta'},\n",
       " '10': {'department': 'bulk'},\n",
       " '11': {'department': 'personal care'},\n",
       " '12': {'department': 'meat seafood'},\n",
       " '13': {'department': 'pantry'},\n",
       " '14': {'department': 'breakfast'},\n",
       " '15': {'department': 'canned goods'},\n",
       " '16': {'department': 'dairy eggs'},\n",
       " '17': {'department': 'household'},\n",
       " '18': {'department': 'babies'},\n",
       " '19': {'department': 'snacks'},\n",
       " '20': {'department': 'deli'},\n",
       " '21': {'department': 'missing'}}"
      ]
     },
     "execution_count": 100,
     "metadata": {},
     "output_type": "execute_result"
    }
   ],
   "source": [
    "#View the data dictionary\n",
    "data_dictionary"
   ]
  },
  {
   "cell_type": "code",
   "execution_count": 101,
   "id": "86797d9d-d11e-41db-a234-db5af85c4cec",
   "metadata": {},
   "outputs": [],
   "source": [
    "#Filter the dataframe for rows where department_id equals 14 and create a subset with the results\n",
    "df_breakfast = df_products[df_products['department_id'] == 14]"
   ]
  },
  {
   "cell_type": "code",
   "execution_count": 102,
   "id": "2f865542-bd37-445f-9f05-279d260df2d4",
   "metadata": {},
   "outputs": [
    {
     "data": {
      "text/plain": [
       "department_id\n",
       "14    1116\n",
       "Name: count, dtype: int64"
      ]
     },
     "execution_count": 102,
     "metadata": {},
     "output_type": "execute_result"
    }
   ],
   "source": [
    "#Display the frequency of unique values in the 'department_id' column\n",
    "df_breakfast['department_id'].value_counts(dropna = False)"
   ]
  },
  {
   "cell_type": "code",
   "execution_count": 103,
   "id": "825d6b65-b8a0-4f70-91f3-ee0fb716e3cb",
   "metadata": {},
   "outputs": [
    {
     "data": {
      "text/html": [
       "<div>\n",
       "<style scoped>\n",
       "    .dataframe tbody tr th:only-of-type {\n",
       "        vertical-align: middle;\n",
       "    }\n",
       "\n",
       "    .dataframe tbody tr th {\n",
       "        vertical-align: top;\n",
       "    }\n",
       "\n",
       "    .dataframe thead th {\n",
       "        text-align: right;\n",
       "    }\n",
       "</style>\n",
       "<table border=\"1\" class=\"dataframe\">\n",
       "  <thead>\n",
       "    <tr style=\"text-align: right;\">\n",
       "      <th></th>\n",
       "      <th>product_id</th>\n",
       "      <th>product_name</th>\n",
       "      <th>aisle_id</th>\n",
       "      <th>department_id</th>\n",
       "      <th>prices</th>\n",
       "    </tr>\n",
       "  </thead>\n",
       "  <tbody>\n",
       "    <tr>\n",
       "      <th>27</th>\n",
       "      <td>28</td>\n",
       "      <td>Wheat Chex Cereal</td>\n",
       "      <td>121</td>\n",
       "      <td>14</td>\n",
       "      <td>10.1</td>\n",
       "    </tr>\n",
       "    <tr>\n",
       "      <th>33</th>\n",
       "      <td>34</td>\n",
       "      <td>NaN</td>\n",
       "      <td>121</td>\n",
       "      <td>14</td>\n",
       "      <td>12.2</td>\n",
       "    </tr>\n",
       "    <tr>\n",
       "      <th>67</th>\n",
       "      <td>68</td>\n",
       "      <td>Pancake Mix, Buttermilk</td>\n",
       "      <td>130</td>\n",
       "      <td>14</td>\n",
       "      <td>13.7</td>\n",
       "    </tr>\n",
       "    <tr>\n",
       "      <th>89</th>\n",
       "      <td>90</td>\n",
       "      <td>Smorz Cereal</td>\n",
       "      <td>121</td>\n",
       "      <td>14</td>\n",
       "      <td>3.9</td>\n",
       "    </tr>\n",
       "    <tr>\n",
       "      <th>210</th>\n",
       "      <td>211</td>\n",
       "      <td>Gluten Free Organic Cereal Coconut Maple Vanilla</td>\n",
       "      <td>130</td>\n",
       "      <td>14</td>\n",
       "      <td>3.6</td>\n",
       "    </tr>\n",
       "  </tbody>\n",
       "</table>\n",
       "</div>"
      ],
      "text/plain": [
       "     product_id                                      product_name  aisle_id  \\\n",
       "27           28                                 Wheat Chex Cereal       121   \n",
       "33           34                                               NaN       121   \n",
       "67           68                           Pancake Mix, Buttermilk       130   \n",
       "89           90                                      Smorz Cereal       121   \n",
       "210         211  Gluten Free Organic Cereal Coconut Maple Vanilla       130   \n",
       "\n",
       "     department_id  prices  \n",
       "27              14    10.1  \n",
       "33              14    12.2  \n",
       "67              14    13.7  \n",
       "89              14     3.9  \n",
       "210             14     3.6  "
      ]
     },
     "execution_count": 103,
     "metadata": {},
     "output_type": "execute_result"
    }
   ],
   "source": [
    "#View first 5 rows of created subset\n",
    "df_breakfast.head()"
   ]
  },
  {
   "cell_type": "markdown",
   "id": "0ee566a3-18d2-4784-84fa-9d9fe204e517",
   "metadata": {},
   "source": [
    "## 6.5. Create 'dinner' subset (Task)"
   ]
  },
  {
   "cell_type": "code",
   "execution_count": 105,
   "id": "d96eb484-2fb2-44b8-a1f6-22ad30474b3d",
   "metadata": {},
   "outputs": [
    {
     "data": {
      "text/plain": [
       "{'1': {'department': 'frozen'},\n",
       " '2': {'department': 'other'},\n",
       " '3': {'department': 'bakery'},\n",
       " '4': {'department': 'produce'},\n",
       " '5': {'department': 'alcohol'},\n",
       " '6': {'department': 'international'},\n",
       " '7': {'department': 'beverages'},\n",
       " '8': {'department': 'pets'},\n",
       " '9': {'department': 'dry goods pasta'},\n",
       " '10': {'department': 'bulk'},\n",
       " '11': {'department': 'personal care'},\n",
       " '12': {'department': 'meat seafood'},\n",
       " '13': {'department': 'pantry'},\n",
       " '14': {'department': 'breakfast'},\n",
       " '15': {'department': 'canned goods'},\n",
       " '16': {'department': 'dairy eggs'},\n",
       " '17': {'department': 'household'},\n",
       " '18': {'department': 'babies'},\n",
       " '19': {'department': 'snacks'},\n",
       " '20': {'department': 'deli'},\n",
       " '21': {'department': 'missing'}}"
      ]
     },
     "execution_count": 105,
     "metadata": {},
     "output_type": "execute_result"
    }
   ],
   "source": [
    "#View the data dictionary\n",
    "data_dictionary"
   ]
  },
  {
   "cell_type": "code",
   "execution_count": 106,
   "id": "3d9e04df-9686-4c73-90e9-7060c1468c76",
   "metadata": {},
   "outputs": [],
   "source": [
    "#Retrieve the value associated with department_id 5, 7, 12, & 20 from the data dictionary and create a subset with the results\n",
    "df_dinner = df_products[df_products['department_id'].isin([5,7,12,20])]"
   ]
  },
  {
   "cell_type": "code",
   "execution_count": 107,
   "id": "b3fd1b1c-3495-4b01-9cc1-260a3e8b3595",
   "metadata": {},
   "outputs": [
    {
     "data": {
      "text/plain": [
       "department_id\n",
       "7     4365\n",
       "20    1322\n",
       "5     1056\n",
       "12     907\n",
       "Name: count, dtype: int64"
      ]
     },
     "execution_count": 107,
     "metadata": {},
     "output_type": "execute_result"
    }
   ],
   "source": [
    "#View results\n",
    "df_dinner['department_id'].value_counts(dropna = False)"
   ]
  },
  {
   "cell_type": "markdown",
   "id": "0cdeaaa8-089f-4eb5-aabe-e4d2586526ac",
   "metadata": {},
   "source": [
    "### 6.5.1. View 'dinner' dimensions (Task)"
   ]
  },
  {
   "cell_type": "code",
   "execution_count": 109,
   "id": "08fe77f7-9894-4b37-b9b4-fd68adf4927c",
   "metadata": {},
   "outputs": [
    {
     "data": {
      "text/plain": [
       "(7650, 5)"
      ]
     },
     "execution_count": 109,
     "metadata": {},
     "output_type": "execute_result"
    }
   ],
   "source": [
    "#Get the dimensions of the created subset\n",
    "df_dinner.shape"
   ]
  },
  {
   "cell_type": "markdown",
   "id": "2d761e8f-9cbf-4a5d-8cee-bca08ba149dd",
   "metadata": {},
   "source": [
    "##### The dataframe has 7650 rows"
   ]
  },
  {
   "cell_type": "markdown",
   "id": "a3bf8707-7b52-4510-9f0b-2ed12eef97c4",
   "metadata": {},
   "source": [
    "## 6.6. Create 'user_id' = 1 subset (Task)"
   ]
  },
  {
   "cell_type": "code",
   "execution_count": 112,
   "id": "0c7f7969-8c5c-47cd-b72b-3f63a90ed6d8",
   "metadata": {},
   "outputs": [],
   "source": [
    "#Extract filtered records for user_id 1 and create a subset with the results\n",
    "df_orders_user_1 = df_orders[df_orders['user_id'] == '1']"
   ]
  },
  {
   "cell_type": "code",
   "execution_count": 113,
   "id": "bff0d19f-b186-4648-b413-fbb5cdb588c7",
   "metadata": {},
   "outputs": [
    {
     "data": {
      "text/html": [
       "<div>\n",
       "<style scoped>\n",
       "    .dataframe tbody tr th:only-of-type {\n",
       "        vertical-align: middle;\n",
       "    }\n",
       "\n",
       "    .dataframe tbody tr th {\n",
       "        vertical-align: top;\n",
       "    }\n",
       "\n",
       "    .dataframe thead th {\n",
       "        text-align: right;\n",
       "    }\n",
       "</style>\n",
       "<table border=\"1\" class=\"dataframe\">\n",
       "  <thead>\n",
       "    <tr style=\"text-align: right;\">\n",
       "      <th></th>\n",
       "      <th>order_id</th>\n",
       "      <th>user_id</th>\n",
       "      <th>user_order_number</th>\n",
       "      <th>orders_day_of_week</th>\n",
       "      <th>order_hour_of_day</th>\n",
       "      <th>days_since_prior_order</th>\n",
       "    </tr>\n",
       "  </thead>\n",
       "  <tbody>\n",
       "    <tr>\n",
       "      <th>0</th>\n",
       "      <td>2539329</td>\n",
       "      <td>1</td>\n",
       "      <td>1</td>\n",
       "      <td>2</td>\n",
       "      <td>8</td>\n",
       "      <td>NaN</td>\n",
       "    </tr>\n",
       "    <tr>\n",
       "      <th>1</th>\n",
       "      <td>2398795</td>\n",
       "      <td>1</td>\n",
       "      <td>2</td>\n",
       "      <td>3</td>\n",
       "      <td>7</td>\n",
       "      <td>15.0</td>\n",
       "    </tr>\n",
       "    <tr>\n",
       "      <th>2</th>\n",
       "      <td>473747</td>\n",
       "      <td>1</td>\n",
       "      <td>3</td>\n",
       "      <td>3</td>\n",
       "      <td>12</td>\n",
       "      <td>21.0</td>\n",
       "    </tr>\n",
       "    <tr>\n",
       "      <th>3</th>\n",
       "      <td>2254736</td>\n",
       "      <td>1</td>\n",
       "      <td>4</td>\n",
       "      <td>4</td>\n",
       "      <td>7</td>\n",
       "      <td>29.0</td>\n",
       "    </tr>\n",
       "    <tr>\n",
       "      <th>4</th>\n",
       "      <td>431534</td>\n",
       "      <td>1</td>\n",
       "      <td>5</td>\n",
       "      <td>4</td>\n",
       "      <td>15</td>\n",
       "      <td>28.0</td>\n",
       "    </tr>\n",
       "    <tr>\n",
       "      <th>5</th>\n",
       "      <td>3367565</td>\n",
       "      <td>1</td>\n",
       "      <td>6</td>\n",
       "      <td>2</td>\n",
       "      <td>7</td>\n",
       "      <td>19.0</td>\n",
       "    </tr>\n",
       "    <tr>\n",
       "      <th>6</th>\n",
       "      <td>550135</td>\n",
       "      <td>1</td>\n",
       "      <td>7</td>\n",
       "      <td>1</td>\n",
       "      <td>9</td>\n",
       "      <td>20.0</td>\n",
       "    </tr>\n",
       "    <tr>\n",
       "      <th>7</th>\n",
       "      <td>3108588</td>\n",
       "      <td>1</td>\n",
       "      <td>8</td>\n",
       "      <td>1</td>\n",
       "      <td>14</td>\n",
       "      <td>14.0</td>\n",
       "    </tr>\n",
       "    <tr>\n",
       "      <th>8</th>\n",
       "      <td>2295261</td>\n",
       "      <td>1</td>\n",
       "      <td>9</td>\n",
       "      <td>1</td>\n",
       "      <td>16</td>\n",
       "      <td>0.0</td>\n",
       "    </tr>\n",
       "    <tr>\n",
       "      <th>9</th>\n",
       "      <td>2550362</td>\n",
       "      <td>1</td>\n",
       "      <td>10</td>\n",
       "      <td>4</td>\n",
       "      <td>8</td>\n",
       "      <td>30.0</td>\n",
       "    </tr>\n",
       "    <tr>\n",
       "      <th>10</th>\n",
       "      <td>1187899</td>\n",
       "      <td>1</td>\n",
       "      <td>11</td>\n",
       "      <td>4</td>\n",
       "      <td>8</td>\n",
       "      <td>14.0</td>\n",
       "    </tr>\n",
       "  </tbody>\n",
       "</table>\n",
       "</div>"
      ],
      "text/plain": [
       "   order_id user_id  user_order_number  orders_day_of_week  order_hour_of_day  \\\n",
       "0   2539329       1                  1                   2                  8   \n",
       "1   2398795       1                  2                   3                  7   \n",
       "2    473747       1                  3                   3                 12   \n",
       "3   2254736       1                  4                   4                  7   \n",
       "4    431534       1                  5                   4                 15   \n",
       "5   3367565       1                  6                   2                  7   \n",
       "6    550135       1                  7                   1                  9   \n",
       "7   3108588       1                  8                   1                 14   \n",
       "8   2295261       1                  9                   1                 16   \n",
       "9   2550362       1                 10                   4                  8   \n",
       "10  1187899       1                 11                   4                  8   \n",
       "\n",
       "    days_since_prior_order  \n",
       "0                      NaN  \n",
       "1                     15.0  \n",
       "2                     21.0  \n",
       "3                     29.0  \n",
       "4                     28.0  \n",
       "5                     19.0  \n",
       "6                     20.0  \n",
       "7                     14.0  \n",
       "8                      0.0  \n",
       "9                     30.0  \n",
       "10                    14.0  "
      ]
     },
     "execution_count": 113,
     "metadata": {},
     "output_type": "execute_result"
    }
   ],
   "source": [
    "#View dataframe\n",
    "df_orders_user_1"
   ]
  },
  {
   "cell_type": "markdown",
   "id": "2ad0876e-8fb0-4467-a2de-75a127ab821a",
   "metadata": {},
   "source": [
    "### 6.6.1. View descriptive statistics - 'user_id' = 1 (Task)"
   ]
  },
  {
   "cell_type": "code",
   "execution_count": 115,
   "id": "8c97c656-4c47-4de6-959d-f4fde2b4b83a",
   "metadata": {},
   "outputs": [
    {
     "data": {
      "text/html": [
       "<div>\n",
       "<style scoped>\n",
       "    .dataframe tbody tr th:only-of-type {\n",
       "        vertical-align: middle;\n",
       "    }\n",
       "\n",
       "    .dataframe tbody tr th {\n",
       "        vertical-align: top;\n",
       "    }\n",
       "\n",
       "    .dataframe thead th {\n",
       "        text-align: right;\n",
       "    }\n",
       "</style>\n",
       "<table border=\"1\" class=\"dataframe\">\n",
       "  <thead>\n",
       "    <tr style=\"text-align: right;\">\n",
       "      <th></th>\n",
       "      <th>user_order_number</th>\n",
       "      <th>orders_day_of_week</th>\n",
       "      <th>order_hour_of_day</th>\n",
       "      <th>days_since_prior_order</th>\n",
       "    </tr>\n",
       "  </thead>\n",
       "  <tbody>\n",
       "    <tr>\n",
       "      <th>count</th>\n",
       "      <td>11.000000</td>\n",
       "      <td>11.000000</td>\n",
       "      <td>11.000000</td>\n",
       "      <td>10.000000</td>\n",
       "    </tr>\n",
       "    <tr>\n",
       "      <th>mean</th>\n",
       "      <td>6.000000</td>\n",
       "      <td>2.636364</td>\n",
       "      <td>10.090909</td>\n",
       "      <td>19.000000</td>\n",
       "    </tr>\n",
       "    <tr>\n",
       "      <th>std</th>\n",
       "      <td>3.316625</td>\n",
       "      <td>1.286291</td>\n",
       "      <td>3.477198</td>\n",
       "      <td>9.030811</td>\n",
       "    </tr>\n",
       "    <tr>\n",
       "      <th>min</th>\n",
       "      <td>1.000000</td>\n",
       "      <td>1.000000</td>\n",
       "      <td>7.000000</td>\n",
       "      <td>0.000000</td>\n",
       "    </tr>\n",
       "    <tr>\n",
       "      <th>25%</th>\n",
       "      <td>3.500000</td>\n",
       "      <td>1.500000</td>\n",
       "      <td>7.500000</td>\n",
       "      <td>14.250000</td>\n",
       "    </tr>\n",
       "    <tr>\n",
       "      <th>50%</th>\n",
       "      <td>6.000000</td>\n",
       "      <td>3.000000</td>\n",
       "      <td>8.000000</td>\n",
       "      <td>19.500000</td>\n",
       "    </tr>\n",
       "    <tr>\n",
       "      <th>75%</th>\n",
       "      <td>8.500000</td>\n",
       "      <td>4.000000</td>\n",
       "      <td>13.000000</td>\n",
       "      <td>26.250000</td>\n",
       "    </tr>\n",
       "    <tr>\n",
       "      <th>max</th>\n",
       "      <td>11.000000</td>\n",
       "      <td>4.000000</td>\n",
       "      <td>16.000000</td>\n",
       "      <td>30.000000</td>\n",
       "    </tr>\n",
       "  </tbody>\n",
       "</table>\n",
       "</div>"
      ],
      "text/plain": [
       "       user_order_number  orders_day_of_week  order_hour_of_day  \\\n",
       "count          11.000000           11.000000          11.000000   \n",
       "mean            6.000000            2.636364          10.090909   \n",
       "std             3.316625            1.286291           3.477198   \n",
       "min             1.000000            1.000000           7.000000   \n",
       "25%             3.500000            1.500000           7.500000   \n",
       "50%             6.000000            3.000000           8.000000   \n",
       "75%             8.500000            4.000000          13.000000   \n",
       "max            11.000000            4.000000          16.000000   \n",
       "\n",
       "       days_since_prior_order  \n",
       "count               10.000000  \n",
       "mean                19.000000  \n",
       "std                  9.030811  \n",
       "min                  0.000000  \n",
       "25%                 14.250000  \n",
       "50%                 19.500000  \n",
       "75%                 26.250000  \n",
       "max                 30.000000  "
      ]
     },
     "execution_count": 115,
     "metadata": {},
     "output_type": "execute_result"
    }
   ],
   "source": [
    "#Generate descriptive statistics for user_01\n",
    "df_orders_user_1.describe()"
   ]
  },
  {
   "cell_type": "markdown",
   "id": "87d55a7e-8dcc-47ea-bfec-b87818e67b0e",
   "metadata": {},
   "source": [
    "##### The client placed a total of 11 orders.  All orders were placed between Sunday and Wednesday, with most on Tuesdays.  All orders were placed between 7am and 4pm, with the most being placed at 8am.  Orders were placed on consecutive days up to a month between orders, but average time is 19 days between orders."
   ]
  },
  {
   "cell_type": "markdown",
   "id": "9b45b7f2-4f43-4883-93a2-585ee1a07702",
   "metadata": {},
   "source": [
    "# 7. Export dataframes"
   ]
  },
  {
   "cell_type": "markdown",
   "id": "30d44a6c-e796-4f67-bcb0-5d05c873a5ee",
   "metadata": {},
   "source": [
    "### 7.1. Orders"
   ]
  },
  {
   "cell_type": "code",
   "execution_count": 119,
   "id": "6c8f6bb0-b008-4a9b-a493-303a4de5b115",
   "metadata": {},
   "outputs": [
    {
     "data": {
      "text/plain": [
       "(3421083, 6)"
      ]
     },
     "execution_count": 119,
     "metadata": {},
     "output_type": "execute_result"
    }
   ],
   "source": [
    "#Get the dimensions of the dataframe\n",
    "df_orders.shape"
   ]
  },
  {
   "cell_type": "code",
   "execution_count": 120,
   "id": "8cc544fc-79bb-46e8-89a7-746c019f979b",
   "metadata": {},
   "outputs": [],
   "source": [
    "#Export dataset\n",
    "df_orders.to_csv(os.path.join(path, '02 - Data', 'Prepared Data', '04_orders_wrangled.csv'))"
   ]
  },
  {
   "cell_type": "markdown",
   "id": "96f3782f-dabf-4a20-bc1d-36d0f354db14",
   "metadata": {},
   "source": [
    "### 7.2. Departments"
   ]
  },
  {
   "cell_type": "code",
   "execution_count": 122,
   "id": "3c997366-1503-4cea-813e-4c36c5caaa6c",
   "metadata": {},
   "outputs": [
    {
     "data": {
      "text/plain": [
       "(21, 1)"
      ]
     },
     "execution_count": 122,
     "metadata": {},
     "output_type": "execute_result"
    }
   ],
   "source": [
    "#Get the dimensions of the dataframe\n",
    "df_departments.shape"
   ]
  },
  {
   "cell_type": "code",
   "execution_count": 123,
   "id": "aa4f1e7e-4e3d-4e08-a5e6-82b97038dd27",
   "metadata": {},
   "outputs": [],
   "source": [
    "#Export dataset\n",
    "df_departments.to_csv(os.path.join(path, '02 - Data', 'Prepared Data', '04_departments_wrangled.csv'))"
   ]
  },
  {
   "cell_type": "markdown",
   "id": "05c3a687-afb5-4982-b442-2b560182c1ed",
   "metadata": {},
   "source": [
    "# Task"
   ]
  },
  {
   "cell_type": "markdown",
   "id": "7dce95a1-a718-443a-816d-f8372e676344",
   "metadata": {},
   "source": [
    "## 1. Data wrangling\n",
    "If you haven’t done so already, perform the wrangling procedures you walked through in this Exercise on your project data in a new notebook for this Exercise. Then, add a new section heading to separate your wrangling procedures from the procedures you’ll be conducting in the steps below."
   ]
  },
  {
   "cell_type": "markdown",
   "id": "a3f9ed71-3ea0-4637-b716-313412ae1cfc",
   "metadata": {},
   "source": [
    "##### Refer: 4. Data wrangling"
   ]
  },
  {
   "cell_type": "markdown",
   "id": "6baa8071-3dfe-44de-9612-275c6a4b46dd",
   "metadata": {},
   "source": [
    "## 2. Change data type for another variable\n",
    "Find another identifier variable in the df_ords dataframe that doesn’t need to be included in your analysis as a numeric variable and change it to a suitable format"
   ]
  },
  {
   "cell_type": "markdown",
   "id": "6c54dad9-6f8b-4175-a0fa-a599c188212a",
   "metadata": {},
   "source": [
    "##### Refer: 4.1.3.2. Change 'user_id' data type (Task)"
   ]
  },
  {
   "cell_type": "markdown",
   "id": "5dca9c9b-939d-4081-8899-0265f143e8e7",
   "metadata": {},
   "source": [
    "## 3. Rename 'days_since_prior_order' column\n",
    "Look for a variable in your df_ords dataframe with an unintuitive name and change its name without overwriting the dataframe."
   ]
  },
  {
   "cell_type": "markdown",
   "id": "3a562b3d-49ef-42ad-a17f-da55d57ef98c",
   "metadata": {},
   "source": [
    "##### Refer: 4.1.2.2. Rename 'days_since-prior_order' column (Task)"
   ]
  },
  {
   "cell_type": "markdown",
   "id": "e784f295-8346-4dc6-afb0-f4f4e155f728",
   "metadata": {},
   "source": [
    "## 4. View frequency distribution of 'order_hour_of_day'\n",
    "Your client wants to know what the busiest hour is for placing orders. Find the frequency of the corresponding variable and share your findings"
   ]
  },
  {
   "cell_type": "markdown",
   "id": "5d2d93cb-e8fd-4ef4-97b1-fd0b52e7f261",
   "metadata": {},
   "source": [
    "##### Refer: 4.1.1.3. Frequency distribution 'order_hour_of_day' (Task)"
   ]
  },
  {
   "cell_type": "markdown",
   "id": "44d386d6-0b1d-473f-a4b1-49b9929fb733",
   "metadata": {},
   "source": [
    "## 5. Retrieve information for 'department_id' = 4\n",
    "Determine the meaning behind a value of 4 in the \"department_id\" column within the df_prods dataframe using a data dictionary"
   ]
  },
  {
   "cell_type": "markdown",
   "id": "24cbe9a2-d800-4d1a-b427-974ac77d84dc",
   "metadata": {},
   "source": [
    "##### Refer: 5.3. Retrieve information - 'department_id' = 4 (Task)"
   ]
  },
  {
   "cell_type": "markdown",
   "id": "066c376f-ab2e-4f85-8de8-d87edce08211",
   "metadata": {},
   "source": [
    "## 6. Create 'breakfast' subset\n",
    "The sales team in your client’s organization wants to know more about breakfast item sales. Create a subset containing only the required information."
   ]
  },
  {
   "cell_type": "markdown",
   "id": "7f9b6ef0-39ee-4e24-9752-62864761a5d3",
   "metadata": {},
   "source": [
    "##### Refer: 6.4. Create 'breakfast' subset (Task)"
   ]
  },
  {
   "cell_type": "markdown",
   "id": "ed314f56-5e7b-4f13-88d7-0983796539ad",
   "metadata": {},
   "source": [
    "## 7. Create 'dinner' subset\n",
    "They’d also like to see details about products that customers might use to throw dinner parties. Your task is to find all observations from the entire dataframe that include items from the following departments: alcohol, deli, beverages, and meat/seafood. You’ll need to present this subset to your client."
   ]
  },
  {
   "cell_type": "markdown",
   "id": "d7cbb145-8414-4262-b44b-0b9aad140dec",
   "metadata": {},
   "source": [
    "##### Refer: 6.5. Create 'dinner' subset (Task)"
   ]
  },
  {
   "cell_type": "markdown",
   "id": "00df2c8f-42b6-406a-b212-49a2f7b10485",
   "metadata": {},
   "source": [
    "## 8. View dimensions for 'dinner' subset\n",
    "It’s important that you keep track of total counts in your dataframes. How many rows does the last dataframe you created have?"
   ]
  },
  {
   "cell_type": "markdown",
   "id": "e07f5f05-1375-4ace-b761-c026746885c5",
   "metadata": {},
   "source": [
    "##### Refer: 6.5.1 View 'dinner' dimensions (Task)"
   ]
  },
  {
   "cell_type": "markdown",
   "id": "9d45f883-e51e-4cf7-860c-9f3e2bd9aeaa",
   "metadata": {},
   "source": [
    "## 9. Create 'user_id' = 1 subset \n",
    "Someone from the data engineers team in Instacart thinks they’ve spotted something strange about the customer with a \"user_id\" of “1.” Extract all the information you can about this user."
   ]
  },
  {
   "cell_type": "markdown",
   "id": "39b9ac21-573c-4ca1-a9a4-806f6d313120",
   "metadata": {},
   "source": [
    "##### Refer: 6.6. Create 'user_id' = 1 subset (Task)"
   ]
  },
  {
   "cell_type": "markdown",
   "id": "d7843adb-2091-49c6-9d6c-2ab5d2aa71de",
   "metadata": {},
   "source": [
    "## 10. View descriptive statistics for 'user_id' = 1\n",
    "You also need to provide some details about this user’s behavior. What basic stats can you provide based on the information you have?"
   ]
  },
  {
   "cell_type": "markdown",
   "id": "cb7b8c7d-db99-4a25-adc4-0451b387ef4d",
   "metadata": {},
   "source": [
    "##### Refer: 6.6.1. View descriptive statistics - 'user_id' = 1 (Task)"
   ]
  },
  {
   "cell_type": "markdown",
   "id": "b7464f8f-6ac4-4930-9599-f49961a83c0a",
   "metadata": {},
   "source": [
    "## 11. Check notebook\n",
    "Check the organization and structure of your notebook. Be sure to include section headings and code comments."
   ]
  },
  {
   "cell_type": "markdown",
   "id": "453e9a99-5812-4ba1-bc42-aa361baa9fb1",
   "metadata": {},
   "source": [
    "##### Checked notebook and included section headings and code comments"
   ]
  },
  {
   "cell_type": "markdown",
   "id": "ef6aba0c-5613-44c4-ac8d-86067cacfc5b",
   "metadata": {},
   "source": [
    "## 12. Export 'orders' dataframe\n",
    "Export your df_ords dataframe as “orders_wrangled.csv” in your “Prepared Data” folder."
   ]
  },
  {
   "cell_type": "markdown",
   "id": "58e831f2-902c-41d6-8a16-15c290f3dbbb",
   "metadata": {},
   "source": [
    "##### Refer: 7.1. Orders"
   ]
  },
  {
   "cell_type": "markdown",
   "id": "317e8545-e194-4564-8561-098bd1fec30e",
   "metadata": {},
   "source": [
    "## 13. Export 'departments' dataframe\n",
    "Export the df_dep_t_new dataframe as “departments_wrangled.csv” in your “Prepared Data” folder so that you have a “.csv” file of your departments data in the correct format."
   ]
  },
  {
   "cell_type": "markdown",
   "id": "9ecc16eb-5d9a-4de0-8c19-6a9ab1bafa2b",
   "metadata": {},
   "source": [
    "##### Refer: 7.2. Departments"
   ]
  },
  {
   "cell_type": "markdown",
   "id": "fb2f0edc-407d-4ae2-b026-93105dfe101d",
   "metadata": {},
   "source": [
    "## 14. Save and submit notebook\n",
    "Save your Jupyter notebook and submit it here for your tutor to review."
   ]
  },
  {
   "cell_type": "markdown",
   "id": "b3056c91-c83a-4d46-b2ed-12a587521d43",
   "metadata": {},
   "source": [
    "##### Notebook saved and submitted"
   ]
  }
 ],
 "metadata": {
  "kernelspec": {
   "display_name": "Python 3 (ipykernel)",
   "language": "python",
   "name": "python3"
  },
  "language_info": {
   "codemirror_mode": {
    "name": "ipython",
    "version": 3
   },
   "file_extension": ".py",
   "mimetype": "text/x-python",
   "name": "python",
   "nbconvert_exporter": "python",
   "pygments_lexer": "ipython3",
   "version": "3.12.4"
  }
 },
 "nbformat": 4,
 "nbformat_minor": 5
}
