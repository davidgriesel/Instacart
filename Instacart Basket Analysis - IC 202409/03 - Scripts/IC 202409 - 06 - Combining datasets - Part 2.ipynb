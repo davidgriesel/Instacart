{
 "cells": [
  {
   "cell_type": "markdown",
   "id": "c37b7b87-c3ec-44ae-a8c1-4209bc689f01",
   "metadata": {},
   "source": [
    "# Combining & Exporting Data (Continued)"
   ]
  },
  {
   "cell_type": "markdown",
   "id": "72bf5af3-2b83-4aa8-8ae0-cb5acf1e52c3",
   "metadata": {},
   "source": [
    "# Contents\n",
    "1. Import libraries\n",
    "2. Import datasets\n",
    "3. Check imported data\n",
    "4. Merge dataframes\n",
    "5. Export merged dataframe"
   ]
  },
  {
   "cell_type": "markdown",
   "id": "d5b3c843-7361-49c7-aac2-f7b6bf13dd7e",
   "metadata": {},
   "source": [
    "# 1. Import libraries"
   ]
  },
  {
   "cell_type": "code",
   "execution_count": 5,
   "id": "7d8e7e65-672c-4393-8abf-58e6600e7626",
   "metadata": {},
   "outputs": [],
   "source": [
    "#Import libraries\n",
    "import pandas as pd\n",
    "import numpy as np\n",
    "import os"
   ]
  },
  {
   "cell_type": "markdown",
   "id": "0d4a7538-aca6-4753-9bb0-0d50325e8672",
   "metadata": {},
   "source": [
    "# 2. Import datasets"
   ]
  },
  {
   "cell_type": "code",
   "execution_count": 7,
   "id": "34c656a1-4660-4894-8549-65d93fb377b9",
   "metadata": {},
   "outputs": [],
   "source": [
    "#Define the project path as a string and assign to a variable called path\n",
    "path = r'/Users/davidgriesel/Documents/0 - CareerFoundry/02 - Data Analytics Immersion/04 - Python Fundamentals for Data Analysts/Instacart Basket Analysis - IC 202409'"
   ]
  },
  {
   "cell_type": "markdown",
   "id": "ec043f63-d969-4b41-9c20-3d03a2472eb4",
   "metadata": {},
   "source": [
    "## 2.1. Orders and products combined"
   ]
  },
  {
   "cell_type": "code",
   "execution_count": 9,
   "id": "c51efdbe-03cb-467b-a6ca-ed129db965d3",
   "metadata": {},
   "outputs": [],
   "source": [
    "#Import dataset\n",
    "df_orders_products_combined = pd.read_pickle(os.path.join(path, '02 - Data', 'Prepared Data', '06_orders_products_combined.pkl'))"
   ]
  },
  {
   "cell_type": "markdown",
   "id": "4572e103-de41-423e-a30e-1da503c12c37",
   "metadata": {},
   "source": [
    "## 2.2. Products cleaned"
   ]
  },
  {
   "cell_type": "code",
   "execution_count": 11,
   "id": "5cebeb83-2a6f-4506-b3fb-af6eb4c78491",
   "metadata": {},
   "outputs": [],
   "source": [
    "#Import dataset.\n",
    "df_products_cleaned = pd.read_csv(os.path.join(path, '02 - Data', 'Prepared Data', '05_products_cleaned.csv'), index_col = 0)"
   ]
  },
  {
   "cell_type": "markdown",
   "id": "c16de7e4-0067-4871-8b61-38dce48f07d3",
   "metadata": {},
   "source": [
    "# 3. Check imported data"
   ]
  },
  {
   "cell_type": "markdown",
   "id": "e9b785fb-c082-478f-b88b-ba5a2b1552d8",
   "metadata": {},
   "source": [
    "## 3.1. Orders and products combined "
   ]
  },
  {
   "cell_type": "code",
   "execution_count": 14,
   "id": "7024ffb7-c276-4bba-971e-38606e9d0161",
   "metadata": {},
   "outputs": [
    {
     "data": {
      "text/plain": [
       "(32434489, 10)"
      ]
     },
     "execution_count": 14,
     "metadata": {},
     "output_type": "execute_result"
    }
   ],
   "source": [
    "#Get the dimensions of the dataframe\n",
    "df_orders_products_combined.shape"
   ]
  },
  {
   "cell_type": "code",
   "execution_count": 15,
   "id": "77f6cf3a-c81f-4035-bef8-110ff4640715",
   "metadata": {},
   "outputs": [
    {
     "data": {
      "text/html": [
       "<div>\n",
       "<style scoped>\n",
       "    .dataframe tbody tr th:only-of-type {\n",
       "        vertical-align: middle;\n",
       "    }\n",
       "\n",
       "    .dataframe tbody tr th {\n",
       "        vertical-align: top;\n",
       "    }\n",
       "\n",
       "    .dataframe thead th {\n",
       "        text-align: right;\n",
       "    }\n",
       "</style>\n",
       "<table border=\"1\" class=\"dataframe\">\n",
       "  <thead>\n",
       "    <tr style=\"text-align: right;\">\n",
       "      <th></th>\n",
       "      <th>order_id</th>\n",
       "      <th>user_id</th>\n",
       "      <th>order_number</th>\n",
       "      <th>orders_day_of_week</th>\n",
       "      <th>order_hour_of_day</th>\n",
       "      <th>days_since_prior_order</th>\n",
       "      <th>first_order</th>\n",
       "      <th>product_id</th>\n",
       "      <th>add_to_cart_order</th>\n",
       "      <th>reordered</th>\n",
       "    </tr>\n",
       "  </thead>\n",
       "  <tbody>\n",
       "    <tr>\n",
       "      <th>0</th>\n",
       "      <td>2539329</td>\n",
       "      <td>1</td>\n",
       "      <td>1</td>\n",
       "      <td>2</td>\n",
       "      <td>8</td>\n",
       "      <td>NaN</td>\n",
       "      <td>True</td>\n",
       "      <td>196</td>\n",
       "      <td>1</td>\n",
       "      <td>0</td>\n",
       "    </tr>\n",
       "    <tr>\n",
       "      <th>1</th>\n",
       "      <td>2539329</td>\n",
       "      <td>1</td>\n",
       "      <td>1</td>\n",
       "      <td>2</td>\n",
       "      <td>8</td>\n",
       "      <td>NaN</td>\n",
       "      <td>True</td>\n",
       "      <td>14084</td>\n",
       "      <td>2</td>\n",
       "      <td>0</td>\n",
       "    </tr>\n",
       "    <tr>\n",
       "      <th>2</th>\n",
       "      <td>2539329</td>\n",
       "      <td>1</td>\n",
       "      <td>1</td>\n",
       "      <td>2</td>\n",
       "      <td>8</td>\n",
       "      <td>NaN</td>\n",
       "      <td>True</td>\n",
       "      <td>12427</td>\n",
       "      <td>3</td>\n",
       "      <td>0</td>\n",
       "    </tr>\n",
       "    <tr>\n",
       "      <th>3</th>\n",
       "      <td>2539329</td>\n",
       "      <td>1</td>\n",
       "      <td>1</td>\n",
       "      <td>2</td>\n",
       "      <td>8</td>\n",
       "      <td>NaN</td>\n",
       "      <td>True</td>\n",
       "      <td>26088</td>\n",
       "      <td>4</td>\n",
       "      <td>0</td>\n",
       "    </tr>\n",
       "    <tr>\n",
       "      <th>4</th>\n",
       "      <td>2539329</td>\n",
       "      <td>1</td>\n",
       "      <td>1</td>\n",
       "      <td>2</td>\n",
       "      <td>8</td>\n",
       "      <td>NaN</td>\n",
       "      <td>True</td>\n",
       "      <td>26405</td>\n",
       "      <td>5</td>\n",
       "      <td>0</td>\n",
       "    </tr>\n",
       "  </tbody>\n",
       "</table>\n",
       "</div>"
      ],
      "text/plain": [
       "   order_id  user_id  order_number  orders_day_of_week  order_hour_of_day  \\\n",
       "0   2539329        1             1                   2                  8   \n",
       "1   2539329        1             1                   2                  8   \n",
       "2   2539329        1             1                   2                  8   \n",
       "3   2539329        1             1                   2                  8   \n",
       "4   2539329        1             1                   2                  8   \n",
       "\n",
       "   days_since_prior_order  first_order  product_id  add_to_cart_order  \\\n",
       "0                     NaN         True         196                  1   \n",
       "1                     NaN         True       14084                  2   \n",
       "2                     NaN         True       12427                  3   \n",
       "3                     NaN         True       26088                  4   \n",
       "4                     NaN         True       26405                  5   \n",
       "\n",
       "   reordered  \n",
       "0          0  \n",
       "1          0  \n",
       "2          0  \n",
       "3          0  \n",
       "4          0  "
      ]
     },
     "execution_count": 15,
     "metadata": {},
     "output_type": "execute_result"
    }
   ],
   "source": [
    "#Display the first 5 rows of the dataframe\n",
    "df_orders_products_combined.head()"
   ]
  },
  {
   "cell_type": "markdown",
   "id": "ce540fe4-359b-4372-a9db-7971c63af70f",
   "metadata": {},
   "source": [
    "## 3.2. Products cleaned"
   ]
  },
  {
   "cell_type": "code",
   "execution_count": 17,
   "id": "6bb269e1-af2a-4a4c-91ea-a407c84b781e",
   "metadata": {},
   "outputs": [
    {
     "data": {
      "text/plain": [
       "(49672, 5)"
      ]
     },
     "execution_count": 17,
     "metadata": {},
     "output_type": "execute_result"
    }
   ],
   "source": [
    "#Get the dimensions of the dataframe\n",
    "df_products_cleaned.shape"
   ]
  },
  {
   "cell_type": "code",
   "execution_count": 18,
   "id": "b7c577fb-b1d5-4c69-b1d2-57eee491aee9",
   "metadata": {},
   "outputs": [
    {
     "data": {
      "text/html": [
       "<div>\n",
       "<style scoped>\n",
       "    .dataframe tbody tr th:only-of-type {\n",
       "        vertical-align: middle;\n",
       "    }\n",
       "\n",
       "    .dataframe tbody tr th {\n",
       "        vertical-align: top;\n",
       "    }\n",
       "\n",
       "    .dataframe thead th {\n",
       "        text-align: right;\n",
       "    }\n",
       "</style>\n",
       "<table border=\"1\" class=\"dataframe\">\n",
       "  <thead>\n",
       "    <tr style=\"text-align: right;\">\n",
       "      <th></th>\n",
       "      <th>product_id</th>\n",
       "      <th>product_name</th>\n",
       "      <th>aisle_id</th>\n",
       "      <th>department_id</th>\n",
       "      <th>prices</th>\n",
       "    </tr>\n",
       "  </thead>\n",
       "  <tbody>\n",
       "    <tr>\n",
       "      <th>0</th>\n",
       "      <td>1</td>\n",
       "      <td>Chocolate Sandwich Cookies</td>\n",
       "      <td>61</td>\n",
       "      <td>19</td>\n",
       "      <td>5.8</td>\n",
       "    </tr>\n",
       "    <tr>\n",
       "      <th>1</th>\n",
       "      <td>2</td>\n",
       "      <td>All-Seasons Salt</td>\n",
       "      <td>104</td>\n",
       "      <td>13</td>\n",
       "      <td>9.3</td>\n",
       "    </tr>\n",
       "    <tr>\n",
       "      <th>2</th>\n",
       "      <td>3</td>\n",
       "      <td>Robust Golden Unsweetened Oolong Tea</td>\n",
       "      <td>94</td>\n",
       "      <td>7</td>\n",
       "      <td>4.5</td>\n",
       "    </tr>\n",
       "    <tr>\n",
       "      <th>3</th>\n",
       "      <td>4</td>\n",
       "      <td>Smart Ones Classic Favorites Mini Rigatoni Wit...</td>\n",
       "      <td>38</td>\n",
       "      <td>1</td>\n",
       "      <td>10.5</td>\n",
       "    </tr>\n",
       "    <tr>\n",
       "      <th>4</th>\n",
       "      <td>5</td>\n",
       "      <td>Green Chile Anytime Sauce</td>\n",
       "      <td>5</td>\n",
       "      <td>13</td>\n",
       "      <td>4.3</td>\n",
       "    </tr>\n",
       "  </tbody>\n",
       "</table>\n",
       "</div>"
      ],
      "text/plain": [
       "   product_id                                       product_name  aisle_id  \\\n",
       "0           1                         Chocolate Sandwich Cookies        61   \n",
       "1           2                                   All-Seasons Salt       104   \n",
       "2           3               Robust Golden Unsweetened Oolong Tea        94   \n",
       "3           4  Smart Ones Classic Favorites Mini Rigatoni Wit...        38   \n",
       "4           5                          Green Chile Anytime Sauce         5   \n",
       "\n",
       "   department_id  prices  \n",
       "0             19     5.8  \n",
       "1             13     9.3  \n",
       "2              7     4.5  \n",
       "3              1    10.5  \n",
       "4             13     4.3  "
      ]
     },
     "execution_count": 18,
     "metadata": {},
     "output_type": "execute_result"
    }
   ],
   "source": [
    "#Display the first 5 rows of the dataframe\n",
    "df_products_cleaned.head()"
   ]
  },
  {
   "cell_type": "markdown",
   "id": "641797d3-ded5-4d1a-8b63-18030438fa4b",
   "metadata": {},
   "source": [
    "# 4. Merge dataframes"
   ]
  },
  {
   "cell_type": "code",
   "execution_count": 20,
   "id": "7f069359-eb04-4b28-8316-6524f2b826ee",
   "metadata": {},
   "outputs": [],
   "source": [
    "#Merge using order_id and inner join while adding a merge flag.\n",
    "df_orders_products_merged = df_orders_products_combined.merge(df_products_cleaned, on = 'product_id', indicator = True)"
   ]
  },
  {
   "cell_type": "code",
   "execution_count": 21,
   "id": "6c319c50-b274-49fb-a5ab-876b5b804d87",
   "metadata": {},
   "outputs": [
    {
     "data": {
      "text/plain": [
       "_merge\n",
       "both          32404859\n",
       "left_only            0\n",
       "right_only           0\n",
       "Name: count, dtype: int64"
      ]
     },
     "execution_count": 21,
     "metadata": {},
     "output_type": "execute_result"
    }
   ],
   "source": [
    "#Check merge rate\n",
    "df_orders_products_merged['_merge'].value_counts()"
   ]
  },
  {
   "cell_type": "code",
   "execution_count": 22,
   "id": "f96307d3-6de1-4ca1-8a7f-d1259e24d053",
   "metadata": {},
   "outputs": [
    {
     "data": {
      "text/plain": [
       "(32404859, 15)"
      ]
     },
     "execution_count": 22,
     "metadata": {},
     "output_type": "execute_result"
    }
   ],
   "source": [
    "#Get the dimensions of the dataframe\n",
    "df_orders_products_merged.shape"
   ]
  },
  {
   "cell_type": "code",
   "execution_count": 23,
   "id": "dcd31df5-d373-478f-9a52-f76f0c065687",
   "metadata": {},
   "outputs": [
    {
     "data": {
      "text/html": [
       "<div>\n",
       "<style scoped>\n",
       "    .dataframe tbody tr th:only-of-type {\n",
       "        vertical-align: middle;\n",
       "    }\n",
       "\n",
       "    .dataframe tbody tr th {\n",
       "        vertical-align: top;\n",
       "    }\n",
       "\n",
       "    .dataframe thead th {\n",
       "        text-align: right;\n",
       "    }\n",
       "</style>\n",
       "<table border=\"1\" class=\"dataframe\">\n",
       "  <thead>\n",
       "    <tr style=\"text-align: right;\">\n",
       "      <th></th>\n",
       "      <th>order_id</th>\n",
       "      <th>user_id</th>\n",
       "      <th>order_number</th>\n",
       "      <th>orders_day_of_week</th>\n",
       "      <th>order_hour_of_day</th>\n",
       "      <th>days_since_prior_order</th>\n",
       "      <th>first_order</th>\n",
       "      <th>product_id</th>\n",
       "      <th>add_to_cart_order</th>\n",
       "      <th>reordered</th>\n",
       "      <th>product_name</th>\n",
       "      <th>aisle_id</th>\n",
       "      <th>department_id</th>\n",
       "      <th>prices</th>\n",
       "      <th>_merge</th>\n",
       "    </tr>\n",
       "  </thead>\n",
       "  <tbody>\n",
       "    <tr>\n",
       "      <th>0</th>\n",
       "      <td>2539329</td>\n",
       "      <td>1</td>\n",
       "      <td>1</td>\n",
       "      <td>2</td>\n",
       "      <td>8</td>\n",
       "      <td>NaN</td>\n",
       "      <td>True</td>\n",
       "      <td>196</td>\n",
       "      <td>1</td>\n",
       "      <td>0</td>\n",
       "      <td>Soda</td>\n",
       "      <td>77</td>\n",
       "      <td>7</td>\n",
       "      <td>9.0</td>\n",
       "      <td>both</td>\n",
       "    </tr>\n",
       "    <tr>\n",
       "      <th>1</th>\n",
       "      <td>2539329</td>\n",
       "      <td>1</td>\n",
       "      <td>1</td>\n",
       "      <td>2</td>\n",
       "      <td>8</td>\n",
       "      <td>NaN</td>\n",
       "      <td>True</td>\n",
       "      <td>14084</td>\n",
       "      <td>2</td>\n",
       "      <td>0</td>\n",
       "      <td>Organic Unsweetened Vanilla Almond Milk</td>\n",
       "      <td>91</td>\n",
       "      <td>16</td>\n",
       "      <td>12.5</td>\n",
       "      <td>both</td>\n",
       "    </tr>\n",
       "    <tr>\n",
       "      <th>2</th>\n",
       "      <td>2539329</td>\n",
       "      <td>1</td>\n",
       "      <td>1</td>\n",
       "      <td>2</td>\n",
       "      <td>8</td>\n",
       "      <td>NaN</td>\n",
       "      <td>True</td>\n",
       "      <td>12427</td>\n",
       "      <td>3</td>\n",
       "      <td>0</td>\n",
       "      <td>Original Beef Jerky</td>\n",
       "      <td>23</td>\n",
       "      <td>19</td>\n",
       "      <td>4.4</td>\n",
       "      <td>both</td>\n",
       "    </tr>\n",
       "    <tr>\n",
       "      <th>3</th>\n",
       "      <td>2539329</td>\n",
       "      <td>1</td>\n",
       "      <td>1</td>\n",
       "      <td>2</td>\n",
       "      <td>8</td>\n",
       "      <td>NaN</td>\n",
       "      <td>True</td>\n",
       "      <td>26088</td>\n",
       "      <td>4</td>\n",
       "      <td>0</td>\n",
       "      <td>Aged White Cheddar Popcorn</td>\n",
       "      <td>23</td>\n",
       "      <td>19</td>\n",
       "      <td>4.7</td>\n",
       "      <td>both</td>\n",
       "    </tr>\n",
       "    <tr>\n",
       "      <th>4</th>\n",
       "      <td>2539329</td>\n",
       "      <td>1</td>\n",
       "      <td>1</td>\n",
       "      <td>2</td>\n",
       "      <td>8</td>\n",
       "      <td>NaN</td>\n",
       "      <td>True</td>\n",
       "      <td>26405</td>\n",
       "      <td>5</td>\n",
       "      <td>0</td>\n",
       "      <td>XL Pick-A-Size Paper Towel Rolls</td>\n",
       "      <td>54</td>\n",
       "      <td>17</td>\n",
       "      <td>1.0</td>\n",
       "      <td>both</td>\n",
       "    </tr>\n",
       "  </tbody>\n",
       "</table>\n",
       "</div>"
      ],
      "text/plain": [
       "   order_id  user_id  order_number  orders_day_of_week  order_hour_of_day  \\\n",
       "0   2539329        1             1                   2                  8   \n",
       "1   2539329        1             1                   2                  8   \n",
       "2   2539329        1             1                   2                  8   \n",
       "3   2539329        1             1                   2                  8   \n",
       "4   2539329        1             1                   2                  8   \n",
       "\n",
       "   days_since_prior_order  first_order  product_id  add_to_cart_order  \\\n",
       "0                     NaN         True         196                  1   \n",
       "1                     NaN         True       14084                  2   \n",
       "2                     NaN         True       12427                  3   \n",
       "3                     NaN         True       26088                  4   \n",
       "4                     NaN         True       26405                  5   \n",
       "\n",
       "   reordered                             product_name  aisle_id  \\\n",
       "0          0                                     Soda        77   \n",
       "1          0  Organic Unsweetened Vanilla Almond Milk        91   \n",
       "2          0                      Original Beef Jerky        23   \n",
       "3          0               Aged White Cheddar Popcorn        23   \n",
       "4          0         XL Pick-A-Size Paper Towel Rolls        54   \n",
       "\n",
       "   department_id  prices _merge  \n",
       "0              7     9.0   both  \n",
       "1             16    12.5   both  \n",
       "2             19     4.4   both  \n",
       "3             19     4.7   both  \n",
       "4             17     1.0   both  "
      ]
     },
     "execution_count": 23,
     "metadata": {},
     "output_type": "execute_result"
    }
   ],
   "source": [
    "#Display the first 5 rows of the dataframe\n",
    "df_orders_products_merged.head()"
   ]
  },
  {
   "cell_type": "markdown",
   "id": "0be411e4-6f37-4602-97bc-45426e9f97e9",
   "metadata": {},
   "source": [
    "# 5. Export dataframe"
   ]
  },
  {
   "cell_type": "code",
   "execution_count": 25,
   "id": "edbe42a2-c052-42fc-b59e-4aba35d90fb2",
   "metadata": {},
   "outputs": [],
   "source": [
    "#Drop merge flag\n",
    "df_orders_products_merged = df_orders_products_merged.drop(columns = ['_merge'])"
   ]
  },
  {
   "cell_type": "code",
   "execution_count": 26,
   "id": "6fdddb63-cd82-4d51-8547-8c9f49fb78a4",
   "metadata": {},
   "outputs": [
    {
     "data": {
      "text/plain": [
       "(32404859, 14)"
      ]
     },
     "execution_count": 26,
     "metadata": {},
     "output_type": "execute_result"
    }
   ],
   "source": [
    "#Get the dimensions of the merged dataframe\n",
    "df_orders_products_merged.shape"
   ]
  },
  {
   "cell_type": "code",
   "execution_count": 27,
   "id": "45ca7cb5-b647-488b-9472-f15557dd47ce",
   "metadata": {},
   "outputs": [],
   "source": [
    "#Export merged dataframe\n",
    "df_orders_products_merged.to_pickle(os.path.join(path, '02 - Data','Prepared Data', '06_orders_products_merged.pkl'))"
   ]
  },
  {
   "cell_type": "markdown",
   "id": "af91995b-a824-4112-abba-18811b64e5e3",
   "metadata": {},
   "source": [
    "# Task (continued)"
   ]
  },
  {
   "cell_type": "markdown",
   "id": "c9234ff2-2e13-42f4-b980-33e3c6129587",
   "metadata": {},
   "source": [
    "## 3. Import datasets\n",
    "In a new notebook, import the orders_products_combined dataframe from the pickle file you just saved"
   ]
  },
  {
   "cell_type": "markdown",
   "id": "5621d7db-a6b9-4130-a48d-728d64d003e3",
   "metadata": {},
   "source": [
    "##### Refer: 2. Import datasets"
   ]
  },
  {
   "cell_type": "markdown",
   "id": "31763a55-822e-4efb-92c8-5d72d9d08f97",
   "metadata": {},
   "source": [
    "## 4. Check data\n",
    "Check the shape of the imported dataframe (it should be the same as the one you exported—always check!)."
   ]
  },
  {
   "cell_type": "markdown",
   "id": "936f6dfc-b155-46da-825a-b0eaebb936d7",
   "metadata": {},
   "source": [
    "##### Refer: 3. Check imported data"
   ]
  },
  {
   "cell_type": "markdown",
   "id": "b24f3eb7-c00d-4f49-ba33-90b6246f04be",
   "metadata": {},
   "source": [
    "## 5. Merge datasets\n",
    "Determine a suitable way to combine the orders_products_combined dataframe with your products data set. Make sure you’re using your wrangled, cleaned, and deduped products data set stored in your “Prepared Data” folder from the previous Exercise’s task."
   ]
  },
  {
   "cell_type": "markdown",
   "id": "9d0d0803-b5bc-4503-8b68-1a0e8447faf1",
   "metadata": {},
   "source": [
    "##### Refer: 4. Merge dataframes"
   ]
  },
  {
   "cell_type": "markdown",
   "id": "cf1fedcb-26cf-4460-9841-3d6f176af4e2",
   "metadata": {},
   "source": [
    "## 6. Confirm results\n",
    "Confirm the results of the merge using the merge flag."
   ]
  },
  {
   "cell_type": "markdown",
   "id": "54eb566f-2cc0-4555-8686-8355df3d10c4",
   "metadata": {},
   "source": [
    "##### Refer: 4. Merge dataframes"
   ]
  },
  {
   "cell_type": "markdown",
   "id": "e1ee6656-fd42-4429-8b14-64c9fe38d2ef",
   "metadata": {},
   "source": [
    "## 7. Export dataframe\n",
    "Export the newly created dataframe as ords_prods_merge in a suitable format (taking into consideration the size)."
   ]
  },
  {
   "cell_type": "markdown",
   "id": "9cbbf32d-b9dd-4836-8918-43168c4fbfca",
   "metadata": {},
   "source": [
    "##### Refer: 5. Export dataframe"
   ]
  },
  {
   "cell_type": "markdown",
   "id": "2cfd3ce2-acb7-489b-ac24-510cce184da9",
   "metadata": {},
   "source": [
    "## 8. Check notebook\n",
    "Ensure your notebooks and Instacart project folder are organized and that comments and section headings have been used throughout your code. All your exported data files should be effectively labeled and stored in your “Data” folder."
   ]
  },
  {
   "cell_type": "markdown",
   "id": "9834a77c-8a2b-41f2-89b7-753ab6041ef2",
   "metadata": {},
   "source": [
    "##### Checked notebook, included section headings and code comments"
   ]
  },
  {
   "cell_type": "markdown",
   "id": "b1f9afe9-e8b8-4b25-b170-32bdcc7b661c",
   "metadata": {},
   "source": [
    "## 9. Save & submit\n",
    "Save the two notebooks and send them to your tutor along with a screenshot of the exported data sets in your Instacart project folder."
   ]
  },
  {
   "cell_type": "markdown",
   "id": "84f43779-1359-42a9-9073-172794b14ff0",
   "metadata": {},
   "source": [
    "##### Notebook saved and submitted"
   ]
  }
 ],
 "metadata": {
  "kernelspec": {
   "display_name": "Python 3 (ipykernel)",
   "language": "python",
   "name": "python3"
  },
  "language_info": {
   "codemirror_mode": {
    "name": "ipython",
    "version": 3
   },
   "file_extension": ".py",
   "mimetype": "text/x-python",
   "name": "python",
   "nbconvert_exporter": "python",
   "pygments_lexer": "ipython3",
   "version": "3.12.4"
  }
 },
 "nbformat": 4,
 "nbformat_minor": 5
}
